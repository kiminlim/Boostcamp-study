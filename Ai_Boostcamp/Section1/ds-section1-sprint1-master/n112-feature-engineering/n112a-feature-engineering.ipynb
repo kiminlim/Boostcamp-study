{
  "nbformat": 4,
  "nbformat_minor": 0,
  "metadata": {
    "colab": {
      "name": "n112a-feature-engineering.ipynb",
      "provenance": [],
      "include_colab_link": true
    },
    "kernelspec": {
      "name": "python3",
      "display_name": "Python 3"
    }
  },
  "cells": [
    {
      "cell_type": "markdown",
      "metadata": {
        "id": "view-in-github",
        "colab_type": "text"
      },
      "source": [
        "<a href=\"https://colab.research.google.com/github/kiminlim/ds-section1-sprint1/blob/master/n112-feature-engineering/n112a-feature-engineering.ipynb\" target=\"_parent\"><img src=\"https://colab.research.google.com/assets/colab-badge.svg\" alt=\"Open In Colab\"/></a>"
      ]
    },
    {
      "cell_type": "markdown",
      "metadata": {
        "id": "SnDJqBLi0FYW"
      },
      "source": [
        "<img src='https://user-images.githubusercontent.com/6457691/89746244-a6e2a200-daf3-11ea-9314-7863d544d73c.png' width = '200' align = 'right'>\n",
        "\n",
        "## *DATA SCIENCE / SECTION 1 / SPRINT 1 / NOTE 2*\n",
        "\n",
        "# 📝 Assignment\n"
      ]
    },
    {
      "cell_type": "markdown",
      "metadata": {
        "id": "W5GjI1z5yNG4"
      },
      "source": [
        "## 1. Feature Engineering\n",
        "\n",
        "- `KT&G` 기업 데이터를 계속 사용합니다.\n",
        "  - 변수 이름은 `df`로 저장하세요.\n",
        "\n",
        "- 각 분기별 영업이익률을 직접 계산해보세요. \n",
        "  - Feature 이름은 `영업이익률2` 입니다.\n",
        "\n",
        "- 아래 데이터를 참조하여 18/19년도에 대해서 Price to Dream Ratio (PDR)을 계산하세요.\n",
        "  - 변수 이름은 `df2`, feature 이름은 `PDR`로, `df2['PDR']`을 통해 `~` 값이 확인 되어야합니다.\n",
        "\n",
        "||구분|종가|발행주식수|시가총액|시장점유율|PDR|\n",
        "|:-:|:-:|:-:|:-:|:-:|:-:|:-:|\n",
        "|0|18년|101500|137292497|13935188445500|62.0|~|\n",
        "|1|19년|93800|137292497|12878036218600|63.5|~|\n"
      ]
    },
    {
      "cell_type": "code",
      "metadata": {
        "id": "AazB4eFwym2p"
      },
      "source": [
        "url = 'https://ds-lecture-data.s3.ap-northeast-2.amazonaws.com/kt%26g/kt%26g_0.csv'\n",
        "headers = ['분기', '매출액', '영업이익', '영업이익(발표기준)', '세전계속사업이익',\n",
        "           '당기순이익', '당기순이익(지배)', '당기순이익(비지배)', '자산총계', '부채총계',\n",
        "           '자본총계', '자본총계(지배)', '자본총계(비지배)', '자본금', '영업활동현금흐름',\n",
        "           '투자활동현금흐름', '재무활동현금흐름', '영업이익률', '순이익률', 'ROE(%)',\n",
        "           'ROA(%)', '부채비율', '자본유보율', 'EPS(원)', 'PER(배)']"
      ],
      "execution_count": 33,
      "outputs": []
    },
    {
      "cell_type": "code",
      "metadata": {
        "colab": {
          "base_uri": "https://localhost:8080/",
          "height": 242
        },
        "id": "SN2_AQswidSO",
        "outputId": "31462e47-58ab-41f6-90a8-5e4c69ee8bbe"
      },
      "source": [
        "import pandas as pd\n",
        "\n",
        "df = pd.read_csv(url, names =headers) # 직접 지정한 headers로 names인수를 설정한다. \n",
        "df.head()"
      ],
      "execution_count": 34,
      "outputs": [
        {
          "output_type": "execute_result",
          "data": {
            "text/html": [
              "<div>\n",
              "<style scoped>\n",
              "    .dataframe tbody tr th:only-of-type {\n",
              "        vertical-align: middle;\n",
              "    }\n",
              "\n",
              "    .dataframe tbody tr th {\n",
              "        vertical-align: top;\n",
              "    }\n",
              "\n",
              "    .dataframe thead th {\n",
              "        text-align: right;\n",
              "    }\n",
              "</style>\n",
              "<table border=\"1\" class=\"dataframe\">\n",
              "  <thead>\n",
              "    <tr style=\"text-align: right;\">\n",
              "      <th></th>\n",
              "      <th>분기</th>\n",
              "      <th>매출액</th>\n",
              "      <th>영업이익</th>\n",
              "      <th>영업이익(발표기준)</th>\n",
              "      <th>세전계속사업이익</th>\n",
              "      <th>당기순이익</th>\n",
              "      <th>당기순이익(지배)</th>\n",
              "      <th>당기순이익(비지배)</th>\n",
              "      <th>자산총계</th>\n",
              "      <th>부채총계</th>\n",
              "      <th>자본총계</th>\n",
              "      <th>자본총계(지배)</th>\n",
              "      <th>자본총계(비지배)</th>\n",
              "      <th>자본금</th>\n",
              "      <th>영업활동현금흐름</th>\n",
              "      <th>투자활동현금흐름</th>\n",
              "      <th>재무활동현금흐름</th>\n",
              "      <th>영업이익률</th>\n",
              "      <th>순이익률</th>\n",
              "      <th>ROE(%)</th>\n",
              "      <th>ROA(%)</th>\n",
              "      <th>부채비율</th>\n",
              "      <th>자본유보율</th>\n",
              "      <th>EPS(원)</th>\n",
              "      <th>PER(배)</th>\n",
              "    </tr>\n",
              "  </thead>\n",
              "  <tbody>\n",
              "    <tr>\n",
              "      <th>0</th>\n",
              "      <td>19/6</td>\n",
              "      <td>12,578</td>\n",
              "      <td>3,991</td>\n",
              "      <td>3,991</td>\n",
              "      <td>4,452</td>\n",
              "      <td>3,245</td>\n",
              "      <td>3,228</td>\n",
              "      <td>17</td>\n",
              "      <td>108,464</td>\n",
              "      <td>25,940</td>\n",
              "      <td>82,524</td>\n",
              "      <td>81,965</td>\n",
              "      <td>NaN</td>\n",
              "      <td>9,550</td>\n",
              "      <td>4,641</td>\n",
              "      <td>-1,878</td>\n",
              "      <td>-4,919</td>\n",
              "      <td>31.73</td>\n",
              "      <td>25.80</td>\n",
              "      <td>12.35</td>\n",
              "      <td>9.37</td>\n",
              "      <td>31.43</td>\n",
              "      <td>803.22</td>\n",
              "      <td>2,351</td>\n",
              "      <td>13.77</td>\n",
              "    </tr>\n",
              "    <tr>\n",
              "      <th>1</th>\n",
              "      <td>19/9</td>\n",
              "      <td>13,222</td>\n",
              "      <td>3,825</td>\n",
              "      <td>3,825</td>\n",
              "      <td>4,503</td>\n",
              "      <td>3,221</td>\n",
              "      <td>3,208</td>\n",
              "      <td>13</td>\n",
              "      <td>106,314</td>\n",
              "      <td>20,691</td>\n",
              "      <td>85,623</td>\n",
              "      <td>85,049</td>\n",
              "      <td>NaN</td>\n",
              "      <td>9,550</td>\n",
              "      <td>-2,278</td>\n",
              "      <td>-83</td>\n",
              "      <td>-329</td>\n",
              "      <td>28.93</td>\n",
              "      <td>24.36</td>\n",
              "      <td>12.67</td>\n",
              "      <td>9.95</td>\n",
              "      <td>24.17</td>\n",
              "      <td>836.86</td>\n",
              "      <td>2,337</td>\n",
              "      <td>13.87</td>\n",
              "    </tr>\n",
              "    <tr>\n",
              "      <th>2</th>\n",
              "      <td>19/12</td>\n",
              "      <td>11,982</td>\n",
              "      <td>2,523</td>\n",
              "      <td>2,523</td>\n",
              "      <td>1,794</td>\n",
              "      <td>1,183</td>\n",
              "      <td>1,198</td>\n",
              "      <td>-15</td>\n",
              "      <td>107,121</td>\n",
              "      <td>20,062</td>\n",
              "      <td>87,059</td>\n",
              "      <td>86,506</td>\n",
              "      <td>NaN</td>\n",
              "      <td>9,550</td>\n",
              "      <td>837</td>\n",
              "      <td>-501</td>\n",
              "      <td>-129</td>\n",
              "      <td>21.06</td>\n",
              "      <td>9.87</td>\n",
              "      <td>12.39</td>\n",
              "      <td>9.96</td>\n",
              "      <td>23.04</td>\n",
              "      <td>850.82</td>\n",
              "      <td>873</td>\n",
              "      <td>12.42</td>\n",
              "    </tr>\n",
              "    <tr>\n",
              "      <th>3</th>\n",
              "      <td>20/3</td>\n",
              "      <td>11,784</td>\n",
              "      <td>3,150</td>\n",
              "      <td>3,150</td>\n",
              "      <td>4,156</td>\n",
              "      <td>2,939</td>\n",
              "      <td>2,930</td>\n",
              "      <td>9</td>\n",
              "      <td>108,594</td>\n",
              "      <td>24,862</td>\n",
              "      <td>83,732</td>\n",
              "      <td>83,170</td>\n",
              "      <td>562.0</td>\n",
              "      <td>9,550</td>\n",
              "      <td>2,336</td>\n",
              "      <td>-1,392</td>\n",
              "      <td>-86</td>\n",
              "      <td>26.73</td>\n",
              "      <td>24.94</td>\n",
              "      <td>13.05</td>\n",
              "      <td>9.79</td>\n",
              "      <td>29.69</td>\n",
              "      <td>823.16</td>\n",
              "      <td>2,134</td>\n",
              "      <td>9.71</td>\n",
              "    </tr>\n",
              "    <tr>\n",
              "      <th>4</th>\n",
              "      <td>20/6</td>\n",
              "      <td>13,188</td>\n",
              "      <td>3,947</td>\n",
              "      <td>3,947</td>\n",
              "      <td>4,020</td>\n",
              "      <td>2,935</td>\n",
              "      <td>2,931</td>\n",
              "      <td>4</td>\n",
              "      <td>110,282</td>\n",
              "      <td>23,386</td>\n",
              "      <td>86,896</td>\n",
              "      <td>86,330</td>\n",
              "      <td>566.0</td>\n",
              "      <td>9,550</td>\n",
              "      <td>7,855</td>\n",
              "      <td>-214</td>\n",
              "      <td>-5,501</td>\n",
              "      <td>29.93</td>\n",
              "      <td>22.25</td>\n",
              "      <td>12.20</td>\n",
              "      <td>9.40</td>\n",
              "      <td>26.91</td>\n",
              "      <td>837.40</td>\n",
              "      <td>2,135</td>\n",
              "      <td>10.46</td>\n",
              "    </tr>\n",
              "  </tbody>\n",
              "</table>\n",
              "</div>"
            ],
            "text/plain": [
              "      분기     매출액   영업이익 영업이익(발표기준)  ...   부채비율   자본유보율 EPS(원)  PER(배)\n",
              "0   19/6  12,578  3,991      3,991  ...  31.43  803.22  2,351   13.77\n",
              "1   19/9  13,222  3,825      3,825  ...  24.17  836.86  2,337   13.87\n",
              "2  19/12  11,982  2,523      2,523  ...  23.04  850.82    873   12.42\n",
              "3   20/3  11,784  3,150      3,150  ...  29.69  823.16  2,134    9.71\n",
              "4   20/6  13,188  3,947      3,947  ...  26.91  837.40  2,135   10.46\n",
              "\n",
              "[5 rows x 25 columns]"
            ]
          },
          "metadata": {
            "tags": []
          },
          "execution_count": 34
        }
      ]
    },
    {
      "cell_type": "markdown",
      "metadata": {
        "id": "FCHH5EuRmtuD"
      },
      "source": [
        "영업이익률 직접 계산하기\n",
        "\n",
        "> 영업이익률 = 영업이익 / 매출액*100"
      ]
    },
    {
      "cell_type": "code",
      "metadata": {
        "id": "bDZ1D2Mhidi1",
        "outputId": "ba848054-1e3b-4858-b155-9055d9902295",
        "colab": {
          "base_uri": "https://localhost:8080/"
        }
      },
      "source": [
        "# 형변환 #\n",
        "\n",
        "# 입력된 문자열에 대해서 콤마를 삭제하는 함수 작성\n",
        "def toInt(string):\n",
        "    return int(string.replace(',',''))\n",
        "\n",
        "df['매출액'] = df['매출액'].apply(toInt)\n",
        "df['영업이익'] = df['영업이익'].apply(toInt)\n",
        "\n",
        "df.info()"
      ],
      "execution_count": 35,
      "outputs": [
        {
          "output_type": "stream",
          "text": [
            "<class 'pandas.core.frame.DataFrame'>\n",
            "RangeIndex: 5 entries, 0 to 4\n",
            "Data columns (total 25 columns):\n",
            " #   Column      Non-Null Count  Dtype  \n",
            "---  ------      --------------  -----  \n",
            " 0   분기          5 non-null      object \n",
            " 1   매출액         5 non-null      int64  \n",
            " 2   영업이익        5 non-null      int64  \n",
            " 3   영업이익(발표기준)  5 non-null      object \n",
            " 4   세전계속사업이익    5 non-null      object \n",
            " 5   당기순이익       5 non-null      object \n",
            " 6   당기순이익(지배)   5 non-null      object \n",
            " 7   당기순이익(비지배)  5 non-null      int64  \n",
            " 8   자산총계        5 non-null      object \n",
            " 9   부채총계        5 non-null      object \n",
            " 10  자본총계        5 non-null      object \n",
            " 11  자본총계(지배)    5 non-null      object \n",
            " 12  자본총계(비지배)   2 non-null      float64\n",
            " 13  자본금         5 non-null      object \n",
            " 14  영업활동현금흐름    5 non-null      object \n",
            " 15  투자활동현금흐름    5 non-null      object \n",
            " 16  재무활동현금흐름    5 non-null      object \n",
            " 17  영업이익률       5 non-null      float64\n",
            " 18  순이익률        5 non-null      float64\n",
            " 19  ROE(%)      5 non-null      float64\n",
            " 20  ROA(%)      5 non-null      float64\n",
            " 21  부채비율        5 non-null      float64\n",
            " 22  자본유보율       5 non-null      float64\n",
            " 23  EPS(원)      5 non-null      object \n",
            " 24  PER(배)      5 non-null      float64\n",
            "dtypes: float64(8), int64(3), object(14)\n",
            "memory usage: 1.1+ KB\n"
          ],
          "name": "stdout"
        }
      ]
    },
    {
      "cell_type": "code",
      "metadata": {
        "colab": {
          "base_uri": "https://localhost:8080/",
          "height": 205
        },
        "id": "KNmOuEIZidlX",
        "outputId": "b56fada9-79ff-4ce2-be64-e91413fe9878"
      },
      "source": [
        "# 영업이익률 직접 계산 \n",
        "\n",
        "df['영업이익률2'] = df['영업이익'] / df['매출액']*100\n",
        "df[['영업이익률', '영업이익률2']].head() # 1개 이상의 컬럼을 추출하는 경우에는 대괄호를 2번( [[]] ) 사용*\n",
        "\n",
        "# -> 직접 계산한 값이 실제값과 같음을 확인할 수 있다. "
      ],
      "execution_count": 36,
      "outputs": [
        {
          "output_type": "execute_result",
          "data": {
            "text/html": [
              "<div>\n",
              "<style scoped>\n",
              "    .dataframe tbody tr th:only-of-type {\n",
              "        vertical-align: middle;\n",
              "    }\n",
              "\n",
              "    .dataframe tbody tr th {\n",
              "        vertical-align: top;\n",
              "    }\n",
              "\n",
              "    .dataframe thead th {\n",
              "        text-align: right;\n",
              "    }\n",
              "</style>\n",
              "<table border=\"1\" class=\"dataframe\">\n",
              "  <thead>\n",
              "    <tr style=\"text-align: right;\">\n",
              "      <th></th>\n",
              "      <th>영업이익률</th>\n",
              "      <th>영업이익률2</th>\n",
              "    </tr>\n",
              "  </thead>\n",
              "  <tbody>\n",
              "    <tr>\n",
              "      <th>0</th>\n",
              "      <td>31.73</td>\n",
              "      <td>31.730005</td>\n",
              "    </tr>\n",
              "    <tr>\n",
              "      <th>1</th>\n",
              "      <td>28.93</td>\n",
              "      <td>28.929058</td>\n",
              "    </tr>\n",
              "    <tr>\n",
              "      <th>2</th>\n",
              "      <td>21.06</td>\n",
              "      <td>21.056585</td>\n",
              "    </tr>\n",
              "    <tr>\n",
              "      <th>3</th>\n",
              "      <td>26.73</td>\n",
              "      <td>26.731161</td>\n",
              "    </tr>\n",
              "    <tr>\n",
              "      <th>4</th>\n",
              "      <td>29.93</td>\n",
              "      <td>29.928723</td>\n",
              "    </tr>\n",
              "  </tbody>\n",
              "</table>\n",
              "</div>"
            ],
            "text/plain": [
              "   영업이익률     영업이익률2\n",
              "0  31.73  31.730005\n",
              "1  28.93  28.929058\n",
              "2  21.06  21.056585\n",
              "3  26.73  26.731161\n",
              "4  29.93  29.928723"
            ]
          },
          "metadata": {
            "tags": []
          },
          "execution_count": 36
        }
      ]
    },
    {
      "cell_type": "markdown",
      "metadata": {
        "id": "61IgPlnWsDqS"
      },
      "source": [
        "18/19년도에 대해서 Price to Dream Ratio (PDR) 계산"
      ]
    },
    {
      "cell_type": "code",
      "metadata": {
        "colab": {
          "base_uri": "https://localhost:8080/",
          "height": 111
        },
        "id": "uNJitWb3idon",
        "outputId": "d9697ee4-107a-4233-e187-a1216d8fbda7"
      },
      "source": [
        "df2 = pd.DataFrame([\n",
        "                    ['18년',101500,137292497,13935188445500,62.0],\n",
        "                    ['19년',93800,137292497,12878036218600,63.5]],\n",
        "                   columns = ['구분','종가','발행주식수','시가총액','시장점유율'])\n",
        "\n",
        "df2                "
      ],
      "execution_count": 37,
      "outputs": [
        {
          "output_type": "execute_result",
          "data": {
            "text/html": [
              "<div>\n",
              "<style scoped>\n",
              "    .dataframe tbody tr th:only-of-type {\n",
              "        vertical-align: middle;\n",
              "    }\n",
              "\n",
              "    .dataframe tbody tr th {\n",
              "        vertical-align: top;\n",
              "    }\n",
              "\n",
              "    .dataframe thead th {\n",
              "        text-align: right;\n",
              "    }\n",
              "</style>\n",
              "<table border=\"1\" class=\"dataframe\">\n",
              "  <thead>\n",
              "    <tr style=\"text-align: right;\">\n",
              "      <th></th>\n",
              "      <th>구분</th>\n",
              "      <th>종가</th>\n",
              "      <th>발행주식수</th>\n",
              "      <th>시가총액</th>\n",
              "      <th>시장점유율</th>\n",
              "    </tr>\n",
              "  </thead>\n",
              "  <tbody>\n",
              "    <tr>\n",
              "      <th>0</th>\n",
              "      <td>18년</td>\n",
              "      <td>101500</td>\n",
              "      <td>137292497</td>\n",
              "      <td>13935188445500</td>\n",
              "      <td>62.0</td>\n",
              "    </tr>\n",
              "    <tr>\n",
              "      <th>1</th>\n",
              "      <td>19년</td>\n",
              "      <td>93800</td>\n",
              "      <td>137292497</td>\n",
              "      <td>12878036218600</td>\n",
              "      <td>63.5</td>\n",
              "    </tr>\n",
              "  </tbody>\n",
              "</table>\n",
              "</div>"
            ],
            "text/plain": [
              "    구분      종가      발행주식수            시가총액  시장점유율\n",
              "0  18년  101500  137292497  13935188445500   62.0\n",
              "1  19년   93800  137292497  12878036218600   63.5"
            ]
          },
          "metadata": {
            "tags": []
          },
          "execution_count": 37
        }
      ]
    },
    {
      "cell_type": "code",
      "metadata": {
        "colab": {
          "base_uri": "https://localhost:8080/",
          "height": 111
        },
        "id": "fO3zzxJ1wgF6",
        "outputId": "469972eb-9d6a-48ce-ddf9-39f61e743af6"
      },
      "source": [
        "# 시가총액 / (시장규모=15조)*시장점유율\n",
        "\n",
        "df2['PDR'] = df2['시가총액'] / (15000000000000*df2['시장점유율']) * 10000\n",
        "df2"
      ],
      "execution_count": 38,
      "outputs": [
        {
          "output_type": "execute_result",
          "data": {
            "text/html": [
              "<div>\n",
              "<style scoped>\n",
              "    .dataframe tbody tr th:only-of-type {\n",
              "        vertical-align: middle;\n",
              "    }\n",
              "\n",
              "    .dataframe tbody tr th {\n",
              "        vertical-align: top;\n",
              "    }\n",
              "\n",
              "    .dataframe thead th {\n",
              "        text-align: right;\n",
              "    }\n",
              "</style>\n",
              "<table border=\"1\" class=\"dataframe\">\n",
              "  <thead>\n",
              "    <tr style=\"text-align: right;\">\n",
              "      <th></th>\n",
              "      <th>구분</th>\n",
              "      <th>종가</th>\n",
              "      <th>발행주식수</th>\n",
              "      <th>시가총액</th>\n",
              "      <th>시장점유율</th>\n",
              "      <th>PDR</th>\n",
              "    </tr>\n",
              "  </thead>\n",
              "  <tbody>\n",
              "    <tr>\n",
              "      <th>0</th>\n",
              "      <td>18년</td>\n",
              "      <td>101500</td>\n",
              "      <td>137292497</td>\n",
              "      <td>13935188445500</td>\n",
              "      <td>62.0</td>\n",
              "      <td>149.840736</td>\n",
              "    </tr>\n",
              "    <tr>\n",
              "      <th>1</th>\n",
              "      <td>19년</td>\n",
              "      <td>93800</td>\n",
              "      <td>137292497</td>\n",
              "      <td>12878036218600</td>\n",
              "      <td>63.5</td>\n",
              "      <td>135.202480</td>\n",
              "    </tr>\n",
              "  </tbody>\n",
              "</table>\n",
              "</div>"
            ],
            "text/plain": [
              "    구분      종가      발행주식수            시가총액  시장점유율         PDR\n",
              "0  18년  101500  137292497  13935188445500   62.0  149.840736\n",
              "1  19년   93800  137292497  12878036218600   63.5  135.202480"
            ]
          },
          "metadata": {
            "tags": []
          },
          "execution_count": 38
        }
      ]
    },
    {
      "cell_type": "markdown",
      "metadata": {
        "id": "XBtwwrzAnKzk"
      },
      "source": [
        "## 2. String Manipulation\n",
        "\n",
        "- replace가 아닌 다른 방법을 사용하여 19년도 2분기의 매출액 을 integer로 변경하세요. 결과값은 12578이 나와야합니다.\n",
        "  \n"
      ]
    },
    {
      "cell_type": "code",
      "metadata": {
        "id": "9-sR5inqnM0L",
        "outputId": "0601b9a7-96ba-4f26-ecc4-eda38a0cd498",
        "colab": {
          "base_uri": "https://localhost:8080/",
          "height": 260
        }
      },
      "source": [
        "df.head()"
      ],
      "execution_count": 39,
      "outputs": [
        {
          "output_type": "execute_result",
          "data": {
            "text/html": [
              "<div>\n",
              "<style scoped>\n",
              "    .dataframe tbody tr th:only-of-type {\n",
              "        vertical-align: middle;\n",
              "    }\n",
              "\n",
              "    .dataframe tbody tr th {\n",
              "        vertical-align: top;\n",
              "    }\n",
              "\n",
              "    .dataframe thead th {\n",
              "        text-align: right;\n",
              "    }\n",
              "</style>\n",
              "<table border=\"1\" class=\"dataframe\">\n",
              "  <thead>\n",
              "    <tr style=\"text-align: right;\">\n",
              "      <th></th>\n",
              "      <th>분기</th>\n",
              "      <th>매출액</th>\n",
              "      <th>영업이익</th>\n",
              "      <th>영업이익(발표기준)</th>\n",
              "      <th>세전계속사업이익</th>\n",
              "      <th>당기순이익</th>\n",
              "      <th>당기순이익(지배)</th>\n",
              "      <th>당기순이익(비지배)</th>\n",
              "      <th>자산총계</th>\n",
              "      <th>부채총계</th>\n",
              "      <th>자본총계</th>\n",
              "      <th>자본총계(지배)</th>\n",
              "      <th>자본총계(비지배)</th>\n",
              "      <th>자본금</th>\n",
              "      <th>영업활동현금흐름</th>\n",
              "      <th>투자활동현금흐름</th>\n",
              "      <th>재무활동현금흐름</th>\n",
              "      <th>영업이익률</th>\n",
              "      <th>순이익률</th>\n",
              "      <th>ROE(%)</th>\n",
              "      <th>ROA(%)</th>\n",
              "      <th>부채비율</th>\n",
              "      <th>자본유보율</th>\n",
              "      <th>EPS(원)</th>\n",
              "      <th>PER(배)</th>\n",
              "      <th>영업이익률2</th>\n",
              "    </tr>\n",
              "  </thead>\n",
              "  <tbody>\n",
              "    <tr>\n",
              "      <th>0</th>\n",
              "      <td>19/6</td>\n",
              "      <td>12578</td>\n",
              "      <td>3991</td>\n",
              "      <td>3,991</td>\n",
              "      <td>4,452</td>\n",
              "      <td>3,245</td>\n",
              "      <td>3,228</td>\n",
              "      <td>17</td>\n",
              "      <td>108,464</td>\n",
              "      <td>25,940</td>\n",
              "      <td>82,524</td>\n",
              "      <td>81,965</td>\n",
              "      <td>NaN</td>\n",
              "      <td>9,550</td>\n",
              "      <td>4,641</td>\n",
              "      <td>-1,878</td>\n",
              "      <td>-4,919</td>\n",
              "      <td>31.73</td>\n",
              "      <td>25.80</td>\n",
              "      <td>12.35</td>\n",
              "      <td>9.37</td>\n",
              "      <td>31.43</td>\n",
              "      <td>803.22</td>\n",
              "      <td>2,351</td>\n",
              "      <td>13.77</td>\n",
              "      <td>31.730005</td>\n",
              "    </tr>\n",
              "    <tr>\n",
              "      <th>1</th>\n",
              "      <td>19/9</td>\n",
              "      <td>13222</td>\n",
              "      <td>3825</td>\n",
              "      <td>3,825</td>\n",
              "      <td>4,503</td>\n",
              "      <td>3,221</td>\n",
              "      <td>3,208</td>\n",
              "      <td>13</td>\n",
              "      <td>106,314</td>\n",
              "      <td>20,691</td>\n",
              "      <td>85,623</td>\n",
              "      <td>85,049</td>\n",
              "      <td>NaN</td>\n",
              "      <td>9,550</td>\n",
              "      <td>-2,278</td>\n",
              "      <td>-83</td>\n",
              "      <td>-329</td>\n",
              "      <td>28.93</td>\n",
              "      <td>24.36</td>\n",
              "      <td>12.67</td>\n",
              "      <td>9.95</td>\n",
              "      <td>24.17</td>\n",
              "      <td>836.86</td>\n",
              "      <td>2,337</td>\n",
              "      <td>13.87</td>\n",
              "      <td>28.929058</td>\n",
              "    </tr>\n",
              "    <tr>\n",
              "      <th>2</th>\n",
              "      <td>19/12</td>\n",
              "      <td>11982</td>\n",
              "      <td>2523</td>\n",
              "      <td>2,523</td>\n",
              "      <td>1,794</td>\n",
              "      <td>1,183</td>\n",
              "      <td>1,198</td>\n",
              "      <td>-15</td>\n",
              "      <td>107,121</td>\n",
              "      <td>20,062</td>\n",
              "      <td>87,059</td>\n",
              "      <td>86,506</td>\n",
              "      <td>NaN</td>\n",
              "      <td>9,550</td>\n",
              "      <td>837</td>\n",
              "      <td>-501</td>\n",
              "      <td>-129</td>\n",
              "      <td>21.06</td>\n",
              "      <td>9.87</td>\n",
              "      <td>12.39</td>\n",
              "      <td>9.96</td>\n",
              "      <td>23.04</td>\n",
              "      <td>850.82</td>\n",
              "      <td>873</td>\n",
              "      <td>12.42</td>\n",
              "      <td>21.056585</td>\n",
              "    </tr>\n",
              "    <tr>\n",
              "      <th>3</th>\n",
              "      <td>20/3</td>\n",
              "      <td>11784</td>\n",
              "      <td>3150</td>\n",
              "      <td>3,150</td>\n",
              "      <td>4,156</td>\n",
              "      <td>2,939</td>\n",
              "      <td>2,930</td>\n",
              "      <td>9</td>\n",
              "      <td>108,594</td>\n",
              "      <td>24,862</td>\n",
              "      <td>83,732</td>\n",
              "      <td>83,170</td>\n",
              "      <td>562.0</td>\n",
              "      <td>9,550</td>\n",
              "      <td>2,336</td>\n",
              "      <td>-1,392</td>\n",
              "      <td>-86</td>\n",
              "      <td>26.73</td>\n",
              "      <td>24.94</td>\n",
              "      <td>13.05</td>\n",
              "      <td>9.79</td>\n",
              "      <td>29.69</td>\n",
              "      <td>823.16</td>\n",
              "      <td>2,134</td>\n",
              "      <td>9.71</td>\n",
              "      <td>26.731161</td>\n",
              "    </tr>\n",
              "    <tr>\n",
              "      <th>4</th>\n",
              "      <td>20/6</td>\n",
              "      <td>13188</td>\n",
              "      <td>3947</td>\n",
              "      <td>3,947</td>\n",
              "      <td>4,020</td>\n",
              "      <td>2,935</td>\n",
              "      <td>2,931</td>\n",
              "      <td>4</td>\n",
              "      <td>110,282</td>\n",
              "      <td>23,386</td>\n",
              "      <td>86,896</td>\n",
              "      <td>86,330</td>\n",
              "      <td>566.0</td>\n",
              "      <td>9,550</td>\n",
              "      <td>7,855</td>\n",
              "      <td>-214</td>\n",
              "      <td>-5,501</td>\n",
              "      <td>29.93</td>\n",
              "      <td>22.25</td>\n",
              "      <td>12.20</td>\n",
              "      <td>9.40</td>\n",
              "      <td>26.91</td>\n",
              "      <td>837.40</td>\n",
              "      <td>2,135</td>\n",
              "      <td>10.46</td>\n",
              "      <td>29.928723</td>\n",
              "    </tr>\n",
              "  </tbody>\n",
              "</table>\n",
              "</div>"
            ],
            "text/plain": [
              "      분기    매출액  영업이익 영업이익(발표기준)  ...   자본유보율 EPS(원) PER(배)     영업이익률2\n",
              "0   19/6  12578  3991      3,991  ...  803.22  2,351  13.77  31.730005\n",
              "1   19/9  13222  3825      3,825  ...  836.86  2,337  13.87  28.929058\n",
              "2  19/12  11982  2523      2,523  ...  850.82    873  12.42  21.056585\n",
              "3   20/3  11784  3150      3,150  ...  823.16  2,134   9.71  26.731161\n",
              "4   20/6  13188  3947      3,947  ...  837.40  2,135  10.46  29.928723\n",
              "\n",
              "[5 rows x 26 columns]"
            ]
          },
          "metadata": {
            "tags": []
          },
          "execution_count": 39
        }
      ]
    },
    {
      "cell_type": "code",
      "metadata": {
        "id": "WXIf3MFuzgfV",
        "outputId": "d0380066-86de-4a0e-dbf2-84d0d0d5d4ee",
        "colab": {
          "base_uri": "https://localhost:8080/"
        }
      },
      "source": [
        "df.info()"
      ],
      "execution_count": 40,
      "outputs": [
        {
          "output_type": "stream",
          "text": [
            "<class 'pandas.core.frame.DataFrame'>\n",
            "RangeIndex: 5 entries, 0 to 4\n",
            "Data columns (total 26 columns):\n",
            " #   Column      Non-Null Count  Dtype  \n",
            "---  ------      --------------  -----  \n",
            " 0   분기          5 non-null      object \n",
            " 1   매출액         5 non-null      int64  \n",
            " 2   영업이익        5 non-null      int64  \n",
            " 3   영업이익(발표기준)  5 non-null      object \n",
            " 4   세전계속사업이익    5 non-null      object \n",
            " 5   당기순이익       5 non-null      object \n",
            " 6   당기순이익(지배)   5 non-null      object \n",
            " 7   당기순이익(비지배)  5 non-null      int64  \n",
            " 8   자산총계        5 non-null      object \n",
            " 9   부채총계        5 non-null      object \n",
            " 10  자본총계        5 non-null      object \n",
            " 11  자본총계(지배)    5 non-null      object \n",
            " 12  자본총계(비지배)   2 non-null      float64\n",
            " 13  자본금         5 non-null      object \n",
            " 14  영업활동현금흐름    5 non-null      object \n",
            " 15  투자활동현금흐름    5 non-null      object \n",
            " 16  재무활동현금흐름    5 non-null      object \n",
            " 17  영업이익률       5 non-null      float64\n",
            " 18  순이익률        5 non-null      float64\n",
            " 19  ROE(%)      5 non-null      float64\n",
            " 20  ROA(%)      5 non-null      float64\n",
            " 21  부채비율        5 non-null      float64\n",
            " 22  자본유보율       5 non-null      float64\n",
            " 23  EPS(원)      5 non-null      object \n",
            " 24  PER(배)      5 non-null      float64\n",
            " 25  영업이익률2      5 non-null      float64\n",
            "dtypes: float64(9), int64(3), object(14)\n",
            "memory usage: 1.1+ KB\n"
          ],
          "name": "stdout"
        }
      ]
    },
    {
      "cell_type": "code",
      "metadata": {
        "id": "n-OB6yopzv3s",
        "outputId": "48208222-6adf-4175-e333-0e96ae208995",
        "colab": {
          "base_uri": "https://localhost:8080/"
        }
      },
      "source": [
        "df = df.infer_objects()\n",
        "print(df.dtypes)"
      ],
      "execution_count": 41,
      "outputs": [
        {
          "output_type": "stream",
          "text": [
            "분기             object\n",
            "매출액             int64\n",
            "영업이익            int64\n",
            "영업이익(발표기준)     object\n",
            "세전계속사업이익       object\n",
            "당기순이익          object\n",
            "당기순이익(지배)      object\n",
            "당기순이익(비지배)      int64\n",
            "자산총계           object\n",
            "부채총계           object\n",
            "자본총계           object\n",
            "자본총계(지배)       object\n",
            "자본총계(비지배)     float64\n",
            "자본금            object\n",
            "영업활동현금흐름       object\n",
            "투자활동현금흐름       object\n",
            "재무활동현금흐름       object\n",
            "영업이익률         float64\n",
            "순이익률          float64\n",
            "ROE(%)        float64\n",
            "ROA(%)        float64\n",
            "부채비율          float64\n",
            "자본유보율         float64\n",
            "EPS(원)         object\n",
            "PER(배)        float64\n",
            "영업이익률2        float64\n",
            "dtype: object\n"
          ],
          "name": "stdout"
        }
      ]
    },
    {
      "cell_type": "code",
      "metadata": {
        "colab": {
          "base_uri": "https://localhost:8080/",
          "height": 36
        },
        "id": "f68aPW46zw6u",
        "outputId": "95bb9dc7-f9ed-4f2b-d178-6ba14a2ac994"
      },
      "source": [
        "import locale\n",
        "# A = '111,111.222'\n",
        "locale.setlocale(locale.LC_ALL, 'en_US.UTF-8')\n",
        "# 'en_US.UTF-8'\n",
        "# locale.atof(A)"
      ],
      "execution_count": 42,
      "outputs": [
        {
          "output_type": "execute_result",
          "data": {
            "application/vnd.google.colaboratory.intrinsic+json": {
              "type": "string"
            },
            "text/plain": [
              "'en_US.UTF-8'"
            ]
          },
          "metadata": {
            "tags": []
          },
          "execution_count": 42
        }
      ]
    },
    {
      "cell_type": "code",
      "metadata": {
        "id": "kjRfHPmWzwnz"
      },
      "source": [
        "#  locale.atof(df.iloc[:,3])"
      ],
      "execution_count": 43,
      "outputs": []
    },
    {
      "cell_type": "code",
      "metadata": {
        "id": "x87LBVuPFAuJ"
      },
      "source": [
        "import numpy as np\n",
        "# df.astype({'자산총계': np.int64})"
      ],
      "execution_count": 44,
      "outputs": []
    },
    {
      "cell_type": "code",
      "metadata": {
        "colab": {
          "base_uri": "https://localhost:8080/"
        },
        "id": "NvM0r3pUzqU1",
        "outputId": "14fa5b81-f346-4f1e-b2c2-f89fb3059baf"
      },
      "source": [
        "df.iloc[:,3]"
      ],
      "execution_count": 45,
      "outputs": [
        {
          "output_type": "execute_result",
          "data": {
            "text/plain": [
              "0    3,991\n",
              "1    3,825\n",
              "2    2,523\n",
              "3    3,150\n",
              "4    3,947\n",
              "Name: 영업이익(발표기준), dtype: object"
            ]
          },
          "metadata": {
            "tags": []
          },
          "execution_count": 45
        }
      ]
    },
    {
      "cell_type": "code",
      "metadata": {
        "colab": {
          "base_uri": "https://localhost:8080/"
        },
        "id": "sZqcRMyVIXhh",
        "outputId": "ec1b7ae6-6356-4939-97bd-462e40f23246"
      },
      "source": [
        "(df['매출액'][0] == 12578)\n"
      ],
      "execution_count": 46,
      "outputs": [
        {
          "output_type": "execute_result",
          "data": {
            "text/plain": [
              "True"
            ]
          },
          "metadata": {
            "tags": []
          },
          "execution_count": 46
        }
      ]
    },
    {
      "cell_type": "markdown",
      "metadata": {
        "id": "BBlcW34-zqtT"
      },
      "source": [
        ""
      ]
    },
    {
      "cell_type": "markdown",
      "metadata": {
        "id": "357MIyg6nNWj"
      },
      "source": [
        "## 3. Apply\n",
        "- 데이터셋의 분기를 제외한 모든 feature에 대해서 수치형 데이터 (`int`, `float`) 로 수정하고, `describe`를 통해 summary statistics 를 확인하세요.\n",
        "- 단 결측치는 `0`으로 처리합니다."
      ]
    },
    {
      "cell_type": "code",
      "metadata": {
        "colab": {
          "base_uri": "https://localhost:8080/"
        },
        "id": "6WL2JIKpJk9B",
        "outputId": "3e0af4ee-19a1-4b57-aab0-a3cab7df5465"
      },
      "source": [
        " df.select_dtypes(object).columns"
      ],
      "execution_count": 47,
      "outputs": [
        {
          "output_type": "execute_result",
          "data": {
            "text/plain": [
              "Index(['분기', '영업이익(발표기준)', '세전계속사업이익', '당기순이익', '당기순이익(지배)', '자산총계', '부채총계',\n",
              "       '자본총계', '자본총계(지배)', '자본금', '영업활동현금흐름', '투자활동현금흐름', '재무활동현금흐름',\n",
              "       'EPS(원)'],\n",
              "      dtype='object')"
            ]
          },
          "metadata": {
            "tags": []
          },
          "execution_count": 47
        }
      ]
    },
    {
      "cell_type": "code",
      "metadata": {
        "id": "8a4BDm3fM9t_",
        "colab": {
          "base_uri": "https://localhost:8080/"
        },
        "outputId": "1afe96a4-b02d-4ab8-81f8-51df82a463e8"
      },
      "source": [
        "df.columns.get_indexer(['분기', '영업이익(발표기준)', '세전계속사업이익', '당기순이익', '당기순이익(지배)', '자산총계', '부채총계',\n",
        "       '자본총계', '자본총계(지배)', '자본금', '영업활동현금흐름', '투자활동현금흐름', '재무활동현금흐름',\n",
        "       'EPS(원)'])"
      ],
      "execution_count": 48,
      "outputs": [
        {
          "output_type": "execute_result",
          "data": {
            "text/plain": [
              "array([ 0,  3,  4,  5,  6,  8,  9, 10, 11, 13, 14, 15, 16, 23])"
            ]
          },
          "metadata": {
            "tags": []
          },
          "execution_count": 48
        }
      ]
    },
    {
      "cell_type": "code",
      "metadata": {
        "id": "TqVZ1fLxJk_X"
      },
      "source": [
        "# df.apply(toInt)"
      ],
      "execution_count": 49,
      "outputs": []
    },
    {
      "cell_type": "code",
      "metadata": {
        "id": "eOTQtyNlLjsX",
        "colab": {
          "base_uri": "https://localhost:8080/"
        },
        "outputId": "4dd29162-7d98-4776-cb70-d688670105c6"
      },
      "source": [
        "df = df.fillna(0)\n",
        "df.isnull().sum().sum()"
      ],
      "execution_count": 50,
      "outputs": [
        {
          "output_type": "execute_result",
          "data": {
            "text/plain": [
              "0"
            ]
          },
          "metadata": {
            "tags": []
          },
          "execution_count": 50
        }
      ]
    },
    {
      "cell_type": "code",
      "metadata": {
        "colab": {
          "base_uri": "https://localhost:8080/"
        },
        "id": "B9Sk_DklJnPx",
        "outputId": "4c23c918-b4aa-4754-f017-df30f1e5313c"
      },
      "source": [
        "# 변환해야할 변수들\n",
        "df.iloc[:,[3,  4,  5,  6,  8,  9, 10, 11, 13, 14, 15, 16, 23]].info()"
      ],
      "execution_count": 51,
      "outputs": [
        {
          "output_type": "stream",
          "text": [
            "<class 'pandas.core.frame.DataFrame'>\n",
            "RangeIndex: 5 entries, 0 to 4\n",
            "Data columns (total 13 columns):\n",
            " #   Column      Non-Null Count  Dtype \n",
            "---  ------      --------------  ----- \n",
            " 0   영업이익(발표기준)  5 non-null      object\n",
            " 1   세전계속사업이익    5 non-null      object\n",
            " 2   당기순이익       5 non-null      object\n",
            " 3   당기순이익(지배)   5 non-null      object\n",
            " 4   자산총계        5 non-null      object\n",
            " 5   부채총계        5 non-null      object\n",
            " 6   자본총계        5 non-null      object\n",
            " 7   자본총계(지배)    5 non-null      object\n",
            " 8   자본금         5 non-null      object\n",
            " 9   영업활동현금흐름    5 non-null      object\n",
            " 10  투자활동현금흐름    5 non-null      object\n",
            " 11  재무활동현금흐름    5 non-null      object\n",
            " 12  EPS(원)      5 non-null      object\n",
            "dtypes: object(13)\n",
            "memory usage: 648.0+ bytes\n"
          ],
          "name": "stdout"
        }
      ]
    },
    {
      "cell_type": "code",
      "metadata": {
        "colab": {
          "base_uri": "https://localhost:8080/"
        },
        "id": "D4cDQLSGJnSK",
        "outputId": "ea59433a-5179-4ca7-e7dd-83414d1cf13d"
      },
      "source": [
        "# df['매출액'] = df['매출액'].apply(toInt)\n",
        "# df['영업이익'] = df['영업이익'].apply(toInt)\n",
        "# df.iloc[:,[3,  4,  5,  6,  8,  9, 10, 11, 13, 14, 15, 16, 23]].apply(toInt)\n",
        "\n",
        "for i in (3,  4,  5,  6,  8,  9, 10, 11, 13, 14, 15, 16, 23):\n",
        "    # print(i)\n",
        "    df.iloc[:,i] = df.iloc[:,i].apply(toInt)\n",
        "    print(df.iloc[:,i].dtypes)\n",
        "\n"
      ],
      "execution_count": 52,
      "outputs": [
        {
          "output_type": "stream",
          "text": [
            "int64\n",
            "int64\n",
            "int64\n",
            "int64\n",
            "int64\n",
            "int64\n",
            "int64\n",
            "int64\n",
            "int64\n",
            "int64\n",
            "int64\n",
            "int64\n",
            "int64\n"
          ],
          "name": "stdout"
        }
      ]
    },
    {
      "cell_type": "code",
      "metadata": {
        "colab": {
          "base_uri": "https://localhost:8080/"
        },
        "id": "tD10dRiIJnNe",
        "outputId": "2f0b406a-d971-422d-db78-aa3b39fc6677"
      },
      "source": [
        "df.dtypes"
      ],
      "execution_count": 53,
      "outputs": [
        {
          "output_type": "execute_result",
          "data": {
            "text/plain": [
              "분기             object\n",
              "매출액             int64\n",
              "영업이익            int64\n",
              "영업이익(발표기준)      int64\n",
              "세전계속사업이익        int64\n",
              "당기순이익           int64\n",
              "당기순이익(지배)       int64\n",
              "당기순이익(비지배)      int64\n",
              "자산총계            int64\n",
              "부채총계            int64\n",
              "자본총계            int64\n",
              "자본총계(지배)        int64\n",
              "자본총계(비지배)     float64\n",
              "자본금             int64\n",
              "영업활동현금흐름        int64\n",
              "투자활동현금흐름        int64\n",
              "재무활동현금흐름        int64\n",
              "영업이익률         float64\n",
              "순이익률          float64\n",
              "ROE(%)        float64\n",
              "ROA(%)        float64\n",
              "부채비율          float64\n",
              "자본유보율         float64\n",
              "EPS(원)          int64\n",
              "PER(배)        float64\n",
              "영업이익률2        float64\n",
              "dtype: object"
            ]
          },
          "metadata": {
            "tags": []
          },
          "execution_count": 53
        }
      ]
    },
    {
      "cell_type": "code",
      "metadata": {
        "colab": {
          "base_uri": "https://localhost:8080/",
          "height": 337
        },
        "id": "b_eyslgLJegl",
        "outputId": "0da01185-091d-4a8e-ea1c-b6305089a7da"
      },
      "source": [
        "# 기초통계량\n",
        "df.describe()"
      ],
      "execution_count": 54,
      "outputs": [
        {
          "output_type": "execute_result",
          "data": {
            "text/html": [
              "<div>\n",
              "<style scoped>\n",
              "    .dataframe tbody tr th:only-of-type {\n",
              "        vertical-align: middle;\n",
              "    }\n",
              "\n",
              "    .dataframe tbody tr th {\n",
              "        vertical-align: top;\n",
              "    }\n",
              "\n",
              "    .dataframe thead th {\n",
              "        text-align: right;\n",
              "    }\n",
              "</style>\n",
              "<table border=\"1\" class=\"dataframe\">\n",
              "  <thead>\n",
              "    <tr style=\"text-align: right;\">\n",
              "      <th></th>\n",
              "      <th>매출액</th>\n",
              "      <th>영업이익</th>\n",
              "      <th>영업이익(발표기준)</th>\n",
              "      <th>세전계속사업이익</th>\n",
              "      <th>당기순이익</th>\n",
              "      <th>당기순이익(지배)</th>\n",
              "      <th>당기순이익(비지배)</th>\n",
              "      <th>자산총계</th>\n",
              "      <th>부채총계</th>\n",
              "      <th>자본총계</th>\n",
              "      <th>자본총계(지배)</th>\n",
              "      <th>자본총계(비지배)</th>\n",
              "      <th>자본금</th>\n",
              "      <th>영업활동현금흐름</th>\n",
              "      <th>투자활동현금흐름</th>\n",
              "      <th>재무활동현금흐름</th>\n",
              "      <th>영업이익률</th>\n",
              "      <th>순이익률</th>\n",
              "      <th>ROE(%)</th>\n",
              "      <th>ROA(%)</th>\n",
              "      <th>부채비율</th>\n",
              "      <th>자본유보율</th>\n",
              "      <th>EPS(원)</th>\n",
              "      <th>PER(배)</th>\n",
              "      <th>영업이익률2</th>\n",
              "    </tr>\n",
              "  </thead>\n",
              "  <tbody>\n",
              "    <tr>\n",
              "      <th>count</th>\n",
              "      <td>5.000000</td>\n",
              "      <td>5.000000</td>\n",
              "      <td>5.000000</td>\n",
              "      <td>5.000000</td>\n",
              "      <td>5.000000</td>\n",
              "      <td>5.000000</td>\n",
              "      <td>5.000000</td>\n",
              "      <td>5.000000</td>\n",
              "      <td>5.00000</td>\n",
              "      <td>5.00000</td>\n",
              "      <td>5.000000</td>\n",
              "      <td>5.00000</td>\n",
              "      <td>5.0</td>\n",
              "      <td>5.000000</td>\n",
              "      <td>5.000000</td>\n",
              "      <td>5.00000</td>\n",
              "      <td>5.000000</td>\n",
              "      <td>5.000000</td>\n",
              "      <td>5.000000</td>\n",
              "      <td>5.000000</td>\n",
              "      <td>5.000000</td>\n",
              "      <td>5.00000</td>\n",
              "      <td>5.000000</td>\n",
              "      <td>5.000000</td>\n",
              "      <td>5.000000</td>\n",
              "    </tr>\n",
              "    <tr>\n",
              "      <th>mean</th>\n",
              "      <td>12550.800000</td>\n",
              "      <td>3487.200000</td>\n",
              "      <td>3487.200000</td>\n",
              "      <td>3785.000000</td>\n",
              "      <td>2704.600000</td>\n",
              "      <td>2699.000000</td>\n",
              "      <td>5.600000</td>\n",
              "      <td>108155.000000</td>\n",
              "      <td>22988.20000</td>\n",
              "      <td>85166.80000</td>\n",
              "      <td>84604.000000</td>\n",
              "      <td>225.60000</td>\n",
              "      <td>9550.0</td>\n",
              "      <td>2678.200000</td>\n",
              "      <td>-813.600000</td>\n",
              "      <td>-2192.80000</td>\n",
              "      <td>27.676000</td>\n",
              "      <td>21.444000</td>\n",
              "      <td>12.532000</td>\n",
              "      <td>9.694000</td>\n",
              "      <td>27.048000</td>\n",
              "      <td>830.29200</td>\n",
              "      <td>1966.000000</td>\n",
              "      <td>12.046000</td>\n",
              "      <td>27.675106</td>\n",
              "    </tr>\n",
              "    <tr>\n",
              "      <th>std</th>\n",
              "      <td>664.979097</td>\n",
              "      <td>636.931079</td>\n",
              "      <td>636.931079</td>\n",
              "      <td>1131.079131</td>\n",
              "      <td>863.422724</td>\n",
              "      <td>851.338358</td>\n",
              "      <td>12.481987</td>\n",
              "      <td>1522.396795</td>\n",
              "      <td>2560.38419</td>\n",
              "      <td>1988.82596</td>\n",
              "      <td>1988.427897</td>\n",
              "      <td>308.91876</td>\n",
              "      <td>0.0</td>\n",
              "      <td>3831.542731</td>\n",
              "      <td>783.981696</td>\n",
              "      <td>2763.51139</td>\n",
              "      <td>4.115651</td>\n",
              "      <td>6.601267</td>\n",
              "      <td>0.335738</td>\n",
              "      <td>0.290224</td>\n",
              "      <td>3.554859</td>\n",
              "      <td>18.01957</td>\n",
              "      <td>619.939513</td>\n",
              "      <td>1.898112</td>\n",
              "      <td>4.116711</td>\n",
              "    </tr>\n",
              "    <tr>\n",
              "      <th>min</th>\n",
              "      <td>11784.000000</td>\n",
              "      <td>2523.000000</td>\n",
              "      <td>2523.000000</td>\n",
              "      <td>1794.000000</td>\n",
              "      <td>1183.000000</td>\n",
              "      <td>1198.000000</td>\n",
              "      <td>-15.000000</td>\n",
              "      <td>106314.000000</td>\n",
              "      <td>20062.00000</td>\n",
              "      <td>82524.00000</td>\n",
              "      <td>81965.000000</td>\n",
              "      <td>0.00000</td>\n",
              "      <td>9550.0</td>\n",
              "      <td>-2278.000000</td>\n",
              "      <td>-1878.000000</td>\n",
              "      <td>-5501.00000</td>\n",
              "      <td>21.060000</td>\n",
              "      <td>9.870000</td>\n",
              "      <td>12.200000</td>\n",
              "      <td>9.370000</td>\n",
              "      <td>23.040000</td>\n",
              "      <td>803.22000</td>\n",
              "      <td>873.000000</td>\n",
              "      <td>9.710000</td>\n",
              "      <td>21.056585</td>\n",
              "    </tr>\n",
              "    <tr>\n",
              "      <th>25%</th>\n",
              "      <td>11982.000000</td>\n",
              "      <td>3150.000000</td>\n",
              "      <td>3150.000000</td>\n",
              "      <td>4020.000000</td>\n",
              "      <td>2935.000000</td>\n",
              "      <td>2930.000000</td>\n",
              "      <td>4.000000</td>\n",
              "      <td>107121.000000</td>\n",
              "      <td>20691.00000</td>\n",
              "      <td>83732.00000</td>\n",
              "      <td>83170.000000</td>\n",
              "      <td>0.00000</td>\n",
              "      <td>9550.0</td>\n",
              "      <td>837.000000</td>\n",
              "      <td>-1392.000000</td>\n",
              "      <td>-4919.00000</td>\n",
              "      <td>26.730000</td>\n",
              "      <td>22.250000</td>\n",
              "      <td>12.350000</td>\n",
              "      <td>9.400000</td>\n",
              "      <td>24.170000</td>\n",
              "      <td>823.16000</td>\n",
              "      <td>2134.000000</td>\n",
              "      <td>10.460000</td>\n",
              "      <td>26.731161</td>\n",
              "    </tr>\n",
              "    <tr>\n",
              "      <th>50%</th>\n",
              "      <td>12578.000000</td>\n",
              "      <td>3825.000000</td>\n",
              "      <td>3825.000000</td>\n",
              "      <td>4156.000000</td>\n",
              "      <td>2939.000000</td>\n",
              "      <td>2931.000000</td>\n",
              "      <td>9.000000</td>\n",
              "      <td>108464.000000</td>\n",
              "      <td>23386.00000</td>\n",
              "      <td>85623.00000</td>\n",
              "      <td>85049.000000</td>\n",
              "      <td>0.00000</td>\n",
              "      <td>9550.0</td>\n",
              "      <td>2336.000000</td>\n",
              "      <td>-501.000000</td>\n",
              "      <td>-329.00000</td>\n",
              "      <td>28.930000</td>\n",
              "      <td>24.360000</td>\n",
              "      <td>12.390000</td>\n",
              "      <td>9.790000</td>\n",
              "      <td>26.910000</td>\n",
              "      <td>836.86000</td>\n",
              "      <td>2135.000000</td>\n",
              "      <td>12.420000</td>\n",
              "      <td>28.929058</td>\n",
              "    </tr>\n",
              "    <tr>\n",
              "      <th>75%</th>\n",
              "      <td>13188.000000</td>\n",
              "      <td>3947.000000</td>\n",
              "      <td>3947.000000</td>\n",
              "      <td>4452.000000</td>\n",
              "      <td>3221.000000</td>\n",
              "      <td>3208.000000</td>\n",
              "      <td>13.000000</td>\n",
              "      <td>108594.000000</td>\n",
              "      <td>24862.00000</td>\n",
              "      <td>86896.00000</td>\n",
              "      <td>86330.000000</td>\n",
              "      <td>562.00000</td>\n",
              "      <td>9550.0</td>\n",
              "      <td>4641.000000</td>\n",
              "      <td>-214.000000</td>\n",
              "      <td>-129.00000</td>\n",
              "      <td>29.930000</td>\n",
              "      <td>24.940000</td>\n",
              "      <td>12.670000</td>\n",
              "      <td>9.950000</td>\n",
              "      <td>29.690000</td>\n",
              "      <td>837.40000</td>\n",
              "      <td>2337.000000</td>\n",
              "      <td>13.770000</td>\n",
              "      <td>29.928723</td>\n",
              "    </tr>\n",
              "    <tr>\n",
              "      <th>max</th>\n",
              "      <td>13222.000000</td>\n",
              "      <td>3991.000000</td>\n",
              "      <td>3991.000000</td>\n",
              "      <td>4503.000000</td>\n",
              "      <td>3245.000000</td>\n",
              "      <td>3228.000000</td>\n",
              "      <td>17.000000</td>\n",
              "      <td>110282.000000</td>\n",
              "      <td>25940.00000</td>\n",
              "      <td>87059.00000</td>\n",
              "      <td>86506.000000</td>\n",
              "      <td>566.00000</td>\n",
              "      <td>9550.0</td>\n",
              "      <td>7855.000000</td>\n",
              "      <td>-83.000000</td>\n",
              "      <td>-86.00000</td>\n",
              "      <td>31.730000</td>\n",
              "      <td>25.800000</td>\n",
              "      <td>13.050000</td>\n",
              "      <td>9.960000</td>\n",
              "      <td>31.430000</td>\n",
              "      <td>850.82000</td>\n",
              "      <td>2351.000000</td>\n",
              "      <td>13.870000</td>\n",
              "      <td>31.730005</td>\n",
              "    </tr>\n",
              "  </tbody>\n",
              "</table>\n",
              "</div>"
            ],
            "text/plain": [
              "                매출액         영업이익  ...     PER(배)     영업이익률2\n",
              "count      5.000000     5.000000  ...   5.000000   5.000000\n",
              "mean   12550.800000  3487.200000  ...  12.046000  27.675106\n",
              "std      664.979097   636.931079  ...   1.898112   4.116711\n",
              "min    11784.000000  2523.000000  ...   9.710000  21.056585\n",
              "25%    11982.000000  3150.000000  ...  10.460000  26.731161\n",
              "50%    12578.000000  3825.000000  ...  12.420000  28.929058\n",
              "75%    13188.000000  3947.000000  ...  13.770000  29.928723\n",
              "max    13222.000000  3991.000000  ...  13.870000  31.730005\n",
              "\n",
              "[8 rows x 25 columns]"
            ]
          },
          "metadata": {
            "tags": []
          },
          "execution_count": 54
        }
      ]
    },
    {
      "cell_type": "markdown",
      "metadata": {
        "id": "en0Q_b5L4fxA"
      },
      "source": [
        "## Grading\n",
        "\n",
        "이전 과제를 완료했다면, 아래의 코드를 실행하세요. "
      ]
    },
    {
      "cell_type": "code",
      "metadata": {
        "id": "1k3zn-YV4fdg"
      },
      "source": [
        "\n",
        "def grade(df, df2):\n",
        "  score = 0\n",
        "  score += (df.shape == (5, 26)) # 1-1\n",
        "  score += ((round(df2['PDR'], 3) == [149.841, 135.202]).sum() == 2) # 1-2\n",
        "  score += ((round(df['영업이익률2'], 3) == [31.730, 28.929, 21.057, 26.731, 29.929]).sum() == 5) # 1-3\n",
        "  score += (df['매출액'][0] == 12578) # 2\n",
        "  score += ((df.dtypes == 'O').sum() == 1)\n",
        "  return(score)"
      ],
      "execution_count": 55,
      "outputs": []
    },
    {
      "cell_type": "code",
      "metadata": {
        "id": "nj_RslFn4lCM",
        "colab": {
          "base_uri": "https://localhost:8080/"
        },
        "outputId": "68bba990-348d-441b-952e-5efb5e4f69ba"
      },
      "source": [
        "grade(df, df2)"
      ],
      "execution_count": 56,
      "outputs": [
        {
          "output_type": "execute_result",
          "data": {
            "text/plain": [
              "5"
            ]
          },
          "metadata": {
            "tags": []
          },
          "execution_count": 56
        }
      ]
    },
    {
      "cell_type": "code",
      "metadata": {
        "id": "P9HGYHsLAUcJ",
        "outputId": "161e2a6d-9165-4c30-fc57-4af3bab942d4",
        "colab": {
          "base_uri": "https://localhost:8080/"
        }
      },
      "source": [
        "round(df2['PDR'], 3)\n",
        "149.841- 135.202"
      ],
      "execution_count": 77,
      "outputs": [
        {
          "output_type": "execute_result",
          "data": {
            "text/plain": [
              "14.63900000000001"
            ]
          },
          "metadata": {
            "tags": []
          },
          "execution_count": 77
        }
      ]
    },
    {
      "cell_type": "code",
      "metadata": {
        "id": "_AvkuJV0AghL",
        "outputId": "9dd0d296-d860-45f7-dd8b-ef01f4fb8d17",
        "colab": {
          "base_uri": "https://localhost:8080/"
        }
      },
      "source": [
        "round(df['영업이익률2'], 3)"
      ],
      "execution_count": 78,
      "outputs": [
        {
          "output_type": "execute_result",
          "data": {
            "text/plain": [
              "0    31.730\n",
              "1    28.929\n",
              "2    21.057\n",
              "3    26.731\n",
              "4    29.929\n",
              "Name: 영업이익률2, dtype: float64"
            ]
          },
          "metadata": {
            "tags": []
          },
          "execution_count": 78
        }
      ]
    },
    {
      "cell_type": "code",
      "metadata": {
        "id": "rIfBRXX2AkYd",
        "outputId": "25cf153f-4658-4892-edcb-4d4df5dcd1b1",
        "colab": {
          "base_uri": "https://localhost:8080/"
        }
      },
      "source": [
        "df['매출액'][0]"
      ],
      "execution_count": 79,
      "outputs": [
        {
          "output_type": "execute_result",
          "data": {
            "text/plain": [
              "12578"
            ]
          },
          "metadata": {
            "tags": []
          },
          "execution_count": 79
        }
      ]
    },
    {
      "cell_type": "code",
      "metadata": {
        "id": "qTH_uaglAn-m",
        "outputId": "483f851c-523c-4a00-a0a2-05f34feff3df",
        "colab": {
          "base_uri": "https://localhost:8080/"
        }
      },
      "source": [
        "(df.dtypes == 'O').sum()"
      ],
      "execution_count": 80,
      "outputs": [
        {
          "output_type": "execute_result",
          "data": {
            "text/plain": [
              "1"
            ]
          },
          "metadata": {
            "tags": []
          },
          "execution_count": 80
        }
      ]
    },
    {
      "cell_type": "markdown",
      "metadata": {
        "id": "L8k0LiHmo5EU"
      },
      "source": [
        "## 🔥 도전과제\n",
        "\n"
      ]
    },
    {
      "cell_type": "markdown",
      "metadata": {
        "id": "sm0x-1HEoss0"
      },
      "source": [
        "### NA Value Handling\n",
        "\n",
        "- 19년도 4분기의 당기순이익(비지배) 부분을 Na로 대체하세요\n",
        "- 이후 해당 결측치를 mean imputation 방법을 사용하여 처리하세요.\n",
        "\n"
      ]
    },
    {
      "cell_type": "code",
      "metadata": {
        "id": "K4abiPDBRrtt",
        "colab": {
          "base_uri": "https://localhost:8080/",
          "height": 242
        },
        "outputId": "52b9b443-3e70-4467-ddb7-c6267f4060ba"
      },
      "source": [
        "df"
      ],
      "execution_count": 57,
      "outputs": [
        {
          "output_type": "execute_result",
          "data": {
            "text/html": [
              "<div>\n",
              "<style scoped>\n",
              "    .dataframe tbody tr th:only-of-type {\n",
              "        vertical-align: middle;\n",
              "    }\n",
              "\n",
              "    .dataframe tbody tr th {\n",
              "        vertical-align: top;\n",
              "    }\n",
              "\n",
              "    .dataframe thead th {\n",
              "        text-align: right;\n",
              "    }\n",
              "</style>\n",
              "<table border=\"1\" class=\"dataframe\">\n",
              "  <thead>\n",
              "    <tr style=\"text-align: right;\">\n",
              "      <th></th>\n",
              "      <th>분기</th>\n",
              "      <th>매출액</th>\n",
              "      <th>영업이익</th>\n",
              "      <th>영업이익(발표기준)</th>\n",
              "      <th>세전계속사업이익</th>\n",
              "      <th>당기순이익</th>\n",
              "      <th>당기순이익(지배)</th>\n",
              "      <th>당기순이익(비지배)</th>\n",
              "      <th>자산총계</th>\n",
              "      <th>부채총계</th>\n",
              "      <th>자본총계</th>\n",
              "      <th>자본총계(지배)</th>\n",
              "      <th>자본총계(비지배)</th>\n",
              "      <th>자본금</th>\n",
              "      <th>영업활동현금흐름</th>\n",
              "      <th>투자활동현금흐름</th>\n",
              "      <th>재무활동현금흐름</th>\n",
              "      <th>영업이익률</th>\n",
              "      <th>순이익률</th>\n",
              "      <th>ROE(%)</th>\n",
              "      <th>ROA(%)</th>\n",
              "      <th>부채비율</th>\n",
              "      <th>자본유보율</th>\n",
              "      <th>EPS(원)</th>\n",
              "      <th>PER(배)</th>\n",
              "      <th>영업이익률2</th>\n",
              "    </tr>\n",
              "  </thead>\n",
              "  <tbody>\n",
              "    <tr>\n",
              "      <th>0</th>\n",
              "      <td>19/6</td>\n",
              "      <td>12578</td>\n",
              "      <td>3991</td>\n",
              "      <td>3991</td>\n",
              "      <td>4452</td>\n",
              "      <td>3245</td>\n",
              "      <td>3228</td>\n",
              "      <td>17</td>\n",
              "      <td>108464</td>\n",
              "      <td>25940</td>\n",
              "      <td>82524</td>\n",
              "      <td>81965</td>\n",
              "      <td>0.0</td>\n",
              "      <td>9550</td>\n",
              "      <td>4641</td>\n",
              "      <td>-1878</td>\n",
              "      <td>-4919</td>\n",
              "      <td>31.73</td>\n",
              "      <td>25.80</td>\n",
              "      <td>12.35</td>\n",
              "      <td>9.37</td>\n",
              "      <td>31.43</td>\n",
              "      <td>803.22</td>\n",
              "      <td>2351</td>\n",
              "      <td>13.77</td>\n",
              "      <td>31.730005</td>\n",
              "    </tr>\n",
              "    <tr>\n",
              "      <th>1</th>\n",
              "      <td>19/9</td>\n",
              "      <td>13222</td>\n",
              "      <td>3825</td>\n",
              "      <td>3825</td>\n",
              "      <td>4503</td>\n",
              "      <td>3221</td>\n",
              "      <td>3208</td>\n",
              "      <td>13</td>\n",
              "      <td>106314</td>\n",
              "      <td>20691</td>\n",
              "      <td>85623</td>\n",
              "      <td>85049</td>\n",
              "      <td>0.0</td>\n",
              "      <td>9550</td>\n",
              "      <td>-2278</td>\n",
              "      <td>-83</td>\n",
              "      <td>-329</td>\n",
              "      <td>28.93</td>\n",
              "      <td>24.36</td>\n",
              "      <td>12.67</td>\n",
              "      <td>9.95</td>\n",
              "      <td>24.17</td>\n",
              "      <td>836.86</td>\n",
              "      <td>2337</td>\n",
              "      <td>13.87</td>\n",
              "      <td>28.929058</td>\n",
              "    </tr>\n",
              "    <tr>\n",
              "      <th>2</th>\n",
              "      <td>19/12</td>\n",
              "      <td>11982</td>\n",
              "      <td>2523</td>\n",
              "      <td>2523</td>\n",
              "      <td>1794</td>\n",
              "      <td>1183</td>\n",
              "      <td>1198</td>\n",
              "      <td>-15</td>\n",
              "      <td>107121</td>\n",
              "      <td>20062</td>\n",
              "      <td>87059</td>\n",
              "      <td>86506</td>\n",
              "      <td>0.0</td>\n",
              "      <td>9550</td>\n",
              "      <td>837</td>\n",
              "      <td>-501</td>\n",
              "      <td>-129</td>\n",
              "      <td>21.06</td>\n",
              "      <td>9.87</td>\n",
              "      <td>12.39</td>\n",
              "      <td>9.96</td>\n",
              "      <td>23.04</td>\n",
              "      <td>850.82</td>\n",
              "      <td>873</td>\n",
              "      <td>12.42</td>\n",
              "      <td>21.056585</td>\n",
              "    </tr>\n",
              "    <tr>\n",
              "      <th>3</th>\n",
              "      <td>20/3</td>\n",
              "      <td>11784</td>\n",
              "      <td>3150</td>\n",
              "      <td>3150</td>\n",
              "      <td>4156</td>\n",
              "      <td>2939</td>\n",
              "      <td>2930</td>\n",
              "      <td>9</td>\n",
              "      <td>108594</td>\n",
              "      <td>24862</td>\n",
              "      <td>83732</td>\n",
              "      <td>83170</td>\n",
              "      <td>562.0</td>\n",
              "      <td>9550</td>\n",
              "      <td>2336</td>\n",
              "      <td>-1392</td>\n",
              "      <td>-86</td>\n",
              "      <td>26.73</td>\n",
              "      <td>24.94</td>\n",
              "      <td>13.05</td>\n",
              "      <td>9.79</td>\n",
              "      <td>29.69</td>\n",
              "      <td>823.16</td>\n",
              "      <td>2134</td>\n",
              "      <td>9.71</td>\n",
              "      <td>26.731161</td>\n",
              "    </tr>\n",
              "    <tr>\n",
              "      <th>4</th>\n",
              "      <td>20/6</td>\n",
              "      <td>13188</td>\n",
              "      <td>3947</td>\n",
              "      <td>3947</td>\n",
              "      <td>4020</td>\n",
              "      <td>2935</td>\n",
              "      <td>2931</td>\n",
              "      <td>4</td>\n",
              "      <td>110282</td>\n",
              "      <td>23386</td>\n",
              "      <td>86896</td>\n",
              "      <td>86330</td>\n",
              "      <td>566.0</td>\n",
              "      <td>9550</td>\n",
              "      <td>7855</td>\n",
              "      <td>-214</td>\n",
              "      <td>-5501</td>\n",
              "      <td>29.93</td>\n",
              "      <td>22.25</td>\n",
              "      <td>12.20</td>\n",
              "      <td>9.40</td>\n",
              "      <td>26.91</td>\n",
              "      <td>837.40</td>\n",
              "      <td>2135</td>\n",
              "      <td>10.46</td>\n",
              "      <td>29.928723</td>\n",
              "    </tr>\n",
              "  </tbody>\n",
              "</table>\n",
              "</div>"
            ],
            "text/plain": [
              "      분기    매출액  영업이익  영업이익(발표기준)  ...   자본유보율  EPS(원)  PER(배)     영업이익률2\n",
              "0   19/6  12578  3991        3991  ...  803.22    2351   13.77  31.730005\n",
              "1   19/9  13222  3825        3825  ...  836.86    2337   13.87  28.929058\n",
              "2  19/12  11982  2523        2523  ...  850.82     873   12.42  21.056585\n",
              "3   20/3  11784  3150        3150  ...  823.16    2134    9.71  26.731161\n",
              "4   20/6  13188  3947        3947  ...  837.40    2135   10.46  29.928723\n",
              "\n",
              "[5 rows x 26 columns]"
            ]
          },
          "metadata": {
            "tags": []
          },
          "execution_count": 57
        }
      ]
    },
    {
      "cell_type": "code",
      "metadata": {
        "id": "B2GsUS0HosSD"
      },
      "source": [
        "df.loc[2,'당기순이익(비지배)'] = np.nan # **널값 생성하는 방법 "
      ],
      "execution_count": 58,
      "outputs": []
    },
    {
      "cell_type": "code",
      "metadata": {
        "id": "v6BGb1tMTkie",
        "colab": {
          "base_uri": "https://localhost:8080/"
        },
        "outputId": "f70576a7-ec82-47ca-ece3-8023860c31d8"
      },
      "source": [
        "df['당기순이익(비지배)']"
      ],
      "execution_count": 59,
      "outputs": [
        {
          "output_type": "execute_result",
          "data": {
            "text/plain": [
              "0    17.0\n",
              "1    13.0\n",
              "2     NaN\n",
              "3     9.0\n",
              "4     4.0\n",
              "Name: 당기순이익(비지배), dtype: float64"
            ]
          },
          "metadata": {
            "tags": []
          },
          "execution_count": 59
        }
      ]
    },
    {
      "cell_type": "code",
      "metadata": {
        "id": "IhfFUjVWTkkv"
      },
      "source": [
        "df.loc[2,'당기순이익(비지배)'] = df['당기순이익(비지배)'].mean()"
      ],
      "execution_count": 60,
      "outputs": []
    },
    {
      "cell_type": "code",
      "metadata": {
        "id": "nxFm8dmGVGat",
        "colab": {
          "base_uri": "https://localhost:8080/"
        },
        "outputId": "763da6a2-a5b4-4af5-dd40-00aa21e1ba4c"
      },
      "source": [
        "df['당기순이익(비지배)']"
      ],
      "execution_count": 61,
      "outputs": [
        {
          "output_type": "execute_result",
          "data": {
            "text/plain": [
              "0    17.00\n",
              "1    13.00\n",
              "2    10.75\n",
              "3     9.00\n",
              "4     4.00\n",
              "Name: 당기순이익(비지배), dtype: float64"
            ]
          },
          "metadata": {
            "tags": []
          },
          "execution_count": 61
        }
      ]
    },
    {
      "cell_type": "markdown",
      "metadata": {
        "id": "x8gq5wkdotTj"
      },
      "source": [
        "### Feature Engineering\n",
        "\n",
        "Relative Perfomance 라는 새로운 feature를 계산하세요.\n",
        "\n",
        "이는 최근 1년치 매출액의 평균값을 기준으로 \n",
        "\n",
        "- 10% 이상 -> `S`\n",
        "- 5% 이상 -> `A`\n",
        "- -5 ~ 5% -> `B`\n",
        "- -5%이하 -> `C`\n",
        "- 10%이하 -> `D`\n",
        "\n",
        "라는 값을 갖는 feature입니다.\n",
        "\n",
        "20년도 2분기에 해당하는 결과값은 `A`가 나와야합니다.\n",
        "\n",
        "각각에 해당하는 등급이 나오기 위해서 필요한 매출액을 추가로 서술하세요."
      ]
    },
    {
      "cell_type": "code",
      "metadata": {
        "id": "JqoaRyQjpaRm",
        "colab": {
          "base_uri": "https://localhost:8080/",
          "height": 242
        },
        "outputId": "1b4e9a36-6abd-4231-e9ce-c13626c079e3"
      },
      "source": [
        "df"
      ],
      "execution_count": 62,
      "outputs": [
        {
          "output_type": "execute_result",
          "data": {
            "text/html": [
              "<div>\n",
              "<style scoped>\n",
              "    .dataframe tbody tr th:only-of-type {\n",
              "        vertical-align: middle;\n",
              "    }\n",
              "\n",
              "    .dataframe tbody tr th {\n",
              "        vertical-align: top;\n",
              "    }\n",
              "\n",
              "    .dataframe thead th {\n",
              "        text-align: right;\n",
              "    }\n",
              "</style>\n",
              "<table border=\"1\" class=\"dataframe\">\n",
              "  <thead>\n",
              "    <tr style=\"text-align: right;\">\n",
              "      <th></th>\n",
              "      <th>분기</th>\n",
              "      <th>매출액</th>\n",
              "      <th>영업이익</th>\n",
              "      <th>영업이익(발표기준)</th>\n",
              "      <th>세전계속사업이익</th>\n",
              "      <th>당기순이익</th>\n",
              "      <th>당기순이익(지배)</th>\n",
              "      <th>당기순이익(비지배)</th>\n",
              "      <th>자산총계</th>\n",
              "      <th>부채총계</th>\n",
              "      <th>자본총계</th>\n",
              "      <th>자본총계(지배)</th>\n",
              "      <th>자본총계(비지배)</th>\n",
              "      <th>자본금</th>\n",
              "      <th>영업활동현금흐름</th>\n",
              "      <th>투자활동현금흐름</th>\n",
              "      <th>재무활동현금흐름</th>\n",
              "      <th>영업이익률</th>\n",
              "      <th>순이익률</th>\n",
              "      <th>ROE(%)</th>\n",
              "      <th>ROA(%)</th>\n",
              "      <th>부채비율</th>\n",
              "      <th>자본유보율</th>\n",
              "      <th>EPS(원)</th>\n",
              "      <th>PER(배)</th>\n",
              "      <th>영업이익률2</th>\n",
              "    </tr>\n",
              "  </thead>\n",
              "  <tbody>\n",
              "    <tr>\n",
              "      <th>0</th>\n",
              "      <td>19/6</td>\n",
              "      <td>12578</td>\n",
              "      <td>3991</td>\n",
              "      <td>3991</td>\n",
              "      <td>4452</td>\n",
              "      <td>3245</td>\n",
              "      <td>3228</td>\n",
              "      <td>17.00</td>\n",
              "      <td>108464</td>\n",
              "      <td>25940</td>\n",
              "      <td>82524</td>\n",
              "      <td>81965</td>\n",
              "      <td>0.0</td>\n",
              "      <td>9550</td>\n",
              "      <td>4641</td>\n",
              "      <td>-1878</td>\n",
              "      <td>-4919</td>\n",
              "      <td>31.73</td>\n",
              "      <td>25.80</td>\n",
              "      <td>12.35</td>\n",
              "      <td>9.37</td>\n",
              "      <td>31.43</td>\n",
              "      <td>803.22</td>\n",
              "      <td>2351</td>\n",
              "      <td>13.77</td>\n",
              "      <td>31.730005</td>\n",
              "    </tr>\n",
              "    <tr>\n",
              "      <th>1</th>\n",
              "      <td>19/9</td>\n",
              "      <td>13222</td>\n",
              "      <td>3825</td>\n",
              "      <td>3825</td>\n",
              "      <td>4503</td>\n",
              "      <td>3221</td>\n",
              "      <td>3208</td>\n",
              "      <td>13.00</td>\n",
              "      <td>106314</td>\n",
              "      <td>20691</td>\n",
              "      <td>85623</td>\n",
              "      <td>85049</td>\n",
              "      <td>0.0</td>\n",
              "      <td>9550</td>\n",
              "      <td>-2278</td>\n",
              "      <td>-83</td>\n",
              "      <td>-329</td>\n",
              "      <td>28.93</td>\n",
              "      <td>24.36</td>\n",
              "      <td>12.67</td>\n",
              "      <td>9.95</td>\n",
              "      <td>24.17</td>\n",
              "      <td>836.86</td>\n",
              "      <td>2337</td>\n",
              "      <td>13.87</td>\n",
              "      <td>28.929058</td>\n",
              "    </tr>\n",
              "    <tr>\n",
              "      <th>2</th>\n",
              "      <td>19/12</td>\n",
              "      <td>11982</td>\n",
              "      <td>2523</td>\n",
              "      <td>2523</td>\n",
              "      <td>1794</td>\n",
              "      <td>1183</td>\n",
              "      <td>1198</td>\n",
              "      <td>10.75</td>\n",
              "      <td>107121</td>\n",
              "      <td>20062</td>\n",
              "      <td>87059</td>\n",
              "      <td>86506</td>\n",
              "      <td>0.0</td>\n",
              "      <td>9550</td>\n",
              "      <td>837</td>\n",
              "      <td>-501</td>\n",
              "      <td>-129</td>\n",
              "      <td>21.06</td>\n",
              "      <td>9.87</td>\n",
              "      <td>12.39</td>\n",
              "      <td>9.96</td>\n",
              "      <td>23.04</td>\n",
              "      <td>850.82</td>\n",
              "      <td>873</td>\n",
              "      <td>12.42</td>\n",
              "      <td>21.056585</td>\n",
              "    </tr>\n",
              "    <tr>\n",
              "      <th>3</th>\n",
              "      <td>20/3</td>\n",
              "      <td>11784</td>\n",
              "      <td>3150</td>\n",
              "      <td>3150</td>\n",
              "      <td>4156</td>\n",
              "      <td>2939</td>\n",
              "      <td>2930</td>\n",
              "      <td>9.00</td>\n",
              "      <td>108594</td>\n",
              "      <td>24862</td>\n",
              "      <td>83732</td>\n",
              "      <td>83170</td>\n",
              "      <td>562.0</td>\n",
              "      <td>9550</td>\n",
              "      <td>2336</td>\n",
              "      <td>-1392</td>\n",
              "      <td>-86</td>\n",
              "      <td>26.73</td>\n",
              "      <td>24.94</td>\n",
              "      <td>13.05</td>\n",
              "      <td>9.79</td>\n",
              "      <td>29.69</td>\n",
              "      <td>823.16</td>\n",
              "      <td>2134</td>\n",
              "      <td>9.71</td>\n",
              "      <td>26.731161</td>\n",
              "    </tr>\n",
              "    <tr>\n",
              "      <th>4</th>\n",
              "      <td>20/6</td>\n",
              "      <td>13188</td>\n",
              "      <td>3947</td>\n",
              "      <td>3947</td>\n",
              "      <td>4020</td>\n",
              "      <td>2935</td>\n",
              "      <td>2931</td>\n",
              "      <td>4.00</td>\n",
              "      <td>110282</td>\n",
              "      <td>23386</td>\n",
              "      <td>86896</td>\n",
              "      <td>86330</td>\n",
              "      <td>566.0</td>\n",
              "      <td>9550</td>\n",
              "      <td>7855</td>\n",
              "      <td>-214</td>\n",
              "      <td>-5501</td>\n",
              "      <td>29.93</td>\n",
              "      <td>22.25</td>\n",
              "      <td>12.20</td>\n",
              "      <td>9.40</td>\n",
              "      <td>26.91</td>\n",
              "      <td>837.40</td>\n",
              "      <td>2135</td>\n",
              "      <td>10.46</td>\n",
              "      <td>29.928723</td>\n",
              "    </tr>\n",
              "  </tbody>\n",
              "</table>\n",
              "</div>"
            ],
            "text/plain": [
              "      분기    매출액  영업이익  영업이익(발표기준)  ...   자본유보율  EPS(원)  PER(배)     영업이익률2\n",
              "0   19/6  12578  3991        3991  ...  803.22    2351   13.77  31.730005\n",
              "1   19/9  13222  3825        3825  ...  836.86    2337   13.87  28.929058\n",
              "2  19/12  11982  2523        2523  ...  850.82     873   12.42  21.056585\n",
              "3   20/3  11784  3150        3150  ...  823.16    2134    9.71  26.731161\n",
              "4   20/6  13188  3947        3947  ...  837.40    2135   10.46  29.928723\n",
              "\n",
              "[5 rows x 26 columns]"
            ]
          },
          "metadata": {
            "tags": []
          },
          "execution_count": 62
        }
      ]
    },
    {
      "cell_type": "code",
      "metadata": {
        "id": "n-9O2N_b-JPR",
        "outputId": "0f538e11-91a1-44a6-df6d-8fdeef8520d5",
        "colab": {
          "base_uri": "https://localhost:8080/"
        }
      },
      "source": [
        "df['매출액'].mean()"
      ],
      "execution_count": 72,
      "outputs": [
        {
          "output_type": "execute_result",
          "data": {
            "text/plain": [
              "12550.8"
            ]
          },
          "metadata": {
            "tags": []
          },
          "execution_count": 72
        }
      ]
    },
    {
      "cell_type": "code",
      "metadata": {
        "id": "hlslhr8n9zdP",
        "outputId": "4e5b1517-c085-482c-f2b4-9ad285601fc8",
        "colab": {
          "base_uri": "https://localhost:8080/"
        }
      },
      "source": [
        "11784 - df['매출액'].mean() "
      ],
      "execution_count": 74,
      "outputs": [
        {
          "output_type": "execute_result",
          "data": {
            "text/plain": [
              "11782.934928716904"
            ]
          },
          "metadata": {
            "tags": []
          },
          "execution_count": 74
        }
      ]
    },
    {
      "cell_type": "code",
      "metadata": {
        "id": "2EUbF6JHVOc-",
        "colab": {
          "base_uri": "https://localhost:8080/"
        },
        "outputId": "2738fec3-adf8-41fb-c913-3cb167460330"
      },
      "source": [
        "# m = df.loc[:3,'매출액'].mean()\n",
        "# m"
      ],
      "execution_count": 63,
      "outputs": [
        {
          "output_type": "execute_result",
          "data": {
            "text/plain": [
              "12391.5"
            ]
          },
          "metadata": {
            "tags": []
          },
          "execution_count": 63
        }
      ]
    },
    {
      "cell_type": "code",
      "metadata": {
        "id": "MmZ3wS4DVbGq",
        "colab": {
          "base_uri": "https://localhost:8080/"
        },
        "outputId": "92912de6-2f08-42e5-f4b3-1e167cecc97b"
      },
      "source": [
        "#  df['매출액'] / m"
      ],
      "execution_count": 64,
      "outputs": [
        {
          "output_type": "execute_result",
          "data": {
            "text/plain": [
              "0    1.015051\n",
              "1    1.067022\n",
              "2    0.966953\n",
              "3    0.950974\n",
              "4    1.064278\n",
              "Name: 매출액, dtype: float64"
            ]
          },
          "metadata": {
            "tags": []
          },
          "execution_count": 64
        }
      ]
    },
    {
      "cell_type": "markdown",
      "metadata": {
        "id": "HxirraVrWRBa"
      },
      "source": [
        "Relative Perfomance이 정확히 뭘 의미하는 거지?"
      ]
    }
  ]
}