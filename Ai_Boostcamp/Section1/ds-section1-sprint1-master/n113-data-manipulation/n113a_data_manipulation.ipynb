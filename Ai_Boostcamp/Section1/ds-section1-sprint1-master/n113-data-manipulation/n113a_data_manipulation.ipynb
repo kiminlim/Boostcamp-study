{
  "nbformat": 4,
  "nbformat_minor": 0,
  "metadata": {
    "colab": {
      "name": "n113a-data-manipulation.ipynb",
      "provenance": [],
      "collapsed_sections": [],
      "include_colab_link": true
    },
    "kernelspec": {
      "display_name": "Python 3",
      "language": "python",
      "name": "python3"
    },
    "language_info": {
      "codemirror_mode": {
        "name": "ipython",
        "version": 3
      },
      "file_extension": ".py",
      "mimetype": "text/x-python",
      "name": "python",
      "nbconvert_exporter": "python",
      "pygments_lexer": "ipython3",
      "version": "3.8.5"
    }
  },
  "cells": [
    {
      "cell_type": "markdown",
      "metadata": {
        "id": "view-in-github",
        "colab_type": "text"
      },
      "source": [
        "<a href=\"https://colab.research.google.com/github/kiminlim/ds-section1-sprint1/blob/master/n113-data-manipulation/n113a_data_manipulation_%EC%B5%9C%EC%A2%85.ipynb\" target=\"_parent\"><img src=\"https://colab.research.google.com/assets/colab-badge.svg\" alt=\"Open In Colab\"/></a>"
      ]
    },
    {
      "cell_type": "markdown",
      "metadata": {
        "id": "pmU5YUal1eTZ"
      },
      "source": [
        "<img src='https://user-images.githubusercontent.com/6457691/89746244-a6e2a200-daf3-11ea-9314-7863d544d73c.png' width = '200' align = 'right'>\n",
        "\n",
        "## *DATA SCIENCE / SECTION 1 / SPRINT 1 / NOTE 3*\n",
        "\n",
        "# 📝 Assignment\n",
        "\n",
        "---\n",
        "\n",
        "## 1. Concat \n",
        "\n",
        "세션시간에 다뤘던 6개의 데이터를 1개로 합치세요.\n",
        "\n",
        "데이터를 불러오기 위하여 아래의 코드를 참조하세요.\n",
        "\n",
        "합쳐진 데이터의 이름은 `df`입니다.\n",
        "\n",
        "```python\n",
        "import pandas as pd\n",
        "\n",
        "urlhead = 'https://ds-lecture-data.s3.ap-northeast-2.amazonaws.com/stocks/'\n",
        "df1 = pd.read_csv(urlhead + '000080.csv') \n",
        "# '000890.csv'\n",
        "# '005300.csv'\n",
        "# '027740.csv'\n",
        "# '035810.csv'\n",
        "# '136480.csv'\n",
        "```\n",
        "\n",
        "\n",
        "\n",
        "단, 모든 feature, 모든 데이터에 대해서가 아닌\n",
        "\n",
        "- 매출액\n",
        "- 자본총계\n",
        "- EPS\n",
        "\n",
        "- 제일 최근 분기의 데이터\n",
        "\n",
        "에 대해서만 하면 됩니다.\n",
        "\n",
        "||매출액|자본총계|EPS(원)|종목명|\n",
        "|:-:|:-:|:-:|:-:|:-:|\n",
        "|2020/09|6,243|10,897|453|하이트진로|\n",
        "|...|...|...|...|...|\n",
        "|2020/09|2,613|2,695|62|하림|\n",
        "\n",
        "(첫부분은 값이 달라도 되며, 결과 shape는 6,4입니다.)\n",
        "\n",
        "힌트 : \n",
        "- 데이터를 transpose\n",
        "- column의 이름을 변경 및 설정\n",
        "- 데이터의 일부 feature 선택\n",
        "- `종목명`이라는 feature 지정\n",
        "- 이후 `concat`으로 합치기\n",
        "- 합친 이후의 index를 종목명으로 설정 및 drop\n",
        "\n",
        "이라는 단계를 거치면 될겁니다."
      ]
    },
    {
      "cell_type": "code",
      "metadata": {
        "colab": {
          "base_uri": "https://localhost:8080/"
        },
        "id": "kqoOzMMf0Zet",
        "outputId": "24317e6d-86c5-4210-f0a5-37b82450918a"
      },
      "source": [
        "!sudo apt-get install -y fonts-nanum\n",
        "!sudo fc-cache -fv \n",
        "!rm ~/.cache/matplotlib -rf \n",
        "#  위에거 코드돌리고 런타임 재시작후 한버더 돌린다음 import matplotlib.pyplot as plt\n"
      ],
      "execution_count": 54,
      "outputs": [
        {
          "output_type": "stream",
          "text": [
            "Reading package lists... Done\n",
            "Building dependency tree       \n",
            "Reading state information... Done\n",
            "fonts-nanum is already the newest version (20170925-1).\n",
            "0 upgraded, 0 newly installed, 0 to remove and 39 not upgraded.\n",
            "/usr/share/fonts: caching, new cache contents: 0 fonts, 1 dirs\n",
            "/usr/share/fonts/truetype: caching, new cache contents: 0 fonts, 3 dirs\n",
            "/usr/share/fonts/truetype/humor-sans: caching, new cache contents: 1 fonts, 0 dirs\n",
            "/usr/share/fonts/truetype/liberation: caching, new cache contents: 16 fonts, 0 dirs\n",
            "/usr/share/fonts/truetype/nanum: caching, new cache contents: 10 fonts, 0 dirs\n",
            "/usr/local/share/fonts: caching, new cache contents: 0 fonts, 0 dirs\n",
            "/root/.local/share/fonts: skipping, no such directory\n",
            "/root/.fonts: skipping, no such directory\n",
            "/var/cache/fontconfig: cleaning cache directory\n",
            "/root/.cache/fontconfig: not cleaning non-existent cache directory\n",
            "/root/.fontconfig: not cleaning non-existent cache directory\n",
            "fc-cache: succeeded\n"
          ],
          "name": "stdout"
        }
      ]
    },
    {
      "cell_type": "code",
      "metadata": {
        "id": "aFHu6To-0cqJ"
      },
      "source": [
        "import matplotlib.pyplot as plt\n",
        "\n",
        "plt.rc('font', family='NanumBarunGothic')"
      ],
      "execution_count": 55,
      "outputs": []
    },
    {
      "cell_type": "code",
      "metadata": {
        "id": "hwBYT8GWxMXU"
      },
      "source": [
        "import pandas as pd\n",
        " \n",
        "urlhead = 'https://ds-lecture-data.s3.ap-northeast-2.amazonaws.com/stocks/'\n",
        "df1 = pd.read_csv(urlhead + '000080.csv') \n"
      ],
      "execution_count": 56,
      "outputs": []
    },
    {
      "cell_type": "code",
      "metadata": {
        "id": "3z4oj2KDPw63",
        "colab": {
          "base_uri": "https://localhost:8080/",
          "height": 1000
        },
        "outputId": "1564947c-9d30-4875-86d5-b4ac96b5e8f9"
      },
      "source": [
        "df1"
      ],
      "execution_count": 57,
      "outputs": [
        {
          "output_type": "execute_result",
          "data": {
            "text/html": [
              "<div>\n",
              "<style scoped>\n",
              "    .dataframe tbody tr th:only-of-type {\n",
              "        vertical-align: middle;\n",
              "    }\n",
              "\n",
              "    .dataframe tbody tr th {\n",
              "        vertical-align: top;\n",
              "    }\n",
              "\n",
              "    .dataframe thead th {\n",
              "        text-align: right;\n",
              "    }\n",
              "</style>\n",
              "<table border=\"1\" class=\"dataframe\">\n",
              "  <thead>\n",
              "    <tr style=\"text-align: right;\">\n",
              "      <th></th>\n",
              "      <th>Unnamed: 0</th>\n",
              "      <th>2019/09\\n(IFRS연결)</th>\n",
              "      <th>2019/12\\n(IFRS연결)</th>\n",
              "      <th>2020/03\\n(IFRS연결)</th>\n",
              "      <th>2020/06\\n(IFRS연결)</th>\n",
              "      <th>2020/09\\n(IFRS연결)</th>\n",
              "    </tr>\n",
              "  </thead>\n",
              "  <tbody>\n",
              "    <tr>\n",
              "      <th>0</th>\n",
              "      <td>매출액</td>\n",
              "      <td>5,291</td>\n",
              "      <td>5,586</td>\n",
              "      <td>5,339</td>\n",
              "      <td>5,816</td>\n",
              "      <td>6,243</td>\n",
              "    </tr>\n",
              "    <tr>\n",
              "      <th>1</th>\n",
              "      <td>영업이익</td>\n",
              "      <td>492</td>\n",
              "      <td>327</td>\n",
              "      <td>561</td>\n",
              "      <td>541</td>\n",
              "      <td>644</td>\n",
              "    </tr>\n",
              "    <tr>\n",
              "      <th>2</th>\n",
              "      <td>영업이익(발표기준)</td>\n",
              "      <td>492</td>\n",
              "      <td>327</td>\n",
              "      <td>561</td>\n",
              "      <td>541</td>\n",
              "      <td>644</td>\n",
              "    </tr>\n",
              "    <tr>\n",
              "      <th>3</th>\n",
              "      <td>세전계속사업이익</td>\n",
              "      <td>348</td>\n",
              "      <td>39</td>\n",
              "      <td>450</td>\n",
              "      <td>487</td>\n",
              "      <td>465</td>\n",
              "    </tr>\n",
              "    <tr>\n",
              "      <th>4</th>\n",
              "      <td>당기순이익</td>\n",
              "      <td>258</td>\n",
              "      <td>-252</td>\n",
              "      <td>334</td>\n",
              "      <td>349</td>\n",
              "      <td>322</td>\n",
              "    </tr>\n",
              "    <tr>\n",
              "      <th>5</th>\n",
              "      <td>당기순이익(지배)</td>\n",
              "      <td>259</td>\n",
              "      <td>-251</td>\n",
              "      <td>334</td>\n",
              "      <td>349</td>\n",
              "      <td>323</td>\n",
              "    </tr>\n",
              "    <tr>\n",
              "      <th>6</th>\n",
              "      <td>당기순이익(비지배)</td>\n",
              "      <td>0</td>\n",
              "      <td>0</td>\n",
              "      <td>0</td>\n",
              "      <td>0</td>\n",
              "      <td>0</td>\n",
              "    </tr>\n",
              "    <tr>\n",
              "      <th>7</th>\n",
              "      <td>자산총계</td>\n",
              "      <td>34,061</td>\n",
              "      <td>32,709</td>\n",
              "      <td>36,368</td>\n",
              "      <td>43,007</td>\n",
              "      <td>39,617</td>\n",
              "    </tr>\n",
              "    <tr>\n",
              "      <th>8</th>\n",
              "      <td>부채총계</td>\n",
              "      <td>23,056</td>\n",
              "      <td>22,377</td>\n",
              "      <td>26,164</td>\n",
              "      <td>32,393</td>\n",
              "      <td>28,720</td>\n",
              "    </tr>\n",
              "    <tr>\n",
              "      <th>9</th>\n",
              "      <td>자본총계</td>\n",
              "      <td>11,005</td>\n",
              "      <td>10,332</td>\n",
              "      <td>10,204</td>\n",
              "      <td>10,613</td>\n",
              "      <td>10,897</td>\n",
              "    </tr>\n",
              "    <tr>\n",
              "      <th>10</th>\n",
              "      <td>자본총계(지배)</td>\n",
              "      <td>10,998</td>\n",
              "      <td>10,325</td>\n",
              "      <td>10,198</td>\n",
              "      <td>10,608</td>\n",
              "      <td>10,893</td>\n",
              "    </tr>\n",
              "    <tr>\n",
              "      <th>11</th>\n",
              "      <td>자본총계(비지배)</td>\n",
              "      <td>NaN</td>\n",
              "      <td>NaN</td>\n",
              "      <td>5</td>\n",
              "      <td>6</td>\n",
              "      <td>5</td>\n",
              "    </tr>\n",
              "    <tr>\n",
              "      <th>12</th>\n",
              "      <td>자본금</td>\n",
              "      <td>3,688</td>\n",
              "      <td>3,688</td>\n",
              "      <td>3,688</td>\n",
              "      <td>3,688</td>\n",
              "      <td>3,688</td>\n",
              "    </tr>\n",
              "    <tr>\n",
              "      <th>13</th>\n",
              "      <td>영업활동현금흐름</td>\n",
              "      <td>2,079</td>\n",
              "      <td>601</td>\n",
              "      <td>1,230</td>\n",
              "      <td>5,437</td>\n",
              "      <td>-3,009</td>\n",
              "    </tr>\n",
              "    <tr>\n",
              "      <th>14</th>\n",
              "      <td>투자활동현금흐름</td>\n",
              "      <td>-347</td>\n",
              "      <td>-475</td>\n",
              "      <td>-416</td>\n",
              "      <td>-494</td>\n",
              "      <td>-410</td>\n",
              "    </tr>\n",
              "    <tr>\n",
              "      <th>15</th>\n",
              "      <td>재무활동현금흐름</td>\n",
              "      <td>-395</td>\n",
              "      <td>-910</td>\n",
              "      <td>2,713</td>\n",
              "      <td>1,617</td>\n",
              "      <td>-594</td>\n",
              "    </tr>\n",
              "    <tr>\n",
              "      <th>16</th>\n",
              "      <td>CAPEX</td>\n",
              "      <td>483</td>\n",
              "      <td>462</td>\n",
              "      <td>430</td>\n",
              "      <td>362</td>\n",
              "      <td>382</td>\n",
              "    </tr>\n",
              "    <tr>\n",
              "      <th>17</th>\n",
              "      <td>FCF</td>\n",
              "      <td>1,597</td>\n",
              "      <td>139</td>\n",
              "      <td>800</td>\n",
              "      <td>5,075</td>\n",
              "      <td>-3,391</td>\n",
              "    </tr>\n",
              "    <tr>\n",
              "      <th>18</th>\n",
              "      <td>이자발생부채</td>\n",
              "      <td>12,615</td>\n",
              "      <td>11,715</td>\n",
              "      <td>14,452</td>\n",
              "      <td>16,576</td>\n",
              "      <td>15,995</td>\n",
              "    </tr>\n",
              "    <tr>\n",
              "      <th>19</th>\n",
              "      <td>영업이익률</td>\n",
              "      <td>9.29</td>\n",
              "      <td>5.85</td>\n",
              "      <td>10.51</td>\n",
              "      <td>9.30</td>\n",
              "      <td>10.31</td>\n",
              "    </tr>\n",
              "    <tr>\n",
              "      <th>20</th>\n",
              "      <td>순이익률</td>\n",
              "      <td>4.88</td>\n",
              "      <td>-4.50</td>\n",
              "      <td>6.25</td>\n",
              "      <td>5.99</td>\n",
              "      <td>5.17</td>\n",
              "    </tr>\n",
              "    <tr>\n",
              "      <th>21</th>\n",
              "      <td>ROE(%)</td>\n",
              "      <td>-1.46</td>\n",
              "      <td>-3.86</td>\n",
              "      <td>0.46</td>\n",
              "      <td>6.48</td>\n",
              "      <td>6.89</td>\n",
              "    </tr>\n",
              "    <tr>\n",
              "      <th>22</th>\n",
              "      <td>ROA(%)</td>\n",
              "      <td>-0.50</td>\n",
              "      <td>-1.27</td>\n",
              "      <td>0.14</td>\n",
              "      <td>1.79</td>\n",
              "      <td>2.04</td>\n",
              "    </tr>\n",
              "    <tr>\n",
              "      <th>23</th>\n",
              "      <td>부채비율</td>\n",
              "      <td>209.50</td>\n",
              "      <td>216.58</td>\n",
              "      <td>256.41</td>\n",
              "      <td>305.21</td>\n",
              "      <td>263.55</td>\n",
              "    </tr>\n",
              "    <tr>\n",
              "      <th>24</th>\n",
              "      <td>자본유보율</td>\n",
              "      <td>220.33</td>\n",
              "      <td>202.85</td>\n",
              "      <td>198.70</td>\n",
              "      <td>208.16</td>\n",
              "      <td>216.77</td>\n",
              "    </tr>\n",
              "    <tr>\n",
              "      <th>25</th>\n",
              "      <td>EPS(원)</td>\n",
              "      <td>363</td>\n",
              "      <td>-353</td>\n",
              "      <td>469</td>\n",
              "      <td>489</td>\n",
              "      <td>453</td>\n",
              "    </tr>\n",
              "    <tr>\n",
              "      <th>26</th>\n",
              "      <td>PER(배)</td>\n",
              "      <td>NaN</td>\n",
              "      <td>NaN</td>\n",
              "      <td>390.26</td>\n",
              "      <td>45.23</td>\n",
              "      <td>34.26</td>\n",
              "    </tr>\n",
              "    <tr>\n",
              "      <th>27</th>\n",
              "      <td>BPS(원)</td>\n",
              "      <td>15,761</td>\n",
              "      <td>14,796</td>\n",
              "      <td>14,614</td>\n",
              "      <td>15,201</td>\n",
              "      <td>15,609</td>\n",
              "    </tr>\n",
              "    <tr>\n",
              "      <th>28</th>\n",
              "      <td>PBR(배)</td>\n",
              "      <td>1.73</td>\n",
              "      <td>1.96</td>\n",
              "      <td>1.84</td>\n",
              "      <td>2.88</td>\n",
              "      <td>2.32</td>\n",
              "    </tr>\n",
              "    <tr>\n",
              "      <th>29</th>\n",
              "      <td>현금DPS(원)</td>\n",
              "      <td>0</td>\n",
              "      <td>700</td>\n",
              "      <td>NaN</td>\n",
              "      <td>NaN</td>\n",
              "      <td>NaN</td>\n",
              "    </tr>\n",
              "    <tr>\n",
              "      <th>30</th>\n",
              "      <td>현금배당수익률</td>\n",
              "      <td>NaN</td>\n",
              "      <td>NaN</td>\n",
              "      <td>NaN</td>\n",
              "      <td>NaN</td>\n",
              "      <td>NaN</td>\n",
              "    </tr>\n",
              "    <tr>\n",
              "      <th>31</th>\n",
              "      <td>현금배당성향(%)</td>\n",
              "      <td>0.00</td>\n",
              "      <td>-194.53</td>\n",
              "      <td>0.00</td>\n",
              "      <td>0.00</td>\n",
              "      <td>NaN</td>\n",
              "    </tr>\n",
              "    <tr>\n",
              "      <th>32</th>\n",
              "      <td>발행주식수(보통주)</td>\n",
              "      <td>70,133,611</td>\n",
              "      <td>70,133,611</td>\n",
              "      <td>70,133,611</td>\n",
              "      <td>70,133,611</td>\n",
              "      <td>70,133,611</td>\n",
              "    </tr>\n",
              "  </tbody>\n",
              "</table>\n",
              "</div>"
            ],
            "text/plain": [
              "    Unnamed: 0 2019/09\\n(IFRS연결)  ... 2020/06\\n(IFRS연결) 2020/09\\n(IFRS연결)\n",
              "0          매출액             5,291  ...             5,816             6,243\n",
              "1         영업이익               492  ...               541               644\n",
              "2   영업이익(발표기준)               492  ...               541               644\n",
              "3     세전계속사업이익               348  ...               487               465\n",
              "4        당기순이익               258  ...               349               322\n",
              "5    당기순이익(지배)               259  ...               349               323\n",
              "6   당기순이익(비지배)                 0  ...                 0                 0\n",
              "7         자산총계            34,061  ...            43,007            39,617\n",
              "8         부채총계            23,056  ...            32,393            28,720\n",
              "9         자본총계            11,005  ...            10,613            10,897\n",
              "10    자본총계(지배)            10,998  ...            10,608            10,893\n",
              "11   자본총계(비지배)               NaN  ...                 6                 5\n",
              "12         자본금             3,688  ...             3,688             3,688\n",
              "13    영업활동현금흐름             2,079  ...             5,437            -3,009\n",
              "14    투자활동현금흐름              -347  ...              -494              -410\n",
              "15    재무활동현금흐름              -395  ...             1,617              -594\n",
              "16       CAPEX               483  ...               362               382\n",
              "17         FCF             1,597  ...             5,075            -3,391\n",
              "18      이자발생부채            12,615  ...            16,576            15,995\n",
              "19       영업이익률              9.29  ...              9.30             10.31\n",
              "20        순이익률              4.88  ...              5.99              5.17\n",
              "21      ROE(%)             -1.46  ...              6.48              6.89\n",
              "22      ROA(%)             -0.50  ...              1.79              2.04\n",
              "23        부채비율            209.50  ...            305.21            263.55\n",
              "24       자본유보율            220.33  ...            208.16            216.77\n",
              "25      EPS(원)               363  ...               489               453\n",
              "26      PER(배)               NaN  ...             45.23             34.26\n",
              "27      BPS(원)            15,761  ...            15,201            15,609\n",
              "28      PBR(배)              1.73  ...              2.88              2.32\n",
              "29    현금DPS(원)                 0  ...               NaN               NaN\n",
              "30     현금배당수익률               NaN  ...               NaN               NaN\n",
              "31   현금배당성향(%)              0.00  ...              0.00               NaN\n",
              "32  발행주식수(보통주)        70,133,611  ...        70,133,611        70,133,611\n",
              "\n",
              "[33 rows x 6 columns]"
            ]
          },
          "metadata": {
            "tags": []
          },
          "execution_count": 57
        }
      ]
    },
    {
      "cell_type": "code",
      "metadata": {
        "id": "PgK4QSq8OOQJ"
      },
      "source": [
        "def mydf(myurl):\n",
        "    df = pd.read_csv(urlhead + myurl).transpose()\n",
        "    new_header = df.iloc[0] \n",
        "    df = df[1:] \n",
        "    df.columns = new_header \n",
        "\n",
        "    # 조건\n",
        "    # df = df.loc[5, ['매출액','자본총계','EPS(원)']]\n",
        "    return df"
      ],
      "execution_count": 58,
      "outputs": []
    },
    {
      "cell_type": "code",
      "metadata": {
        "colab": {
          "base_uri": "https://localhost:8080/",
          "height": 449
        },
        "id": "3x0YG9a6OOS1",
        "outputId": "7bf6a1c4-122c-4db8-bbb7-c346c375870e"
      },
      "source": [
        "df1 = mydf('000080.csv')\n",
        "df1"
      ],
      "execution_count": 59,
      "outputs": [
        {
          "output_type": "execute_result",
          "data": {
            "text/html": [
              "<div>\n",
              "<style scoped>\n",
              "    .dataframe tbody tr th:only-of-type {\n",
              "        vertical-align: middle;\n",
              "    }\n",
              "\n",
              "    .dataframe tbody tr th {\n",
              "        vertical-align: top;\n",
              "    }\n",
              "\n",
              "    .dataframe thead th {\n",
              "        text-align: right;\n",
              "    }\n",
              "</style>\n",
              "<table border=\"1\" class=\"dataframe\">\n",
              "  <thead>\n",
              "    <tr style=\"text-align: right;\">\n",
              "      <th>Unnamed: 0</th>\n",
              "      <th>매출액</th>\n",
              "      <th>영업이익</th>\n",
              "      <th>영업이익(발표기준)</th>\n",
              "      <th>세전계속사업이익</th>\n",
              "      <th>당기순이익</th>\n",
              "      <th>당기순이익(지배)</th>\n",
              "      <th>당기순이익(비지배)</th>\n",
              "      <th>자산총계</th>\n",
              "      <th>부채총계</th>\n",
              "      <th>자본총계</th>\n",
              "      <th>자본총계(지배)</th>\n",
              "      <th>자본총계(비지배)</th>\n",
              "      <th>자본금</th>\n",
              "      <th>영업활동현금흐름</th>\n",
              "      <th>투자활동현금흐름</th>\n",
              "      <th>재무활동현금흐름</th>\n",
              "      <th>CAPEX</th>\n",
              "      <th>FCF</th>\n",
              "      <th>이자발생부채</th>\n",
              "      <th>영업이익률</th>\n",
              "      <th>순이익률</th>\n",
              "      <th>ROE(%)</th>\n",
              "      <th>ROA(%)</th>\n",
              "      <th>부채비율</th>\n",
              "      <th>자본유보율</th>\n",
              "      <th>EPS(원)</th>\n",
              "      <th>PER(배)</th>\n",
              "      <th>BPS(원)</th>\n",
              "      <th>PBR(배)</th>\n",
              "      <th>현금DPS(원)</th>\n",
              "      <th>현금배당수익률</th>\n",
              "      <th>현금배당성향(%)</th>\n",
              "      <th>발행주식수(보통주)</th>\n",
              "    </tr>\n",
              "  </thead>\n",
              "  <tbody>\n",
              "    <tr>\n",
              "      <th>2019/09\\n(IFRS연결)</th>\n",
              "      <td>5,291</td>\n",
              "      <td>492</td>\n",
              "      <td>492</td>\n",
              "      <td>348</td>\n",
              "      <td>258</td>\n",
              "      <td>259</td>\n",
              "      <td>0</td>\n",
              "      <td>34,061</td>\n",
              "      <td>23,056</td>\n",
              "      <td>11,005</td>\n",
              "      <td>10,998</td>\n",
              "      <td>NaN</td>\n",
              "      <td>3,688</td>\n",
              "      <td>2,079</td>\n",
              "      <td>-347</td>\n",
              "      <td>-395</td>\n",
              "      <td>483</td>\n",
              "      <td>1,597</td>\n",
              "      <td>12,615</td>\n",
              "      <td>9.29</td>\n",
              "      <td>4.88</td>\n",
              "      <td>-1.46</td>\n",
              "      <td>-0.50</td>\n",
              "      <td>209.50</td>\n",
              "      <td>220.33</td>\n",
              "      <td>363</td>\n",
              "      <td>NaN</td>\n",
              "      <td>15,761</td>\n",
              "      <td>1.73</td>\n",
              "      <td>0</td>\n",
              "      <td>NaN</td>\n",
              "      <td>0.00</td>\n",
              "      <td>70,133,611</td>\n",
              "    </tr>\n",
              "    <tr>\n",
              "      <th>2019/12\\n(IFRS연결)</th>\n",
              "      <td>5,586</td>\n",
              "      <td>327</td>\n",
              "      <td>327</td>\n",
              "      <td>39</td>\n",
              "      <td>-252</td>\n",
              "      <td>-251</td>\n",
              "      <td>0</td>\n",
              "      <td>32,709</td>\n",
              "      <td>22,377</td>\n",
              "      <td>10,332</td>\n",
              "      <td>10,325</td>\n",
              "      <td>NaN</td>\n",
              "      <td>3,688</td>\n",
              "      <td>601</td>\n",
              "      <td>-475</td>\n",
              "      <td>-910</td>\n",
              "      <td>462</td>\n",
              "      <td>139</td>\n",
              "      <td>11,715</td>\n",
              "      <td>5.85</td>\n",
              "      <td>-4.50</td>\n",
              "      <td>-3.86</td>\n",
              "      <td>-1.27</td>\n",
              "      <td>216.58</td>\n",
              "      <td>202.85</td>\n",
              "      <td>-353</td>\n",
              "      <td>NaN</td>\n",
              "      <td>14,796</td>\n",
              "      <td>1.96</td>\n",
              "      <td>700</td>\n",
              "      <td>NaN</td>\n",
              "      <td>-194.53</td>\n",
              "      <td>70,133,611</td>\n",
              "    </tr>\n",
              "    <tr>\n",
              "      <th>2020/03\\n(IFRS연결)</th>\n",
              "      <td>5,339</td>\n",
              "      <td>561</td>\n",
              "      <td>561</td>\n",
              "      <td>450</td>\n",
              "      <td>334</td>\n",
              "      <td>334</td>\n",
              "      <td>0</td>\n",
              "      <td>36,368</td>\n",
              "      <td>26,164</td>\n",
              "      <td>10,204</td>\n",
              "      <td>10,198</td>\n",
              "      <td>5</td>\n",
              "      <td>3,688</td>\n",
              "      <td>1,230</td>\n",
              "      <td>-416</td>\n",
              "      <td>2,713</td>\n",
              "      <td>430</td>\n",
              "      <td>800</td>\n",
              "      <td>14,452</td>\n",
              "      <td>10.51</td>\n",
              "      <td>6.25</td>\n",
              "      <td>0.46</td>\n",
              "      <td>0.14</td>\n",
              "      <td>256.41</td>\n",
              "      <td>198.70</td>\n",
              "      <td>469</td>\n",
              "      <td>390.26</td>\n",
              "      <td>14,614</td>\n",
              "      <td>1.84</td>\n",
              "      <td>NaN</td>\n",
              "      <td>NaN</td>\n",
              "      <td>0.00</td>\n",
              "      <td>70,133,611</td>\n",
              "    </tr>\n",
              "    <tr>\n",
              "      <th>2020/06\\n(IFRS연결)</th>\n",
              "      <td>5,816</td>\n",
              "      <td>541</td>\n",
              "      <td>541</td>\n",
              "      <td>487</td>\n",
              "      <td>349</td>\n",
              "      <td>349</td>\n",
              "      <td>0</td>\n",
              "      <td>43,007</td>\n",
              "      <td>32,393</td>\n",
              "      <td>10,613</td>\n",
              "      <td>10,608</td>\n",
              "      <td>6</td>\n",
              "      <td>3,688</td>\n",
              "      <td>5,437</td>\n",
              "      <td>-494</td>\n",
              "      <td>1,617</td>\n",
              "      <td>362</td>\n",
              "      <td>5,075</td>\n",
              "      <td>16,576</td>\n",
              "      <td>9.30</td>\n",
              "      <td>5.99</td>\n",
              "      <td>6.48</td>\n",
              "      <td>1.79</td>\n",
              "      <td>305.21</td>\n",
              "      <td>208.16</td>\n",
              "      <td>489</td>\n",
              "      <td>45.23</td>\n",
              "      <td>15,201</td>\n",
              "      <td>2.88</td>\n",
              "      <td>NaN</td>\n",
              "      <td>NaN</td>\n",
              "      <td>0.00</td>\n",
              "      <td>70,133,611</td>\n",
              "    </tr>\n",
              "    <tr>\n",
              "      <th>2020/09\\n(IFRS연결)</th>\n",
              "      <td>6,243</td>\n",
              "      <td>644</td>\n",
              "      <td>644</td>\n",
              "      <td>465</td>\n",
              "      <td>322</td>\n",
              "      <td>323</td>\n",
              "      <td>0</td>\n",
              "      <td>39,617</td>\n",
              "      <td>28,720</td>\n",
              "      <td>10,897</td>\n",
              "      <td>10,893</td>\n",
              "      <td>5</td>\n",
              "      <td>3,688</td>\n",
              "      <td>-3,009</td>\n",
              "      <td>-410</td>\n",
              "      <td>-594</td>\n",
              "      <td>382</td>\n",
              "      <td>-3,391</td>\n",
              "      <td>15,995</td>\n",
              "      <td>10.31</td>\n",
              "      <td>5.17</td>\n",
              "      <td>6.89</td>\n",
              "      <td>2.04</td>\n",
              "      <td>263.55</td>\n",
              "      <td>216.77</td>\n",
              "      <td>453</td>\n",
              "      <td>34.26</td>\n",
              "      <td>15,609</td>\n",
              "      <td>2.32</td>\n",
              "      <td>NaN</td>\n",
              "      <td>NaN</td>\n",
              "      <td>NaN</td>\n",
              "      <td>70,133,611</td>\n",
              "    </tr>\n",
              "  </tbody>\n",
              "</table>\n",
              "</div>"
            ],
            "text/plain": [
              "Unnamed: 0           매출액 영업이익 영업이익(발표기준)  ... 현금배당수익률 현금배당성향(%)  발행주식수(보통주)\n",
              "2019/09\\n(IFRS연결)  5,291  492        492  ...     NaN      0.00  70,133,611\n",
              "2019/12\\n(IFRS연결)  5,586  327        327  ...     NaN   -194.53  70,133,611\n",
              "2020/03\\n(IFRS연결)  5,339  561        561  ...     NaN      0.00  70,133,611\n",
              "2020/06\\n(IFRS연결)  5,816  541        541  ...     NaN      0.00  70,133,611\n",
              "2020/09\\n(IFRS연결)  6,243  644        644  ...     NaN       NaN  70,133,611\n",
              "\n",
              "[5 rows x 33 columns]"
            ]
          },
          "metadata": {
            "tags": []
          },
          "execution_count": 59
        }
      ]
    },
    {
      "cell_type": "code",
      "metadata": {
        "id": "EkJkKWQBOOVv"
      },
      "source": [
        "df2 = mydf('000890.csv')\n",
        "df3 = mydf('005300.csv')\n",
        "df4 = mydf('027740.csv')\n",
        "df5 = mydf('035810.csv')\n",
        "df6 = mydf('136480.csv')"
      ],
      "execution_count": 60,
      "outputs": []
    },
    {
      "cell_type": "code",
      "metadata": {
        "colab": {
          "base_uri": "https://localhost:8080/"
        },
        "id": "o8frP4FJOOot",
        "outputId": "39a8eeba-f751-4965-a0d5-f3e8a6abdbc6"
      },
      "source": [
        "df1 = df1.loc['2020/09\\n(IFRS연결)', ['매출액', '자산총계','EPS(원)']]\n",
        "df1"
      ],
      "execution_count": 61,
      "outputs": [
        {
          "output_type": "execute_result",
          "data": {
            "text/plain": [
              "Unnamed: 0\n",
              "매출액        6,243\n",
              "자산총계      39,617\n",
              "EPS(원)       453\n",
              "Name: 2020/09\\n(IFRS연결), dtype: object"
            ]
          },
          "metadata": {
            "tags": []
          },
          "execution_count": 61
        }
      ]
    },
    {
      "cell_type": "code",
      "metadata": {
        "id": "T5QbAuOuVGRj"
      },
      "source": [
        "df2 = df2.loc['2020/09\\n(IFRS연결)', ['매출액', '자산총계','EPS(원)']]\n",
        "df3 = df3.loc['2020/09\\n(IFRS연결)', ['매출액', '자산총계','EPS(원)']]\n",
        "df4 = df4.loc['2020/09\\n(IFRS연결)', ['매출액', '자산총계','EPS(원)']]\n",
        "df5 = df5.loc['2020/06\\n(IFRS연결)', ['매출액', '자산총계','EPS(원)']]\n",
        "df6 = df6.loc['2020/09\\n(IFRS연결)', ['매출액', '자산총계','EPS(원)']]"
      ],
      "execution_count": 62,
      "outputs": []
    },
    {
      "cell_type": "code",
      "metadata": {
        "colab": {
          "base_uri": "https://localhost:8080/"
        },
        "id": "BcQr3I8kcGYQ",
        "outputId": "98e41ee2-a554-4c32-9260-ecb093b22ebf"
      },
      "source": [
        "df1"
      ],
      "execution_count": 63,
      "outputs": [
        {
          "output_type": "execute_result",
          "data": {
            "text/plain": [
              "Unnamed: 0\n",
              "매출액        6,243\n",
              "자산총계      39,617\n",
              "EPS(원)       453\n",
              "Name: 2020/09\\n(IFRS연결), dtype: object"
            ]
          },
          "metadata": {
            "tags": []
          },
          "execution_count": 63
        }
      ]
    },
    {
      "cell_type": "code",
      "metadata": {
        "id": "FIP7K-GuVGV2"
      },
      "source": [
        "df = pd.concat([df1, df2, df3, df4, df5, df6], axis = 1)\n",
        "# df.shape"
      ],
      "execution_count": 64,
      "outputs": []
    },
    {
      "cell_type": "code",
      "metadata": {
        "colab": {
          "base_uri": "https://localhost:8080/",
          "height": 237
        },
        "id": "mCX421U7VGfe",
        "outputId": "8936f465-8072-4aa4-e44c-790d2949430f"
      },
      "source": [
        "df = df.transpose()\n",
        "df"
      ],
      "execution_count": 65,
      "outputs": [
        {
          "output_type": "execute_result",
          "data": {
            "text/html": [
              "<div>\n",
              "<style scoped>\n",
              "    .dataframe tbody tr th:only-of-type {\n",
              "        vertical-align: middle;\n",
              "    }\n",
              "\n",
              "    .dataframe tbody tr th {\n",
              "        vertical-align: top;\n",
              "    }\n",
              "\n",
              "    .dataframe thead th {\n",
              "        text-align: right;\n",
              "    }\n",
              "</style>\n",
              "<table border=\"1\" class=\"dataframe\">\n",
              "  <thead>\n",
              "    <tr style=\"text-align: right;\">\n",
              "      <th>Unnamed: 0</th>\n",
              "      <th>매출액</th>\n",
              "      <th>자산총계</th>\n",
              "      <th>EPS(원)</th>\n",
              "    </tr>\n",
              "  </thead>\n",
              "  <tbody>\n",
              "    <tr>\n",
              "      <th>2020/09\\n(IFRS연결)</th>\n",
              "      <td>6,243</td>\n",
              "      <td>39,617</td>\n",
              "      <td>453</td>\n",
              "    </tr>\n",
              "    <tr>\n",
              "      <th>2020/09\\n(IFRS연결)</th>\n",
              "      <td>205</td>\n",
              "      <td>1,555</td>\n",
              "      <td>3</td>\n",
              "    </tr>\n",
              "    <tr>\n",
              "      <th>2020/09\\n(IFRS연결)</th>\n",
              "      <td>5,980</td>\n",
              "      <td>34,066</td>\n",
              "      <td>1,682</td>\n",
              "    </tr>\n",
              "    <tr>\n",
              "      <th>2020/09\\n(IFRS연결)</th>\n",
              "      <td>521</td>\n",
              "      <td>1,897</td>\n",
              "      <td>-61</td>\n",
              "    </tr>\n",
              "    <tr>\n",
              "      <th>2020/06\\n(IFRS연결)</th>\n",
              "      <td>4,108</td>\n",
              "      <td>18,966</td>\n",
              "      <td>1,168</td>\n",
              "    </tr>\n",
              "    <tr>\n",
              "      <th>2020/09\\n(IFRS연결)</th>\n",
              "      <td>2,613</td>\n",
              "      <td>8,550</td>\n",
              "      <td>62</td>\n",
              "    </tr>\n",
              "  </tbody>\n",
              "</table>\n",
              "</div>"
            ],
            "text/plain": [
              "Unnamed: 0           매출액    자산총계 EPS(원)\n",
              "2020/09\\n(IFRS연결)  6,243  39,617    453\n",
              "2020/09\\n(IFRS연결)    205   1,555      3\n",
              "2020/09\\n(IFRS연결)  5,980  34,066  1,682\n",
              "2020/09\\n(IFRS연결)    521   1,897    -61\n",
              "2020/06\\n(IFRS연결)  4,108  18,966  1,168\n",
              "2020/09\\n(IFRS연결)  2,613   8,550     62"
            ]
          },
          "metadata": {
            "tags": []
          },
          "execution_count": 65
        }
      ]
    },
    {
      "cell_type": "code",
      "metadata": {
        "colab": {
          "base_uri": "https://localhost:8080/",
          "height": 237
        },
        "id": "hmxeRkhob6Fp",
        "outputId": "39c8599e-3d9f-44c9-e162-7f51968ecf3b"
      },
      "source": [
        "df['종목명'] =  ['하이트진로', '보해양조', '롯데칠성', '마니커', '이지홀딩스', '하림']\n",
        "df"
      ],
      "execution_count": 66,
      "outputs": [
        {
          "output_type": "execute_result",
          "data": {
            "text/html": [
              "<div>\n",
              "<style scoped>\n",
              "    .dataframe tbody tr th:only-of-type {\n",
              "        vertical-align: middle;\n",
              "    }\n",
              "\n",
              "    .dataframe tbody tr th {\n",
              "        vertical-align: top;\n",
              "    }\n",
              "\n",
              "    .dataframe thead th {\n",
              "        text-align: right;\n",
              "    }\n",
              "</style>\n",
              "<table border=\"1\" class=\"dataframe\">\n",
              "  <thead>\n",
              "    <tr style=\"text-align: right;\">\n",
              "      <th>Unnamed: 0</th>\n",
              "      <th>매출액</th>\n",
              "      <th>자산총계</th>\n",
              "      <th>EPS(원)</th>\n",
              "      <th>종목명</th>\n",
              "    </tr>\n",
              "  </thead>\n",
              "  <tbody>\n",
              "    <tr>\n",
              "      <th>2020/09\\n(IFRS연결)</th>\n",
              "      <td>6,243</td>\n",
              "      <td>39,617</td>\n",
              "      <td>453</td>\n",
              "      <td>하이트진로</td>\n",
              "    </tr>\n",
              "    <tr>\n",
              "      <th>2020/09\\n(IFRS연결)</th>\n",
              "      <td>205</td>\n",
              "      <td>1,555</td>\n",
              "      <td>3</td>\n",
              "      <td>보해양조</td>\n",
              "    </tr>\n",
              "    <tr>\n",
              "      <th>2020/09\\n(IFRS연결)</th>\n",
              "      <td>5,980</td>\n",
              "      <td>34,066</td>\n",
              "      <td>1,682</td>\n",
              "      <td>롯데칠성</td>\n",
              "    </tr>\n",
              "    <tr>\n",
              "      <th>2020/09\\n(IFRS연결)</th>\n",
              "      <td>521</td>\n",
              "      <td>1,897</td>\n",
              "      <td>-61</td>\n",
              "      <td>마니커</td>\n",
              "    </tr>\n",
              "    <tr>\n",
              "      <th>2020/06\\n(IFRS연결)</th>\n",
              "      <td>4,108</td>\n",
              "      <td>18,966</td>\n",
              "      <td>1,168</td>\n",
              "      <td>이지홀딩스</td>\n",
              "    </tr>\n",
              "    <tr>\n",
              "      <th>2020/09\\n(IFRS연결)</th>\n",
              "      <td>2,613</td>\n",
              "      <td>8,550</td>\n",
              "      <td>62</td>\n",
              "      <td>하림</td>\n",
              "    </tr>\n",
              "  </tbody>\n",
              "</table>\n",
              "</div>"
            ],
            "text/plain": [
              "Unnamed: 0           매출액    자산총계 EPS(원)    종목명\n",
              "2020/09\\n(IFRS연결)  6,243  39,617    453  하이트진로\n",
              "2020/09\\n(IFRS연결)    205   1,555      3   보해양조\n",
              "2020/09\\n(IFRS연결)  5,980  34,066  1,682   롯데칠성\n",
              "2020/09\\n(IFRS연결)    521   1,897    -61    마니커\n",
              "2020/06\\n(IFRS연결)  4,108  18,966  1,168  이지홀딩스\n",
              "2020/09\\n(IFRS연결)  2,613   8,550     62     하림"
            ]
          },
          "metadata": {
            "tags": []
          },
          "execution_count": 66
        }
      ]
    },
    {
      "cell_type": "code",
      "metadata": {
        "id": "b6ld-37DloS1"
      },
      "source": [
        "def toInt(string):\n",
        "    return int(string.replace(',',''))\n",
        "\n",
        "df['매출액'] = df['매출액'].apply(toInt)\n",
        "df['자산총계'] = df['자산총계'].apply(toInt)\n",
        "df['EPS(원)'] = df['EPS(원)'].apply(toInt)"
      ],
      "execution_count": 67,
      "outputs": []
    },
    {
      "cell_type": "code",
      "metadata": {
        "colab": {
          "base_uri": "https://localhost:8080/"
        },
        "id": "GfzncES5z5Fh",
        "outputId": "45ea22dd-60b5-4cb3-fda9-7713813310d4"
      },
      "source": [
        "df.shape"
      ],
      "execution_count": 68,
      "outputs": [
        {
          "output_type": "execute_result",
          "data": {
            "text/plain": [
              "(6, 4)"
            ]
          },
          "metadata": {
            "tags": []
          },
          "execution_count": 68
        }
      ]
    },
    {
      "cell_type": "markdown",
      "metadata": {
        "id": "RsiWi4DuXPLP"
      },
      "source": [
        "## 2. Reshape \n",
        "\n",
        "방금 만든 데이터를 아래 예시와 같은 **tidy** 형태로 만드세요.\n",
        "\n",
        "이때 tidy 데이터의 이름은 `df_tidy` 입니다.\n",
        "\n",
        "|종목명|Feature|Value|\n",
        "|:-:|:-:|:-:|\n",
        "|하이트진로|매출액|6243|\n",
        "|보해양조|매출액|205|\n",
        "|롯데칠성|매출액|5980|\n",
        "|...|...|...|\n",
        "|마니커|EPS(원)|-61|\n",
        "|이지홀딩스|EPS(원)|1168|\n",
        "|하림|EPS(원)|62|\n",
        "\n",
        "이 후 아래의 코드를 정상적으로 실행했을때 나오는 box의 수를 `res`에 저장하세요.\n",
        "\n",
        "```python\n",
        "sns.boxplot(data = df_tidy, x = '종목명', y = 'value');\n",
        "```\n",
        "\n",
        "\n"
      ]
    },
    {
      "cell_type": "code",
      "metadata": {
        "colab": {
          "base_uri": "https://localhost:8080/"
        },
        "id": "jAUmYtqTiWqR",
        "outputId": "01f1f620-dd8f-4be6-8590-dbd2d5554d53"
      },
      "source": [
        "df.columns"
      ],
      "execution_count": 70,
      "outputs": [
        {
          "output_type": "execute_result",
          "data": {
            "text/plain": [
              "Index(['매출액', '자산총계', 'EPS(원)', '종목명'], dtype='object', name='Unnamed: 0')"
            ]
          },
          "metadata": {
            "tags": []
          },
          "execution_count": 70
        }
      ]
    },
    {
      "cell_type": "code",
      "metadata": {
        "id": "gACCr67CoUv0"
      },
      "source": [
        "# df_tidy = df.melt(id_vars='종목명', value_vars=['매출액', '자산총계', 'EPS(원)'])\n",
        "# df_tidy"
      ],
      "execution_count": 71,
      "outputs": []
    },
    {
      "cell_type": "code",
      "metadata": {
        "colab": {
          "base_uri": "https://localhost:8080/",
          "height": 614
        },
        "id": "wvqfmxIv-IsS",
        "outputId": "0c44cc78-f2c8-4117-e81a-f9497752bfe0"
      },
      "source": [
        "df_tidy =  df.melt(id_vars='종목명', var_name='Feature',value_name='Value')\n",
        "\n",
        "df_tidy"
      ],
      "execution_count": 72,
      "outputs": [
        {
          "output_type": "execute_result",
          "data": {
            "text/html": [
              "<div>\n",
              "<style scoped>\n",
              "    .dataframe tbody tr th:only-of-type {\n",
              "        vertical-align: middle;\n",
              "    }\n",
              "\n",
              "    .dataframe tbody tr th {\n",
              "        vertical-align: top;\n",
              "    }\n",
              "\n",
              "    .dataframe thead th {\n",
              "        text-align: right;\n",
              "    }\n",
              "</style>\n",
              "<table border=\"1\" class=\"dataframe\">\n",
              "  <thead>\n",
              "    <tr style=\"text-align: right;\">\n",
              "      <th></th>\n",
              "      <th>종목명</th>\n",
              "      <th>Feature</th>\n",
              "      <th>Value</th>\n",
              "    </tr>\n",
              "  </thead>\n",
              "  <tbody>\n",
              "    <tr>\n",
              "      <th>0</th>\n",
              "      <td>하이트진로</td>\n",
              "      <td>매출액</td>\n",
              "      <td>6243</td>\n",
              "    </tr>\n",
              "    <tr>\n",
              "      <th>1</th>\n",
              "      <td>보해양조</td>\n",
              "      <td>매출액</td>\n",
              "      <td>205</td>\n",
              "    </tr>\n",
              "    <tr>\n",
              "      <th>2</th>\n",
              "      <td>롯데칠성</td>\n",
              "      <td>매출액</td>\n",
              "      <td>5980</td>\n",
              "    </tr>\n",
              "    <tr>\n",
              "      <th>3</th>\n",
              "      <td>마니커</td>\n",
              "      <td>매출액</td>\n",
              "      <td>521</td>\n",
              "    </tr>\n",
              "    <tr>\n",
              "      <th>4</th>\n",
              "      <td>이지홀딩스</td>\n",
              "      <td>매출액</td>\n",
              "      <td>4108</td>\n",
              "    </tr>\n",
              "    <tr>\n",
              "      <th>5</th>\n",
              "      <td>하림</td>\n",
              "      <td>매출액</td>\n",
              "      <td>2613</td>\n",
              "    </tr>\n",
              "    <tr>\n",
              "      <th>6</th>\n",
              "      <td>하이트진로</td>\n",
              "      <td>자산총계</td>\n",
              "      <td>39617</td>\n",
              "    </tr>\n",
              "    <tr>\n",
              "      <th>7</th>\n",
              "      <td>보해양조</td>\n",
              "      <td>자산총계</td>\n",
              "      <td>1555</td>\n",
              "    </tr>\n",
              "    <tr>\n",
              "      <th>8</th>\n",
              "      <td>롯데칠성</td>\n",
              "      <td>자산총계</td>\n",
              "      <td>34066</td>\n",
              "    </tr>\n",
              "    <tr>\n",
              "      <th>9</th>\n",
              "      <td>마니커</td>\n",
              "      <td>자산총계</td>\n",
              "      <td>1897</td>\n",
              "    </tr>\n",
              "    <tr>\n",
              "      <th>10</th>\n",
              "      <td>이지홀딩스</td>\n",
              "      <td>자산총계</td>\n",
              "      <td>18966</td>\n",
              "    </tr>\n",
              "    <tr>\n",
              "      <th>11</th>\n",
              "      <td>하림</td>\n",
              "      <td>자산총계</td>\n",
              "      <td>8550</td>\n",
              "    </tr>\n",
              "    <tr>\n",
              "      <th>12</th>\n",
              "      <td>하이트진로</td>\n",
              "      <td>EPS(원)</td>\n",
              "      <td>453</td>\n",
              "    </tr>\n",
              "    <tr>\n",
              "      <th>13</th>\n",
              "      <td>보해양조</td>\n",
              "      <td>EPS(원)</td>\n",
              "      <td>3</td>\n",
              "    </tr>\n",
              "    <tr>\n",
              "      <th>14</th>\n",
              "      <td>롯데칠성</td>\n",
              "      <td>EPS(원)</td>\n",
              "      <td>1682</td>\n",
              "    </tr>\n",
              "    <tr>\n",
              "      <th>15</th>\n",
              "      <td>마니커</td>\n",
              "      <td>EPS(원)</td>\n",
              "      <td>-61</td>\n",
              "    </tr>\n",
              "    <tr>\n",
              "      <th>16</th>\n",
              "      <td>이지홀딩스</td>\n",
              "      <td>EPS(원)</td>\n",
              "      <td>1168</td>\n",
              "    </tr>\n",
              "    <tr>\n",
              "      <th>17</th>\n",
              "      <td>하림</td>\n",
              "      <td>EPS(원)</td>\n",
              "      <td>62</td>\n",
              "    </tr>\n",
              "  </tbody>\n",
              "</table>\n",
              "</div>"
            ],
            "text/plain": [
              "      종목명 Feature  Value\n",
              "0   하이트진로     매출액   6243\n",
              "1    보해양조     매출액    205\n",
              "2    롯데칠성     매출액   5980\n",
              "3     마니커     매출액    521\n",
              "4   이지홀딩스     매출액   4108\n",
              "5      하림     매출액   2613\n",
              "6   하이트진로    자산총계  39617\n",
              "7    보해양조    자산총계   1555\n",
              "8    롯데칠성    자산총계  34066\n",
              "9     마니커    자산총계   1897\n",
              "10  이지홀딩스    자산총계  18966\n",
              "11     하림    자산총계   8550\n",
              "12  하이트진로  EPS(원)    453\n",
              "13   보해양조  EPS(원)      3\n",
              "14   롯데칠성  EPS(원)   1682\n",
              "15    마니커  EPS(원)    -61\n",
              "16  이지홀딩스  EPS(원)   1168\n",
              "17     하림  EPS(원)     62"
            ]
          },
          "metadata": {
            "tags": []
          },
          "execution_count": 72
        }
      ]
    },
    {
      "cell_type": "code",
      "metadata": {
        "colab": {
          "base_uri": "https://localhost:8080/"
        },
        "id": "QLwF7cv5jL0f",
        "outputId": "f663ced6-7f29-408f-aa0a-22593583ef90"
      },
      "source": [
        "df_tidy.info()"
      ],
      "execution_count": 73,
      "outputs": [
        {
          "output_type": "stream",
          "text": [
            "<class 'pandas.core.frame.DataFrame'>\n",
            "RangeIndex: 18 entries, 0 to 17\n",
            "Data columns (total 3 columns):\n",
            " #   Column   Non-Null Count  Dtype \n",
            "---  ------   --------------  ----- \n",
            " 0   종목명      18 non-null     object\n",
            " 1   Feature  18 non-null     object\n",
            " 2   Value    18 non-null     int64 \n",
            "dtypes: int64(1), object(2)\n",
            "memory usage: 560.0+ bytes\n"
          ],
          "name": "stdout"
        }
      ]
    },
    {
      "cell_type": "code",
      "metadata": {
        "id": "YFf4Cd7Vi3bN"
      },
      "source": [
        "# 숫자형이 아니어서 에러남.\n",
        "\n",
        "# df_tidy['value'].astype(float) # 문자열이라 에러남\n",
        "\n",
        "# df_tidy['value'] = df_tidy['value'].apply(toInt)"
      ],
      "execution_count": 74,
      "outputs": []
    },
    {
      "cell_type": "code",
      "metadata": {
        "id": "Sw2WDrtt9p4g"
      },
      "source": [
        "import seaborn as sns\n",
        "import matplotlib.pyplot as plt\n",
        "\n",
        "plt.rc('font', family='NanumBarunGothic')"
      ],
      "execution_count": 75,
      "outputs": []
    },
    {
      "cell_type": "code",
      "metadata": {
        "colab": {
          "base_uri": "https://localhost:8080/",
          "height": 279
        },
        "id": "Yn-MpZGehh0C",
        "outputId": "aa3f2fc2-c0b3-4296-dad4-0338449c50cd"
      },
      "source": [
        "# import seaborn as sns\n",
        "\n",
        "res = sns.boxplot(data = df_tidy, x = '종목명', y = 'Value');\n",
        "res;"
      ],
      "execution_count": 76,
      "outputs": [
        {
          "output_type": "display_data",
          "data": {
            "image/png": "[encoded data removed]",
            "text/plain": [
              "<Figure size 432x288 with 1 Axes>"
            ]
          },
          "metadata": {
            "tags": [],
            "needs_background": "light"
          }
        }
      ]
    },
    {
      "cell_type": "code",
      "metadata": {
        "id": "1zY1Jhg8hh2M"
      },
      "source": [
        "# 박스의 수는 6개이다\n",
        "res = 6"
      ],
      "execution_count": 77,
      "outputs": []
    },
    {
      "cell_type": "markdown",
      "metadata": {
        "id": "8Yscu0NtMmRM"
      },
      "source": [
        "## 3. Merge & Join +\n",
        "\n",
        "pandas merge의 options중 how 에는 여러가지 옵션들이 있습니다.\n",
        "\n",
        "공식 레퍼런스를 검색, 참조하여\n",
        "\n",
        "아래 코드를 바탕으로 \n",
        "\n",
        "다음과 같은 결과물을 만드는 코드를 작성하세요\n",
        "\n",
        "변수의 이름은 `df2` 입니다.\n",
        "\n",
        "|key1|key2|A|B|C|D|\n",
        "|:-:|:-:|:-:|:-:|:-:|:-:|\n",
        "|K0|K0|A0|B0|C0|D0|\n",
        "|K0|K1|A1|B1|NaN|NaN|\n",
        "|K1|K0|A2|B2|C1|D1|\n",
        "|K1|K0|A2|B2|C2|D2|\n",
        "|K2|K1|A3|B3|NaN|NaN|\n",
        "\n",
        "\n",
        "\n"
      ]
    },
    {
      "cell_type": "code",
      "metadata": {
        "id": "DlrGYjByMvn6"
      },
      "source": [
        "import pandas as pd\n",
        "\n",
        "left = pd.DataFrame({'key1': ['K0', 'K0', 'K1', 'K2'],\n",
        "                     'key2': ['K0', 'K1', 'K0', 'K1'],\n",
        "                     'A': ['A0', 'A1', 'A2', 'A3'],\n",
        "                     'B': ['B0', 'B1', 'B2', 'B3']})\n",
        "\n",
        "right = pd.DataFrame({'key1': ['K0', 'K1', 'K1', 'K2'],\n",
        "                      'key2': ['K0', 'K0', 'K0', 'K0'],\n",
        "                      'C': ['C0', 'C1', 'C2', 'C3'],\n",
        "                      'D': ['D0', 'D1', 'D2', 'D3']})"
      ],
      "execution_count": 78,
      "outputs": []
    },
    {
      "cell_type": "code",
      "metadata": {
        "colab": {
          "base_uri": "https://localhost:8080/",
          "height": 175
        },
        "id": "wiUjlniLm979",
        "outputId": "942962a6-8643-4517-add8-76ba94d5a73a"
      },
      "source": [
        "left"
      ],
      "execution_count": 79,
      "outputs": [
        {
          "output_type": "execute_result",
          "data": {
            "text/html": [
              "<div>\n",
              "<style scoped>\n",
              "    .dataframe tbody tr th:only-of-type {\n",
              "        vertical-align: middle;\n",
              "    }\n",
              "\n",
              "    .dataframe tbody tr th {\n",
              "        vertical-align: top;\n",
              "    }\n",
              "\n",
              "    .dataframe thead th {\n",
              "        text-align: right;\n",
              "    }\n",
              "</style>\n",
              "<table border=\"1\" class=\"dataframe\">\n",
              "  <thead>\n",
              "    <tr style=\"text-align: right;\">\n",
              "      <th></th>\n",
              "      <th>key1</th>\n",
              "      <th>key2</th>\n",
              "      <th>A</th>\n",
              "      <th>B</th>\n",
              "    </tr>\n",
              "  </thead>\n",
              "  <tbody>\n",
              "    <tr>\n",
              "      <th>0</th>\n",
              "      <td>K0</td>\n",
              "      <td>K0</td>\n",
              "      <td>A0</td>\n",
              "      <td>B0</td>\n",
              "    </tr>\n",
              "    <tr>\n",
              "      <th>1</th>\n",
              "      <td>K0</td>\n",
              "      <td>K1</td>\n",
              "      <td>A1</td>\n",
              "      <td>B1</td>\n",
              "    </tr>\n",
              "    <tr>\n",
              "      <th>2</th>\n",
              "      <td>K1</td>\n",
              "      <td>K0</td>\n",
              "      <td>A2</td>\n",
              "      <td>B2</td>\n",
              "    </tr>\n",
              "    <tr>\n",
              "      <th>3</th>\n",
              "      <td>K2</td>\n",
              "      <td>K1</td>\n",
              "      <td>A3</td>\n",
              "      <td>B3</td>\n",
              "    </tr>\n",
              "  </tbody>\n",
              "</table>\n",
              "</div>"
            ],
            "text/plain": [
              "  key1 key2   A   B\n",
              "0   K0   K0  A0  B0\n",
              "1   K0   K1  A1  B1\n",
              "2   K1   K0  A2  B2\n",
              "3   K2   K1  A3  B3"
            ]
          },
          "metadata": {
            "tags": []
          },
          "execution_count": 79
        }
      ]
    },
    {
      "cell_type": "code",
      "metadata": {
        "colab": {
          "base_uri": "https://localhost:8080/",
          "height": 175
        },
        "id": "SRz0TXZOm95P",
        "outputId": "69795502-a605-4aae-b11b-a6c2a0b3c5a9"
      },
      "source": [
        "right"
      ],
      "execution_count": 80,
      "outputs": [
        {
          "output_type": "execute_result",
          "data": {
            "text/html": [
              "<div>\n",
              "<style scoped>\n",
              "    .dataframe tbody tr th:only-of-type {\n",
              "        vertical-align: middle;\n",
              "    }\n",
              "\n",
              "    .dataframe tbody tr th {\n",
              "        vertical-align: top;\n",
              "    }\n",
              "\n",
              "    .dataframe thead th {\n",
              "        text-align: right;\n",
              "    }\n",
              "</style>\n",
              "<table border=\"1\" class=\"dataframe\">\n",
              "  <thead>\n",
              "    <tr style=\"text-align: right;\">\n",
              "      <th></th>\n",
              "      <th>key1</th>\n",
              "      <th>key2</th>\n",
              "      <th>C</th>\n",
              "      <th>D</th>\n",
              "    </tr>\n",
              "  </thead>\n",
              "  <tbody>\n",
              "    <tr>\n",
              "      <th>0</th>\n",
              "      <td>K0</td>\n",
              "      <td>K0</td>\n",
              "      <td>C0</td>\n",
              "      <td>D0</td>\n",
              "    </tr>\n",
              "    <tr>\n",
              "      <th>1</th>\n",
              "      <td>K1</td>\n",
              "      <td>K0</td>\n",
              "      <td>C1</td>\n",
              "      <td>D1</td>\n",
              "    </tr>\n",
              "    <tr>\n",
              "      <th>2</th>\n",
              "      <td>K1</td>\n",
              "      <td>K0</td>\n",
              "      <td>C2</td>\n",
              "      <td>D2</td>\n",
              "    </tr>\n",
              "    <tr>\n",
              "      <th>3</th>\n",
              "      <td>K2</td>\n",
              "      <td>K0</td>\n",
              "      <td>C3</td>\n",
              "      <td>D3</td>\n",
              "    </tr>\n",
              "  </tbody>\n",
              "</table>\n",
              "</div>"
            ],
            "text/plain": [
              "  key1 key2   C   D\n",
              "0   K0   K0  C0  D0\n",
              "1   K1   K0  C1  D1\n",
              "2   K1   K0  C2  D2\n",
              "3   K2   K0  C3  D3"
            ]
          },
          "metadata": {
            "tags": []
          },
          "execution_count": 80
        }
      ]
    },
    {
      "cell_type": "code",
      "metadata": {
        "colab": {
          "base_uri": "https://localhost:8080/",
          "height": 206
        },
        "id": "Kcuy_YeJm93K",
        "outputId": "8b05f949-76ff-443a-e52f-43d26c090096"
      },
      "source": [
        "# merge는 concat과 다르게 공통된 부분을 기반으로 합치기가 주요 용도입니다.\n",
        "# df.merge(\"붙일 내용\", how = \"(방법)\", on =\"(기준 feature)\")\n",
        "df2  = left.merge(right, how = 'left', on = ['key1', 'key2'] ) #* 노가다로 나오긴 했는데 완전히 이해는 안간다. *\n",
        "df2\n"
      ],
      "execution_count": 81,
      "outputs": [
        {
          "output_type": "execute_result",
          "data": {
            "text/html": [
              "<div>\n",
              "<style scoped>\n",
              "    .dataframe tbody tr th:only-of-type {\n",
              "        vertical-align: middle;\n",
              "    }\n",
              "\n",
              "    .dataframe tbody tr th {\n",
              "        vertical-align: top;\n",
              "    }\n",
              "\n",
              "    .dataframe thead th {\n",
              "        text-align: right;\n",
              "    }\n",
              "</style>\n",
              "<table border=\"1\" class=\"dataframe\">\n",
              "  <thead>\n",
              "    <tr style=\"text-align: right;\">\n",
              "      <th></th>\n",
              "      <th>key1</th>\n",
              "      <th>key2</th>\n",
              "      <th>A</th>\n",
              "      <th>B</th>\n",
              "      <th>C</th>\n",
              "      <th>D</th>\n",
              "    </tr>\n",
              "  </thead>\n",
              "  <tbody>\n",
              "    <tr>\n",
              "      <th>0</th>\n",
              "      <td>K0</td>\n",
              "      <td>K0</td>\n",
              "      <td>A0</td>\n",
              "      <td>B0</td>\n",
              "      <td>C0</td>\n",
              "      <td>D0</td>\n",
              "    </tr>\n",
              "    <tr>\n",
              "      <th>1</th>\n",
              "      <td>K0</td>\n",
              "      <td>K1</td>\n",
              "      <td>A1</td>\n",
              "      <td>B1</td>\n",
              "      <td>NaN</td>\n",
              "      <td>NaN</td>\n",
              "    </tr>\n",
              "    <tr>\n",
              "      <th>2</th>\n",
              "      <td>K1</td>\n",
              "      <td>K0</td>\n",
              "      <td>A2</td>\n",
              "      <td>B2</td>\n",
              "      <td>C1</td>\n",
              "      <td>D1</td>\n",
              "    </tr>\n",
              "    <tr>\n",
              "      <th>3</th>\n",
              "      <td>K1</td>\n",
              "      <td>K0</td>\n",
              "      <td>A2</td>\n",
              "      <td>B2</td>\n",
              "      <td>C2</td>\n",
              "      <td>D2</td>\n",
              "    </tr>\n",
              "    <tr>\n",
              "      <th>4</th>\n",
              "      <td>K2</td>\n",
              "      <td>K1</td>\n",
              "      <td>A3</td>\n",
              "      <td>B3</td>\n",
              "      <td>NaN</td>\n",
              "      <td>NaN</td>\n",
              "    </tr>\n",
              "  </tbody>\n",
              "</table>\n",
              "</div>"
            ],
            "text/plain": [
              "  key1 key2   A   B    C    D\n",
              "0   K0   K0  A0  B0   C0   D0\n",
              "1   K0   K1  A1  B1  NaN  NaN\n",
              "2   K1   K0  A2  B2   C1   D1\n",
              "3   K1   K0  A2  B2   C2   D2\n",
              "4   K2   K1  A3  B3  NaN  NaN"
            ]
          },
          "metadata": {
            "tags": []
          },
          "execution_count": 81
        }
      ]
    },
    {
      "cell_type": "code",
      "metadata": {
        "id": "hldEUZ9um90o"
      },
      "source": [
        "import numpy as np\n"
      ],
      "execution_count": 82,
      "outputs": []
    },
    {
      "cell_type": "code",
      "metadata": {
        "colab": {
          "base_uri": "https://localhost:8080/"
        },
        "id": "nKIUA0PYy7Ns",
        "outputId": "176ca178-7c7a-4cbe-b8a1-76a8ab40bbcc"
      },
      "source": [
        "df2.equals(pd.DataFrame({\n",
        "    'key1' : ['K0', 'K0', 'K1', 'K1', 'K2'],\n",
        "    'key2' : ['K0', 'K1', 'K0', 'K0', 'K1'],\n",
        "    'A' : ['A0', 'A1', 'A2', 'A2', 'A3'],\n",
        "    'B' : ['B0', 'B1', 'B2', 'B2', 'B3'],\n",
        "    'C' : ['C0', np.NaN, 'C1', 'C2', np.NaN],\n",
        "    'D' : ['D0', np.NaN, 'D1', 'D2', np.NaN],\n",
        "  }))"
      ],
      "execution_count": 83,
      "outputs": [
        {
          "output_type": "execute_result",
          "data": {
            "text/plain": [
              "True"
            ]
          },
          "metadata": {
            "tags": []
          },
          "execution_count": 83
        }
      ]
    },
    {
      "cell_type": "markdown",
      "metadata": {
        "id": "en0Q_b5L4fxA"
      },
      "source": [
        "## Grading\n",
        "\n",
        "이전 과제를 완료했다면, 아래의 코드를 실행하세요. "
      ]
    },
    {
      "cell_type": "code",
      "metadata": {
        "id": "1k3zn-YV4fdg"
      },
      "source": [
        "import numpy as np\n",
        "\n",
        "def grade(df, df2, df_tidy, res):\n",
        "  score = 0\n",
        "  score += (df['매출액'][2] == 5980)\n",
        "  score += (df['자산총계'][3] == 1897)   \n",
        "  score += (df2.equals(pd.DataFrame({\n",
        "    'key1' : ['K0', 'K0', 'K1', 'K1', 'K2'],\n",
        "    'key2' : ['K0', 'K1', 'K0', 'K0', 'K1'],\n",
        "    'A' : ['A0', 'A1', 'A2', 'A2', 'A3'],\n",
        "    'B' : ['B0', 'B1', 'B2', 'B2', 'B3'],\n",
        "    'C' : ['C0', np.NaN, 'C1', 'C2', np.NaN],\n",
        "    'D' : ['D0', np.NaN, 'D1', 'D2', np.NaN],\n",
        "  }))) \n",
        "  score += (res == 6)\n",
        "  score += (round(df_tidy['Value'].mean(), 3) == 7090.444)\n",
        "  return(score)"
      ],
      "execution_count": 84,
      "outputs": []
    },
    {
      "cell_type": "code",
      "metadata": {
        "id": "nj_RslFn4lCM",
        "colab": {
          "base_uri": "https://localhost:8080/"
        },
        "outputId": "ec2f236b-6d84-44bf-bd5a-427f5b42cf33"
      },
      "source": [
        "grade(df, df2, df_tidy, res)"
      ],
      "execution_count": 85,
      "outputs": [
        {
          "output_type": "execute_result",
          "data": {
            "text/plain": [
              "5"
            ]
          },
          "metadata": {
            "tags": []
          },
          "execution_count": 85
        }
      ]
    },
    {
      "cell_type": "code",
      "metadata": {
        "id": "614a4IoOk5z4",
        "outputId": "903aa564-4b29-4584-e3b6-1bc626d9fd86",
        "colab": {
          "base_uri": "https://localhost:8080/"
        }
      },
      "source": [
        "df['매출액'][2]"
      ],
      "execution_count": 86,
      "outputs": [
        {
          "output_type": "execute_result",
          "data": {
            "text/plain": [
              "5980"
            ]
          },
          "metadata": {
            "tags": []
          },
          "execution_count": 86
        }
      ]
    },
    {
      "cell_type": "code",
      "metadata": {
        "id": "g2aGQkask-pl",
        "outputId": "71543a37-93fb-44ab-cec7-90d13bb22328",
        "colab": {
          "base_uri": "https://localhost:8080/"
        }
      },
      "source": [
        "df['자산총계'][3]"
      ],
      "execution_count": 87,
      "outputs": [
        {
          "output_type": "execute_result",
          "data": {
            "text/plain": [
              "1897"
            ]
          },
          "metadata": {
            "tags": []
          },
          "execution_count": 87
        }
      ]
    },
    {
      "cell_type": "code",
      "metadata": {
        "id": "EDaAP_xjlBrb",
        "outputId": "9a173f61-d15c-4a27-d7c9-0c5bbc8cbccf",
        "colab": {
          "base_uri": "https://localhost:8080/"
        }
      },
      "source": [
        "res"
      ],
      "execution_count": 88,
      "outputs": [
        {
          "output_type": "execute_result",
          "data": {
            "text/plain": [
              "6"
            ]
          },
          "metadata": {
            "tags": []
          },
          "execution_count": 88
        }
      ]
    },
    {
      "cell_type": "code",
      "metadata": {
        "id": "yzjlkdNTlD50",
        "outputId": "9480bb15-0594-4f3c-9d71-47ad94b58711",
        "colab": {
          "base_uri": "https://localhost:8080/"
        }
      },
      "source": [
        "int(df_tidy['Value'].mean())"
      ],
      "execution_count": 89,
      "outputs": [
        {
          "output_type": "execute_result",
          "data": {
            "text/plain": [
              "7090"
            ]
          },
          "metadata": {
            "tags": []
          },
          "execution_count": 89
        }
      ]
    },
    {
      "cell_type": "markdown",
      "metadata": {
        "id": "mnOuqL9K0dqh"
      },
      "source": [
        "## 🔥 도전과제"
      ]
    },
    {
      "cell_type": "markdown",
      "metadata": {
        "id": "GboSqR1qRoTO"
      },
      "source": [
        "아래 링크들을 참조하여, \n",
        "특정 테마별로 포함되어 있는 종목의 데이터를 직접 csv형태로 수집하고 (아래 적힌 3개씩)\n",
        "\n",
        "<https://finance.naver.com/sise/sise_group_detail.nhn?type=theme&no=408>\n",
        "\n",
        "<https://finance.naver.com/sise/sise_group_detail.nhn?type=theme&no=36>\n",
        "\n",
        "- 최종 분기에 해당하는 데이터\n",
        "\n",
        "- 테마별 평균 데이터를 결과물로 만드는 코드를 작성하세요.\n",
        "\n",
        "단, 모든 feature에 대해서가 아닌\n",
        "\n",
        "- 매출액\n",
        "- 자본총계\n",
        "- EPS\n",
        "\n",
        "에 대해서만 하면 됩니다.\n",
        "\n",
        "|종목명|매출액|자본총계|EPS|\n",
        "|:-:|:-:|:-:|:-:|\n",
        "|대한해운|...|...|...|...|\n",
        "|팬오션|...|...|...|...|\n",
        "|KSS해운|...|...|...|...|\n",
        "|세미콘라이트|...|...|...|...|\n",
        "|오성첨단소재|...|...|...|...|\n",
        "|에이아이비트|...|...|...|...|\n",
        "\n",
        "---\n",
        "\n",
        "|테마|매출액|자본총계|EPS|\n",
        "|:-:|:-:|:-:|:-:|\n",
        "|해운|...|...|...|\n",
        "|마리화나(대마)|...|...|...|\n",
        "\n",
        "이후 아래의 예시 처럼 seaborn을 사용하여 결과를 barplot으로 시각화하세요.\n",
        "\n",
        "단, 한글이 깨지는 에러를 여러분이 직접 고쳐야합니다."
      ]
    },
    {
      "cell_type": "code",
      "metadata": {
        "id": "wJCywd1GkZf8",
        "outputId": "567e9193-4c9c-4b01-8e6a-a1898edc1eb3",
        "colab": {
          "base_uri": "https://localhost:8080/"
        }
      },
      "source": [
        "from google.colab import drive\n",
        "drive.mount('/content/drive')"
      ],
      "execution_count": 90,
      "outputs": [
        {
          "output_type": "stream",
          "text": [
            "Drive already mounted at /content/drive; to attempt to forcibly remount, call drive.mount(\"/content/drive\", force_remount=True).\n"
          ],
          "name": "stdout"
        }
      ]
    },
    {
      "cell_type": "code",
      "metadata": {
        "id": "zH-jZUd3QY8s"
      },
      "source": [
        "df = pd.read_excel('/content/drive/MyDrive/코드스테이츠(ai 캠프)/[S1] EDA/[n11x]EDA/n11x_data & ipynb/n113.xlsx')"
      ],
      "execution_count": 91,
      "outputs": []
    },
    {
      "cell_type": "code",
      "metadata": {
        "colab": {
          "base_uri": "https://localhost:8080/",
          "height": 237
        },
        "id": "D9I2IDFQQY2e",
        "outputId": "86608290-9b36-4842-a0f6-7624baef0eb1"
      },
      "source": [
        "df"
      ],
      "execution_count": 92,
      "outputs": [
        {
          "output_type": "execute_result",
          "data": {
            "text/html": [
              "<div>\n",
              "<style scoped>\n",
              "    .dataframe tbody tr th:only-of-type {\n",
              "        vertical-align: middle;\n",
              "    }\n",
              "\n",
              "    .dataframe tbody tr th {\n",
              "        vertical-align: top;\n",
              "    }\n",
              "\n",
              "    .dataframe thead th {\n",
              "        text-align: right;\n",
              "    }\n",
              "</style>\n",
              "<table border=\"1\" class=\"dataframe\">\n",
              "  <thead>\n",
              "    <tr style=\"text-align: right;\">\n",
              "      <th></th>\n",
              "      <th>종목명</th>\n",
              "      <th>매출액</th>\n",
              "      <th>자본총계</th>\n",
              "      <th>EPS</th>\n",
              "    </tr>\n",
              "  </thead>\n",
              "  <tbody>\n",
              "    <tr>\n",
              "      <th>0</th>\n",
              "      <td>대한해운</td>\n",
              "      <td>2222</td>\n",
              "      <td>8533</td>\n",
              "      <td>23</td>\n",
              "    </tr>\n",
              "    <tr>\n",
              "      <th>1</th>\n",
              "      <td>팬오션</td>\n",
              "      <td>6205</td>\n",
              "      <td>28067</td>\n",
              "      <td>-26</td>\n",
              "    </tr>\n",
              "    <tr>\n",
              "      <th>2</th>\n",
              "      <td>KSS해운</td>\n",
              "      <td>546</td>\n",
              "      <td>2689</td>\n",
              "      <td>-237</td>\n",
              "    </tr>\n",
              "    <tr>\n",
              "      <th>3</th>\n",
              "      <td>세미콘라이트</td>\n",
              "      <td>66</td>\n",
              "      <td>470</td>\n",
              "      <td>-363</td>\n",
              "    </tr>\n",
              "    <tr>\n",
              "      <th>4</th>\n",
              "      <td>오성첨단소재</td>\n",
              "      <td>184</td>\n",
              "      <td>1944</td>\n",
              "      <td>8</td>\n",
              "    </tr>\n",
              "    <tr>\n",
              "      <th>5</th>\n",
              "      <td>에이아이비트</td>\n",
              "      <td>57</td>\n",
              "      <td>453</td>\n",
              "      <td>-187</td>\n",
              "    </tr>\n",
              "  </tbody>\n",
              "</table>\n",
              "</div>"
            ],
            "text/plain": [
              "      종목명   매출액   자본총계  EPS\n",
              "0    대한해운  2222   8533   23\n",
              "1     팬오션  6205  28067  -26\n",
              "2   KSS해운   546   2689 -237\n",
              "3  세미콘라이트    66    470 -363\n",
              "4  오성첨단소재   184   1944    8\n",
              "5  에이아이비트    57    453 -187"
            ]
          },
          "metadata": {
            "tags": []
          },
          "execution_count": 92
        }
      ]
    },
    {
      "cell_type": "code",
      "metadata": {
        "id": "FYZ2Yqw3QYwh"
      },
      "source": [
        "df['테마'] = ['해운','해운','해운','대마','대마','대마']"
      ],
      "execution_count": 93,
      "outputs": []
    },
    {
      "cell_type": "code",
      "metadata": {
        "colab": {
          "base_uri": "https://localhost:8080/",
          "height": 237
        },
        "id": "MfCT726QR4UY",
        "outputId": "1319cf49-aa9a-4682-c80b-08394d0e33e7"
      },
      "source": [
        "df"
      ],
      "execution_count": 94,
      "outputs": [
        {
          "output_type": "execute_result",
          "data": {
            "text/html": [
              "<div>\n",
              "<style scoped>\n",
              "    .dataframe tbody tr th:only-of-type {\n",
              "        vertical-align: middle;\n",
              "    }\n",
              "\n",
              "    .dataframe tbody tr th {\n",
              "        vertical-align: top;\n",
              "    }\n",
              "\n",
              "    .dataframe thead th {\n",
              "        text-align: right;\n",
              "    }\n",
              "</style>\n",
              "<table border=\"1\" class=\"dataframe\">\n",
              "  <thead>\n",
              "    <tr style=\"text-align: right;\">\n",
              "      <th></th>\n",
              "      <th>종목명</th>\n",
              "      <th>매출액</th>\n",
              "      <th>자본총계</th>\n",
              "      <th>EPS</th>\n",
              "      <th>테마</th>\n",
              "    </tr>\n",
              "  </thead>\n",
              "  <tbody>\n",
              "    <tr>\n",
              "      <th>0</th>\n",
              "      <td>대한해운</td>\n",
              "      <td>2222</td>\n",
              "      <td>8533</td>\n",
              "      <td>23</td>\n",
              "      <td>해운</td>\n",
              "    </tr>\n",
              "    <tr>\n",
              "      <th>1</th>\n",
              "      <td>팬오션</td>\n",
              "      <td>6205</td>\n",
              "      <td>28067</td>\n",
              "      <td>-26</td>\n",
              "      <td>해운</td>\n",
              "    </tr>\n",
              "    <tr>\n",
              "      <th>2</th>\n",
              "      <td>KSS해운</td>\n",
              "      <td>546</td>\n",
              "      <td>2689</td>\n",
              "      <td>-237</td>\n",
              "      <td>해운</td>\n",
              "    </tr>\n",
              "    <tr>\n",
              "      <th>3</th>\n",
              "      <td>세미콘라이트</td>\n",
              "      <td>66</td>\n",
              "      <td>470</td>\n",
              "      <td>-363</td>\n",
              "      <td>대마</td>\n",
              "    </tr>\n",
              "    <tr>\n",
              "      <th>4</th>\n",
              "      <td>오성첨단소재</td>\n",
              "      <td>184</td>\n",
              "      <td>1944</td>\n",
              "      <td>8</td>\n",
              "      <td>대마</td>\n",
              "    </tr>\n",
              "    <tr>\n",
              "      <th>5</th>\n",
              "      <td>에이아이비트</td>\n",
              "      <td>57</td>\n",
              "      <td>453</td>\n",
              "      <td>-187</td>\n",
              "      <td>대마</td>\n",
              "    </tr>\n",
              "  </tbody>\n",
              "</table>\n",
              "</div>"
            ],
            "text/plain": [
              "      종목명   매출액   자본총계  EPS  테마\n",
              "0    대한해운  2222   8533   23  해운\n",
              "1     팬오션  6205  28067  -26  해운\n",
              "2   KSS해운   546   2689 -237  해운\n",
              "3  세미콘라이트    66    470 -363  대마\n",
              "4  오성첨단소재   184   1944    8  대마\n",
              "5  에이아이비트    57    453 -187  대마"
            ]
          },
          "metadata": {
            "tags": []
          },
          "execution_count": 94
        }
      ]
    },
    {
      "cell_type": "code",
      "metadata": {
        "colab": {
          "base_uri": "https://localhost:8080/"
        },
        "id": "mYawwQZXSBlw",
        "outputId": "f0a8ee86-4e1c-46b5-ecfb-ed2251454542"
      },
      "source": [
        "# 테마별\n",
        "df[df['테마'] == '해운'].mean()"
      ],
      "execution_count": 95,
      "outputs": [
        {
          "output_type": "execute_result",
          "data": {
            "text/plain": [
              "매출액      2991.000000\n",
              "자본총계    13096.333333\n",
              "EPS       -80.000000\n",
              "dtype: float64"
            ]
          },
          "metadata": {
            "tags": []
          },
          "execution_count": 95
        }
      ]
    },
    {
      "cell_type": "code",
      "metadata": {
        "colab": {
          "base_uri": "https://localhost:8080/"
        },
        "id": "Kx5ZKYP6SwZU",
        "outputId": "8bbf8e61-e59a-43d9-84f0-4d710158dbfd"
      },
      "source": [
        "df[df['테마'] == '대마'].mean()"
      ],
      "execution_count": 96,
      "outputs": [
        {
          "output_type": "execute_result",
          "data": {
            "text/plain": [
              "매출액     102.333333\n",
              "자본총계    955.666667\n",
              "EPS    -180.666667\n",
              "dtype: float64"
            ]
          },
          "metadata": {
            "tags": []
          },
          "execution_count": 96
        }
      ]
    },
    {
      "cell_type": "code",
      "metadata": {
        "id": "sJM5k-8I7Z6G",
        "colab": {
          "base_uri": "https://localhost:8080/"
        },
        "outputId": "9bd9dccc-e8f6-48e2-9bd2-586ecac91ae7"
      },
      "source": [
        "!sudo apt-get install -y fonts-nanum\n",
        "!sudo fc-cache -fv\n",
        "!rm ~/.cache/matplotlib -rf"
      ],
      "execution_count": 97,
      "outputs": [
        {
          "output_type": "stream",
          "text": [
            "Reading package lists... Done\n",
            "Building dependency tree       \n",
            "Reading state information... Done\n",
            "fonts-nanum is already the newest version (20170925-1).\n",
            "0 upgraded, 0 newly installed, 0 to remove and 39 not upgraded.\n",
            "/usr/share/fonts: caching, new cache contents: 0 fonts, 1 dirs\n",
            "/usr/share/fonts/truetype: caching, new cache contents: 0 fonts, 3 dirs\n",
            "/usr/share/fonts/truetype/humor-sans: caching, new cache contents: 1 fonts, 0 dirs\n",
            "/usr/share/fonts/truetype/liberation: caching, new cache contents: 16 fonts, 0 dirs\n",
            "/usr/share/fonts/truetype/nanum: caching, new cache contents: 10 fonts, 0 dirs\n",
            "/usr/local/share/fonts: caching, new cache contents: 0 fonts, 0 dirs\n",
            "/root/.local/share/fonts: skipping, no such directory\n",
            "/root/.fonts: skipping, no such directory\n",
            "/var/cache/fontconfig: cleaning cache directory\n",
            "/root/.cache/fontconfig: not cleaning non-existent cache directory\n",
            "/root/.fontconfig: not cleaning non-existent cache directory\n",
            "fc-cache: succeeded\n"
          ],
          "name": "stdout"
        }
      ]
    },
    {
      "cell_type": "code",
      "metadata": {
        "id": "WGjGzc577oX6"
      },
      "source": [
        "import matplotlib.pyplot as plt\n",
        "\n",
        "plt.rc('font', family='NanumBarunGothic')\n",
        "plt.rc('axes', unicode_minus=False)"
      ],
      "execution_count": 98,
      "outputs": []
    },
    {
      "cell_type": "code",
      "metadata": {
        "colab": {
          "base_uri": "https://localhost:8080/",
          "height": 297
        },
        "id": "dBscQf2RTEi8",
        "outputId": "c774f3e5-a4a6-42b0-8946-7bf2a6c32925"
      },
      "source": [
        "# 매출액 barplot # \n",
        "sns.barplot(data = df, x = df['테마'], y = df['매출액'])"
      ],
      "execution_count": 105,
      "outputs": [
        {
          "output_type": "execute_result",
          "data": {
            "text/plain": [
              "<matplotlib.axes._subplots.AxesSubplot at 0x7fafce9c0bd0>"
            ]
          },
          "metadata": {
            "tags": []
          },
          "execution_count": 105
        },
        {
          "output_type": "display_data",
          "data": {
            "image/png": "[encoded data removed]",
            "text/plain": [
              "<Figure size 432x288 with 1 Axes>"
            ]
          },
          "metadata": {
            "tags": [],
            "needs_background": "light"
          }
        }
      ]
    },
    {
      "cell_type": "code",
      "metadata": {
        "colab": {
          "base_uri": "https://localhost:8080/",
          "height": 297
        },
        "id": "YWxy0AC5TcQO",
        "outputId": "9d0b8c67-ee26-4055-9e00-88a2c629a12e"
      },
      "source": [
        "# 자본총계 barplot # \n",
        "sns.barplot(data = df, x = df['테마'], y = df['자본총계'])"
      ],
      "execution_count": 100,
      "outputs": [
        {
          "output_type": "execute_result",
          "data": {
            "text/plain": [
              "<matplotlib.axes._subplots.AxesSubplot at 0x7fafceade690>"
            ]
          },
          "metadata": {
            "tags": []
          },
          "execution_count": 100
        },
        {
          "output_type": "display_data",
          "data": {
            "image/png": "[encoded data removed]",
            "text/plain": [
              "<Figure size 432x288 with 1 Axes>"
            ]
          },
          "metadata": {
            "tags": [],
            "needs_background": "light"
          }
        }
      ]
    },
    {
      "cell_type": "code",
      "metadata": {
        "colab": {
          "base_uri": "https://localhost:8080/",
          "height": 297
        },
        "id": "T43CLTTMTf6B",
        "outputId": "a8d004e0-6003-4707-fcba-8daf03129656"
      },
      "source": [
        "# EPS barplot # \n",
        "sns.barplot(data = df, x = df['테마'], y = df['EPS'])\n"
      ],
      "execution_count": 101,
      "outputs": [
        {
          "output_type": "execute_result",
          "data": {
            "text/plain": [
              "<matplotlib.axes._subplots.AxesSubplot at 0x7fafcead3390>"
            ]
          },
          "metadata": {
            "tags": []
          },
          "execution_count": 101
        },
        {
          "output_type": "display_data",
          "data": {
            "image/png": "[encoded data removed]",
            "text/plain": [
              "<Figure size 432x288 with 1 Axes>"
            ]
          },
          "metadata": {
            "tags": [],
            "needs_background": "light"
          }
        }
      ]
    },
    {
      "cell_type": "code",
      "metadata": {
        "id": "B-QNMrVkYap4"
      },
      "source": [
        "# import pandas as pd\n",
        "# import seaborn as sns\n",
        "\n",
        "dat = pd.DataFrame({\n",
        "    'name' : ['해운', '대마'],\n",
        "    'value' : [10000,5000]\n",
        "})"
      ],
      "execution_count": 102,
      "outputs": []
    },
    {
      "cell_type": "code",
      "metadata": {
        "id": "gAqW4e88Uw6W",
        "colab": {
          "base_uri": "https://localhost:8080/",
          "height": 279
        },
        "outputId": "535c38b7-4d8d-4f03-ceed-5067dca61a0f"
      },
      "source": [
        "sns.barplot(x = 'name', y = 'value', data = dat);"
      ],
      "execution_count": 103,
      "outputs": [
        {
          "output_type": "display_data",
          "data": {
            "image/png": "[encoded data removed]",
            "text/plain": [
              "<Figure size 432x288 with 1 Axes>"
            ]
          },
          "metadata": {
            "tags": [],
            "needs_background": "light"
          }
        }
      ]
    }
  ]
}