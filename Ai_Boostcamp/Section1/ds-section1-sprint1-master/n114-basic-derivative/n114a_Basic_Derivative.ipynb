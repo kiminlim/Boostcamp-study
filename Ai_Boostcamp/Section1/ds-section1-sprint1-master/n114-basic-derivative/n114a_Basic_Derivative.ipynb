{
  "nbformat": 4,
  "nbformat_minor": 0,
  "metadata": {
    "colab": {
      "name": "n114a-Basic Derivative.ipynb의 사본",
      "provenance": [],
      "collapsed_sections": [],
      "include_colab_link": true
    },
    "kernelspec": {
      "display_name": "Python 3",
      "language": "python",
      "name": "python3"
    },
    "language_info": {
      "codemirror_mode": {
        "name": "ipython",
        "version": 3
      },
      "file_extension": ".py",
      "mimetype": "text/x-python",
      "name": "python",
      "nbconvert_exporter": "python",
      "pygments_lexer": "ipython3",
      "version": "3.8.2"
    }
  },
  "cells": [
    {
      "cell_type": "markdown",
      "metadata": {
        "id": "view-in-github",
        "colab_type": "text"
      },
      "source": [
        "<a href=\"https://colab.research.google.com/github/kiminlim/ds-section1-sprint1/blob/master/n114a_Basic_Derivative.ipynb\" target=\"_parent\"><img src=\"https://colab.research.google.com/assets/colab-badge.svg\" alt=\"Open In Colab\"/></a>"
      ]
    },
    {
      "cell_type": "markdown",
      "metadata": {
        "id": "G5hwlPlsGega"
      },
      "source": [
        "<img src='https://i.imgur.com/RDAD11M.png' width = '200' align = 'right'>\n",
        "\n",
        "## *DATA SCIENCE / SECTION 1 / SPRINT 1 / NOTE 4*\n",
        "\n",
        "---\n",
        "\n",
        "# 📝 Assignment\n",
        "\n"
      ]
    },
    {
      "cell_type": "markdown",
      "metadata": {
        "id": "UEwHe7owmDC9"
      },
      "source": [
        "## 1. Dataset 불러오기\n",
        "> seaborn 라이브러리의 load_dataset()을 활용해서 iris 데이터셋을 데이터프레임으로 불러옵니다. 데이터프레임의 이름은 df_iris로 합니다. <br>\n",
        "> df_iris의 shape의 **첫번째 값을 두번째 값으로 나눈 값**을 `res1`에 저장하세요"
      ]
    },
    {
      "cell_type": "code",
      "metadata": {
        "id": "880phxxZmDC_",
        "colab": {
          "base_uri": "https://localhost:8080/"
        },
        "outputId": "ff8dfa37-7420-4991-8f9a-41806a40c270"
      },
      "source": [
        "import seaborn as sns\n",
        "import numpy as np\n",
        "np.random.seed(42)\n",
        "\n",
        "# 이곳에 답안을 작성합니다.\n",
        "df_iris =sns. load_dataset('iris')\n",
        "a, b = df_iris.shape\n",
        "res1 = a / b\n",
        "print(a, b, res1)"
      ],
      "execution_count": 3,
      "outputs": [
        {
          "output_type": "stream",
          "text": [
            "150 5 30.0\n"
          ],
          "name": "stdout"
        }
      ]
    },
    {
      "cell_type": "markdown",
      "metadata": {
        "id": "Zigbih_EmDDA"
      },
      "source": [
        "## 2. X 구하기\n",
        "> df_iris에서 sepal_length만 남겨주세요. 그리고 sepal_length 칼럼의 이름은 x로 바꿉니다"
      ]
    },
    {
      "cell_type": "code",
      "metadata": {
        "id": "zMSqGHO229wo",
        "colab": {
          "base_uri": "https://localhost:8080/"
        },
        "outputId": "83556b5d-e83c-4478-bb5d-12a9316a6042"
      },
      "source": [
        "df_iris.columns"
      ],
      "execution_count": 4,
      "outputs": [
        {
          "output_type": "execute_result",
          "data": {
            "text/plain": [
              "Index(['sepal_length', 'sepal_width', 'petal_length', 'petal_width',\n",
              "       'species'],\n",
              "      dtype='object')"
            ]
          },
          "metadata": {
            "tags": []
          },
          "execution_count": 4
        }
      ]
    },
    {
      "cell_type": "code",
      "metadata": {
        "id": "ncrfElGCmDDB",
        "colab": {
          "base_uri": "https://localhost:8080/",
          "height": 205
        },
        "outputId": "8ae6446b-da76-45f4-a74f-44556d79f4ad"
      },
      "source": [
        "# 이곳에 답안을 작성합니다.\n",
        "df_iris['x'] = df_iris['sepal_length']\n",
        "df_iris = df_iris.drop([ 'sepal_length', 'sepal_width', 'petal_length', 'petal_width', 'species'] ,axis=1)\n",
        "df_iris.head()"
      ],
      "execution_count": 5,
      "outputs": [
        {
          "output_type": "execute_result",
          "data": {
            "text/html": [
              "<div>\n",
              "<style scoped>\n",
              "    .dataframe tbody tr th:only-of-type {\n",
              "        vertical-align: middle;\n",
              "    }\n",
              "\n",
              "    .dataframe tbody tr th {\n",
              "        vertical-align: top;\n",
              "    }\n",
              "\n",
              "    .dataframe thead th {\n",
              "        text-align: right;\n",
              "    }\n",
              "</style>\n",
              "<table border=\"1\" class=\"dataframe\">\n",
              "  <thead>\n",
              "    <tr style=\"text-align: right;\">\n",
              "      <th></th>\n",
              "      <th>x</th>\n",
              "    </tr>\n",
              "  </thead>\n",
              "  <tbody>\n",
              "    <tr>\n",
              "      <th>0</th>\n",
              "      <td>5.1</td>\n",
              "    </tr>\n",
              "    <tr>\n",
              "      <th>1</th>\n",
              "      <td>4.9</td>\n",
              "    </tr>\n",
              "    <tr>\n",
              "      <th>2</th>\n",
              "      <td>4.7</td>\n",
              "    </tr>\n",
              "    <tr>\n",
              "      <th>3</th>\n",
              "      <td>4.6</td>\n",
              "    </tr>\n",
              "    <tr>\n",
              "      <th>4</th>\n",
              "      <td>5.0</td>\n",
              "    </tr>\n",
              "  </tbody>\n",
              "</table>\n",
              "</div>"
            ],
            "text/plain": [
              "     x\n",
              "0  5.1\n",
              "1  4.9\n",
              "2  4.7\n",
              "3  4.6\n",
              "4  5.0"
            ]
          },
          "metadata": {
            "tags": []
          },
          "execution_count": 5
        }
      ]
    },
    {
      "cell_type": "markdown",
      "metadata": {
        "id": "az0kx_sxHYri"
      },
      "source": [
        "## 3. 기초 미분\n",
        "\n",
        "다음 함수를 미분한 도함수를 구한 후에 num_one 함수를 완성하세요. \n",
        "$f(x) = 4x^5 + 9x^3 + ex^2 - 7$\n",
        "\n",
        "- num_one 함수를 x에 적용한 후에 **derivative_one**이라는 칼럼으로 df_iris에 저장합니다. (Hint : df.apply)\n",
        "- derivative_one 칼럼의 합을 `res2`에 저장합니다 (소수점 세자리까지)"
      ]
    },
    {
      "cell_type": "code",
      "metadata": {
        "id": "J5ha7GquLbCo"
      },
      "source": [
        "import math\n",
        "from math import exp\n",
        "import numpy as np\n",
        "\n",
        "def num_one(x):\n",
        "    return  20*(x**4) + 27*(x**2) + 2*np.exp(1)*x \n",
        "#    np.exp(1)*(x**2)  # 이곳에 답안을 작성해주시기 바랍니다"
      ],
      "execution_count": 6,
      "outputs": []
    },
    {
      "cell_type": "code",
      "metadata": {
        "id": "tuHyDs913ozW",
        "colab": {
          "base_uri": "https://localhost:8080/"
        },
        "outputId": "86c58fd7-13ad-411e-b00b-8dc94e55ee3e"
      },
      "source": [
        "df_iris['derivative_one'] = df_iris['x'].apply(num_one)\n",
        "res2 = round( df_iris['derivative_one'].sum(), 3 )\n",
        "\n",
        "res2\n",
        "# sum(df_iris['derivative_one'])"
      ],
      "execution_count": 7,
      "outputs": [
        {
          "output_type": "execute_result",
          "data": {
            "text/plain": [
              "4077643.108"
            ]
          },
          "metadata": {
            "tags": []
          },
          "execution_count": 7
        }
      ]
    },
    {
      "cell_type": "markdown",
      "metadata": {
        "id": "1AUmHq5FmDDD"
      },
      "source": [
        "- 이번에는 scipy의 [derivative](https://docs.scipy.org/doc/scipy/reference/generated/scipy.misc.derivative.html)를 활용하여 **derivative_two** 칼럼으로 저장하세요.\n",
        "  - dx는 1e-7로 설정합니다.\n",
        "- derivative_two 칼럼의 합을 `res3`에 저장합니다 (소수점 세자리까지)"
      ]
    },
    {
      "cell_type": "code",
      "metadata": {
        "id": "mZZ-hTKr7HNO",
        "colab": {
          "base_uri": "https://localhost:8080/",
          "height": 422
        },
        "outputId": "8953d461-7000-4a4e-e199-52eebd0bc0c3"
      },
      "source": [
        "df_iris"
      ],
      "execution_count": 8,
      "outputs": [
        {
          "output_type": "execute_result",
          "data": {
            "text/html": [
              "<div>\n",
              "<style scoped>\n",
              "    .dataframe tbody tr th:only-of-type {\n",
              "        vertical-align: middle;\n",
              "    }\n",
              "\n",
              "    .dataframe tbody tr th {\n",
              "        vertical-align: top;\n",
              "    }\n",
              "\n",
              "    .dataframe thead th {\n",
              "        text-align: right;\n",
              "    }\n",
              "</style>\n",
              "<table border=\"1\" class=\"dataframe\">\n",
              "  <thead>\n",
              "    <tr style=\"text-align: right;\">\n",
              "      <th></th>\n",
              "      <th>x</th>\n",
              "      <th>derivative_one</th>\n",
              "    </tr>\n",
              "  </thead>\n",
              "  <tbody>\n",
              "    <tr>\n",
              "      <th>0</th>\n",
              "      <td>5.1</td>\n",
              "      <td>14260.398475</td>\n",
              "    </tr>\n",
              "    <tr>\n",
              "      <th>1</th>\n",
              "      <td>4.9</td>\n",
              "      <td>12204.511162</td>\n",
              "    </tr>\n",
              "    <tr>\n",
              "      <th>2</th>\n",
              "      <td>4.7</td>\n",
              "      <td>10381.343849</td>\n",
              "    </tr>\n",
              "    <tr>\n",
              "      <th>3</th>\n",
              "      <td>4.6</td>\n",
              "      <td>9551.240193</td>\n",
              "    </tr>\n",
              "    <tr>\n",
              "      <th>4</th>\n",
              "      <td>5.0</td>\n",
              "      <td>13202.182818</td>\n",
              "    </tr>\n",
              "    <tr>\n",
              "      <th>...</th>\n",
              "      <td>...</td>\n",
              "      <td>...</td>\n",
              "    </tr>\n",
              "    <tr>\n",
              "      <th>145</th>\n",
              "      <td>6.7</td>\n",
              "      <td>41550.696977</td>\n",
              "    </tr>\n",
              "    <tr>\n",
              "      <th>146</th>\n",
              "      <td>6.3</td>\n",
              "      <td>32611.802351</td>\n",
              "    </tr>\n",
              "    <tr>\n",
              "      <th>147</th>\n",
              "      <td>6.5</td>\n",
              "      <td>36877.337664</td>\n",
              "    </tr>\n",
              "    <tr>\n",
              "      <th>148</th>\n",
              "      <td>6.2</td>\n",
              "      <td>30624.258695</td>\n",
              "    </tr>\n",
              "    <tr>\n",
              "      <th>149</th>\n",
              "      <td>5.9</td>\n",
              "      <td>25206.667726</td>\n",
              "    </tr>\n",
              "  </tbody>\n",
              "</table>\n",
              "<p>150 rows × 2 columns</p>\n",
              "</div>"
            ],
            "text/plain": [
              "       x  derivative_one\n",
              "0    5.1    14260.398475\n",
              "1    4.9    12204.511162\n",
              "2    4.7    10381.343849\n",
              "3    4.6     9551.240193\n",
              "4    5.0    13202.182818\n",
              "..   ...             ...\n",
              "145  6.7    41550.696977\n",
              "146  6.3    32611.802351\n",
              "147  6.5    36877.337664\n",
              "148  6.2    30624.258695\n",
              "149  5.9    25206.667726\n",
              "\n",
              "[150 rows x 2 columns]"
            ]
          },
          "metadata": {
            "tags": []
          },
          "execution_count": 8
        }
      ]
    },
    {
      "cell_type": "code",
      "metadata": {
        "id": "F2SryUCCmDDE"
      },
      "source": [
        "# 이곳에 답안을 작성해주시기 바랍니다\n",
        "def f(x):\n",
        "    return 4*(x**5) + 9*(x**3) + np.exp(1)*(x**2) - 7\n",
        "\n",
        "from scipy.misc import derivative\n",
        "a = []\n",
        "for i in range(len(df_iris['x'])):\n",
        "    a.append( derivative(f, df_iris['x'][i], dx=1e-7) )\n",
        "# len(a)\n",
        "\n",
        "df_iris['derivative_two'] = a"
      ],
      "execution_count": 9,
      "outputs": []
    },
    {
      "cell_type": "code",
      "metadata": {
        "id": "AnG_XjYZ61sa",
        "colab": {
          "base_uri": "https://localhost:8080/"
        },
        "outputId": "922c66e2-1c52-4487-c385-40651ecff738"
      },
      "source": [
        "res3 = round( df_iris['derivative_two'].sum(), 3)\n",
        "res3"
      ],
      "execution_count": 10,
      "outputs": [
        {
          "output_type": "execute_result",
          "data": {
            "text/plain": [
              "4077643.121"
            ]
          },
          "metadata": {
            "tags": []
          },
          "execution_count": 10
        }
      ]
    },
    {
      "cell_type": "markdown",
      "metadata": {
        "id": "U9KQrjt3I66h"
      },
      "source": [
        "## 4. 미분 연습\n",
        ">아래의 함수들을 미분한 후에 **x = 5**일 때의 결과값을 `res4`, `res5`, `res6`, `res7`에 저장하세요. "
      ]
    },
    {
      "cell_type": "markdown",
      "metadata": {
        "id": "3MahA4KKmDDF"
      },
      "source": [
        " $f(x) = e^x$ "
      ]
    },
    {
      "cell_type": "code",
      "metadata": {
        "id": "Qe3zauGomDDG",
        "colab": {
          "base_uri": "https://localhost:8080/"
        },
        "outputId": "71bb2df3-b64d-450c-af7e-6e9371c84a3d"
      },
      "source": [
        "def e_prime(x):\n",
        "    return np.exp(x)  # 이 곳에 답안을 작성하세요\n",
        "\n",
        "res4 = e_prime(5)\n",
        "res4"
      ],
      "execution_count": 11,
      "outputs": [
        {
          "output_type": "execute_result",
          "data": {
            "text/plain": [
              "148.4131591025766"
            ]
          },
          "metadata": {
            "tags": []
          },
          "execution_count": 11
        }
      ]
    },
    {
      "cell_type": "markdown",
      "metadata": {
        "id": "Fp46RwEZmDDG"
      },
      "source": [
        "$f(x) = lnx$"
      ]
    },
    {
      "cell_type": "code",
      "metadata": {
        "id": "Hn1LQqi4mDDH",
        "colab": {
          "base_uri": "https://localhost:8080/"
        },
        "outputId": "e5344833-bc92-457a-8fea-1ef7f6079bc4"
      },
      "source": [
        "def ln_prime(x):\n",
        "    return 1/x  # 이 곳에 답안을 작성하세요\n",
        "res5 = ln_prime(5)\n",
        "round( res5, 3)"
      ],
      "execution_count": 12,
      "outputs": [
        {
          "output_type": "execute_result",
          "data": {
            "text/plain": [
              "0.2"
            ]
          },
          "metadata": {
            "tags": []
          },
          "execution_count": 12
        }
      ]
    },
    {
      "cell_type": "markdown",
      "metadata": {
        "id": "BDUipkUKmDDH"
      },
      "source": [
        "$f(x) = Sin(2x)$"
      ]
    },
    {
      "cell_type": "code",
      "metadata": {
        "id": "PDMYHjZ1mDDI",
        "colab": {
          "base_uri": "https://localhost:8080/"
        },
        "outputId": "e629926a-a6fc-4e6a-defa-87e5658cb367"
      },
      "source": [
        "def sine_prime(x):\n",
        "    return 2*np.cos(2*x)  # 이 곳에 답안을 작성하세요\n",
        "res6 = sine_prime(5)\n",
        "# res6 = sine_prime(2)\n",
        "\n",
        "round(res6, 3)\n",
        "# https://www.mathway.com/ko/popular-problems/Calculus/976813"
      ],
      "execution_count": 13,
      "outputs": [
        {
          "output_type": "execute_result",
          "data": {
            "text/plain": [
              "-1.678"
            ]
          },
          "metadata": {
            "tags": []
          },
          "execution_count": 13
        }
      ]
    },
    {
      "cell_type": "markdown",
      "metadata": {
        "id": "LX2awpFmmDDI"
      },
      "source": [
        "$f(x) = (2x^2 + 8x)^2$"
      ]
    },
    {
      "cell_type": "code",
      "metadata": {
        "id": "nlhlJZhImDDI",
        "colab": {
          "base_uri": "https://localhost:8080/"
        },
        "outputId": "3be8f47d-d900-4e0b-f40b-5b50a273c99d"
      },
      "source": [
        "def f_prime(x):\n",
        "    return 2*(2*x**2 + 8*x ) * (4*x + 8 )\n",
        "res7 = f_prime(5)\n",
        "# res7 = f_prime(4)\n",
        "\n",
        "round(res7, 3)"
      ],
      "execution_count": 14,
      "outputs": [
        {
          "output_type": "execute_result",
          "data": {
            "text/plain": [
              "5040"
            ]
          },
          "metadata": {
            "tags": []
          },
          "execution_count": 14
        }
      ]
    },
    {
      "cell_type": "markdown",
      "metadata": {
        "id": "yKehJVDsJQNg"
      },
      "source": [
        "## 3. 편미분\n",
        "\n",
        "주어진 `machine learning model`의 `error function` ($\\varepsilon$)이 다음과 같을 때 `error function`을 **최소화** 하는 최적의 `parameter`들을  구하세요. 그 후 결과를 각각 `p1`, `p2`에 저장하세요.\n",
        "\n",
        "$\\varepsilon(p_1, p_2) = (e \\cdot p_1 - p_2)^2 + {{k_2} \\over { 2 }} \\cdot p_2 $ \n",
        "\n",
        "$k_2 == 100$\n",
        "\n",
        "- 단 최적의 $p_1$은 $p_2$가 $3$일때, 최적의 $p_2$는 $p_1$이 $10$일때를 기준으로 합니다."
      ]
    },
    {
      "cell_type": "code",
      "metadata": {
        "id": "TlA7rqlnK2V8"
      },
      "source": [
        "# 이 곳에 답안을 작성하세요\n",
        "k2 = 100\n",
        "def f1(p1, p2):\n",
        "    return (np.exp(1)*p1 - p2)**2 + k2/2*p2"
      ],
      "execution_count": 15,
      "outputs": []
    },
    {
      "cell_type": "code",
      "metadata": {
        "id": "Lh0gVGaR_Gyz"
      },
      "source": [
        "# 미분 함수 정의하기\n",
        "from math import e\n",
        "\n",
        "# p1에대한 편미분\n",
        "def f1_p1(p1, p2=3):\n",
        "    return 2*(np.exp(1)*p1 - p2)*np.exp(1)\n",
        "\n",
        "# p2\n",
        "def f1_p2(p2, p1=10):\n",
        "    return 2*(e*p1 - p2)*(-1) + k2/2\n",
        "\n",
        "\n"
      ],
      "execution_count": 18,
      "outputs": []
    },
    {
      "cell_type": "code",
      "metadata": {
        "id": "UKBKJ44s0nV2"
      },
      "source": [
        "# 손으로 계산하였을 시 각각 편미분 한 식을 = 0 으로 넣고 풀었을 때가 가장 최적의 파라미터이므로 값은 아래와 같다. \n",
        "\n",
        "p1 = 3/np.exp(1)\n",
        "p2 = 10*np.exp(1)-25"
      ],
      "execution_count": 19,
      "outputs": []
    },
    {
      "cell_type": "markdown",
      "metadata": {
        "id": "ZTC_sDkNK87q"
      },
      "source": [
        "## Grading\n",
        "\n",
        "이전 과제를 완료했다면, 아래의 코드를 실행하세요. "
      ]
    },
    {
      "cell_type": "code",
      "metadata": {
        "id": "MiRrKvLNK_Mc"
      },
      "source": [
        "# def grade(res1, res2, res3, res4, res5, p1, p2):\n",
        "#     score = 0\n",
        "\n",
        "#     score += (res1 == 30.0)\n",
        "#     score += (res2 == 4073693.444)\n",
        "#     score += (res3 == 4077643.120)\n",
        "#     score += (round(res4, 3) == 148.413)\n",
        "#     score += (round(res5, 1) == 0.2)\n",
        "#     score += (round(res6, 3) == -1.678)\n",
        "#     score += (res7 == 2320)\n",
        "    \n",
        "#     score += (p1 == 3/exp(1))\n",
        "#     score += (p2 == 10*exp(1)-25)\n",
        "  \n",
        "#     return(score)"
      ],
      "execution_count": 20,
      "outputs": []
    },
    {
      "cell_type": "code",
      "metadata": {
        "id": "8cAaUKgAELQo"
      },
      "source": [
        "def grade(res1, res2, res3, res4, res5,res6,res7, p1, p2):\n",
        "    score = 0\n",
        "\n",
        "    score += (res1 == 30.0)\n",
        "    score += (res2 == 4077643.108)\n",
        "    score += (res3 == 4077643.121)\n",
        "    score += (round(res4, 3) == 148.413)\n",
        "    score += (round(res5, 1) == 0.2)\n",
        "    score += (round(res6, 3) == -1.678)\n",
        "    score += (res7 == 5040)\n",
        "    \n",
        "    score += (p1 == 3/exp(1))\n",
        "    score += (p2 == 10*exp(1)-25)\n",
        "  \n",
        "    return(score)"
      ],
      "execution_count": 21,
      "outputs": []
    },
    {
      "cell_type": "code",
      "metadata": {
        "colab": {
          "base_uri": "https://localhost:8080/"
        },
        "id": "Xkr0c3-QEEHV",
        "outputId": "8e8d394d-59fc-4e06-f480-b1033a6cc87e"
      },
      "source": [
        " grade(res1, res2, res3, res4, res5,res6,res7, p1, p2)"
      ],
      "execution_count": 25,
      "outputs": [
        {
          "output_type": "execute_result",
          "data": {
            "text/plain": [
              "9"
            ]
          },
          "metadata": {
            "tags": []
          },
          "execution_count": 25
        }
      ]
    },
    {
      "cell_type": "markdown",
      "metadata": {
        "id": "ksW7uwOzL-eY"
      },
      "source": [
        "## 🔥 도전과제 "
      ]
    },
    {
      "cell_type": "markdown",
      "metadata": {
        "id": "MltjgTsvMZmv"
      },
      "source": [
        "### 다음 함수를 미분하세요. 이후에 x = 3일 때의 결과를 `challenge`에 저장하세요.  \n",
        "$\\sigma(x) = {{1} \\over {1 + e^-x}}$. "
      ]
    },
    {
      "cell_type": "code",
      "metadata": {
        "id": "fnES_-OnmDDM"
      },
      "source": [
        "# def sig_prime(x):\n",
        "#     return -( (1+np.exp(-x))**(-2) )*np.exp(-x)\n",
        "#     #1 / (1 + np.exp(-x)) # 이곳에 답안을 작성하세요.\n",
        "\n",
        "# challenge = sig_prime(3)\n",
        "# challenge"
      ],
      "execution_count": 23,
      "outputs": []
    },
    {
      "cell_type": "code",
      "metadata": {
        "id": "SfRbIVZVA9Km",
        "colab": {
          "base_uri": "https://localhost:8080/"
        },
        "outputId": "a0c8d48b-9d26-4a60-91e4-ca6fa891ea3f"
      },
      "source": [
        "## 2차 제출 ##\n",
        "import numpy as np\n",
        "def sigmoid(x): \n",
        "    result = 1/(1+np.exp(-x)) \n",
        "    return result \n",
        "\n",
        "def sig_prime(x): \n",
        "    result = sigmoid(x) * (1 - sigmoid(x)) \n",
        "    return result\n",
        "challenge = sig_prime(3)\n",
        "challenge\n"
      ],
      "execution_count": 24,
      "outputs": [
        {
          "output_type": "execute_result",
          "data": {
            "text/plain": [
              "0.045176659730912"
            ]
          },
          "metadata": {
            "tags": []
          },
          "execution_count": 24
        }
      ]
    }
  ]
}
