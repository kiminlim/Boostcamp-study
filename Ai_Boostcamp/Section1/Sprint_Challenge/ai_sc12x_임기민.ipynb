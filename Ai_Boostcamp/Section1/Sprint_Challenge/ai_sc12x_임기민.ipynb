{
  "nbformat": 4,
  "nbformat_minor": 0,
  "metadata": {
    "colab": {
      "name": "ai-sc12x-임기민.ipynb",
      "provenance": [],
      "collapsed_sections": [],
      "toc_visible": true
    },
    "kernelspec": {
      "display_name": "Python 3",
      "language": "python",
      "name": "python3"
    },
    "language_info": {
      "codemirror_mode": {
        "name": "ipython",
        "version": 3
      },
      "file_extension": ".py",
      "mimetype": "text/x-python",
      "name": "python",
      "nbconvert_exporter": "python",
      "pygments_lexer": "ipython3",
      "version": "3.8.2"
    }
  },
  "cells": [
    {
      "cell_type": "markdown",
      "metadata": {
        "id": "NooAiTdnafkz"
      },
      "source": [
        "<img src='https://i.imgur.com/RDAD11M.png' width = '200' align = 'right'>\n",
        "\n",
        "# SC12x\n",
        "\n",
        "## Statistical Analysis"
      ]
    },
    {
      "cell_type": "markdown",
      "metadata": {
        "id": "p1WIHlUA7itE"
      },
      "source": [
        "## 개요\n",
        "\n",
        "여러분은 코스 수료를 마치고 CodeStates에 DS CA (Coaching  Assistant)로 합류했습니다.\n",
        "\n",
        "여러분에게 주어진 메인 태스크는 세션 및 수강생 핸들링이지만. \n",
        "\n",
        "시간을 짜내어 사이드 프로젝트를 하고 싶어졌습니다.\n",
        "\n",
        "AIB 팀원들과의 커피타임을 통해 수강생 데이터를 하나 받을 수 있었습니다.\n",
        "\n",
        "> 기수별 학생들 성취도 데이터인데, 어떤 의미가 있는지 확인해주세요."
      ]
    },
    {
      "cell_type": "markdown",
      "metadata": {
        "id": "WpH5PrMh-rOU"
      },
      "source": [
        "### Data Description\n",
        "\n",
        "- F1 : `N`, `D`\n",
        "- F2 : `Y`, `N`\n",
        "- F3 : `A`, `B`, `C`, `D` (기수)\n",
        "- F4 : Continuous\n",
        "- F5 : Continuous\n",
        "- F6 : `A` ~ `H`\n",
        "- F7 : Continuous\n",
        "- F8 : `X`, `Y`, `Z`\n",
        "- F9 : `Y`, `N`"
      ]
    },
    {
      "cell_type": "markdown",
      "metadata": {
        "id": "5wch6ksCbJtZ"
      },
      "source": [
        "## 1. 다음 링크를 참조하여 데이터를 불러오세요. \n",
        "\n",
        "<https://ds-lecture-data.s3.ap-northeast-2.amazonaws.com/sc12x/csdata.csv>\n",
        "\n",
        "이후 간단한 전처리를 하세요.\n"
      ]
    },
    {
      "cell_type": "code",
      "metadata": {
        "id": "1vSniBMjN950"
      },
      "source": [
        "import pandas as pd\n",
        "df = pd.read_csv(\"https://ds-lecture-data.s3.ap-northeast-2.amazonaws.com/sc12x/csdata.csv\")"
      ],
      "execution_count": 206,
      "outputs": []
    },
    {
      "cell_type": "code",
      "metadata": {
        "colab": {
          "base_uri": "https://localhost:8080/",
          "height": 424
        },
        "id": "sNlj-9LUSlJY",
        "outputId": "801dd7b7-db13-4a02-8916-047b25d13b0b"
      },
      "source": [
        "df"
      ],
      "execution_count": 207,
      "outputs": [
        {
          "output_type": "execute_result",
          "data": {
            "text/html": [
              "<div>\n",
              "<style scoped>\n",
              "    .dataframe tbody tr th:only-of-type {\n",
              "        vertical-align: middle;\n",
              "    }\n",
              "\n",
              "    .dataframe tbody tr th {\n",
              "        vertical-align: top;\n",
              "    }\n",
              "\n",
              "    .dataframe thead th {\n",
              "        text-align: right;\n",
              "    }\n",
              "</style>\n",
              "<table border=\"1\" class=\"dataframe\">\n",
              "  <thead>\n",
              "    <tr style=\"text-align: right;\">\n",
              "      <th></th>\n",
              "      <th>Unnamed: 0</th>\n",
              "      <th>F1</th>\n",
              "      <th>F2</th>\n",
              "      <th>F3</th>\n",
              "      <th>F4</th>\n",
              "      <th>F5</th>\n",
              "      <th>F6</th>\n",
              "      <th>F7</th>\n",
              "      <th>F8</th>\n",
              "      <th>F9</th>\n",
              "    </tr>\n",
              "  </thead>\n",
              "  <tbody>\n",
              "    <tr>\n",
              "      <th>0</th>\n",
              "      <td>1</td>\n",
              "      <td>N</td>\n",
              "      <td>N</td>\n",
              "      <td>A</td>\n",
              "      <td>2.239542</td>\n",
              "      <td>0.773708</td>\n",
              "      <td>H</td>\n",
              "      <td>3.0</td>\n",
              "      <td>Y</td>\n",
              "      <td>Y</td>\n",
              "    </tr>\n",
              "    <tr>\n",
              "      <th>1</th>\n",
              "      <td>2</td>\n",
              "      <td>D</td>\n",
              "      <td>N</td>\n",
              "      <td>A</td>\n",
              "      <td>1.608900</td>\n",
              "      <td>0.133612</td>\n",
              "      <td>H</td>\n",
              "      <td>3.0</td>\n",
              "      <td>X</td>\n",
              "      <td>Y</td>\n",
              "    </tr>\n",
              "    <tr>\n",
              "      <th>2</th>\n",
              "      <td>3</td>\n",
              "      <td>N</td>\n",
              "      <td>N</td>\n",
              "      <td>A</td>\n",
              "      <td>2.544409</td>\n",
              "      <td>0.721873</td>\n",
              "      <td>H</td>\n",
              "      <td>8.0</td>\n",
              "      <td>Y</td>\n",
              "      <td>Y</td>\n",
              "    </tr>\n",
              "    <tr>\n",
              "      <th>3</th>\n",
              "      <td>4</td>\n",
              "      <td>N</td>\n",
              "      <td>Y</td>\n",
              "      <td>A</td>\n",
              "      <td>0.782857</td>\n",
              "      <td>0.259751</td>\n",
              "      <td>F</td>\n",
              "      <td>9.0</td>\n",
              "      <td>Y</td>\n",
              "      <td>N</td>\n",
              "    </tr>\n",
              "    <tr>\n",
              "      <th>4</th>\n",
              "      <td>5</td>\n",
              "      <td>N</td>\n",
              "      <td>N</td>\n",
              "      <td>A</td>\n",
              "      <td>1.532721</td>\n",
              "      <td>0.283534</td>\n",
              "      <td>E</td>\n",
              "      <td>4.0</td>\n",
              "      <td>Z</td>\n",
              "      <td>Y</td>\n",
              "    </tr>\n",
              "    <tr>\n",
              "      <th>...</th>\n",
              "      <td>...</td>\n",
              "      <td>...</td>\n",
              "      <td>...</td>\n",
              "      <td>...</td>\n",
              "      <td>...</td>\n",
              "      <td>...</td>\n",
              "      <td>...</td>\n",
              "      <td>...</td>\n",
              "      <td>...</td>\n",
              "      <td>...</td>\n",
              "    </tr>\n",
              "    <tr>\n",
              "      <th>195</th>\n",
              "      <td>196</td>\n",
              "      <td>N</td>\n",
              "      <td>N</td>\n",
              "      <td>D</td>\n",
              "      <td>2.765327</td>\n",
              "      <td>0.753814</td>\n",
              "      <td>G</td>\n",
              "      <td>5.0</td>\n",
              "      <td>X</td>\n",
              "      <td>Y</td>\n",
              "    </tr>\n",
              "    <tr>\n",
              "      <th>196</th>\n",
              "      <td>197</td>\n",
              "      <td>N</td>\n",
              "      <td>Y</td>\n",
              "      <td>D</td>\n",
              "      <td>3.098499</td>\n",
              "      <td>0.637145</td>\n",
              "      <td>G</td>\n",
              "      <td>2.0</td>\n",
              "      <td>Y</td>\n",
              "      <td>Y</td>\n",
              "    </tr>\n",
              "    <tr>\n",
              "      <th>197</th>\n",
              "      <td>198</td>\n",
              "      <td>N</td>\n",
              "      <td>N</td>\n",
              "      <td>D</td>\n",
              "      <td>1.613861</td>\n",
              "      <td>0.882830</td>\n",
              "      <td>F</td>\n",
              "      <td>2.0</td>\n",
              "      <td>Z</td>\n",
              "      <td>Y</td>\n",
              "    </tr>\n",
              "    <tr>\n",
              "      <th>198</th>\n",
              "      <td>199</td>\n",
              "      <td>N</td>\n",
              "      <td>N</td>\n",
              "      <td>d</td>\n",
              "      <td>3.003789</td>\n",
              "      <td>0.892767</td>\n",
              "      <td>G</td>\n",
              "      <td>4.0</td>\n",
              "      <td>Z</td>\n",
              "      <td>Y</td>\n",
              "    </tr>\n",
              "    <tr>\n",
              "      <th>199</th>\n",
              "      <td>200</td>\n",
              "      <td>N</td>\n",
              "      <td>N</td>\n",
              "      <td>D</td>\n",
              "      <td>2.468083</td>\n",
              "      <td>0.121094</td>\n",
              "      <td>G</td>\n",
              "      <td>5.0</td>\n",
              "      <td>X</td>\n",
              "      <td>N</td>\n",
              "    </tr>\n",
              "  </tbody>\n",
              "</table>\n",
              "<p>200 rows × 10 columns</p>\n",
              "</div>"
            ],
            "text/plain": [
              "     Unnamed: 0 F1 F2 F3        F4        F5 F6   F7 F8 F9\n",
              "0             1  N  N  A  2.239542  0.773708  H  3.0  Y  Y\n",
              "1             2  D  N  A  1.608900  0.133612  H  3.0  X  Y\n",
              "2             3  N  N  A  2.544409  0.721873  H  8.0  Y  Y\n",
              "3             4  N  Y  A  0.782857  0.259751  F  9.0  Y  N\n",
              "4             5  N  N  A  1.532721  0.283534  E  4.0  Z  Y\n",
              "..          ... .. .. ..       ...       ... ..  ... .. ..\n",
              "195         196  N  N  D  2.765327  0.753814  G  5.0  X  Y\n",
              "196         197  N  Y  D  3.098499  0.637145  G  2.0  Y  Y\n",
              "197         198  N  N  D  1.613861  0.882830  F  2.0  Z  Y\n",
              "198         199  N  N  d  3.003789  0.892767  G  4.0  Z  Y\n",
              "199         200  N  N  D  2.468083  0.121094  G  5.0  X  N\n",
              "\n",
              "[200 rows x 10 columns]"
            ]
          },
          "metadata": {
            "tags": []
          },
          "execution_count": 207
        }
      ]
    },
    {
      "cell_type": "markdown",
      "metadata": {
        "id": "arndd44gF9VX"
      },
      "source": [
        "> | 범주형 데이터 : F1, F2, F3, F5, F8, F9 |   \n",
        "\n",
        "\n",
        "> | 연속형 데이터 : F4, F5, F7 |"
      ]
    },
    {
      "cell_type": "markdown",
      "metadata": {
        "id": "1kmDrLOPL6Eg"
      },
      "source": [
        "수강생 데이터에서 N/D 혹은 N/Y같은 데이터로 유추 가능한 변수\n",
        "1. 이슈쉐어링 여부  \n",
        "2. 헬프데스크 질문 여부  \n",
        "3. 결석(지각3회)여부   \n",
        "4. 미제출 과제 여부\n",
        "\n",
        "수치 데이터 유추  \n",
        "1. 과제 평균(0~3)\n",
        "2. 스챌 평균(0~3)\n",
        "3. 과제 백분위(0~1)"
      ]
    },
    {
      "cell_type": "code",
      "metadata": {
        "colab": {
          "base_uri": "https://localhost:8080/"
        },
        "id": "ndiRZ0QmSuqc",
        "outputId": "dced9d38-433b-4cca-e4d6-a6ca76989821"
      },
      "source": [
        "df.info()"
      ],
      "execution_count": 208,
      "outputs": [
        {
          "output_type": "stream",
          "text": [
            "<class 'pandas.core.frame.DataFrame'>\n",
            "RangeIndex: 200 entries, 0 to 199\n",
            "Data columns (total 10 columns):\n",
            " #   Column      Non-Null Count  Dtype  \n",
            "---  ------      --------------  -----  \n",
            " 0   Unnamed: 0  200 non-null    int64  \n",
            " 1   F1          200 non-null    object \n",
            " 2   F2          191 non-null    object \n",
            " 3   F3          200 non-null    object \n",
            " 4   F4          200 non-null    float64\n",
            " 5   F5          170 non-null    float64\n",
            " 6   F6          200 non-null    object \n",
            " 7   F7          197 non-null    float64\n",
            " 8   F8          200 non-null    object \n",
            " 9   F9          200 non-null    object \n",
            "dtypes: float64(3), int64(1), object(6)\n",
            "memory usage: 15.8+ KB\n"
          ],
          "name": "stdout"
        }
      ]
    },
    {
      "cell_type": "code",
      "metadata": {
        "id": "enZHDO7XSuwd",
        "colab": {
          "base_uri": "https://localhost:8080/"
        },
        "outputId": "139ed0ee-3df1-4106-a132-8ad54e8e4652"
      },
      "source": [
        "df.isnull().sum()"
      ],
      "execution_count": 209,
      "outputs": [
        {
          "output_type": "execute_result",
          "data": {
            "text/plain": [
              "Unnamed: 0     0\n",
              "F1             0\n",
              "F2             9\n",
              "F3             0\n",
              "F4             0\n",
              "F5            30\n",
              "F6             0\n",
              "F7             3\n",
              "F8             0\n",
              "F9             0\n",
              "dtype: int64"
            ]
          },
          "metadata": {
            "tags": []
          },
          "execution_count": 209
        }
      ]
    },
    {
      "cell_type": "code",
      "metadata": {
        "id": "198M9Zu7TjMC"
      },
      "source": [
        "df=df.fillna(0) # 결측치 의미 -> 미제출 또는 입력 과정에서 실수라고 가정, 미제출일 때  0으로 대체 / 미입력일 때 평균 대체 "
      ],
      "execution_count": 210,
      "outputs": []
    },
    {
      "cell_type": "code",
      "metadata": {
        "colab": {
          "base_uri": "https://localhost:8080/",
          "height": 300
        },
        "id": "PjwBW0gDb6-A",
        "outputId": "d0b01618-d764-41bc-c552-0d267d546b80"
      },
      "source": [
        "# 수치형 데이터 기초통계량\n",
        "df[['F4','F5','F7']].describe()"
      ],
      "execution_count": 211,
      "outputs": [
        {
          "output_type": "execute_result",
          "data": {
            "text/html": [
              "<div>\n",
              "<style scoped>\n",
              "    .dataframe tbody tr th:only-of-type {\n",
              "        vertical-align: middle;\n",
              "    }\n",
              "\n",
              "    .dataframe tbody tr th {\n",
              "        vertical-align: top;\n",
              "    }\n",
              "\n",
              "    .dataframe thead th {\n",
              "        text-align: right;\n",
              "    }\n",
              "</style>\n",
              "<table border=\"1\" class=\"dataframe\">\n",
              "  <thead>\n",
              "    <tr style=\"text-align: right;\">\n",
              "      <th></th>\n",
              "      <th>F4</th>\n",
              "      <th>F5</th>\n",
              "      <th>F7</th>\n",
              "    </tr>\n",
              "  </thead>\n",
              "  <tbody>\n",
              "    <tr>\n",
              "      <th>count</th>\n",
              "      <td>200.000000</td>\n",
              "      <td>200.000000</td>\n",
              "      <td>200.000000</td>\n",
              "    </tr>\n",
              "    <tr>\n",
              "      <th>mean</th>\n",
              "      <td>2.512655</td>\n",
              "      <td>0.425193</td>\n",
              "      <td>4.860000</td>\n",
              "    </tr>\n",
              "    <tr>\n",
              "      <th>std</th>\n",
              "      <td>1.166105</td>\n",
              "      <td>0.321321</td>\n",
              "      <td>2.076526</td>\n",
              "    </tr>\n",
              "    <tr>\n",
              "      <th>min</th>\n",
              "      <td>0.022079</td>\n",
              "      <td>0.000000</td>\n",
              "      <td>0.000000</td>\n",
              "    </tr>\n",
              "    <tr>\n",
              "      <th>25%</th>\n",
              "      <td>1.732794</td>\n",
              "      <td>0.128679</td>\n",
              "      <td>3.000000</td>\n",
              "    </tr>\n",
              "    <tr>\n",
              "      <th>50%</th>\n",
              "      <td>2.546567</td>\n",
              "      <td>0.392518</td>\n",
              "      <td>5.000000</td>\n",
              "    </tr>\n",
              "    <tr>\n",
              "      <th>75%</th>\n",
              "      <td>3.311934</td>\n",
              "      <td>0.715038</td>\n",
              "      <td>6.000000</td>\n",
              "    </tr>\n",
              "    <tr>\n",
              "      <th>max</th>\n",
              "      <td>5.868967</td>\n",
              "      <td>0.993412</td>\n",
              "      <td>11.000000</td>\n",
              "    </tr>\n",
              "  </tbody>\n",
              "</table>\n",
              "</div>"
            ],
            "text/plain": [
              "               F4          F5          F7\n",
              "count  200.000000  200.000000  200.000000\n",
              "mean     2.512655    0.425193    4.860000\n",
              "std      1.166105    0.321321    2.076526\n",
              "min      0.022079    0.000000    0.000000\n",
              "25%      1.732794    0.128679    3.000000\n",
              "50%      2.546567    0.392518    5.000000\n",
              "75%      3.311934    0.715038    6.000000\n",
              "max      5.868967    0.993412   11.000000"
            ]
          },
          "metadata": {
            "tags": []
          },
          "execution_count": 211
        }
      ]
    },
    {
      "cell_type": "markdown",
      "metadata": {
        "id": "IOWaI8tiKPps"
      },
      "source": [
        "변수 살펴보기"
      ]
    },
    {
      "cell_type": "code",
      "metadata": {
        "colab": {
          "base_uri": "https://localhost:8080/"
        },
        "id": "ogXYJ6HAZYIf",
        "outputId": "acea533e-240d-45d9-d35a-05b578c9000e"
      },
      "source": [
        "# F1\n",
        "df['F1'].unique()"
      ],
      "execution_count": 212,
      "outputs": [
        {
          "output_type": "execute_result",
          "data": {
            "text/plain": [
              "array(['N', 'D'], dtype=object)"
            ]
          },
          "metadata": {
            "tags": []
          },
          "execution_count": 212
        }
      ]
    },
    {
      "cell_type": "code",
      "metadata": {
        "colab": {
          "base_uri": "https://localhost:8080/"
        },
        "id": "VpqYcmdTdXaT",
        "outputId": "cbfed415-5e05-4a0a-8830-4ad76bd5fd87"
      },
      "source": [
        "df['F1'].value_counts()"
      ],
      "execution_count": 213,
      "outputs": [
        {
          "output_type": "execute_result",
          "data": {
            "text/plain": [
              "N    164\n",
              "D     36\n",
              "Name: F1, dtype: int64"
            ]
          },
          "metadata": {
            "tags": []
          },
          "execution_count": 213
        }
      ]
    },
    {
      "cell_type": "code",
      "metadata": {
        "colab": {
          "base_uri": "https://localhost:8080/"
        },
        "id": "kHbIf3xbaZQI",
        "outputId": "1ff20c4f-bed2-4a1c-e99d-03d83f68ece0"
      },
      "source": [
        "# F2\n",
        "df['F2'].unique() # 결측치가 0으로 들어간 것 같다"
      ],
      "execution_count": 214,
      "outputs": [
        {
          "output_type": "execute_result",
          "data": {
            "text/plain": [
              "array(['N', 'Y', 0], dtype=object)"
            ]
          },
          "metadata": {
            "tags": []
          },
          "execution_count": 214
        }
      ]
    },
    {
      "cell_type": "code",
      "metadata": {
        "colab": {
          "base_uri": "https://localhost:8080/"
        },
        "id": "-HFvgizAdftZ",
        "outputId": "b28a980d-1551-44aa-9287-1ff019c3a54a"
      },
      "source": [
        "df['F2'].value_counts()"
      ],
      "execution_count": 215,
      "outputs": [
        {
          "output_type": "execute_result",
          "data": {
            "text/plain": [
              "N    178\n",
              "Y     13\n",
              "0      9\n",
              "Name: F2, dtype: int64"
            ]
          },
          "metadata": {
            "tags": []
          },
          "execution_count": 215
        }
      ]
    },
    {
      "cell_type": "code",
      "metadata": {
        "colab": {
          "base_uri": "https://localhost:8080/"
        },
        "id": "9wxUexaNLNRI",
        "outputId": "9cd1bfd9-9405-4447-955a-5fb91a070dea"
      },
      "source": [
        "df['F2'][df['F2'] == 0] = 'N' # 0은 N일 가능성이 높아보이므로 대체\n",
        "df['F2'].value_counts()"
      ],
      "execution_count": 216,
      "outputs": [
        {
          "output_type": "stream",
          "text": [
            "/usr/local/lib/python3.7/dist-packages/ipykernel_launcher.py:1: SettingWithCopyWarning: \n",
            "A value is trying to be set on a copy of a slice from a DataFrame\n",
            "\n",
            "See the caveats in the documentation: https://pandas.pydata.org/pandas-docs/stable/user_guide/indexing.html#returning-a-view-versus-a-copy\n",
            "  \"\"\"Entry point for launching an IPython kernel.\n"
          ],
          "name": "stderr"
        },
        {
          "output_type": "execute_result",
          "data": {
            "text/plain": [
              "N    187\n",
              "Y     13\n",
              "Name: F2, dtype: int64"
            ]
          },
          "metadata": {
            "tags": []
          },
          "execution_count": 216
        }
      ]
    },
    {
      "cell_type": "code",
      "metadata": {
        "colab": {
          "base_uri": "https://localhost:8080/"
        },
        "id": "kry3tn6saZSs",
        "outputId": "f638a445-5bd3-4c05-b0d6-5dd14ed201d9"
      },
      "source": [
        "df['F3'].unique() # 소문자"
      ],
      "execution_count": 217,
      "outputs": [
        {
          "output_type": "execute_result",
          "data": {
            "text/plain": [
              "array(['A', 'a', 'B', 'b', 'C', 'c', 'D', 'd'], dtype=object)"
            ]
          },
          "metadata": {
            "tags": []
          },
          "execution_count": 217
        }
      ]
    },
    {
      "cell_type": "code",
      "metadata": {
        "id": "BDlWY5F9VOIa"
      },
      "source": [
        "df['F3'] = df['F3'].str.upper()"
      ],
      "execution_count": 218,
      "outputs": []
    },
    {
      "cell_type": "code",
      "metadata": {
        "colab": {
          "base_uri": "https://localhost:8080/"
        },
        "id": "YvHXRN_vbTqY",
        "outputId": "a3e71162-81dc-4f59-cd46-55c595c9afbd"
      },
      "source": [
        "df['F3'].unique() # 소문자 변환 -> A, B, C, D (기수)"
      ],
      "execution_count": 219,
      "outputs": [
        {
          "output_type": "execute_result",
          "data": {
            "text/plain": [
              "array(['A', 'B', 'C', 'D'], dtype=object)"
            ]
          },
          "metadata": {
            "tags": []
          },
          "execution_count": 219
        }
      ]
    },
    {
      "cell_type": "code",
      "metadata": {
        "colab": {
          "base_uri": "https://localhost:8080/"
        },
        "id": "tAqxR37zdlu8",
        "outputId": "d9abad07-8236-4a84-9915-27f0f35b15c7"
      },
      "source": [
        "df['F3'].value_counts() # 기수 1~4를 A,B,C,D로 표현한 듯 하다"
      ],
      "execution_count": 220,
      "outputs": [
        {
          "output_type": "execute_result",
          "data": {
            "text/plain": [
              "C    50\n",
              "B    50\n",
              "D    50\n",
              "A    50\n",
              "Name: F3, dtype: int64"
            ]
          },
          "metadata": {
            "tags": []
          },
          "execution_count": 220
        }
      ]
    },
    {
      "cell_type": "code",
      "metadata": {
        "colab": {
          "base_uri": "https://localhost:8080/"
        },
        "id": "27GPjiphaZWN",
        "outputId": "38382271-f8ca-4406-bee9-9c9af03b6f13"
      },
      "source": [
        "df['F6'].unique() # A~H"
      ],
      "execution_count": 221,
      "outputs": [
        {
          "output_type": "execute_result",
          "data": {
            "text/plain": [
              "array(['H', 'F', 'E', 'C', 'G', 'D', 'B'], dtype=object)"
            ]
          },
          "metadata": {
            "tags": []
          },
          "execution_count": 221
        }
      ]
    },
    {
      "cell_type": "code",
      "metadata": {
        "colab": {
          "base_uri": "https://localhost:8080/"
        },
        "id": "k9waPFandvRT",
        "outputId": "8ea2c0a5-d33f-4333-8673-b2f59880f7d3"
      },
      "source": [
        "df['F6'].value_counts() # B가 제일 적고 H가 제일 많은 걸 봐선 점수를 학점처럼 A~H의 구간으로 등급을 나눠둔게 아닐까 싶은데 일단 뒤에서 점수와 검정을 해봐야겠다."
      ],
      "execution_count": 222,
      "outputs": [
        {
          "output_type": "execute_result",
          "data": {
            "text/plain": [
              "H    83\n",
              "G    49\n",
              "F    38\n",
              "E    18\n",
              "D     6\n",
              "C     5\n",
              "B     1\n",
              "Name: F6, dtype: int64"
            ]
          },
          "metadata": {
            "tags": []
          },
          "execution_count": 222
        }
      ]
    },
    {
      "cell_type": "code",
      "metadata": {
        "colab": {
          "base_uri": "https://localhost:8080/"
        },
        "id": "VFD94Y6obBLp",
        "outputId": "3dfab47d-dae2-419e-fae3-c9b66165e608"
      },
      "source": [
        "df['F8'].unique()"
      ],
      "execution_count": 223,
      "outputs": [
        {
          "output_type": "execute_result",
          "data": {
            "text/plain": [
              "array(['Y', 'X', 'Z'], dtype=object)"
            ]
          },
          "metadata": {
            "tags": []
          },
          "execution_count": 223
        }
      ]
    },
    {
      "cell_type": "code",
      "metadata": {
        "colab": {
          "base_uri": "https://localhost:8080/"
        },
        "id": "0PE2L3dqeOWK",
        "outputId": "75765b11-8ba1-4f5e-b669-dd652bb97f35"
      },
      "source": [
        "df['F8'].value_counts()  # 과제 1,2,3점?"
      ],
      "execution_count": 224,
      "outputs": [
        {
          "output_type": "execute_result",
          "data": {
            "text/plain": [
              "Y    99\n",
              "Z    58\n",
              "X    43\n",
              "Name: F8, dtype: int64"
            ]
          },
          "metadata": {
            "tags": []
          },
          "execution_count": 224
        }
      ]
    },
    {
      "cell_type": "code",
      "metadata": {
        "colab": {
          "base_uri": "https://localhost:8080/"
        },
        "id": "T0q-6su9bBPE",
        "outputId": "a7791903-d085-4802-8f4e-7326190f8475"
      },
      "source": [
        "df['F9'].unique()"
      ],
      "execution_count": 225,
      "outputs": [
        {
          "output_type": "execute_result",
          "data": {
            "text/plain": [
              "array(['Y', 'N'], dtype=object)"
            ]
          },
          "metadata": {
            "tags": []
          },
          "execution_count": 225
        }
      ]
    },
    {
      "cell_type": "code",
      "metadata": {
        "colab": {
          "base_uri": "https://localhost:8080/"
        },
        "id": "0m8H5cQieRU9",
        "outputId": "c4f1af2d-2561-4d49-a1a5-d01597c0a7df"
      },
      "source": [
        "df['F9'].value_counts()"
      ],
      "execution_count": 226,
      "outputs": [
        {
          "output_type": "execute_result",
          "data": {
            "text/plain": [
              "N    111\n",
              "Y     89\n",
              "Name: F9, dtype: int64"
            ]
          },
          "metadata": {
            "tags": []
          },
          "execution_count": 226
        }
      ]
    },
    {
      "cell_type": "markdown",
      "metadata": {
        "id": "G7rLytbrO38L"
      },
      "source": [
        "## 2. **F3**에 따라서 다른 Feature들이 어떤 경향을 나타내는지 해석해보세요.\n",
        "\n",
        "- categorical feature의 경우 crosstab을 사용하여 [contingency tables](https://en.wikipedia.org/wiki/Contingency_table)과 chi-square를 시도해 볼 수 있습니다.\n",
        "\n",
        "- continuous feature의 경우 여러 시각화와 t-test를 할 수 있을 겁니다.\n",
        "\n",
        "- 이를 바탕으로 **가장 유의미한** 그리고 **가장 무의미한** feature를 찾아보세요.\n",
        "\n",
        "여기서 여러분들의 목표는 \n",
        "\n",
        "`F3`에 따라서 다른 feature들이 영향이 있는지 없는지를 알아보는 \n",
        "\n",
        "**가설검정** 입니다.\n",
        "\n",
        "따라서 데이터 탐색 및 시각화 작업에 너무 많은 시간을 쏟지 마세요. 이것은 사이드 프로젝트 입니다."
      ]
    },
    {
      "cell_type": "code",
      "metadata": {
        "id": "_nqcgc0yzm68",
        "colab": {
          "base_uri": "https://localhost:8080/"
        },
        "outputId": "7bf83107-5cc1-4705-d48e-1a413ee6f7e1"
      },
      "source": [
        "# 이 곳에 답안을 작성하시기 바랍니다\n",
        "df.info()"
      ],
      "execution_count": 227,
      "outputs": [
        {
          "output_type": "stream",
          "text": [
            "<class 'pandas.core.frame.DataFrame'>\n",
            "RangeIndex: 200 entries, 0 to 199\n",
            "Data columns (total 10 columns):\n",
            " #   Column      Non-Null Count  Dtype  \n",
            "---  ------      --------------  -----  \n",
            " 0   Unnamed: 0  200 non-null    int64  \n",
            " 1   F1          200 non-null    object \n",
            " 2   F2          200 non-null    object \n",
            " 3   F3          200 non-null    object \n",
            " 4   F4          200 non-null    float64\n",
            " 5   F5          200 non-null    float64\n",
            " 6   F6          200 non-null    object \n",
            " 7   F7          200 non-null    float64\n",
            " 8   F8          200 non-null    object \n",
            " 9   F9          200 non-null    object \n",
            "dtypes: float64(3), int64(1), object(6)\n",
            "memory usage: 15.8+ KB\n"
          ],
          "name": "stdout"
        }
      ]
    },
    {
      "cell_type": "markdown",
      "metadata": {
        "id": "E6h4lAE0fLcw"
      },
      "source": [
        "### 범주형 crosstab (F1, F2, F6, F8, F9 vs F3)"
      ]
    },
    {
      "cell_type": "code",
      "metadata": {
        "colab": {
          "base_uri": "https://localhost:8080/",
          "height": 143
        },
        "id": "BRvXauLSfKoa",
        "outputId": "7fc7a0b7-a1c2-42c6-9223-7dec39bf12eb"
      },
      "source": [
        "import pandas as pd\n",
        "\n",
        "df1 = pd.crosstab(df['F1'], df['F3']) # 기수와 딱히 상관 없이 N은 대부분 40정도 나오는 것 같다\n",
        "df1"
      ],
      "execution_count": 228,
      "outputs": [
        {
          "output_type": "execute_result",
          "data": {
            "text/html": [
              "<div>\n",
              "<style scoped>\n",
              "    .dataframe tbody tr th:only-of-type {\n",
              "        vertical-align: middle;\n",
              "    }\n",
              "\n",
              "    .dataframe tbody tr th {\n",
              "        vertical-align: top;\n",
              "    }\n",
              "\n",
              "    .dataframe thead th {\n",
              "        text-align: right;\n",
              "    }\n",
              "</style>\n",
              "<table border=\"1\" class=\"dataframe\">\n",
              "  <thead>\n",
              "    <tr style=\"text-align: right;\">\n",
              "      <th>F3</th>\n",
              "      <th>A</th>\n",
              "      <th>B</th>\n",
              "      <th>C</th>\n",
              "      <th>D</th>\n",
              "    </tr>\n",
              "    <tr>\n",
              "      <th>F1</th>\n",
              "      <th></th>\n",
              "      <th></th>\n",
              "      <th></th>\n",
              "      <th></th>\n",
              "    </tr>\n",
              "  </thead>\n",
              "  <tbody>\n",
              "    <tr>\n",
              "      <th>D</th>\n",
              "      <td>6</td>\n",
              "      <td>9</td>\n",
              "      <td>10</td>\n",
              "      <td>11</td>\n",
              "    </tr>\n",
              "    <tr>\n",
              "      <th>N</th>\n",
              "      <td>44</td>\n",
              "      <td>41</td>\n",
              "      <td>40</td>\n",
              "      <td>39</td>\n",
              "    </tr>\n",
              "  </tbody>\n",
              "</table>\n",
              "</div>"
            ],
            "text/plain": [
              "F3   A   B   C   D\n",
              "F1                \n",
              "D    6   9  10  11\n",
              "N   44  41  40  39"
            ]
          },
          "metadata": {
            "tags": []
          },
          "execution_count": 228
        }
      ]
    },
    {
      "cell_type": "code",
      "metadata": {
        "colab": {
          "base_uri": "https://localhost:8080/",
          "height": 301
        },
        "id": "QajghZgFngA2",
        "outputId": "e22504bb-3fbb-461b-9c47-49f8c3438174"
      },
      "source": [
        "df1.plot(kind='bar')"
      ],
      "execution_count": 229,
      "outputs": [
        {
          "output_type": "execute_result",
          "data": {
            "text/plain": [
              "<matplotlib.axes._subplots.AxesSubplot at 0x7fbe9343e990>"
            ]
          },
          "metadata": {
            "tags": []
          },
          "execution_count": 229
        },
        {
          "output_type": "display_data",
          "data": {
            "image/png": "[encoded data removed]",
            "text/plain": [
              "<Figure size 432x288 with 1 Axes>"
            ]
          },
          "metadata": {
            "tags": []
          }
        }
      ]
    },
    {
      "cell_type": "code",
      "metadata": {
        "colab": {
          "base_uri": "https://localhost:8080/"
        },
        "id": "PKtpr8jRjI_w",
        "outputId": "6c823a6a-fa6c-4d79-943d-543cd03cf109"
      },
      "source": [
        "from scipy.stats import chi2_contingency\n",
        "# 귀무가설 : F1과 F3는 연관이 없다.\n",
        "# 대립가설 : F1과 F3는 연관이 있다.\n",
        "\n",
        "chi2 = chi2_contingency(df1, correction=False)\n",
        "chi2 # 0.594 > 0.05 이므로 유의수준 5%에서 귀무가설을 기각할 수 없다. \n"
      ],
      "execution_count": 230,
      "outputs": [
        {
          "output_type": "execute_result",
          "data": {
            "text/plain": [
              "(1.897018970189702, 0.5940533789798919, 3, array([[ 9.,  9.,  9.,  9.],\n",
              "        [41., 41., 41., 41.]]))"
            ]
          },
          "metadata": {
            "tags": []
          },
          "execution_count": 230
        }
      ]
    },
    {
      "cell_type": "code",
      "metadata": {
        "colab": {
          "base_uri": "https://localhost:8080/",
          "height": 143
        },
        "id": "4esRjstgfKrM",
        "outputId": "2ecd0193-2178-4595-c1a1-46c34d37419e"
      },
      "source": [
        "df2 = pd.crosstab(df['F2'], df['F3'])\n",
        "df2"
      ],
      "execution_count": 231,
      "outputs": [
        {
          "output_type": "execute_result",
          "data": {
            "text/html": [
              "<div>\n",
              "<style scoped>\n",
              "    .dataframe tbody tr th:only-of-type {\n",
              "        vertical-align: middle;\n",
              "    }\n",
              "\n",
              "    .dataframe tbody tr th {\n",
              "        vertical-align: top;\n",
              "    }\n",
              "\n",
              "    .dataframe thead th {\n",
              "        text-align: right;\n",
              "    }\n",
              "</style>\n",
              "<table border=\"1\" class=\"dataframe\">\n",
              "  <thead>\n",
              "    <tr style=\"text-align: right;\">\n",
              "      <th>F3</th>\n",
              "      <th>A</th>\n",
              "      <th>B</th>\n",
              "      <th>C</th>\n",
              "      <th>D</th>\n",
              "    </tr>\n",
              "    <tr>\n",
              "      <th>F2</th>\n",
              "      <th></th>\n",
              "      <th></th>\n",
              "      <th></th>\n",
              "      <th></th>\n",
              "    </tr>\n",
              "  </thead>\n",
              "  <tbody>\n",
              "    <tr>\n",
              "      <th>N</th>\n",
              "      <td>46</td>\n",
              "      <td>47</td>\n",
              "      <td>45</td>\n",
              "      <td>49</td>\n",
              "    </tr>\n",
              "    <tr>\n",
              "      <th>Y</th>\n",
              "      <td>4</td>\n",
              "      <td>3</td>\n",
              "      <td>5</td>\n",
              "      <td>1</td>\n",
              "    </tr>\n",
              "  </tbody>\n",
              "</table>\n",
              "</div>"
            ],
            "text/plain": [
              "F3   A   B   C   D\n",
              "F2                \n",
              "N   46  47  45  49\n",
              "Y    4   3   5   1"
            ]
          },
          "metadata": {
            "tags": []
          },
          "execution_count": 231
        }
      ]
    },
    {
      "cell_type": "code",
      "metadata": {
        "colab": {
          "base_uri": "https://localhost:8080/",
          "height": 301
        },
        "id": "oOiwHT0Hn3US",
        "outputId": "5b97e421-e12a-46ff-8658-23aaf525ed54"
      },
      "source": [
        "df2.plot(kind='bar')"
      ],
      "execution_count": 232,
      "outputs": [
        {
          "output_type": "execute_result",
          "data": {
            "text/plain": [
              "<matplotlib.axes._subplots.AxesSubplot at 0x7fbe93316250>"
            ]
          },
          "metadata": {
            "tags": []
          },
          "execution_count": 232
        },
        {
          "output_type": "display_data",
          "data": {
            "image/png": "[encoded data removed]",
            "text/plain": [
              "<Figure size 432x288 with 1 Axes>"
            ]
          },
          "metadata": {
            "tags": []
          }
        }
      ]
    },
    {
      "cell_type": "code",
      "metadata": {
        "colab": {
          "base_uri": "https://localhost:8080/"
        },
        "id": "oiIWHYVtj19c",
        "outputId": "5f7c37e4-0f81-4ae2-fbbf-9639edfde5a5"
      },
      "source": [
        "chi2_contingency(df2, correction=False) #  0.648 > 0.05이므로 유의수준 5%에서 귀무가설을 기각할 수 없다(귀무가설 채택 : F2변수는 기수별로 연관이 없다 -> 무의미한 피쳐?)"
      ],
      "execution_count": 233,
      "outputs": [
        {
          "output_type": "execute_result",
          "data": {
            "text/plain": [
              "(2.879473467708762,\n",
              " 0.41058370469108096,\n",
              " 3,\n",
              " array([[46.75, 46.75, 46.75, 46.75],\n",
              "        [ 3.25,  3.25,  3.25,  3.25]]))"
            ]
          },
          "metadata": {
            "tags": []
          },
          "execution_count": 233
        }
      ]
    },
    {
      "cell_type": "code",
      "metadata": {
        "colab": {
          "base_uri": "https://localhost:8080/",
          "height": 300
        },
        "id": "z2RFpjd4fKtt",
        "outputId": "d055ceed-51a7-4ed2-cde6-4bf87c0707a5"
      },
      "source": [
        "df6 = pd.crosstab(df['F6'], df['F3'])\n",
        "df6"
      ],
      "execution_count": 234,
      "outputs": [
        {
          "output_type": "execute_result",
          "data": {
            "text/html": [
              "<div>\n",
              "<style scoped>\n",
              "    .dataframe tbody tr th:only-of-type {\n",
              "        vertical-align: middle;\n",
              "    }\n",
              "\n",
              "    .dataframe tbody tr th {\n",
              "        vertical-align: top;\n",
              "    }\n",
              "\n",
              "    .dataframe thead th {\n",
              "        text-align: right;\n",
              "    }\n",
              "</style>\n",
              "<table border=\"1\" class=\"dataframe\">\n",
              "  <thead>\n",
              "    <tr style=\"text-align: right;\">\n",
              "      <th>F3</th>\n",
              "      <th>A</th>\n",
              "      <th>B</th>\n",
              "      <th>C</th>\n",
              "      <th>D</th>\n",
              "    </tr>\n",
              "    <tr>\n",
              "      <th>F6</th>\n",
              "      <th></th>\n",
              "      <th></th>\n",
              "      <th></th>\n",
              "      <th></th>\n",
              "    </tr>\n",
              "  </thead>\n",
              "  <tbody>\n",
              "    <tr>\n",
              "      <th>B</th>\n",
              "      <td>0</td>\n",
              "      <td>1</td>\n",
              "      <td>0</td>\n",
              "      <td>0</td>\n",
              "    </tr>\n",
              "    <tr>\n",
              "      <th>C</th>\n",
              "      <td>1</td>\n",
              "      <td>1</td>\n",
              "      <td>1</td>\n",
              "      <td>2</td>\n",
              "    </tr>\n",
              "    <tr>\n",
              "      <th>D</th>\n",
              "      <td>2</td>\n",
              "      <td>2</td>\n",
              "      <td>1</td>\n",
              "      <td>1</td>\n",
              "    </tr>\n",
              "    <tr>\n",
              "      <th>E</th>\n",
              "      <td>5</td>\n",
              "      <td>4</td>\n",
              "      <td>5</td>\n",
              "      <td>4</td>\n",
              "    </tr>\n",
              "    <tr>\n",
              "      <th>F</th>\n",
              "      <td>9</td>\n",
              "      <td>15</td>\n",
              "      <td>9</td>\n",
              "      <td>5</td>\n",
              "    </tr>\n",
              "    <tr>\n",
              "      <th>G</th>\n",
              "      <td>10</td>\n",
              "      <td>12</td>\n",
              "      <td>14</td>\n",
              "      <td>13</td>\n",
              "    </tr>\n",
              "    <tr>\n",
              "      <th>H</th>\n",
              "      <td>23</td>\n",
              "      <td>15</td>\n",
              "      <td>20</td>\n",
              "      <td>25</td>\n",
              "    </tr>\n",
              "  </tbody>\n",
              "</table>\n",
              "</div>"
            ],
            "text/plain": [
              "F3   A   B   C   D\n",
              "F6                \n",
              "B    0   1   0   0\n",
              "C    1   1   1   2\n",
              "D    2   2   1   1\n",
              "E    5   4   5   4\n",
              "F    9  15   9   5\n",
              "G   10  12  14  13\n",
              "H   23  15  20  25"
            ]
          },
          "metadata": {
            "tags": []
          },
          "execution_count": 234
        }
      ]
    },
    {
      "cell_type": "code",
      "metadata": {
        "colab": {
          "base_uri": "https://localhost:8080/",
          "height": 301
        },
        "id": "YlostcGCoZtM",
        "outputId": "800eb144-6db2-4c52-ba49-c8cab0766dbf"
      },
      "source": [
        "df6.plot(kind='bar')"
      ],
      "execution_count": 235,
      "outputs": [
        {
          "output_type": "execute_result",
          "data": {
            "text/plain": [
              "<matplotlib.axes._subplots.AxesSubplot at 0x7fbe932a3bd0>"
            ]
          },
          "metadata": {
            "tags": []
          },
          "execution_count": 235
        },
        {
          "output_type": "display_data",
          "data": {
            "image/png": "[encoded data removed]",
            "text/plain": [
              "<Figure size 432x288 with 1 Axes>"
            ]
          },
          "metadata": {
            "tags": []
          }
        }
      ]
    },
    {
      "cell_type": "code",
      "metadata": {
        "colab": {
          "base_uri": "https://localhost:8080/"
        },
        "id": "iUKYnOpcknQw",
        "outputId": "77d0ff25-d6da-464d-c9a2-bcdad0ccf235"
      },
      "source": [
        "chi2_contingency(df6, correction=False)#  0.77 > 0.05이므로 유의수준 5%에서 귀무가설을 기각할 수 없다(귀무가설(연관x) 채택)\n",
        "# 카이제곱 통계량이 가장 크다. 범주형중 가장 무의마한 독립변수?"
      ],
      "execution_count": 236,
      "outputs": [
        {
          "output_type": "execute_result",
          "data": {
            "text/plain": [
              "(13.306535414842326,\n",
              " 0.7730503052560493,\n",
              " 18,\n",
              " array([[ 0.25,  0.25,  0.25,  0.25],\n",
              "        [ 1.25,  1.25,  1.25,  1.25],\n",
              "        [ 1.5 ,  1.5 ,  1.5 ,  1.5 ],\n",
              "        [ 4.5 ,  4.5 ,  4.5 ,  4.5 ],\n",
              "        [ 9.5 ,  9.5 ,  9.5 ,  9.5 ],\n",
              "        [12.25, 12.25, 12.25, 12.25],\n",
              "        [20.75, 20.75, 20.75, 20.75]]))"
            ]
          },
          "metadata": {
            "tags": []
          },
          "execution_count": 236
        }
      ]
    },
    {
      "cell_type": "code",
      "metadata": {
        "colab": {
          "base_uri": "https://localhost:8080/",
          "height": 175
        },
        "id": "jxPLimZifKwh",
        "outputId": "1ef2e600-bfa5-46de-8f2b-e218f56812cb"
      },
      "source": [
        "df8 = pd.crosstab(df['F8'], df['F3'])\n",
        "df8"
      ],
      "execution_count": 237,
      "outputs": [
        {
          "output_type": "execute_result",
          "data": {
            "text/html": [
              "<div>\n",
              "<style scoped>\n",
              "    .dataframe tbody tr th:only-of-type {\n",
              "        vertical-align: middle;\n",
              "    }\n",
              "\n",
              "    .dataframe tbody tr th {\n",
              "        vertical-align: top;\n",
              "    }\n",
              "\n",
              "    .dataframe thead th {\n",
              "        text-align: right;\n",
              "    }\n",
              "</style>\n",
              "<table border=\"1\" class=\"dataframe\">\n",
              "  <thead>\n",
              "    <tr style=\"text-align: right;\">\n",
              "      <th>F3</th>\n",
              "      <th>A</th>\n",
              "      <th>B</th>\n",
              "      <th>C</th>\n",
              "      <th>D</th>\n",
              "    </tr>\n",
              "    <tr>\n",
              "      <th>F8</th>\n",
              "      <th></th>\n",
              "      <th></th>\n",
              "      <th></th>\n",
              "      <th></th>\n",
              "    </tr>\n",
              "  </thead>\n",
              "  <tbody>\n",
              "    <tr>\n",
              "      <th>X</th>\n",
              "      <td>9</td>\n",
              "      <td>7</td>\n",
              "      <td>15</td>\n",
              "      <td>12</td>\n",
              "    </tr>\n",
              "    <tr>\n",
              "      <th>Y</th>\n",
              "      <td>27</td>\n",
              "      <td>28</td>\n",
              "      <td>21</td>\n",
              "      <td>23</td>\n",
              "    </tr>\n",
              "    <tr>\n",
              "      <th>Z</th>\n",
              "      <td>14</td>\n",
              "      <td>15</td>\n",
              "      <td>14</td>\n",
              "      <td>15</td>\n",
              "    </tr>\n",
              "  </tbody>\n",
              "</table>\n",
              "</div>"
            ],
            "text/plain": [
              "F3   A   B   C   D\n",
              "F8                \n",
              "X    9   7  15  12\n",
              "Y   27  28  21  23\n",
              "Z   14  15  14  15"
            ]
          },
          "metadata": {
            "tags": []
          },
          "execution_count": 237
        }
      ]
    },
    {
      "cell_type": "code",
      "metadata": {
        "colab": {
          "base_uri": "https://localhost:8080/",
          "height": 301
        },
        "id": "Xqq_Kg8no0-X",
        "outputId": "024a2503-0b12-4aa7-e333-0b08669e1c40"
      },
      "source": [
        "df8.plot(kind='bar')"
      ],
      "execution_count": 238,
      "outputs": [
        {
          "output_type": "execute_result",
          "data": {
            "text/plain": [
              "<matplotlib.axes._subplots.AxesSubplot at 0x7fbe93291990>"
            ]
          },
          "metadata": {
            "tags": []
          },
          "execution_count": 238
        },
        {
          "output_type": "display_data",
          "data": {
            "image/png": "[encoded data removed]",
            "text/plain": [
              "<Figure size 432x288 with 1 Axes>"
            ]
          },
          "metadata": {
            "tags": []
          }
        }
      ]
    },
    {
      "cell_type": "code",
      "metadata": {
        "colab": {
          "base_uri": "https://localhost:8080/"
        },
        "id": "PxFDcVuRlXFQ",
        "outputId": "7faff73f-e126-4910-b54d-7513b3e4257a"
      },
      "source": [
        "chi2_contingency(df8, correction=False)#  0.56 > 0.05이므로 유의수준 5%에서 귀무가설을 기각할 수 없다(귀무가설(연관x) 채택)"
      ],
      "execution_count": 239,
      "outputs": [
        {
          "output_type": "execute_result",
          "data": {
            "text/plain": [
              "(4.810802491636495, 0.5682982129169898, 6, array([[10.75, 10.75, 10.75, 10.75],\n",
              "        [24.75, 24.75, 24.75, 24.75],\n",
              "        [14.5 , 14.5 , 14.5 , 14.5 ]]))"
            ]
          },
          "metadata": {
            "tags": []
          },
          "execution_count": 239
        }
      ]
    },
    {
      "cell_type": "code",
      "metadata": {
        "colab": {
          "base_uri": "https://localhost:8080/",
          "height": 143
        },
        "id": "s1UTy8BxfKyz",
        "outputId": "63615eb2-d93d-4fcc-9344-e31d393adde0"
      },
      "source": [
        "df9=pd.crosstab(df['F9'], df['F3'])\n",
        "df9"
      ],
      "execution_count": 240,
      "outputs": [
        {
          "output_type": "execute_result",
          "data": {
            "text/html": [
              "<div>\n",
              "<style scoped>\n",
              "    .dataframe tbody tr th:only-of-type {\n",
              "        vertical-align: middle;\n",
              "    }\n",
              "\n",
              "    .dataframe tbody tr th {\n",
              "        vertical-align: top;\n",
              "    }\n",
              "\n",
              "    .dataframe thead th {\n",
              "        text-align: right;\n",
              "    }\n",
              "</style>\n",
              "<table border=\"1\" class=\"dataframe\">\n",
              "  <thead>\n",
              "    <tr style=\"text-align: right;\">\n",
              "      <th>F3</th>\n",
              "      <th>A</th>\n",
              "      <th>B</th>\n",
              "      <th>C</th>\n",
              "      <th>D</th>\n",
              "    </tr>\n",
              "    <tr>\n",
              "      <th>F9</th>\n",
              "      <th></th>\n",
              "      <th></th>\n",
              "      <th></th>\n",
              "      <th></th>\n",
              "    </tr>\n",
              "  </thead>\n",
              "  <tbody>\n",
              "    <tr>\n",
              "      <th>N</th>\n",
              "      <td>26</td>\n",
              "      <td>28</td>\n",
              "      <td>28</td>\n",
              "      <td>29</td>\n",
              "    </tr>\n",
              "    <tr>\n",
              "      <th>Y</th>\n",
              "      <td>24</td>\n",
              "      <td>22</td>\n",
              "      <td>22</td>\n",
              "      <td>21</td>\n",
              "    </tr>\n",
              "  </tbody>\n",
              "</table>\n",
              "</div>"
            ],
            "text/plain": [
              "F3   A   B   C   D\n",
              "F9                \n",
              "N   26  28  28  29\n",
              "Y   24  22  22  21"
            ]
          },
          "metadata": {
            "tags": []
          },
          "execution_count": 240
        }
      ]
    },
    {
      "cell_type": "code",
      "metadata": {
        "colab": {
          "base_uri": "https://localhost:8080/",
          "height": 303
        },
        "id": "imnIo08rpN8k",
        "outputId": "51e2dc3f-0894-4175-fdb0-6780a9199ad4"
      },
      "source": [
        "df9.plot(kind='bar')"
      ],
      "execution_count": 241,
      "outputs": [
        {
          "output_type": "execute_result",
          "data": {
            "text/plain": [
              "<matplotlib.axes._subplots.AxesSubplot at 0x7fbe931a1290>"
            ]
          },
          "metadata": {
            "tags": []
          },
          "execution_count": 241
        },
        {
          "output_type": "display_data",
          "data": {
            "image/png": "[encoded data removed]",
            "text/plain": [
              "<Figure size 432x288 with 1 Axes>"
            ]
          },
          "metadata": {
            "tags": []
          }
        }
      ]
    },
    {
      "cell_type": "code",
      "metadata": {
        "colab": {
          "base_uri": "https://localhost:8080/"
        },
        "id": "mUK5PUlUwXGR",
        "outputId": "c363320e-3d7d-4f54-8cdf-ba5487f138a0"
      },
      "source": [
        "1\n",
        "chi2_contingency(df9)"
      ],
      "execution_count": 242,
      "outputs": [
        {
          "output_type": "execute_result",
          "data": {
            "text/plain": [
              "(0.3846543172385869,\n",
              " 0.9433939883736915,\n",
              " 3,\n",
              " array([[27.75, 27.75, 27.75, 27.75],\n",
              "        [22.25, 22.25, 22.25, 22.25]]))"
            ]
          },
          "metadata": {
            "tags": []
          },
          "execution_count": 242
        }
      ]
    },
    {
      "cell_type": "code",
      "metadata": {
        "id": "_fvHFb5OfK1t"
      },
      "source": [
        "#  0.94 > 0.05이므로 유의수준 5%에서 귀무가설을 기각할 수 없다(귀무가설(연관x) 채택)"
      ],
      "execution_count": 243,
      "outputs": []
    },
    {
      "cell_type": "markdown",
      "metadata": {
        "id": "rB8kIMfFmUEw"
      },
      "source": [
        "### 연속형 변수 분석 (F4, F5, F7 vs F3)"
      ]
    },
    {
      "cell_type": "code",
      "metadata": {
        "colab": {
          "base_uri": "https://localhost:8080/",
          "height": 424
        },
        "id": "GlG6lEMy7mZ1",
        "outputId": "b2bd7ff9-85ad-4b61-c134-efabbd1a490a"
      },
      "source": [
        "d4 = df[['F3','F4']]\n",
        "d4"
      ],
      "execution_count": 244,
      "outputs": [
        {
          "output_type": "execute_result",
          "data": {
            "text/html": [
              "<div>\n",
              "<style scoped>\n",
              "    .dataframe tbody tr th:only-of-type {\n",
              "        vertical-align: middle;\n",
              "    }\n",
              "\n",
              "    .dataframe tbody tr th {\n",
              "        vertical-align: top;\n",
              "    }\n",
              "\n",
              "    .dataframe thead th {\n",
              "        text-align: right;\n",
              "    }\n",
              "</style>\n",
              "<table border=\"1\" class=\"dataframe\">\n",
              "  <thead>\n",
              "    <tr style=\"text-align: right;\">\n",
              "      <th></th>\n",
              "      <th>F3</th>\n",
              "      <th>F4</th>\n",
              "    </tr>\n",
              "  </thead>\n",
              "  <tbody>\n",
              "    <tr>\n",
              "      <th>0</th>\n",
              "      <td>A</td>\n",
              "      <td>2.239542</td>\n",
              "    </tr>\n",
              "    <tr>\n",
              "      <th>1</th>\n",
              "      <td>A</td>\n",
              "      <td>1.608900</td>\n",
              "    </tr>\n",
              "    <tr>\n",
              "      <th>2</th>\n",
              "      <td>A</td>\n",
              "      <td>2.544409</td>\n",
              "    </tr>\n",
              "    <tr>\n",
              "      <th>3</th>\n",
              "      <td>A</td>\n",
              "      <td>0.782857</td>\n",
              "    </tr>\n",
              "    <tr>\n",
              "      <th>4</th>\n",
              "      <td>A</td>\n",
              "      <td>1.532721</td>\n",
              "    </tr>\n",
              "    <tr>\n",
              "      <th>...</th>\n",
              "      <td>...</td>\n",
              "      <td>...</td>\n",
              "    </tr>\n",
              "    <tr>\n",
              "      <th>195</th>\n",
              "      <td>D</td>\n",
              "      <td>2.765327</td>\n",
              "    </tr>\n",
              "    <tr>\n",
              "      <th>196</th>\n",
              "      <td>D</td>\n",
              "      <td>3.098499</td>\n",
              "    </tr>\n",
              "    <tr>\n",
              "      <th>197</th>\n",
              "      <td>D</td>\n",
              "      <td>1.613861</td>\n",
              "    </tr>\n",
              "    <tr>\n",
              "      <th>198</th>\n",
              "      <td>D</td>\n",
              "      <td>3.003789</td>\n",
              "    </tr>\n",
              "    <tr>\n",
              "      <th>199</th>\n",
              "      <td>D</td>\n",
              "      <td>2.468083</td>\n",
              "    </tr>\n",
              "  </tbody>\n",
              "</table>\n",
              "<p>200 rows × 2 columns</p>\n",
              "</div>"
            ],
            "text/plain": [
              "    F3        F4\n",
              "0    A  2.239542\n",
              "1    A  1.608900\n",
              "2    A  2.544409\n",
              "3    A  0.782857\n",
              "4    A  1.532721\n",
              "..  ..       ...\n",
              "195  D  2.765327\n",
              "196  D  3.098499\n",
              "197  D  1.613861\n",
              "198  D  3.003789\n",
              "199  D  2.468083\n",
              "\n",
              "[200 rows x 2 columns]"
            ]
          },
          "metadata": {
            "tags": []
          },
          "execution_count": 244
        }
      ]
    },
    {
      "cell_type": "code",
      "metadata": {
        "colab": {
          "base_uri": "https://localhost:8080/",
          "height": 303
        },
        "id": "tY24vAghqLud",
        "outputId": "190e7d2b-d0ec-4a3f-dbc9-fafa582f72ce"
      },
      "source": [
        "import seaborn as sns\n",
        "sns.scatterplot(x='F4',y='F7',hue='F3',data=df)"
      ],
      "execution_count": 245,
      "outputs": [
        {
          "output_type": "execute_result",
          "data": {
            "text/plain": [
              "<matplotlib.axes._subplots.AxesSubplot at 0x7fbe9840dd50>"
            ]
          },
          "metadata": {
            "tags": []
          },
          "execution_count": 245
        },
        {
          "output_type": "display_data",
          "data": {
            "image/png": "[encoded data removed]",
            "text/plain": [
              "<Figure size 432x288 with 1 Axes>"
            ]
          },
          "metadata": {
            "tags": []
          }
        }
      ]
    },
    {
      "cell_type": "code",
      "metadata": {
        "colab": {
          "base_uri": "https://localhost:8080/",
          "height": 304
        },
        "id": "WnQTEBIdopVX",
        "outputId": "2398d046-4ba0-4a5a-c36a-8fc720122844"
      },
      "source": [
        "import pandas as pd\n",
        "import seaborn as sns; sns.set()\n",
        "\n",
        "# sns.scatterplot(x = 'F4', data=df)\n",
        "# sns.scatterplot(x = hue='F3', data=d4)\n",
        "# plot(df['F4'], df['F3'])\n",
        "sns.violinplot(x='F3', y='F4', data=df )"
      ],
      "execution_count": 246,
      "outputs": [
        {
          "output_type": "execute_result",
          "data": {
            "text/plain": [
              "<matplotlib.axes._subplots.AxesSubplot at 0x7fbe930115d0>"
            ]
          },
          "metadata": {
            "tags": []
          },
          "execution_count": 246
        },
        {
          "output_type": "display_data",
          "data": {
            "image/png": "[encoded data removed]",
            "text/plain": [
              "<Figure size 432x288 with 1 Axes>"
            ]
          },
          "metadata": {
            "tags": []
          }
        }
      ]
    },
    {
      "cell_type": "code",
      "metadata": {
        "id": "Xqh5x8JJmYmC",
        "colab": {
          "base_uri": "https://localhost:8080/"
        },
        "outputId": "9f0ae497-0f7c-4d7d-bbb5-c098597d8d92"
      },
      "source": [
        "df['F4'].groupby(df['F3']).sum()"
      ],
      "execution_count": 247,
      "outputs": [
        {
          "output_type": "execute_result",
          "data": {
            "text/plain": [
              "F3\n",
              "A     80.902297\n",
              "B    128.184781\n",
              "C    167.146561\n",
              "D    126.297339\n",
              "Name: F4, dtype: float64"
            ]
          },
          "metadata": {
            "tags": []
          },
          "execution_count": 247
        }
      ]
    },
    {
      "cell_type": "code",
      "metadata": {
        "id": "4iasXXtqmYiL",
        "colab": {
          "base_uri": "https://localhost:8080/"
        },
        "outputId": "19748813-d3f2-4212-cb71-40a0ef4aea0c"
      },
      "source": [
        "df4 = df['F4'].groupby(df['F3']).mean() # 80.902297/50\n",
        "df4"
      ],
      "execution_count": 248,
      "outputs": [
        {
          "output_type": "execute_result",
          "data": {
            "text/plain": [
              "F3\n",
              "A    1.618046\n",
              "B    2.563696\n",
              "C    3.342931\n",
              "D    2.525947\n",
              "Name: F4, dtype: float64"
            ]
          },
          "metadata": {
            "tags": []
          },
          "execution_count": 248
        }
      ]
    },
    {
      "cell_type": "code",
      "metadata": {
        "id": "Hr-8fsMaqmUT",
        "colab": {
          "base_uri": "https://localhost:8080/"
        },
        "outputId": "a2e603a7-0351-4534-ef22-3c0a5a38c587"
      },
      "source": [
        "df['F4'].groupby(df['F3']).std()"
      ],
      "execution_count": 249,
      "outputs": [
        {
          "output_type": "execute_result",
          "data": {
            "text/plain": [
              "F3\n",
              "A    1.062936\n",
              "B    1.014329\n",
              "C    0.922689\n",
              "D    0.994729\n",
              "Name: F4, dtype: float64"
            ]
          },
          "metadata": {
            "tags": []
          },
          "execution_count": 249
        }
      ]
    },
    {
      "cell_type": "code",
      "metadata": {
        "id": "ZxLU4U1Nqw2p",
        "colab": {
          "base_uri": "https://localhost:8080/"
        },
        "outputId": "44a37fd6-cc69-4526-eac6-257f26a06f5d"
      },
      "source": [
        "# t-test (F4에서 가장 차이가 큰 A와 C)\n",
        "import numpy as np\n",
        "\n",
        "(1.618046 -  3.342931) / np.sqrt(    ( 1.062936**2 / 50) + (3.342931**2 / 50) ) "
      ],
      "execution_count": 250,
      "outputs": [
        {
          "output_type": "execute_result",
          "data": {
            "text/plain": [
              "-3.476994269431008"
            ]
          },
          "metadata": {
            "tags": []
          },
          "execution_count": 250
        }
      ]
    },
    {
      "cell_type": "code",
      "metadata": {
        "id": "g1zBsdoAsVrJ"
      },
      "source": [
        "da = df[df['F3']=='A']\n",
        "db = df[df['F3']=='B']\n",
        "dc = df[df['F3']=='C']\n",
        "dd = df[df['F3']=='D']"
      ],
      "execution_count": 251,
      "outputs": []
    },
    {
      "cell_type": "code",
      "metadata": {
        "colab": {
          "base_uri": "https://localhost:8080/"
        },
        "id": "4yCNrBtBlNxN",
        "outputId": "86f1db70-6550-4f39-c266-5477b0f3f961"
      },
      "source": [
        "len(da)"
      ],
      "execution_count": 252,
      "outputs": [
        {
          "output_type": "execute_result",
          "data": {
            "text/plain": [
              "50"
            ]
          },
          "metadata": {
            "tags": []
          },
          "execution_count": 252
        }
      ]
    },
    {
      "cell_type": "code",
      "metadata": {
        "colab": {
          "base_uri": "https://localhost:8080/",
          "height": 206
        },
        "id": "5MT2PuzEOpFh",
        "outputId": "61a32c92-a212-4aa5-978d-319499652296"
      },
      "source": [
        "df['F4'].groupby(df['F3']).describe() # 기수별로 평균의 눈에 띄게 다르다. "
      ],
      "execution_count": 253,
      "outputs": [
        {
          "output_type": "execute_result",
          "data": {
            "text/html": [
              "<div>\n",
              "<style scoped>\n",
              "    .dataframe tbody tr th:only-of-type {\n",
              "        vertical-align: middle;\n",
              "    }\n",
              "\n",
              "    .dataframe tbody tr th {\n",
              "        vertical-align: top;\n",
              "    }\n",
              "\n",
              "    .dataframe thead th {\n",
              "        text-align: right;\n",
              "    }\n",
              "</style>\n",
              "<table border=\"1\" class=\"dataframe\">\n",
              "  <thead>\n",
              "    <tr style=\"text-align: right;\">\n",
              "      <th></th>\n",
              "      <th>count</th>\n",
              "      <th>mean</th>\n",
              "      <th>std</th>\n",
              "      <th>min</th>\n",
              "      <th>25%</th>\n",
              "      <th>50%</th>\n",
              "      <th>75%</th>\n",
              "      <th>max</th>\n",
              "    </tr>\n",
              "    <tr>\n",
              "      <th>F3</th>\n",
              "      <th></th>\n",
              "      <th></th>\n",
              "      <th></th>\n",
              "      <th></th>\n",
              "      <th></th>\n",
              "      <th></th>\n",
              "      <th></th>\n",
              "      <th></th>\n",
              "    </tr>\n",
              "  </thead>\n",
              "  <tbody>\n",
              "    <tr>\n",
              "      <th>A</th>\n",
              "      <td>50.0</td>\n",
              "      <td>1.618046</td>\n",
              "      <td>1.062936</td>\n",
              "      <td>0.022079</td>\n",
              "      <td>0.839382</td>\n",
              "      <td>1.564318</td>\n",
              "      <td>2.206727</td>\n",
              "      <td>4.195318</td>\n",
              "    </tr>\n",
              "    <tr>\n",
              "      <th>B</th>\n",
              "      <td>50.0</td>\n",
              "      <td>2.563696</td>\n",
              "      <td>1.014329</td>\n",
              "      <td>0.281257</td>\n",
              "      <td>2.089018</td>\n",
              "      <td>2.576698</td>\n",
              "      <td>3.261806</td>\n",
              "      <td>4.855501</td>\n",
              "    </tr>\n",
              "    <tr>\n",
              "      <th>C</th>\n",
              "      <td>50.0</td>\n",
              "      <td>3.342931</td>\n",
              "      <td>0.922689</td>\n",
              "      <td>1.458048</td>\n",
              "      <td>2.700019</td>\n",
              "      <td>3.279227</td>\n",
              "      <td>3.959240</td>\n",
              "      <td>5.868967</td>\n",
              "    </tr>\n",
              "    <tr>\n",
              "      <th>D</th>\n",
              "      <td>50.0</td>\n",
              "      <td>2.525947</td>\n",
              "      <td>0.994729</td>\n",
              "      <td>0.177912</td>\n",
              "      <td>1.863403</td>\n",
              "      <td>2.579349</td>\n",
              "      <td>3.282950</td>\n",
              "      <td>4.300491</td>\n",
              "    </tr>\n",
              "  </tbody>\n",
              "</table>\n",
              "</div>"
            ],
            "text/plain": [
              "    count      mean       std       min       25%       50%       75%       max\n",
              "F3                                                                             \n",
              "A    50.0  1.618046  1.062936  0.022079  0.839382  1.564318  2.206727  4.195318\n",
              "B    50.0  2.563696  1.014329  0.281257  2.089018  2.576698  3.261806  4.855501\n",
              "C    50.0  3.342931  0.922689  1.458048  2.700019  3.279227  3.959240  5.868967\n",
              "D    50.0  2.525947  0.994729  0.177912  1.863403  2.579349  3.282950  4.300491"
            ]
          },
          "metadata": {
            "tags": []
          },
          "execution_count": 253
        }
      ]
    },
    {
      "cell_type": "code",
      "metadata": {
        "id": "jLOwWb_NmYfJ",
        "colab": {
          "base_uri": "https://localhost:8080/"
        },
        "outputId": "f711351c-4c3e-4cb3-a39f-59da82e8eb4f"
      },
      "source": [
        "from scipy import stats\n",
        "# stats.ttest_ind(df4['A'], df4['B'])\n",
        "\n",
        "result = stats.ttest_ind(da['F4'], dc['F4'])\n",
        "print('t검정 통계량 = %.3f, pvalue = %.3f'%(result)) # 귀무가설 기각, 대립가설 채택(연관o)"
      ],
      "execution_count": 254,
      "outputs": [
        {
          "output_type": "stream",
          "text": [
            "t검정 통계량 = -8.665, pvalue = 0.000\n"
          ],
          "name": "stdout"
        }
      ]
    },
    {
      "cell_type": "code",
      "metadata": {
        "colab": {
          "base_uri": "https://localhost:8080/",
          "height": 303
        },
        "id": "OZiWaG5ZsVoT",
        "outputId": "55ae26cd-ace5-405b-f064-1fa64d3b0460"
      },
      "source": [
        "sns.violinplot(x='F3', y='F5', data=df )"
      ],
      "execution_count": 255,
      "outputs": [
        {
          "output_type": "execute_result",
          "data": {
            "text/plain": [
              "<matplotlib.axes._subplots.AxesSubplot at 0x7fbe92fa3090>"
            ]
          },
          "metadata": {
            "tags": []
          },
          "execution_count": 255
        },
        {
          "output_type": "display_data",
          "data": {
            "image/png": "[encoded data removed]",
            "text/plain": [
              "<Figure size 432x288 with 1 Axes>"
            ]
          },
          "metadata": {
            "tags": []
          }
        }
      ]
    },
    {
      "cell_type": "code",
      "metadata": {
        "id": "ZotVBrXhtIFe",
        "colab": {
          "base_uri": "https://localhost:8080/"
        },
        "outputId": "38db349b-1de2-4918-e350-9e605c7adaf1"
      },
      "source": [
        "df4 = df['F5'].groupby(df['F3']).mean() # 80.902297/50\n",
        "df4"
      ],
      "execution_count": 256,
      "outputs": [
        {
          "output_type": "execute_result",
          "data": {
            "text/plain": [
              "F3\n",
              "A    0.446866\n",
              "B    0.415067\n",
              "C    0.430444\n",
              "D    0.408395\n",
              "Name: F5, dtype: float64"
            ]
          },
          "metadata": {
            "tags": []
          },
          "execution_count": 256
        }
      ]
    },
    {
      "cell_type": "code",
      "metadata": {
        "colab": {
          "base_uri": "https://localhost:8080/",
          "height": 206
        },
        "id": "Rqc2aTrhOX43",
        "outputId": "6e6442a5-ffe3-4fd6-c402-aa9de373ecef"
      },
      "source": [
        "df['F5'].groupby(df['F3']).describe()"
      ],
      "execution_count": 257,
      "outputs": [
        {
          "output_type": "execute_result",
          "data": {
            "text/html": [
              "<div>\n",
              "<style scoped>\n",
              "    .dataframe tbody tr th:only-of-type {\n",
              "        vertical-align: middle;\n",
              "    }\n",
              "\n",
              "    .dataframe tbody tr th {\n",
              "        vertical-align: top;\n",
              "    }\n",
              "\n",
              "    .dataframe thead th {\n",
              "        text-align: right;\n",
              "    }\n",
              "</style>\n",
              "<table border=\"1\" class=\"dataframe\">\n",
              "  <thead>\n",
              "    <tr style=\"text-align: right;\">\n",
              "      <th></th>\n",
              "      <th>count</th>\n",
              "      <th>mean</th>\n",
              "      <th>std</th>\n",
              "      <th>min</th>\n",
              "      <th>25%</th>\n",
              "      <th>50%</th>\n",
              "      <th>75%</th>\n",
              "      <th>max</th>\n",
              "    </tr>\n",
              "    <tr>\n",
              "      <th>F3</th>\n",
              "      <th></th>\n",
              "      <th></th>\n",
              "      <th></th>\n",
              "      <th></th>\n",
              "      <th></th>\n",
              "      <th></th>\n",
              "      <th></th>\n",
              "      <th></th>\n",
              "    </tr>\n",
              "  </thead>\n",
              "  <tbody>\n",
              "    <tr>\n",
              "      <th>A</th>\n",
              "      <td>50.0</td>\n",
              "      <td>0.446866</td>\n",
              "      <td>0.300023</td>\n",
              "      <td>0.0</td>\n",
              "      <td>0.190393</td>\n",
              "      <td>0.473821</td>\n",
              "      <td>0.675755</td>\n",
              "      <td>0.993412</td>\n",
              "    </tr>\n",
              "    <tr>\n",
              "      <th>B</th>\n",
              "      <td>50.0</td>\n",
              "      <td>0.415067</td>\n",
              "      <td>0.346249</td>\n",
              "      <td>0.0</td>\n",
              "      <td>0.080414</td>\n",
              "      <td>0.341018</td>\n",
              "      <td>0.753216</td>\n",
              "      <td>0.987940</td>\n",
              "    </tr>\n",
              "    <tr>\n",
              "      <th>C</th>\n",
              "      <td>50.0</td>\n",
              "      <td>0.430444</td>\n",
              "      <td>0.314363</td>\n",
              "      <td>0.0</td>\n",
              "      <td>0.168231</td>\n",
              "      <td>0.416257</td>\n",
              "      <td>0.715676</td>\n",
              "      <td>0.992745</td>\n",
              "    </tr>\n",
              "    <tr>\n",
              "      <th>D</th>\n",
              "      <td>50.0</td>\n",
              "      <td>0.408395</td>\n",
              "      <td>0.331186</td>\n",
              "      <td>0.0</td>\n",
              "      <td>0.102618</td>\n",
              "      <td>0.397205</td>\n",
              "      <td>0.635042</td>\n",
              "      <td>0.982460</td>\n",
              "    </tr>\n",
              "  </tbody>\n",
              "</table>\n",
              "</div>"
            ],
            "text/plain": [
              "    count      mean       std  min       25%       50%       75%       max\n",
              "F3                                                                        \n",
              "A    50.0  0.446866  0.300023  0.0  0.190393  0.473821  0.675755  0.993412\n",
              "B    50.0  0.415067  0.346249  0.0  0.080414  0.341018  0.753216  0.987940\n",
              "C    50.0  0.430444  0.314363  0.0  0.168231  0.416257  0.715676  0.992745\n",
              "D    50.0  0.408395  0.331186  0.0  0.102618  0.397205  0.635042  0.982460"
            ]
          },
          "metadata": {
            "tags": []
          },
          "execution_count": 257
        }
      ]
    },
    {
      "cell_type": "code",
      "metadata": {
        "id": "GVH3dqPXsu6O",
        "colab": {
          "base_uri": "https://localhost:8080/"
        },
        "outputId": "30212d77-2bb2-4c6f-8a14-25fcda5e06cc"
      },
      "source": [
        "result = stats.ttest_ind(da['F5'], dd['F5'])\n",
        "print('t검정 통계량 = %.3f, pvalue = %.3f'%(result)) # 귀무가설 채택(연관x)"
      ],
      "execution_count": 258,
      "outputs": [
        {
          "output_type": "stream",
          "text": [
            "t검정 통계량 = 0.609, pvalue = 0.544\n"
          ],
          "name": "stdout"
        }
      ]
    },
    {
      "cell_type": "code",
      "metadata": {
        "colab": {
          "base_uri": "https://localhost:8080/",
          "height": 303
        },
        "id": "TOAGeeMO-01K",
        "outputId": "d54ac24b-a404-4590-e8e2-ba3fc677f48f"
      },
      "source": [
        "sns.violinplot(x='F3', y='F7', data=df )"
      ],
      "execution_count": 259,
      "outputs": [
        {
          "output_type": "execute_result",
          "data": {
            "text/plain": [
              "<matplotlib.axes._subplots.AxesSubplot at 0x7fbe92f43550>"
            ]
          },
          "metadata": {
            "tags": []
          },
          "execution_count": 259
        },
        {
          "output_type": "display_data",
          "data": {
            "image/png": "[encoded data removed]",
            "text/plain": [
              "<Figure size 432x288 with 1 Axes>"
            ]
          },
          "metadata": {
            "tags": []
          }
        }
      ]
    },
    {
      "cell_type": "code",
      "metadata": {
        "id": "WNhCiCjZtNee",
        "colab": {
          "base_uri": "https://localhost:8080/"
        },
        "outputId": "af877249-943d-4664-a45d-d5ec64ee3dbb"
      },
      "source": [
        "df4 = df['F7'].groupby(df['F3']).mean() # 80.902297/50\n",
        "df4"
      ],
      "execution_count": 260,
      "outputs": [
        {
          "output_type": "execute_result",
          "data": {
            "text/plain": [
              "F3\n",
              "A    4.94\n",
              "B    4.70\n",
              "C    4.86\n",
              "D    4.94\n",
              "Name: F7, dtype: float64"
            ]
          },
          "metadata": {
            "tags": []
          },
          "execution_count": 260
        }
      ]
    },
    {
      "cell_type": "code",
      "metadata": {
        "colab": {
          "base_uri": "https://localhost:8080/",
          "height": 206
        },
        "id": "_OZYmTVFOymx",
        "outputId": "6d1452bc-38b2-46a9-f487-84059a7d2b2e"
      },
      "source": [
        "df['F7'].groupby(df['F3']).describe() # 최대값이 다른 것으로 보아 누적해서 쌓이는 총점같은 변수인 것 같다. (누적 점수?)"
      ],
      "execution_count": 261,
      "outputs": [
        {
          "output_type": "execute_result",
          "data": {
            "text/html": [
              "<div>\n",
              "<style scoped>\n",
              "    .dataframe tbody tr th:only-of-type {\n",
              "        vertical-align: middle;\n",
              "    }\n",
              "\n",
              "    .dataframe tbody tr th {\n",
              "        vertical-align: top;\n",
              "    }\n",
              "\n",
              "    .dataframe thead th {\n",
              "        text-align: right;\n",
              "    }\n",
              "</style>\n",
              "<table border=\"1\" class=\"dataframe\">\n",
              "  <thead>\n",
              "    <tr style=\"text-align: right;\">\n",
              "      <th></th>\n",
              "      <th>count</th>\n",
              "      <th>mean</th>\n",
              "      <th>std</th>\n",
              "      <th>min</th>\n",
              "      <th>25%</th>\n",
              "      <th>50%</th>\n",
              "      <th>75%</th>\n",
              "      <th>max</th>\n",
              "    </tr>\n",
              "    <tr>\n",
              "      <th>F3</th>\n",
              "      <th></th>\n",
              "      <th></th>\n",
              "      <th></th>\n",
              "      <th></th>\n",
              "      <th></th>\n",
              "      <th></th>\n",
              "      <th></th>\n",
              "      <th></th>\n",
              "    </tr>\n",
              "  </thead>\n",
              "  <tbody>\n",
              "    <tr>\n",
              "      <th>A</th>\n",
              "      <td>50.0</td>\n",
              "      <td>4.94</td>\n",
              "      <td>2.064372</td>\n",
              "      <td>0.0</td>\n",
              "      <td>3.25</td>\n",
              "      <td>5.0</td>\n",
              "      <td>6.0</td>\n",
              "      <td>9.0</td>\n",
              "    </tr>\n",
              "    <tr>\n",
              "      <th>B</th>\n",
              "      <td>50.0</td>\n",
              "      <td>4.70</td>\n",
              "      <td>2.358225</td>\n",
              "      <td>0.0</td>\n",
              "      <td>3.00</td>\n",
              "      <td>4.5</td>\n",
              "      <td>6.0</td>\n",
              "      <td>11.0</td>\n",
              "    </tr>\n",
              "    <tr>\n",
              "      <th>C</th>\n",
              "      <td>50.0</td>\n",
              "      <td>4.86</td>\n",
              "      <td>1.772926</td>\n",
              "      <td>0.0</td>\n",
              "      <td>4.00</td>\n",
              "      <td>5.0</td>\n",
              "      <td>6.0</td>\n",
              "      <td>10.0</td>\n",
              "    </tr>\n",
              "    <tr>\n",
              "      <th>D</th>\n",
              "      <td>50.0</td>\n",
              "      <td>4.94</td>\n",
              "      <td>2.122859</td>\n",
              "      <td>0.0</td>\n",
              "      <td>3.00</td>\n",
              "      <td>5.0</td>\n",
              "      <td>6.0</td>\n",
              "      <td>9.0</td>\n",
              "    </tr>\n",
              "  </tbody>\n",
              "</table>\n",
              "</div>"
            ],
            "text/plain": [
              "    count  mean       std  min   25%  50%  75%   max\n",
              "F3                                                  \n",
              "A    50.0  4.94  2.064372  0.0  3.25  5.0  6.0   9.0\n",
              "B    50.0  4.70  2.358225  0.0  3.00  4.5  6.0  11.0\n",
              "C    50.0  4.86  1.772926  0.0  4.00  5.0  6.0  10.0\n",
              "D    50.0  4.94  2.122859  0.0  3.00  5.0  6.0   9.0"
            ]
          },
          "metadata": {
            "tags": []
          },
          "execution_count": 261
        }
      ]
    },
    {
      "cell_type": "code",
      "metadata": {
        "id": "5PcQopqmsurX",
        "colab": {
          "base_uri": "https://localhost:8080/"
        },
        "outputId": "c987b0d7-42ee-40bc-f26e-9e3d1b48cd7c"
      },
      "source": [
        "result = stats.ttest_ind(da['F7'], db['F7'])\n",
        "print('t검정 통계량 = %.3f, pvalue = %.3f'%(result))  # 귀무가설 채택(연관x)"
      ],
      "execution_count": 262,
      "outputs": [
        {
          "output_type": "stream",
          "text": [
            "t검정 통계량 = 0.541, pvalue = 0.589\n"
          ],
          "name": "stdout"
        }
      ]
    },
    {
      "cell_type": "markdown",
      "metadata": {
        "id": "ZM8JckA2bgnp"
      },
      "source": [
        "## 3. 분석한 내용들을 설명하는 리포트를 작성해보세요. \n",
        "\n",
        "분석의 끝은 결국 설명입니다.\n",
        "\n",
        "통계 분석에 대한 이해도가 적은 다른 크루들이 이해 할 수 있도록 \n",
        "\n",
        "분석한 내용들을 설명하는 리포트를 작성해보세요. \n",
        "\n",
        "필요한 경우 코드 / 텍스트 내용을 더 추가해도 좋습니다."
      ]
    },
    {
      "cell_type": "markdown",
      "metadata": {
        "id": "WR1hK16NtW9F"
      },
      "source": [
        "### 가장 의미있는 것으로 나타난 변수는 F4였다. \n",
        "범주형은 모두 연관이 없는 것으로 나타났고 나머지 연속형F5,7도 연관이 없는 것으로 나타났다. 이중 가장 의미없는 변수는 F6였다."
      ]
    },
    {
      "cell_type": "markdown",
      "metadata": {
        "id": "XOequK5xpVz7"
      },
      "source": [
        "## SC 3점 요구사항:\n",
        "\n",
        "위에서 요구된 사항들을 모두 정확하게 만족하고, 시간이 남았다면 아래 내용을 충족하는 경우 3점을 얻을 수 있습니다. \n",
        "\n",
        "아래 요구사항들 중 하나의 요구사항만 충족하면 되며, 모두 **optional** 임을 다시 한 번 강조합니다. (필수 요구사항이 아닙니다.)\n",
        "\n",
        "- Numerical 데이터에 대해서 normalize를 한 다음, 위에서 진행 했었던 분석을 다시 시행해보세요. (F4, F5, F7 vs F3)\n",
        "\n",
        "- Categorical 데이터를 one-hot encoding을 통해서 numerical 로 변환 후, 위에서 진행 했었던 분석을 다시 시행해보세요. (F1, F2, F6, F8, F9 vs F3)"
      ]
    },
    {
      "cell_type": "markdown",
      "metadata": {
        "id": "aafoXtw1P1s8"
      },
      "source": [
        "## 연속형 Nomalize 후 검정 (F4, F5, F7 vs F3) \n"
      ]
    },
    {
      "cell_type": "code",
      "metadata": {
        "id": "NT37grnxqa05"
      },
      "source": [
        "# 이 곳에 답안을 작성하시기 바랍니다\n",
        "from sklearn.preprocessing import StandardScaler\n",
        "\n",
        "# Standardization 평균 0 / 분산 1\n",
        "scaler = StandardScaler()   \n",
        "\n",
        "scaler = scaler.fit_transform(df[['F4','F5','F7']])\n"
      ],
      "execution_count": 263,
      "outputs": []
    },
    {
      "cell_type": "code",
      "metadata": {
        "colab": {
          "base_uri": "https://localhost:8080/"
        },
        "id": "tfTFW7k1wty8",
        "outputId": "0f5ac591-dd32-4119-a7c8-1a6eedcec245"
      },
      "source": [
        "len(scaler[:,0])"
      ],
      "execution_count": 264,
      "outputs": [
        {
          "output_type": "execute_result",
          "data": {
            "text/plain": [
              "200"
            ]
          },
          "metadata": {
            "tags": []
          },
          "execution_count": 264
        }
      ]
    },
    {
      "cell_type": "code",
      "metadata": {
        "colab": {
          "base_uri": "https://localhost:8080/"
        },
        "id": "exS-W8Uiw1Q5",
        "outputId": "39689bf5-5364-49de-8308-07127245bfa4"
      },
      "source": [
        "import pandas as pd\n",
        "import numpy as np\n",
        "\n",
        "np.random.seed(0)\n",
        "\n",
        "# 표준화\n",
        "def mean_norm(df_input):\n",
        "    return df_input.apply(lambda x: (x-x.mean())/ x.std(), axis=0)\n",
        "\n",
        "df_mean_norm = mean_norm(df[['F4','F5','F7']])\n",
        "print(df_mean_norm)"
      ],
      "execution_count": 265,
      "outputs": [
        {
          "output_type": "stream",
          "text": [
            "           F4        F5        F7\n",
            "0   -0.234210  1.084631 -0.895727\n",
            "1   -0.775020 -0.907443 -0.895727\n",
            "2    0.027231  0.923312  1.512141\n",
            "3   -1.483398 -0.514881  1.993715\n",
            "4   -0.840348 -0.440866 -0.414153\n",
            "..        ...       ...       ...\n",
            "195  0.216680  1.022719  0.067420\n",
            "196  0.502394  0.659627 -1.377300\n",
            "197 -0.770766  1.424236 -1.377300\n",
            "198  0.421175  1.455161 -0.414153\n",
            "199 -0.038223 -0.946401  0.067420\n",
            "\n",
            "[200 rows x 3 columns]\n"
          ],
          "name": "stdout"
        }
      ]
    },
    {
      "cell_type": "code",
      "metadata": {
        "id": "qiyJDxyXxTvZ"
      },
      "source": [
        "nd =pd.concat([df['F3'], df_mean_norm],axis=1) "
      ],
      "execution_count": 266,
      "outputs": []
    },
    {
      "cell_type": "code",
      "metadata": {
        "id": "9lASP6t9957e",
        "colab": {
          "base_uri": "https://localhost:8080/",
          "height": 424
        },
        "outputId": "04d1106f-1274-4ec7-812c-5b18eab0895d"
      },
      "source": [
        "nd"
      ],
      "execution_count": 267,
      "outputs": [
        {
          "output_type": "execute_result",
          "data": {
            "text/html": [
              "<div>\n",
              "<style scoped>\n",
              "    .dataframe tbody tr th:only-of-type {\n",
              "        vertical-align: middle;\n",
              "    }\n",
              "\n",
              "    .dataframe tbody tr th {\n",
              "        vertical-align: top;\n",
              "    }\n",
              "\n",
              "    .dataframe thead th {\n",
              "        text-align: right;\n",
              "    }\n",
              "</style>\n",
              "<table border=\"1\" class=\"dataframe\">\n",
              "  <thead>\n",
              "    <tr style=\"text-align: right;\">\n",
              "      <th></th>\n",
              "      <th>F3</th>\n",
              "      <th>F4</th>\n",
              "      <th>F5</th>\n",
              "      <th>F7</th>\n",
              "    </tr>\n",
              "  </thead>\n",
              "  <tbody>\n",
              "    <tr>\n",
              "      <th>0</th>\n",
              "      <td>A</td>\n",
              "      <td>-0.234210</td>\n",
              "      <td>1.084631</td>\n",
              "      <td>-0.895727</td>\n",
              "    </tr>\n",
              "    <tr>\n",
              "      <th>1</th>\n",
              "      <td>A</td>\n",
              "      <td>-0.775020</td>\n",
              "      <td>-0.907443</td>\n",
              "      <td>-0.895727</td>\n",
              "    </tr>\n",
              "    <tr>\n",
              "      <th>2</th>\n",
              "      <td>A</td>\n",
              "      <td>0.027231</td>\n",
              "      <td>0.923312</td>\n",
              "      <td>1.512141</td>\n",
              "    </tr>\n",
              "    <tr>\n",
              "      <th>3</th>\n",
              "      <td>A</td>\n",
              "      <td>-1.483398</td>\n",
              "      <td>-0.514881</td>\n",
              "      <td>1.993715</td>\n",
              "    </tr>\n",
              "    <tr>\n",
              "      <th>4</th>\n",
              "      <td>A</td>\n",
              "      <td>-0.840348</td>\n",
              "      <td>-0.440866</td>\n",
              "      <td>-0.414153</td>\n",
              "    </tr>\n",
              "    <tr>\n",
              "      <th>...</th>\n",
              "      <td>...</td>\n",
              "      <td>...</td>\n",
              "      <td>...</td>\n",
              "      <td>...</td>\n",
              "    </tr>\n",
              "    <tr>\n",
              "      <th>195</th>\n",
              "      <td>D</td>\n",
              "      <td>0.216680</td>\n",
              "      <td>1.022719</td>\n",
              "      <td>0.067420</td>\n",
              "    </tr>\n",
              "    <tr>\n",
              "      <th>196</th>\n",
              "      <td>D</td>\n",
              "      <td>0.502394</td>\n",
              "      <td>0.659627</td>\n",
              "      <td>-1.377300</td>\n",
              "    </tr>\n",
              "    <tr>\n",
              "      <th>197</th>\n",
              "      <td>D</td>\n",
              "      <td>-0.770766</td>\n",
              "      <td>1.424236</td>\n",
              "      <td>-1.377300</td>\n",
              "    </tr>\n",
              "    <tr>\n",
              "      <th>198</th>\n",
              "      <td>D</td>\n",
              "      <td>0.421175</td>\n",
              "      <td>1.455161</td>\n",
              "      <td>-0.414153</td>\n",
              "    </tr>\n",
              "    <tr>\n",
              "      <th>199</th>\n",
              "      <td>D</td>\n",
              "      <td>-0.038223</td>\n",
              "      <td>-0.946401</td>\n",
              "      <td>0.067420</td>\n",
              "    </tr>\n",
              "  </tbody>\n",
              "</table>\n",
              "<p>200 rows × 4 columns</p>\n",
              "</div>"
            ],
            "text/plain": [
              "    F3        F4        F5        F7\n",
              "0    A -0.234210  1.084631 -0.895727\n",
              "1    A -0.775020 -0.907443 -0.895727\n",
              "2    A  0.027231  0.923312  1.512141\n",
              "3    A -1.483398 -0.514881  1.993715\n",
              "4    A -0.840348 -0.440866 -0.414153\n",
              "..  ..       ...       ...       ...\n",
              "195  D  0.216680  1.022719  0.067420\n",
              "196  D  0.502394  0.659627 -1.377300\n",
              "197  D -0.770766  1.424236 -1.377300\n",
              "198  D  0.421175  1.455161 -0.414153\n",
              "199  D -0.038223 -0.946401  0.067420\n",
              "\n",
              "[200 rows x 4 columns]"
            ]
          },
          "metadata": {
            "tags": []
          },
          "execution_count": 267
        }
      ]
    },
    {
      "cell_type": "code",
      "metadata": {
        "colab": {
          "base_uri": "https://localhost:8080/"
        },
        "id": "MjTSdotMPpRW",
        "outputId": "d2c391c4-e871-4bd5-aa08-da49c86c65c7"
      },
      "source": [
        "nd['F4'].sum() # 0\n",
        "# round(-8.526512829121202e-14,3)"
      ],
      "execution_count": 268,
      "outputs": [
        {
          "output_type": "execute_result",
          "data": {
            "text/plain": [
              "-8.526512829121202e-14"
            ]
          },
          "metadata": {
            "tags": []
          },
          "execution_count": 268
        }
      ]
    },
    {
      "cell_type": "code",
      "metadata": {
        "colab": {
          "base_uri": "https://localhost:8080/",
          "height": 300
        },
        "id": "KVd38wnoCrtc",
        "outputId": "203efaa2-abad-4fbc-e750-1d2cd756e5c8"
      },
      "source": [
        "nd.describe() # 평균과 표준편차가 0과 1로, 표준정규분포 N(0,1)을 따름을 확인\n"
      ],
      "execution_count": 269,
      "outputs": [
        {
          "output_type": "execute_result",
          "data": {
            "text/html": [
              "<div>\n",
              "<style scoped>\n",
              "    .dataframe tbody tr th:only-of-type {\n",
              "        vertical-align: middle;\n",
              "    }\n",
              "\n",
              "    .dataframe tbody tr th {\n",
              "        vertical-align: top;\n",
              "    }\n",
              "\n",
              "    .dataframe thead th {\n",
              "        text-align: right;\n",
              "    }\n",
              "</style>\n",
              "<table border=\"1\" class=\"dataframe\">\n",
              "  <thead>\n",
              "    <tr style=\"text-align: right;\">\n",
              "      <th></th>\n",
              "      <th>F4</th>\n",
              "      <th>F5</th>\n",
              "      <th>F7</th>\n",
              "    </tr>\n",
              "  </thead>\n",
              "  <tbody>\n",
              "    <tr>\n",
              "      <th>count</th>\n",
              "      <td>2.000000e+02</td>\n",
              "      <td>2.000000e+02</td>\n",
              "      <td>2.000000e+02</td>\n",
              "    </tr>\n",
              "    <tr>\n",
              "      <th>mean</th>\n",
              "      <td>-4.550527e-16</td>\n",
              "      <td>3.830269e-17</td>\n",
              "      <td>-1.511985e-16</td>\n",
              "    </tr>\n",
              "    <tr>\n",
              "      <th>std</th>\n",
              "      <td>1.000000e+00</td>\n",
              "      <td>1.000000e+00</td>\n",
              "      <td>1.000000e+00</td>\n",
              "    </tr>\n",
              "    <tr>\n",
              "      <th>min</th>\n",
              "      <td>-2.135807e+00</td>\n",
              "      <td>-1.323265e+00</td>\n",
              "      <td>-2.340448e+00</td>\n",
              "    </tr>\n",
              "    <tr>\n",
              "      <th>25%</th>\n",
              "      <td>-6.687741e-01</td>\n",
              "      <td>-9.227980e-01</td>\n",
              "      <td>-8.957268e-01</td>\n",
              "    </tr>\n",
              "    <tr>\n",
              "      <th>50%</th>\n",
              "      <td>2.908194e-02</td>\n",
              "      <td>-1.016883e-01</td>\n",
              "      <td>6.742030e-02</td>\n",
              "    </tr>\n",
              "    <tr>\n",
              "      <th>75%</th>\n",
              "      <td>6.854265e-01</td>\n",
              "      <td>9.020419e-01</td>\n",
              "      <td>5.489939e-01</td>\n",
              "    </tr>\n",
              "    <tr>\n",
              "      <th>max</th>\n",
              "      <td>2.878224e+00</td>\n",
              "      <td>1.768385e+00</td>\n",
              "      <td>2.956862e+00</td>\n",
              "    </tr>\n",
              "  </tbody>\n",
              "</table>\n",
              "</div>"
            ],
            "text/plain": [
              "                 F4            F5            F7\n",
              "count  2.000000e+02  2.000000e+02  2.000000e+02\n",
              "mean  -4.550527e-16  3.830269e-17 -1.511985e-16\n",
              "std    1.000000e+00  1.000000e+00  1.000000e+00\n",
              "min   -2.135807e+00 -1.323265e+00 -2.340448e+00\n",
              "25%   -6.687741e-01 -9.227980e-01 -8.957268e-01\n",
              "50%    2.908194e-02 -1.016883e-01  6.742030e-02\n",
              "75%    6.854265e-01  9.020419e-01  5.489939e-01\n",
              "max    2.878224e+00  1.768385e+00  2.956862e+00"
            ]
          },
          "metadata": {
            "tags": []
          },
          "execution_count": 269
        }
      ]
    },
    {
      "cell_type": "code",
      "metadata": {
        "colab": {
          "base_uri": "https://localhost:8080/",
          "height": 332
        },
        "id": "O5dCq7UgQs_8",
        "outputId": "a59c5935-7acf-48ec-b988-d871eaab6a58"
      },
      "source": [
        "nd.groupby(['F3']).describe() "
      ],
      "execution_count": 270,
      "outputs": [
        {
          "output_type": "execute_result",
          "data": {
            "text/html": [
              "<div>\n",
              "<style scoped>\n",
              "    .dataframe tbody tr th:only-of-type {\n",
              "        vertical-align: middle;\n",
              "    }\n",
              "\n",
              "    .dataframe tbody tr th {\n",
              "        vertical-align: top;\n",
              "    }\n",
              "\n",
              "    .dataframe thead tr th {\n",
              "        text-align: left;\n",
              "    }\n",
              "\n",
              "    .dataframe thead tr:last-of-type th {\n",
              "        text-align: right;\n",
              "    }\n",
              "</style>\n",
              "<table border=\"1\" class=\"dataframe\">\n",
              "  <thead>\n",
              "    <tr>\n",
              "      <th></th>\n",
              "      <th colspan=\"8\" halign=\"left\">F4</th>\n",
              "      <th colspan=\"8\" halign=\"left\">F5</th>\n",
              "      <th colspan=\"8\" halign=\"left\">F7</th>\n",
              "    </tr>\n",
              "    <tr>\n",
              "      <th></th>\n",
              "      <th>count</th>\n",
              "      <th>mean</th>\n",
              "      <th>std</th>\n",
              "      <th>min</th>\n",
              "      <th>25%</th>\n",
              "      <th>50%</th>\n",
              "      <th>75%</th>\n",
              "      <th>max</th>\n",
              "      <th>count</th>\n",
              "      <th>mean</th>\n",
              "      <th>std</th>\n",
              "      <th>min</th>\n",
              "      <th>25%</th>\n",
              "      <th>50%</th>\n",
              "      <th>75%</th>\n",
              "      <th>max</th>\n",
              "      <th>count</th>\n",
              "      <th>mean</th>\n",
              "      <th>std</th>\n",
              "      <th>min</th>\n",
              "      <th>25%</th>\n",
              "      <th>50%</th>\n",
              "      <th>75%</th>\n",
              "      <th>max</th>\n",
              "    </tr>\n",
              "    <tr>\n",
              "      <th>F3</th>\n",
              "      <th></th>\n",
              "      <th></th>\n",
              "      <th></th>\n",
              "      <th></th>\n",
              "      <th></th>\n",
              "      <th></th>\n",
              "      <th></th>\n",
              "      <th></th>\n",
              "      <th></th>\n",
              "      <th></th>\n",
              "      <th></th>\n",
              "      <th></th>\n",
              "      <th></th>\n",
              "      <th></th>\n",
              "      <th></th>\n",
              "      <th></th>\n",
              "      <th></th>\n",
              "      <th></th>\n",
              "      <th></th>\n",
              "      <th></th>\n",
              "      <th></th>\n",
              "      <th></th>\n",
              "      <th></th>\n",
              "      <th></th>\n",
              "    </tr>\n",
              "  </thead>\n",
              "  <tbody>\n",
              "    <tr>\n",
              "      <th>A</th>\n",
              "      <td>50.0</td>\n",
              "      <td>-0.767177</td>\n",
              "      <td>0.911526</td>\n",
              "      <td>-2.135807</td>\n",
              "      <td>-1.434924</td>\n",
              "      <td>-0.813251</td>\n",
              "      <td>-0.262350</td>\n",
              "      <td>1.442977</td>\n",
              "      <td>50.0</td>\n",
              "      <td>0.067449</td>\n",
              "      <td>0.933719</td>\n",
              "      <td>-1.323265</td>\n",
              "      <td>-0.730734</td>\n",
              "      <td>0.151339</td>\n",
              "      <td>0.779786</td>\n",
              "      <td>1.768385</td>\n",
              "      <td>50.0</td>\n",
              "      <td>3.852589e-02</td>\n",
              "      <td>0.994147</td>\n",
              "      <td>-2.340448</td>\n",
              "      <td>-0.775333</td>\n",
              "      <td>0.067420</td>\n",
              "      <td>0.548994</td>\n",
              "      <td>1.993715</td>\n",
              "    </tr>\n",
              "    <tr>\n",
              "      <th>B</th>\n",
              "      <td>50.0</td>\n",
              "      <td>0.043770</td>\n",
              "      <td>0.869843</td>\n",
              "      <td>-1.913547</td>\n",
              "      <td>-0.363292</td>\n",
              "      <td>0.054920</td>\n",
              "      <td>0.642438</td>\n",
              "      <td>2.009120</td>\n",
              "      <td>50.0</td>\n",
              "      <td>-0.031513</td>\n",
              "      <td>1.077579</td>\n",
              "      <td>-1.323265</td>\n",
              "      <td>-1.073003</td>\n",
              "      <td>-0.261965</td>\n",
              "      <td>1.020856</td>\n",
              "      <td>1.751354</td>\n",
              "      <td>50.0</td>\n",
              "      <td>-7.705177e-02</td>\n",
              "      <td>1.135659</td>\n",
              "      <td>-2.340448</td>\n",
              "      <td>-0.895727</td>\n",
              "      <td>-0.173366</td>\n",
              "      <td>0.548994</td>\n",
              "      <td>2.956862</td>\n",
              "    </tr>\n",
              "    <tr>\n",
              "      <th>C</th>\n",
              "      <td>50.0</td>\n",
              "      <td>0.712008</td>\n",
              "      <td>0.791257</td>\n",
              "      <td>-0.904384</td>\n",
              "      <td>0.160675</td>\n",
              "      <td>0.657378</td>\n",
              "      <td>1.240527</td>\n",
              "      <td>2.878224</td>\n",
              "      <td>50.0</td>\n",
              "      <td>0.016342</td>\n",
              "      <td>0.978344</td>\n",
              "      <td>-1.323265</td>\n",
              "      <td>-0.799704</td>\n",
              "      <td>-0.027809</td>\n",
              "      <td>0.904027</td>\n",
              "      <td>1.766307</td>\n",
              "      <td>50.0</td>\n",
              "      <td>-1.332268e-16</td>\n",
              "      <td>0.853794</td>\n",
              "      <td>-2.340448</td>\n",
              "      <td>-0.414153</td>\n",
              "      <td>0.067420</td>\n",
              "      <td>0.548994</td>\n",
              "      <td>2.475288</td>\n",
              "    </tr>\n",
              "    <tr>\n",
              "      <th>D</th>\n",
              "      <td>50.0</td>\n",
              "      <td>0.011399</td>\n",
              "      <td>0.853036</td>\n",
              "      <td>-2.002171</td>\n",
              "      <td>-0.556769</td>\n",
              "      <td>0.057194</td>\n",
              "      <td>0.660570</td>\n",
              "      <td>1.533169</td>\n",
              "      <td>50.0</td>\n",
              "      <td>-0.052278</td>\n",
              "      <td>1.030700</td>\n",
              "      <td>-1.323265</td>\n",
              "      <td>-1.003903</td>\n",
              "      <td>-0.087103</td>\n",
              "      <td>0.653081</td>\n",
              "      <td>1.734298</td>\n",
              "      <td>50.0</td>\n",
              "      <td>3.852589e-02</td>\n",
              "      <td>1.022313</td>\n",
              "      <td>-2.340448</td>\n",
              "      <td>-0.895727</td>\n",
              "      <td>0.067420</td>\n",
              "      <td>0.548994</td>\n",
              "      <td>1.993715</td>\n",
              "    </tr>\n",
              "  </tbody>\n",
              "</table>\n",
              "</div>"
            ],
            "text/plain": [
              "      F4                                ...        F7                              \n",
              "   count      mean       std       min  ...       25%       50%       75%       max\n",
              "F3                                      ...                                        \n",
              "A   50.0 -0.767177  0.911526 -2.135807  ... -0.775333  0.067420  0.548994  1.993715\n",
              "B   50.0  0.043770  0.869843 -1.913547  ... -0.895727 -0.173366  0.548994  2.956862\n",
              "C   50.0  0.712008  0.791257 -0.904384  ... -0.414153  0.067420  0.548994  2.475288\n",
              "D   50.0  0.011399  0.853036 -2.002171  ... -0.895727  0.067420  0.548994  1.993715\n",
              "\n",
              "[4 rows x 24 columns]"
            ]
          },
          "metadata": {
            "tags": []
          },
          "execution_count": 270
        }
      ]
    },
    {
      "cell_type": "markdown",
      "metadata": {
        "id": "lkPHyojrSK7H"
      },
      "source": [
        "가설 검정\n",
        "\n",
        "H0 : 기수와 F4는 연관이 없다.   \n",
        "H1 : 기수와 F4는 연관이 있다. "
      ]
    },
    {
      "cell_type": "code",
      "metadata": {
        "id": "m9CWtoEYSAIT"
      },
      "source": [
        "# 연속형이므로 A,B,C,D의 평균이 다르다 같다로 검정. \n",
        "# 기수별 나누기\n",
        "nda = nd[nd['F3']=='A']\n",
        "ndb = nd[nd['F3']=='B']\n",
        "ndc = nd[nd['F3']=='C']\n",
        "ndd = nd[nd['F3']=='D']"
      ],
      "execution_count": 271,
      "outputs": []
    },
    {
      "cell_type": "code",
      "metadata": {
        "colab": {
          "base_uri": "https://localhost:8080/",
          "height": 363
        },
        "id": "hdVMUs6UTf-z",
        "outputId": "aeb201bd-7414-4526-dfec-491249c46bbf"
      },
      "source": [
        "nda[:10]"
      ],
      "execution_count": 272,
      "outputs": [
        {
          "output_type": "execute_result",
          "data": {
            "text/html": [
              "<div>\n",
              "<style scoped>\n",
              "    .dataframe tbody tr th:only-of-type {\n",
              "        vertical-align: middle;\n",
              "    }\n",
              "\n",
              "    .dataframe tbody tr th {\n",
              "        vertical-align: top;\n",
              "    }\n",
              "\n",
              "    .dataframe thead th {\n",
              "        text-align: right;\n",
              "    }\n",
              "</style>\n",
              "<table border=\"1\" class=\"dataframe\">\n",
              "  <thead>\n",
              "    <tr style=\"text-align: right;\">\n",
              "      <th></th>\n",
              "      <th>F3</th>\n",
              "      <th>F4</th>\n",
              "      <th>F5</th>\n",
              "      <th>F7</th>\n",
              "    </tr>\n",
              "  </thead>\n",
              "  <tbody>\n",
              "    <tr>\n",
              "      <th>0</th>\n",
              "      <td>A</td>\n",
              "      <td>-0.234210</td>\n",
              "      <td>1.084631</td>\n",
              "      <td>-0.895727</td>\n",
              "    </tr>\n",
              "    <tr>\n",
              "      <th>1</th>\n",
              "      <td>A</td>\n",
              "      <td>-0.775020</td>\n",
              "      <td>-0.907443</td>\n",
              "      <td>-0.895727</td>\n",
              "    </tr>\n",
              "    <tr>\n",
              "      <th>2</th>\n",
              "      <td>A</td>\n",
              "      <td>0.027231</td>\n",
              "      <td>0.923312</td>\n",
              "      <td>1.512141</td>\n",
              "    </tr>\n",
              "    <tr>\n",
              "      <th>3</th>\n",
              "      <td>A</td>\n",
              "      <td>-1.483398</td>\n",
              "      <td>-0.514881</td>\n",
              "      <td>1.993715</td>\n",
              "    </tr>\n",
              "    <tr>\n",
              "      <th>4</th>\n",
              "      <td>A</td>\n",
              "      <td>-0.840348</td>\n",
              "      <td>-0.440866</td>\n",
              "      <td>-0.414153</td>\n",
              "    </tr>\n",
              "    <tr>\n",
              "      <th>5</th>\n",
              "      <td>A</td>\n",
              "      <td>-1.452647</td>\n",
              "      <td>1.768385</td>\n",
              "      <td>-2.340448</td>\n",
              "    </tr>\n",
              "    <tr>\n",
              "      <th>6</th>\n",
              "      <td>A</td>\n",
              "      <td>-1.241236</td>\n",
              "      <td>1.135705</td>\n",
              "      <td>-0.895727</td>\n",
              "    </tr>\n",
              "    <tr>\n",
              "      <th>7</th>\n",
              "      <td>A</td>\n",
              "      <td>-0.194970</td>\n",
              "      <td>-1.079032</td>\n",
              "      <td>-0.414153</td>\n",
              "    </tr>\n",
              "    <tr>\n",
              "      <th>8</th>\n",
              "      <td>A</td>\n",
              "      <td>0.121446</td>\n",
              "      <td>0.388855</td>\n",
              "      <td>0.067420</td>\n",
              "    </tr>\n",
              "    <tr>\n",
              "      <th>9</th>\n",
              "      <td>A</td>\n",
              "      <td>-1.056663</td>\n",
              "      <td>0.128064</td>\n",
              "      <td>-1.858874</td>\n",
              "    </tr>\n",
              "  </tbody>\n",
              "</table>\n",
              "</div>"
            ],
            "text/plain": [
              "  F3        F4        F5        F7\n",
              "0  A -0.234210  1.084631 -0.895727\n",
              "1  A -0.775020 -0.907443 -0.895727\n",
              "2  A  0.027231  0.923312  1.512141\n",
              "3  A -1.483398 -0.514881  1.993715\n",
              "4  A -0.840348 -0.440866 -0.414153\n",
              "5  A -1.452647  1.768385 -2.340448\n",
              "6  A -1.241236  1.135705 -0.895727\n",
              "7  A -0.194970 -1.079032 -0.414153\n",
              "8  A  0.121446  0.388855  0.067420\n",
              "9  A -1.056663  0.128064 -1.858874"
            ]
          },
          "metadata": {
            "tags": []
          },
          "execution_count": 272
        }
      ]
    },
    {
      "cell_type": "markdown",
      "metadata": {
        "id": "SrEDmUEwFOXj"
      },
      "source": [
        "표준화한 F4와의 연관성 파악"
      ]
    },
    {
      "cell_type": "code",
      "metadata": {
        "colab": {
          "base_uri": "https://localhost:8080/",
          "height": 304
        },
        "id": "dBj9C8N5F95f",
        "outputId": "9d0b4295-f962-4d84-ba5c-d793dbcd4d55"
      },
      "source": [
        "sns.violinplot(x='F3', y='F4', data=df ) # 기존 데이터"
      ],
      "execution_count": 273,
      "outputs": [
        {
          "output_type": "execute_result",
          "data": {
            "text/plain": [
              "<matplotlib.axes._subplots.AxesSubplot at 0x7fbe9370dd10>"
            ]
          },
          "metadata": {
            "tags": []
          },
          "execution_count": 273
        },
        {
          "output_type": "display_data",
          "data": {
            "image/png": "[encoded data removed]",
            "text/plain": [
              "<Figure size 432x288 with 1 Axes>"
            ]
          },
          "metadata": {
            "tags": []
          }
        }
      ]
    },
    {
      "cell_type": "code",
      "metadata": {
        "colab": {
          "base_uri": "https://localhost:8080/",
          "height": 303
        },
        "id": "c8Fd4qV0FqRl",
        "outputId": "fe4b7151-7101-44e3-bd93-aa599aa2af34"
      },
      "source": [
        "sns.violinplot(x='F3', y='F4', data=nd ) # 스케일된 데이터 --> 값만 바뀌었지 분포의 모양은 전혀 바뀌지 않음."
      ],
      "execution_count": 274,
      "outputs": [
        {
          "output_type": "execute_result",
          "data": {
            "text/plain": [
              "<matplotlib.axes._subplots.AxesSubplot at 0x7fbe93cec750>"
            ]
          },
          "metadata": {
            "tags": []
          },
          "execution_count": 274
        },
        {
          "output_type": "display_data",
          "data": {
            "image/png": "[encoded data removed]",
            "text/plain": [
              "<Figure size 432x288 with 1 Axes>"
            ]
          },
          "metadata": {
            "tags": []
          }
        }
      ]
    },
    {
      "cell_type": "code",
      "metadata": {
        "colab": {
          "base_uri": "https://localhost:8080/"
        },
        "id": "ad1X7hnzTkjI",
        "outputId": "c77c8a31-c848-4965-8a60-38c7b85ad1d8"
      },
      "source": [
        "# t-test\n",
        "result = stats.ttest_ind(nda['F4'], ndc['F4'])  # 4개의 기수중 가장 평균 차이가 크던 두 기수의 평균을 비교 \n",
        "print('t검정 통계량 = %.3f, pvalue = %.3f'%(result)) # 귀무가설(평균 같음) 기각, 대립가설 채택(평균 다름) 즉, 기수 a와 기수c는  F4평균이 다르다. "
      ],
      "execution_count": 275,
      "outputs": [
        {
          "output_type": "stream",
          "text": [
            "t검정 통계량 = -8.665, pvalue = 0.000\n"
          ],
          "name": "stdout"
        }
      ]
    },
    {
      "cell_type": "code",
      "metadata": {
        "colab": {
          "base_uri": "https://localhost:8080/"
        },
        "id": "MmDON7KKHs4y",
        "outputId": "ed269970-d3a3-4046-9531-cbcf66afbca2"
      },
      "source": [
        "# t-test\n",
        "result = stats.ttest_ind(ndb['F4'], ndd['F4'])  # 4개의 기수중 가장 평균 차이가 가장 작던 두 기수의 평균을 비교 \n",
        "print('t검정 통계량 = %.3f, pvalue = %.3f'%(result)) # 귀무가설 채택. 즉, 기수 b와 d는 F4평균이 같다. "
      ],
      "execution_count": 276,
      "outputs": [
        {
          "output_type": "stream",
          "text": [
            "t검정 통계량 = 0.188, pvalue = 0.851\n"
          ],
          "name": "stdout"
        }
      ]
    },
    {
      "cell_type": "markdown",
      "metadata": {
        "id": "9AgmFSO0IryI"
      },
      "source": [
        "4개의 기수 중 가장 평균 차이가 큰 두 그룹과 작은 그룹에 대한 t검정을 실시하였다. \n",
        "\n",
        "그러나 두 검정이 결과가 반대로 나와서 어떤 기수는 평균이 같고, 어떤 기수는 평균이 달랐다.\n",
        "\n",
        " 즉, 어떤 기수인지에 따라 F4 점수가 같은 그룹도 있도 다른 그룹도 있는 것이다. \n",
        " \n",
        "**그렇다면 F4의 경우엔 적어도 한 기수는 점수가 다르고, 중요한 지표가 될 수 있다고     유추가 가능하지만 효과적으로 한번에 평균을 비교하기 위해 이후로는 아노바검정을 실시하였다.**"
      ]
    },
    {
      "cell_type": "code",
      "metadata": {
        "colab": {
          "base_uri": "https://localhost:8080/",
          "height": 303
        },
        "id": "9RU9hvy1KVMv",
        "outputId": "1f5e1ba9-2186-4beb-8db6-f910109e238e"
      },
      "source": [
        "sns.boxplot(x='F3', y='F4', data=nd, color='#99c2a2')"
      ],
      "execution_count": 277,
      "outputs": [
        {
          "output_type": "execute_result",
          "data": {
            "text/plain": [
              "<matplotlib.axes._subplots.AxesSubplot at 0x7fbe9364a150>"
            ]
          },
          "metadata": {
            "tags": []
          },
          "execution_count": 277
        },
        {
          "output_type": "display_data",
          "data": {
            "image/png": "[encoded data removed]",
            "text/plain": [
              "<Figure size 432x288 with 1 Axes>"
            ]
          },
          "metadata": {
            "tags": []
          }
        }
      ]
    },
    {
      "cell_type": "code",
      "metadata": {
        "colab": {
          "base_uri": "https://localhost:8080/"
        },
        "id": "SC762IOWLgI0",
        "outputId": "6d925e16-2ad3-456d-cbb0-6082fb9e5ee2"
      },
      "source": [
        "# 아노바\n",
        "F_statistic, pVal = stats.f_oneway(nda['F4'], ndb['F4'], ndc['F4'], ndd['F4'])\n",
        "\n",
        "print('Altman 910 데이터의 일원분산분석 결과 : F={0:.1f}, p={1:.5f}'.format(F_statistic, pVal))\n",
        "if pVal < 0.05:\n",
        "    print('P-value 값이 충분히 작음으로 인해 그룹의 평균값이 통계적으로 유의미하게 차이납니다.')\n",
        "    print('즉, F4점수는 수강생 데이터에서 유의미한 지표입니다.')"
      ],
      "execution_count": 278,
      "outputs": [
        {
          "output_type": "stream",
          "text": [
            "Altman 910 데이터의 일원분산분석 결과 : F=24.9, p=0.00000\n",
            "P-value 값이 충분히 작음으로 인해 그룹의 평균값이 통계적으로 유의미하게 차이납니다.\n",
            "즉, F4점수는 수강생 데이터에서 유의미한 지표입니다.\n"
          ],
          "name": "stdout"
        }
      ]
    },
    {
      "cell_type": "markdown",
      "metadata": {
        "id": "19QOGjEQMnMK"
      },
      "source": [
        "표준화한 **F5** 와의 연관성 파악"
      ]
    },
    {
      "cell_type": "code",
      "metadata": {
        "colab": {
          "base_uri": "https://localhost:8080/",
          "height": 303
        },
        "id": "6nf3gwjje84T",
        "outputId": "ffdf0906-7e74-4d58-8eda-5a596c1fa406"
      },
      "source": [
        "sns.boxplot(x='F3', y='F5', data=df, color='#99c2a2')"
      ],
      "execution_count": 279,
      "outputs": [
        {
          "output_type": "execute_result",
          "data": {
            "text/plain": [
              "<matplotlib.axes._subplots.AxesSubplot at 0x7fbe92cf0b10>"
            ]
          },
          "metadata": {
            "tags": []
          },
          "execution_count": 279
        },
        {
          "output_type": "display_data",
          "data": {
            "image/png": "[encoded data removed]",
            "text/plain": [
              "<Figure size 432x288 with 1 Axes>"
            ]
          },
          "metadata": {
            "tags": []
          }
        }
      ]
    },
    {
      "cell_type": "code",
      "metadata": {
        "colab": {
          "base_uri": "https://localhost:8080/",
          "height": 303
        },
        "id": "2meELC3HLzH-",
        "outputId": "3d6a4f17-c467-45e9-ea23-471f6f28108a"
      },
      "source": [
        "sns.boxplot(x='F3', y='F5', data=nd, color='#99c2a2')"
      ],
      "execution_count": 280,
      "outputs": [
        {
          "output_type": "execute_result",
          "data": {
            "text/plain": [
              "<matplotlib.axes._subplots.AxesSubplot at 0x7fbe92c21050>"
            ]
          },
          "metadata": {
            "tags": []
          },
          "execution_count": 280
        },
        {
          "output_type": "display_data",
          "data": {
            "image/png": "[encoded data removed]",
            "text/plain": [
              "<Figure size 432x288 with 1 Axes>"
            ]
          },
          "metadata": {
            "tags": []
          }
        }
      ]
    },
    {
      "cell_type": "code",
      "metadata": {
        "colab": {
          "base_uri": "https://localhost:8080/"
        },
        "id": "BO3UElhBM3-H",
        "outputId": "2e85ec10-9f10-49bb-896a-beeac262e5df"
      },
      "source": [
        "# 아노바\n",
        "F_statistic, pVal = stats.f_oneway(nda['F5'], ndb['F5'], ndc['F5'], ndd['F5'])\n",
        "\n",
        "print('Altman 910 데이터의 일원분산분석 결과 : F={0:.1f}, p={1:.5f}'.format(F_statistic, pVal))\n",
        "if pVal < 0.05:\n",
        "    print('P-value 값이 충분히 작음으로 인해 그룹의 평균값이 통계적으로 유의미하게 차이납니다.')\n",
        "    print('즉, F5점수는 수강생 데이터에서 유의미한 지표입니다.')\n",
        "else:\n",
        "    print('P-value가 0.05보다 크므로 그룹의 평균값이 통계적으로 유의미하게 차이가 난다고 할 수 없습니다.')\n",
        "    print('즉, F5점수는 수강생 데이터에서 유의한 지표가 아닙니다.')"
      ],
      "execution_count": 281,
      "outputs": [
        {
          "output_type": "stream",
          "text": [
            "Altman 910 데이터의 일원분산분석 결과 : F=0.1, p=0.93562\n",
            "P-value가 0.05보다 크므로 그룹의 평균값이 통계적으로 유의미하게 차이가 난다고 할 수 없습니다.\n",
            "즉, F5점수는 수강생 데이터에서 유의한 지표가 아닙니다.\n"
          ],
          "name": "stdout"
        }
      ]
    },
    {
      "cell_type": "markdown",
      "metadata": {
        "id": "DMCPRFsDNs2P"
      },
      "source": [
        "표준화한 F7 와의 연관성 파악"
      ]
    },
    {
      "cell_type": "code",
      "metadata": {
        "colab": {
          "base_uri": "https://localhost:8080/",
          "height": 303
        },
        "id": "atry8yoAfEBa",
        "outputId": "6c4d851f-1d69-4666-9c51-64bb08ffa4aa"
      },
      "source": [
        "sns.boxplot(x='F3', y='F7', data=df, color='#99c2a2')"
      ],
      "execution_count": 282,
      "outputs": [
        {
          "output_type": "execute_result",
          "data": {
            "text/plain": [
              "<matplotlib.axes._subplots.AxesSubplot at 0x7fbe92cf4e90>"
            ]
          },
          "metadata": {
            "tags": []
          },
          "execution_count": 282
        },
        {
          "output_type": "display_data",
          "data": {
            "image/png": "[encoded data removed]",
            "text/plain": [
              "<Figure size 432x288 with 1 Axes>"
            ]
          },
          "metadata": {
            "tags": []
          }
        }
      ]
    },
    {
      "cell_type": "code",
      "metadata": {
        "colab": {
          "base_uri": "https://localhost:8080/",
          "height": 303
        },
        "id": "lkhbLxVvNLCL",
        "outputId": "26c95cb2-6e78-4483-b3f2-aad34d23cea5"
      },
      "source": [
        "sns.boxplot(x='F3', y='F7', data=nd, color='#99c2a2')"
      ],
      "execution_count": 283,
      "outputs": [
        {
          "output_type": "execute_result",
          "data": {
            "text/plain": [
              "<matplotlib.axes._subplots.AxesSubplot at 0x7fbe92af7d90>"
            ]
          },
          "metadata": {
            "tags": []
          },
          "execution_count": 283
        },
        {
          "output_type": "display_data",
          "data": {
            "image/png": "[encoded data removed]",
            "text/plain": [
              "<Figure size 432x288 with 1 Axes>"
            ]
          },
          "metadata": {
            "tags": []
          }
        }
      ]
    },
    {
      "cell_type": "code",
      "metadata": {
        "colab": {
          "base_uri": "https://localhost:8080/"
        },
        "id": "xj4DZzBkNyuf",
        "outputId": "b35e9dc9-ee1b-4d3b-e1f6-5601d2eeb672"
      },
      "source": [
        "# 아노바\n",
        "F_statistic, pVal = stats.f_oneway(nda['F7'], ndb['F7'], ndc['F7'], ndd['F7'])\n",
        "\n",
        "print('Altman 910 데이터의 일원분산분석 결과 : F={0:.1f}, p={1:.5f}'.format(F_statistic, pVal))\n",
        "if pVal < 0.05:\n",
        "    print('P-value 값이 충분히 작음으로 인해 그룹의 평균값이 통계적으로 유의미하게 차이납니다.')\n",
        "    print('즉, F7점수는 수강생 데이터에서 유의미한 지표입니다.')\n",
        "else:\n",
        "    print('P-value가 0.05보다 크므로 그룹의 평균값이 통계적으로 유의미하게 차이가 난다고 할 수 없습니다.')\n",
        "    print('즉, F7점수는 수강생 데이터에서 유의한 지표가 아닙니다.')"
      ],
      "execution_count": 284,
      "outputs": [
        {
          "output_type": "stream",
          "text": [
            "Altman 910 데이터의 일원분산분석 결과 : F=0.1, p=0.93182\n",
            "P-value가 0.05보다 크므로 그룹의 평균값이 통계적으로 유의미하게 차이가 난다고 할 수 없습니다.\n",
            "즉, F7점수는 수강생 데이터에서 유의한 지표가 아닙니다.\n"
          ],
          "name": "stdout"
        }
      ]
    },
    {
      "cell_type": "code",
      "metadata": {
        "colab": {
          "base_uri": "https://localhost:8080/"
        },
        "id": "GIh4HMZifYlm",
        "outputId": "8ec85da4-9843-440a-fdc6-362df404b8c3"
      },
      "source": [
        "# 원데이터 아노바 결과와 비교 ---> 검정통계량부터 피벨류까지 완전히 똑같이 나옴.\n",
        "F_statistic, pVal = stats.f_oneway(da['F7'], db['F7'], dc['F7'],dd['F7'])\n",
        "\n",
        "print('Altman 910 데이터의 일원분산분석 결과 : F={0:.1f}, p={1:.5f}'.format(F_statistic, pVal))\n",
        "if pVal < 0.05:\n",
        "    print('P-value 값이 충분히 작음으로 인해 그룹의 평균값이 통계적으로 유의미하게 차이납니다.')\n",
        "    print('즉, F7점수는 수강생 데이터에서 유의미한 지표입니다.')\n",
        "else:\n",
        "    print('P-value가 0.05보다 크므로 그룹의 평균값이 통계적으로 유의미하게 차이가 난다고 할 수 없습니다.')\n",
        "    print('즉, F7점수는 수강생 데이터에서 유의한 지표가 아닙니다.')"
      ],
      "execution_count": 285,
      "outputs": [
        {
          "output_type": "stream",
          "text": [
            "Altman 910 데이터의 일원분산분석 결과 : F=0.1, p=0.93182\n",
            "P-value가 0.05보다 크므로 그룹의 평균값이 통계적으로 유의미하게 차이가 난다고 할 수 없습니다.\n",
            "즉, F7점수는 수강생 데이터에서 유의한 지표가 아닙니다.\n"
          ],
          "name": "stdout"
        }
      ]
    },
    {
      "cell_type": "code",
      "metadata": {
        "colab": {
          "base_uri": "https://localhost:8080/"
        },
        "id": "6dug9Uy0TNgd",
        "outputId": "a9699d07-75a5-4fd6-dd70-788975f2f7d2"
      },
      "source": [
        "# 명확한 이해를 위해 \n",
        "# 원데이터와 표준화된 데이터의 두 변수간의 평균의 차 비교 #\n",
        "print((np.mean(nda['F7']) - np.mean(ndb['F7']) ) / np.sqrt(np.var(ndb['F7'])))# 표준화된 데이터간의 t\n",
        "(np.mean(da['F7']) - np.mean(db['F7']) ) / np.sqrt(np.var(db['F7']))  # 표준화된 데이터간의 t\n",
        "# 두 데이터에서의 t통계량이 똑같다. 즉, 표준화를 한다고 해서 t통계량이 달라지지 않고 따라서 t-test검정 결과도 달라지지 않는다."
      ],
      "execution_count": 286,
      "outputs": [
        {
          "output_type": "stream",
          "text": [
            "0.10280470485074854\n"
          ],
          "name": "stdout"
        },
        {
          "output_type": "execute_result",
          "data": {
            "text/plain": [
              "0.10280470485074875"
            ]
          },
          "metadata": {
            "tags": []
          },
          "execution_count": 286
        }
      ]
    },
    {
      "cell_type": "markdown",
      "metadata": {
        "id": "1xBxIoLlU2JT"
      },
      "source": [
        "**두 데이터에서의 t통계량이 똑같다. 즉, 표준화를 한다고 해서 t통계량이 달라지지 않고 따라서 t-test검정 결과도 달라지지 않는다.**"
      ]
    },
    {
      "cell_type": "markdown",
      "metadata": {
        "id": "zkuZTLaKPDOm"
      },
      "source": [
        "--- \n",
        "## Categorical 데이터를 one-hot encoding 후 분석 (F1, F2, F6, F8, F9 vs F3)"
      ]
    },
    {
      "cell_type": "markdown",
      "metadata": {
        "id": "VwK9v_OjPaZr"
      },
      "source": [
        "원핫인코딩"
      ]
    },
    {
      "cell_type": "code",
      "metadata": {
        "colab": {
          "base_uri": "https://localhost:8080/",
          "height": 424
        },
        "id": "xWxrkoERO6TE",
        "outputId": "b145924c-3883-498a-bb42-f51b6f722a61"
      },
      "source": [
        "df"
      ],
      "execution_count": 287,
      "outputs": [
        {
          "output_type": "execute_result",
          "data": {
            "text/html": [
              "<div>\n",
              "<style scoped>\n",
              "    .dataframe tbody tr th:only-of-type {\n",
              "        vertical-align: middle;\n",
              "    }\n",
              "\n",
              "    .dataframe tbody tr th {\n",
              "        vertical-align: top;\n",
              "    }\n",
              "\n",
              "    .dataframe thead th {\n",
              "        text-align: right;\n",
              "    }\n",
              "</style>\n",
              "<table border=\"1\" class=\"dataframe\">\n",
              "  <thead>\n",
              "    <tr style=\"text-align: right;\">\n",
              "      <th></th>\n",
              "      <th>Unnamed: 0</th>\n",
              "      <th>F1</th>\n",
              "      <th>F2</th>\n",
              "      <th>F3</th>\n",
              "      <th>F4</th>\n",
              "      <th>F5</th>\n",
              "      <th>F6</th>\n",
              "      <th>F7</th>\n",
              "      <th>F8</th>\n",
              "      <th>F9</th>\n",
              "    </tr>\n",
              "  </thead>\n",
              "  <tbody>\n",
              "    <tr>\n",
              "      <th>0</th>\n",
              "      <td>1</td>\n",
              "      <td>N</td>\n",
              "      <td>N</td>\n",
              "      <td>A</td>\n",
              "      <td>2.239542</td>\n",
              "      <td>0.773708</td>\n",
              "      <td>H</td>\n",
              "      <td>3.0</td>\n",
              "      <td>Y</td>\n",
              "      <td>Y</td>\n",
              "    </tr>\n",
              "    <tr>\n",
              "      <th>1</th>\n",
              "      <td>2</td>\n",
              "      <td>D</td>\n",
              "      <td>N</td>\n",
              "      <td>A</td>\n",
              "      <td>1.608900</td>\n",
              "      <td>0.133612</td>\n",
              "      <td>H</td>\n",
              "      <td>3.0</td>\n",
              "      <td>X</td>\n",
              "      <td>Y</td>\n",
              "    </tr>\n",
              "    <tr>\n",
              "      <th>2</th>\n",
              "      <td>3</td>\n",
              "      <td>N</td>\n",
              "      <td>N</td>\n",
              "      <td>A</td>\n",
              "      <td>2.544409</td>\n",
              "      <td>0.721873</td>\n",
              "      <td>H</td>\n",
              "      <td>8.0</td>\n",
              "      <td>Y</td>\n",
              "      <td>Y</td>\n",
              "    </tr>\n",
              "    <tr>\n",
              "      <th>3</th>\n",
              "      <td>4</td>\n",
              "      <td>N</td>\n",
              "      <td>Y</td>\n",
              "      <td>A</td>\n",
              "      <td>0.782857</td>\n",
              "      <td>0.259751</td>\n",
              "      <td>F</td>\n",
              "      <td>9.0</td>\n",
              "      <td>Y</td>\n",
              "      <td>N</td>\n",
              "    </tr>\n",
              "    <tr>\n",
              "      <th>4</th>\n",
              "      <td>5</td>\n",
              "      <td>N</td>\n",
              "      <td>N</td>\n",
              "      <td>A</td>\n",
              "      <td>1.532721</td>\n",
              "      <td>0.283534</td>\n",
              "      <td>E</td>\n",
              "      <td>4.0</td>\n",
              "      <td>Z</td>\n",
              "      <td>Y</td>\n",
              "    </tr>\n",
              "    <tr>\n",
              "      <th>...</th>\n",
              "      <td>...</td>\n",
              "      <td>...</td>\n",
              "      <td>...</td>\n",
              "      <td>...</td>\n",
              "      <td>...</td>\n",
              "      <td>...</td>\n",
              "      <td>...</td>\n",
              "      <td>...</td>\n",
              "      <td>...</td>\n",
              "      <td>...</td>\n",
              "    </tr>\n",
              "    <tr>\n",
              "      <th>195</th>\n",
              "      <td>196</td>\n",
              "      <td>N</td>\n",
              "      <td>N</td>\n",
              "      <td>D</td>\n",
              "      <td>2.765327</td>\n",
              "      <td>0.753814</td>\n",
              "      <td>G</td>\n",
              "      <td>5.0</td>\n",
              "      <td>X</td>\n",
              "      <td>Y</td>\n",
              "    </tr>\n",
              "    <tr>\n",
              "      <th>196</th>\n",
              "      <td>197</td>\n",
              "      <td>N</td>\n",
              "      <td>Y</td>\n",
              "      <td>D</td>\n",
              "      <td>3.098499</td>\n",
              "      <td>0.637145</td>\n",
              "      <td>G</td>\n",
              "      <td>2.0</td>\n",
              "      <td>Y</td>\n",
              "      <td>Y</td>\n",
              "    </tr>\n",
              "    <tr>\n",
              "      <th>197</th>\n",
              "      <td>198</td>\n",
              "      <td>N</td>\n",
              "      <td>N</td>\n",
              "      <td>D</td>\n",
              "      <td>1.613861</td>\n",
              "      <td>0.882830</td>\n",
              "      <td>F</td>\n",
              "      <td>2.0</td>\n",
              "      <td>Z</td>\n",
              "      <td>Y</td>\n",
              "    </tr>\n",
              "    <tr>\n",
              "      <th>198</th>\n",
              "      <td>199</td>\n",
              "      <td>N</td>\n",
              "      <td>N</td>\n",
              "      <td>D</td>\n",
              "      <td>3.003789</td>\n",
              "      <td>0.892767</td>\n",
              "      <td>G</td>\n",
              "      <td>4.0</td>\n",
              "      <td>Z</td>\n",
              "      <td>Y</td>\n",
              "    </tr>\n",
              "    <tr>\n",
              "      <th>199</th>\n",
              "      <td>200</td>\n",
              "      <td>N</td>\n",
              "      <td>N</td>\n",
              "      <td>D</td>\n",
              "      <td>2.468083</td>\n",
              "      <td>0.121094</td>\n",
              "      <td>G</td>\n",
              "      <td>5.0</td>\n",
              "      <td>X</td>\n",
              "      <td>N</td>\n",
              "    </tr>\n",
              "  </tbody>\n",
              "</table>\n",
              "<p>200 rows × 10 columns</p>\n",
              "</div>"
            ],
            "text/plain": [
              "     Unnamed: 0 F1 F2 F3        F4        F5 F6   F7 F8 F9\n",
              "0             1  N  N  A  2.239542  0.773708  H  3.0  Y  Y\n",
              "1             2  D  N  A  1.608900  0.133612  H  3.0  X  Y\n",
              "2             3  N  N  A  2.544409  0.721873  H  8.0  Y  Y\n",
              "3             4  N  Y  A  0.782857  0.259751  F  9.0  Y  N\n",
              "4             5  N  N  A  1.532721  0.283534  E  4.0  Z  Y\n",
              "..          ... .. .. ..       ...       ... ..  ... .. ..\n",
              "195         196  N  N  D  2.765327  0.753814  G  5.0  X  Y\n",
              "196         197  N  Y  D  3.098499  0.637145  G  2.0  Y  Y\n",
              "197         198  N  N  D  1.613861  0.882830  F  2.0  Z  Y\n",
              "198         199  N  N  D  3.003789  0.892767  G  4.0  Z  Y\n",
              "199         200  N  N  D  2.468083  0.121094  G  5.0  X  N\n",
              "\n",
              "[200 rows x 10 columns]"
            ]
          },
          "metadata": {
            "tags": []
          },
          "execution_count": 287
        }
      ]
    },
    {
      "cell_type": "code",
      "metadata": {
        "colab": {
          "base_uri": "https://localhost:8080/",
          "height": 424
        },
        "id": "NBS2N7sZRa1S",
        "outputId": "25897466-6c90-4de5-b385-1768845e1bb6"
      },
      "source": [
        "df['F3']\n",
        "one_F1 = pd.get_dummies(df['F1'],prefix = 'Em')\n",
        "one_F1"
      ],
      "execution_count": 288,
      "outputs": [
        {
          "output_type": "execute_result",
          "data": {
            "text/html": [
              "<div>\n",
              "<style scoped>\n",
              "    .dataframe tbody tr th:only-of-type {\n",
              "        vertical-align: middle;\n",
              "    }\n",
              "\n",
              "    .dataframe tbody tr th {\n",
              "        vertical-align: top;\n",
              "    }\n",
              "\n",
              "    .dataframe thead th {\n",
              "        text-align: right;\n",
              "    }\n",
              "</style>\n",
              "<table border=\"1\" class=\"dataframe\">\n",
              "  <thead>\n",
              "    <tr style=\"text-align: right;\">\n",
              "      <th></th>\n",
              "      <th>Em_D</th>\n",
              "      <th>Em_N</th>\n",
              "    </tr>\n",
              "  </thead>\n",
              "  <tbody>\n",
              "    <tr>\n",
              "      <th>0</th>\n",
              "      <td>0</td>\n",
              "      <td>1</td>\n",
              "    </tr>\n",
              "    <tr>\n",
              "      <th>1</th>\n",
              "      <td>1</td>\n",
              "      <td>0</td>\n",
              "    </tr>\n",
              "    <tr>\n",
              "      <th>2</th>\n",
              "      <td>0</td>\n",
              "      <td>1</td>\n",
              "    </tr>\n",
              "    <tr>\n",
              "      <th>3</th>\n",
              "      <td>0</td>\n",
              "      <td>1</td>\n",
              "    </tr>\n",
              "    <tr>\n",
              "      <th>4</th>\n",
              "      <td>0</td>\n",
              "      <td>1</td>\n",
              "    </tr>\n",
              "    <tr>\n",
              "      <th>...</th>\n",
              "      <td>...</td>\n",
              "      <td>...</td>\n",
              "    </tr>\n",
              "    <tr>\n",
              "      <th>195</th>\n",
              "      <td>0</td>\n",
              "      <td>1</td>\n",
              "    </tr>\n",
              "    <tr>\n",
              "      <th>196</th>\n",
              "      <td>0</td>\n",
              "      <td>1</td>\n",
              "    </tr>\n",
              "    <tr>\n",
              "      <th>197</th>\n",
              "      <td>0</td>\n",
              "      <td>1</td>\n",
              "    </tr>\n",
              "    <tr>\n",
              "      <th>198</th>\n",
              "      <td>0</td>\n",
              "      <td>1</td>\n",
              "    </tr>\n",
              "    <tr>\n",
              "      <th>199</th>\n",
              "      <td>0</td>\n",
              "      <td>1</td>\n",
              "    </tr>\n",
              "  </tbody>\n",
              "</table>\n",
              "<p>200 rows × 2 columns</p>\n",
              "</div>"
            ],
            "text/plain": [
              "     Em_D  Em_N\n",
              "0       0     1\n",
              "1       1     0\n",
              "2       0     1\n",
              "3       0     1\n",
              "4       0     1\n",
              "..    ...   ...\n",
              "195     0     1\n",
              "196     0     1\n",
              "197     0     1\n",
              "198     0     1\n",
              "199     0     1\n",
              "\n",
              "[200 rows x 2 columns]"
            ]
          },
          "metadata": {
            "tags": []
          },
          "execution_count": 288
        }
      ]
    },
    {
      "cell_type": "code",
      "metadata": {
        "colab": {
          "base_uri": "https://localhost:8080/",
          "height": 424
        },
        "id": "EXGblhvjPc36",
        "outputId": "8eed000c-1f9b-4b55-a962-26a099638bdb"
      },
      "source": [
        "onedf_F1 = pd.concat([df['F3'],one_F1], axis=1)\n",
        "onedf_F1"
      ],
      "execution_count": 289,
      "outputs": [
        {
          "output_type": "execute_result",
          "data": {
            "text/html": [
              "<div>\n",
              "<style scoped>\n",
              "    .dataframe tbody tr th:only-of-type {\n",
              "        vertical-align: middle;\n",
              "    }\n",
              "\n",
              "    .dataframe tbody tr th {\n",
              "        vertical-align: top;\n",
              "    }\n",
              "\n",
              "    .dataframe thead th {\n",
              "        text-align: right;\n",
              "    }\n",
              "</style>\n",
              "<table border=\"1\" class=\"dataframe\">\n",
              "  <thead>\n",
              "    <tr style=\"text-align: right;\">\n",
              "      <th></th>\n",
              "      <th>F3</th>\n",
              "      <th>Em_D</th>\n",
              "      <th>Em_N</th>\n",
              "    </tr>\n",
              "  </thead>\n",
              "  <tbody>\n",
              "    <tr>\n",
              "      <th>0</th>\n",
              "      <td>A</td>\n",
              "      <td>0</td>\n",
              "      <td>1</td>\n",
              "    </tr>\n",
              "    <tr>\n",
              "      <th>1</th>\n",
              "      <td>A</td>\n",
              "      <td>1</td>\n",
              "      <td>0</td>\n",
              "    </tr>\n",
              "    <tr>\n",
              "      <th>2</th>\n",
              "      <td>A</td>\n",
              "      <td>0</td>\n",
              "      <td>1</td>\n",
              "    </tr>\n",
              "    <tr>\n",
              "      <th>3</th>\n",
              "      <td>A</td>\n",
              "      <td>0</td>\n",
              "      <td>1</td>\n",
              "    </tr>\n",
              "    <tr>\n",
              "      <th>4</th>\n",
              "      <td>A</td>\n",
              "      <td>0</td>\n",
              "      <td>1</td>\n",
              "    </tr>\n",
              "    <tr>\n",
              "      <th>...</th>\n",
              "      <td>...</td>\n",
              "      <td>...</td>\n",
              "      <td>...</td>\n",
              "    </tr>\n",
              "    <tr>\n",
              "      <th>195</th>\n",
              "      <td>D</td>\n",
              "      <td>0</td>\n",
              "      <td>1</td>\n",
              "    </tr>\n",
              "    <tr>\n",
              "      <th>196</th>\n",
              "      <td>D</td>\n",
              "      <td>0</td>\n",
              "      <td>1</td>\n",
              "    </tr>\n",
              "    <tr>\n",
              "      <th>197</th>\n",
              "      <td>D</td>\n",
              "      <td>0</td>\n",
              "      <td>1</td>\n",
              "    </tr>\n",
              "    <tr>\n",
              "      <th>198</th>\n",
              "      <td>D</td>\n",
              "      <td>0</td>\n",
              "      <td>1</td>\n",
              "    </tr>\n",
              "    <tr>\n",
              "      <th>199</th>\n",
              "      <td>D</td>\n",
              "      <td>0</td>\n",
              "      <td>1</td>\n",
              "    </tr>\n",
              "  </tbody>\n",
              "</table>\n",
              "<p>200 rows × 3 columns</p>\n",
              "</div>"
            ],
            "text/plain": [
              "    F3  Em_D  Em_N\n",
              "0    A     0     1\n",
              "1    A     1     0\n",
              "2    A     0     1\n",
              "3    A     0     1\n",
              "4    A     0     1\n",
              "..  ..   ...   ...\n",
              "195  D     0     1\n",
              "196  D     0     1\n",
              "197  D     0     1\n",
              "198  D     0     1\n",
              "199  D     0     1\n",
              "\n",
              "[200 rows x 3 columns]"
            ]
          },
          "metadata": {
            "tags": []
          },
          "execution_count": 289
        }
      ]
    },
    {
      "cell_type": "code",
      "metadata": {
        "colab": {
          "base_uri": "https://localhost:8080/",
          "height": 206
        },
        "id": "mfqJmjWYQE4u",
        "outputId": "d3b3e245-565b-4b12-e54c-3a9abd8f98aa"
      },
      "source": [
        "onedf_F1.groupby('F3').mean() # 원핫인코딩 한 변수를 F3(기수)로 묶어서 평균을 내면, 결국 백분율 형태의 표이다.\n",
        "# 이는 아래의 이원분류표의 백분율과 같다. "
      ],
      "execution_count": 290,
      "outputs": [
        {
          "output_type": "execute_result",
          "data": {
            "text/html": [
              "<div>\n",
              "<style scoped>\n",
              "    .dataframe tbody tr th:only-of-type {\n",
              "        vertical-align: middle;\n",
              "    }\n",
              "\n",
              "    .dataframe tbody tr th {\n",
              "        vertical-align: top;\n",
              "    }\n",
              "\n",
              "    .dataframe thead th {\n",
              "        text-align: right;\n",
              "    }\n",
              "</style>\n",
              "<table border=\"1\" class=\"dataframe\">\n",
              "  <thead>\n",
              "    <tr style=\"text-align: right;\">\n",
              "      <th></th>\n",
              "      <th>Em_D</th>\n",
              "      <th>Em_N</th>\n",
              "    </tr>\n",
              "    <tr>\n",
              "      <th>F3</th>\n",
              "      <th></th>\n",
              "      <th></th>\n",
              "    </tr>\n",
              "  </thead>\n",
              "  <tbody>\n",
              "    <tr>\n",
              "      <th>A</th>\n",
              "      <td>0.12</td>\n",
              "      <td>0.88</td>\n",
              "    </tr>\n",
              "    <tr>\n",
              "      <th>B</th>\n",
              "      <td>0.18</td>\n",
              "      <td>0.82</td>\n",
              "    </tr>\n",
              "    <tr>\n",
              "      <th>C</th>\n",
              "      <td>0.20</td>\n",
              "      <td>0.80</td>\n",
              "    </tr>\n",
              "    <tr>\n",
              "      <th>D</th>\n",
              "      <td>0.22</td>\n",
              "      <td>0.78</td>\n",
              "    </tr>\n",
              "  </tbody>\n",
              "</table>\n",
              "</div>"
            ],
            "text/plain": [
              "    Em_D  Em_N\n",
              "F3            \n",
              "A   0.12  0.88\n",
              "B   0.18  0.82\n",
              "C   0.20  0.80\n",
              "D   0.22  0.78"
            ]
          },
          "metadata": {
            "tags": []
          },
          "execution_count": 290
        }
      ]
    },
    {
      "cell_type": "code",
      "metadata": {
        "colab": {
          "base_uri": "https://localhost:8080/",
          "height": 206
        },
        "id": "n_O38c34c82k",
        "outputId": "1ae80bf8-3e33-4a24-b613-54f1983af020"
      },
      "source": [
        "onedf_F1.groupby('F3').sum() # = pd.crosstab(df['F3'], df['F1']) # 원래 이원분류표랑 같다. "
      ],
      "execution_count": 291,
      "outputs": [
        {
          "output_type": "execute_result",
          "data": {
            "text/html": [
              "<div>\n",
              "<style scoped>\n",
              "    .dataframe tbody tr th:only-of-type {\n",
              "        vertical-align: middle;\n",
              "    }\n",
              "\n",
              "    .dataframe tbody tr th {\n",
              "        vertical-align: top;\n",
              "    }\n",
              "\n",
              "    .dataframe thead th {\n",
              "        text-align: right;\n",
              "    }\n",
              "</style>\n",
              "<table border=\"1\" class=\"dataframe\">\n",
              "  <thead>\n",
              "    <tr style=\"text-align: right;\">\n",
              "      <th></th>\n",
              "      <th>Em_D</th>\n",
              "      <th>Em_N</th>\n",
              "    </tr>\n",
              "    <tr>\n",
              "      <th>F3</th>\n",
              "      <th></th>\n",
              "      <th></th>\n",
              "    </tr>\n",
              "  </thead>\n",
              "  <tbody>\n",
              "    <tr>\n",
              "      <th>A</th>\n",
              "      <td>6</td>\n",
              "      <td>44</td>\n",
              "    </tr>\n",
              "    <tr>\n",
              "      <th>B</th>\n",
              "      <td>9</td>\n",
              "      <td>41</td>\n",
              "    </tr>\n",
              "    <tr>\n",
              "      <th>C</th>\n",
              "      <td>10</td>\n",
              "      <td>40</td>\n",
              "    </tr>\n",
              "    <tr>\n",
              "      <th>D</th>\n",
              "      <td>11</td>\n",
              "      <td>39</td>\n",
              "    </tr>\n",
              "  </tbody>\n",
              "</table>\n",
              "</div>"
            ],
            "text/plain": [
              "    Em_D  Em_N\n",
              "F3            \n",
              "A      6    44\n",
              "B      9    41\n",
              "C     10    40\n",
              "D     11    39"
            ]
          },
          "metadata": {
            "tags": []
          },
          "execution_count": 291
        }
      ]
    },
    {
      "cell_type": "code",
      "metadata": {
        "colab": {
          "base_uri": "https://localhost:8080/",
          "height": 206
        },
        "id": "IMDx9Na_SeJb",
        "outputId": "c4e31336-1129-4304-e625-2668430a2157"
      },
      "source": [
        "# 아래 3개의 코드 결과는 같다.\n",
        "pd.crosstab(onedf_F1['F3'],onedf_F1['Em_N']) # = 원핫 인코딩 된 두 변수중 하나와의 이원분류표 \n",
        "onedf_F1.groupby('F3').sum() # = 기수별로 나누었을 때의 합 \n",
        "pd.crosstab(df['F3'], df['F1']) # 원래 이원분류표 "
      ],
      "execution_count": 292,
      "outputs": [
        {
          "output_type": "execute_result",
          "data": {
            "text/html": [
              "<div>\n",
              "<style scoped>\n",
              "    .dataframe tbody tr th:only-of-type {\n",
              "        vertical-align: middle;\n",
              "    }\n",
              "\n",
              "    .dataframe tbody tr th {\n",
              "        vertical-align: top;\n",
              "    }\n",
              "\n",
              "    .dataframe thead th {\n",
              "        text-align: right;\n",
              "    }\n",
              "</style>\n",
              "<table border=\"1\" class=\"dataframe\">\n",
              "  <thead>\n",
              "    <tr style=\"text-align: right;\">\n",
              "      <th>F1</th>\n",
              "      <th>D</th>\n",
              "      <th>N</th>\n",
              "    </tr>\n",
              "    <tr>\n",
              "      <th>F3</th>\n",
              "      <th></th>\n",
              "      <th></th>\n",
              "    </tr>\n",
              "  </thead>\n",
              "  <tbody>\n",
              "    <tr>\n",
              "      <th>A</th>\n",
              "      <td>6</td>\n",
              "      <td>44</td>\n",
              "    </tr>\n",
              "    <tr>\n",
              "      <th>B</th>\n",
              "      <td>9</td>\n",
              "      <td>41</td>\n",
              "    </tr>\n",
              "    <tr>\n",
              "      <th>C</th>\n",
              "      <td>10</td>\n",
              "      <td>40</td>\n",
              "    </tr>\n",
              "    <tr>\n",
              "      <th>D</th>\n",
              "      <td>11</td>\n",
              "      <td>39</td>\n",
              "    </tr>\n",
              "  </tbody>\n",
              "</table>\n",
              "</div>"
            ],
            "text/plain": [
              "F1   D   N\n",
              "F3        \n",
              "A    6  44\n",
              "B    9  41\n",
              "C   10  40\n",
              "D   11  39"
            ]
          },
          "metadata": {
            "tags": []
          },
          "execution_count": 292
        }
      ]
    },
    {
      "cell_type": "code",
      "metadata": {
        "colab": {
          "base_uri": "https://localhost:8080/"
        },
        "id": "Mv99lc1-VUJK",
        "outputId": "8f62cefc-01eb-44d8-e5e1-7ad90a6f9fde"
      },
      "source": [
        "# 표준화된 데이터의 이원카이제곱검정\n",
        "chi2_contingency(onedf_F1.groupby('F3').sum() , correction=False) \n",
        "# 0.594 > 0.05이므로 유의수준 5%에서 귀무가설을 기각할 수 없다(귀무가설 채택 : F1점수는 기수별로 연관이 없다 )"
      ],
      "execution_count": 293,
      "outputs": [
        {
          "output_type": "execute_result",
          "data": {
            "text/plain": [
              "(1.8970189701897018, 0.5940533789798921, 3, array([[ 9., 41.],\n",
              "        [ 9., 41.],\n",
              "        [ 9., 41.],\n",
              "        [ 9., 41.]]))"
            ]
          },
          "metadata": {
            "tags": []
          },
          "execution_count": 293
        }
      ]
    },
    {
      "cell_type": "code",
      "metadata": {
        "colab": {
          "base_uri": "https://localhost:8080/"
        },
        "id": "s2VNa6uWVrf4",
        "outputId": "f6881877-f2ff-45a6-b5d6-2a65ee155019"
      },
      "source": [
        "# 원데이터의 이원카이제곱검정\n",
        "chi2_contingency(pd.crosstab(df['F3'], df['F1'])  , correction=False) \n",
        "# --> 완전히 똑같은 검정결과가 나옴, 넣은 데이터가 같기 때문에 당연하다."
      ],
      "execution_count": 294,
      "outputs": [
        {
          "output_type": "execute_result",
          "data": {
            "text/plain": [
              "(1.8970189701897018, 0.5940533789798921, 3, array([[ 9., 41.],\n",
              "        [ 9., 41.],\n",
              "        [ 9., 41.],\n",
              "        [ 9., 41.]]))"
            ]
          },
          "metadata": {
            "tags": []
          },
          "execution_count": 294
        }
      ]
    },
    {
      "cell_type": "markdown",
      "metadata": {
        "id": "K4qGuTpBVIMY"
      },
      "source": [
        " 즉, 이 표를 쓰면 결국 같은 데이터이기 때문에 위에서 실시한 원데이터의 카이제곱 검정과 똑같은 결과가 나온다. \n",
        "\n",
        "\n",
        " 따라서 이는 원핫인코딩 한 의미없기 때문에 카이제곱 검정 대신, 아노바-test를 해보자."
      ]
    },
    {
      "cell_type": "code",
      "metadata": {
        "colab": {
          "base_uri": "https://localhost:8080/",
          "height": 424
        },
        "id": "1mhO78z6VwNK",
        "outputId": "0847a8cd-ef29-4d1c-bb87-344372ee7012"
      },
      "source": [
        "# 모든 카테고리 변수를 원핫인코딩\n",
        "onedf = pd.get_dummies(df[['F1', 'F2', 'F6', 'F8', 'F9']],prefix = ['F1', 'F2', 'F6', 'F8', 'F9'])\n",
        "onedf = pd.concat([df['F3'],onedf], axis=1)\n",
        "onedf"
      ],
      "execution_count": 295,
      "outputs": [
        {
          "output_type": "execute_result",
          "data": {
            "text/html": [
              "<div>\n",
              "<style scoped>\n",
              "    .dataframe tbody tr th:only-of-type {\n",
              "        vertical-align: middle;\n",
              "    }\n",
              "\n",
              "    .dataframe tbody tr th {\n",
              "        vertical-align: top;\n",
              "    }\n",
              "\n",
              "    .dataframe thead th {\n",
              "        text-align: right;\n",
              "    }\n",
              "</style>\n",
              "<table border=\"1\" class=\"dataframe\">\n",
              "  <thead>\n",
              "    <tr style=\"text-align: right;\">\n",
              "      <th></th>\n",
              "      <th>F3</th>\n",
              "      <th>F1_D</th>\n",
              "      <th>F1_N</th>\n",
              "      <th>F2_N</th>\n",
              "      <th>F2_Y</th>\n",
              "      <th>F6_B</th>\n",
              "      <th>F6_C</th>\n",
              "      <th>F6_D</th>\n",
              "      <th>F6_E</th>\n",
              "      <th>F6_F</th>\n",
              "      <th>F6_G</th>\n",
              "      <th>F6_H</th>\n",
              "      <th>F8_X</th>\n",
              "      <th>F8_Y</th>\n",
              "      <th>F8_Z</th>\n",
              "      <th>F9_N</th>\n",
              "      <th>F9_Y</th>\n",
              "    </tr>\n",
              "  </thead>\n",
              "  <tbody>\n",
              "    <tr>\n",
              "      <th>0</th>\n",
              "      <td>A</td>\n",
              "      <td>0</td>\n",
              "      <td>1</td>\n",
              "      <td>1</td>\n",
              "      <td>0</td>\n",
              "      <td>0</td>\n",
              "      <td>0</td>\n",
              "      <td>0</td>\n",
              "      <td>0</td>\n",
              "      <td>0</td>\n",
              "      <td>0</td>\n",
              "      <td>1</td>\n",
              "      <td>0</td>\n",
              "      <td>1</td>\n",
              "      <td>0</td>\n",
              "      <td>0</td>\n",
              "      <td>1</td>\n",
              "    </tr>\n",
              "    <tr>\n",
              "      <th>1</th>\n",
              "      <td>A</td>\n",
              "      <td>1</td>\n",
              "      <td>0</td>\n",
              "      <td>1</td>\n",
              "      <td>0</td>\n",
              "      <td>0</td>\n",
              "      <td>0</td>\n",
              "      <td>0</td>\n",
              "      <td>0</td>\n",
              "      <td>0</td>\n",
              "      <td>0</td>\n",
              "      <td>1</td>\n",
              "      <td>1</td>\n",
              "      <td>0</td>\n",
              "      <td>0</td>\n",
              "      <td>0</td>\n",
              "      <td>1</td>\n",
              "    </tr>\n",
              "    <tr>\n",
              "      <th>2</th>\n",
              "      <td>A</td>\n",
              "      <td>0</td>\n",
              "      <td>1</td>\n",
              "      <td>1</td>\n",
              "      <td>0</td>\n",
              "      <td>0</td>\n",
              "      <td>0</td>\n",
              "      <td>0</td>\n",
              "      <td>0</td>\n",
              "      <td>0</td>\n",
              "      <td>0</td>\n",
              "      <td>1</td>\n",
              "      <td>0</td>\n",
              "      <td>1</td>\n",
              "      <td>0</td>\n",
              "      <td>0</td>\n",
              "      <td>1</td>\n",
              "    </tr>\n",
              "    <tr>\n",
              "      <th>3</th>\n",
              "      <td>A</td>\n",
              "      <td>0</td>\n",
              "      <td>1</td>\n",
              "      <td>0</td>\n",
              "      <td>1</td>\n",
              "      <td>0</td>\n",
              "      <td>0</td>\n",
              "      <td>0</td>\n",
              "      <td>0</td>\n",
              "      <td>1</td>\n",
              "      <td>0</td>\n",
              "      <td>0</td>\n",
              "      <td>0</td>\n",
              "      <td>1</td>\n",
              "      <td>0</td>\n",
              "      <td>1</td>\n",
              "      <td>0</td>\n",
              "    </tr>\n",
              "    <tr>\n",
              "      <th>4</th>\n",
              "      <td>A</td>\n",
              "      <td>0</td>\n",
              "      <td>1</td>\n",
              "      <td>1</td>\n",
              "      <td>0</td>\n",
              "      <td>0</td>\n",
              "      <td>0</td>\n",
              "      <td>0</td>\n",
              "      <td>1</td>\n",
              "      <td>0</td>\n",
              "      <td>0</td>\n",
              "      <td>0</td>\n",
              "      <td>0</td>\n",
              "      <td>0</td>\n",
              "      <td>1</td>\n",
              "      <td>0</td>\n",
              "      <td>1</td>\n",
              "    </tr>\n",
              "    <tr>\n",
              "      <th>...</th>\n",
              "      <td>...</td>\n",
              "      <td>...</td>\n",
              "      <td>...</td>\n",
              "      <td>...</td>\n",
              "      <td>...</td>\n",
              "      <td>...</td>\n",
              "      <td>...</td>\n",
              "      <td>...</td>\n",
              "      <td>...</td>\n",
              "      <td>...</td>\n",
              "      <td>...</td>\n",
              "      <td>...</td>\n",
              "      <td>...</td>\n",
              "      <td>...</td>\n",
              "      <td>...</td>\n",
              "      <td>...</td>\n",
              "      <td>...</td>\n",
              "    </tr>\n",
              "    <tr>\n",
              "      <th>195</th>\n",
              "      <td>D</td>\n",
              "      <td>0</td>\n",
              "      <td>1</td>\n",
              "      <td>1</td>\n",
              "      <td>0</td>\n",
              "      <td>0</td>\n",
              "      <td>0</td>\n",
              "      <td>0</td>\n",
              "      <td>0</td>\n",
              "      <td>0</td>\n",
              "      <td>1</td>\n",
              "      <td>0</td>\n",
              "      <td>1</td>\n",
              "      <td>0</td>\n",
              "      <td>0</td>\n",
              "      <td>0</td>\n",
              "      <td>1</td>\n",
              "    </tr>\n",
              "    <tr>\n",
              "      <th>196</th>\n",
              "      <td>D</td>\n",
              "      <td>0</td>\n",
              "      <td>1</td>\n",
              "      <td>0</td>\n",
              "      <td>1</td>\n",
              "      <td>0</td>\n",
              "      <td>0</td>\n",
              "      <td>0</td>\n",
              "      <td>0</td>\n",
              "      <td>0</td>\n",
              "      <td>1</td>\n",
              "      <td>0</td>\n",
              "      <td>0</td>\n",
              "      <td>1</td>\n",
              "      <td>0</td>\n",
              "      <td>0</td>\n",
              "      <td>1</td>\n",
              "    </tr>\n",
              "    <tr>\n",
              "      <th>197</th>\n",
              "      <td>D</td>\n",
              "      <td>0</td>\n",
              "      <td>1</td>\n",
              "      <td>1</td>\n",
              "      <td>0</td>\n",
              "      <td>0</td>\n",
              "      <td>0</td>\n",
              "      <td>0</td>\n",
              "      <td>0</td>\n",
              "      <td>1</td>\n",
              "      <td>0</td>\n",
              "      <td>0</td>\n",
              "      <td>0</td>\n",
              "      <td>0</td>\n",
              "      <td>1</td>\n",
              "      <td>0</td>\n",
              "      <td>1</td>\n",
              "    </tr>\n",
              "    <tr>\n",
              "      <th>198</th>\n",
              "      <td>D</td>\n",
              "      <td>0</td>\n",
              "      <td>1</td>\n",
              "      <td>1</td>\n",
              "      <td>0</td>\n",
              "      <td>0</td>\n",
              "      <td>0</td>\n",
              "      <td>0</td>\n",
              "      <td>0</td>\n",
              "      <td>0</td>\n",
              "      <td>1</td>\n",
              "      <td>0</td>\n",
              "      <td>0</td>\n",
              "      <td>0</td>\n",
              "      <td>1</td>\n",
              "      <td>0</td>\n",
              "      <td>1</td>\n",
              "    </tr>\n",
              "    <tr>\n",
              "      <th>199</th>\n",
              "      <td>D</td>\n",
              "      <td>0</td>\n",
              "      <td>1</td>\n",
              "      <td>1</td>\n",
              "      <td>0</td>\n",
              "      <td>0</td>\n",
              "      <td>0</td>\n",
              "      <td>0</td>\n",
              "      <td>0</td>\n",
              "      <td>0</td>\n",
              "      <td>1</td>\n",
              "      <td>0</td>\n",
              "      <td>1</td>\n",
              "      <td>0</td>\n",
              "      <td>0</td>\n",
              "      <td>1</td>\n",
              "      <td>0</td>\n",
              "    </tr>\n",
              "  </tbody>\n",
              "</table>\n",
              "<p>200 rows × 17 columns</p>\n",
              "</div>"
            ],
            "text/plain": [
              "    F3  F1_D  F1_N  F2_N  F2_Y  F6_B  ...  F6_H  F8_X  F8_Y  F8_Z  F9_N  F9_Y\n",
              "0    A     0     1     1     0     0  ...     1     0     1     0     0     1\n",
              "1    A     1     0     1     0     0  ...     1     1     0     0     0     1\n",
              "2    A     0     1     1     0     0  ...     1     0     1     0     0     1\n",
              "3    A     0     1     0     1     0  ...     0     0     1     0     1     0\n",
              "4    A     0     1     1     0     0  ...     0     0     0     1     0     1\n",
              "..  ..   ...   ...   ...   ...   ...  ...   ...   ...   ...   ...   ...   ...\n",
              "195  D     0     1     1     0     0  ...     0     1     0     0     0     1\n",
              "196  D     0     1     0     1     0  ...     0     0     1     0     0     1\n",
              "197  D     0     1     1     0     0  ...     0     0     0     1     0     1\n",
              "198  D     0     1     1     0     0  ...     0     0     0     1     0     1\n",
              "199  D     0     1     1     0     0  ...     0     1     0     0     1     0\n",
              "\n",
              "[200 rows x 17 columns]"
            ]
          },
          "metadata": {
            "tags": []
          },
          "execution_count": 295
        }
      ]
    },
    {
      "cell_type": "code",
      "metadata": {
        "id": "BV-FAQurWU7A"
      },
      "source": [
        "# 기수별로 나누기\n",
        "onedf_A = onedf[onedf['F3']=='A']\n",
        "onedf_B = onedf[onedf['F3']=='B']\n",
        "onedf_C= onedf[onedf['F3']=='C']\n",
        "onedf_D = onedf[onedf['F3']=='D']"
      ],
      "execution_count": 296,
      "outputs": []
    },
    {
      "cell_type": "code",
      "metadata": {
        "colab": {
          "base_uri": "https://localhost:8080/",
          "height": 206
        },
        "id": "OuuUeKJeWmgI",
        "outputId": "d7eec3f0-76aa-4f99-dccd-a22bd4ee4c96"
      },
      "source": [
        "onedf_A.head()"
      ],
      "execution_count": 297,
      "outputs": [
        {
          "output_type": "execute_result",
          "data": {
            "text/html": [
              "<div>\n",
              "<style scoped>\n",
              "    .dataframe tbody tr th:only-of-type {\n",
              "        vertical-align: middle;\n",
              "    }\n",
              "\n",
              "    .dataframe tbody tr th {\n",
              "        vertical-align: top;\n",
              "    }\n",
              "\n",
              "    .dataframe thead th {\n",
              "        text-align: right;\n",
              "    }\n",
              "</style>\n",
              "<table border=\"1\" class=\"dataframe\">\n",
              "  <thead>\n",
              "    <tr style=\"text-align: right;\">\n",
              "      <th></th>\n",
              "      <th>F3</th>\n",
              "      <th>F1_D</th>\n",
              "      <th>F1_N</th>\n",
              "      <th>F2_N</th>\n",
              "      <th>F2_Y</th>\n",
              "      <th>F6_B</th>\n",
              "      <th>F6_C</th>\n",
              "      <th>F6_D</th>\n",
              "      <th>F6_E</th>\n",
              "      <th>F6_F</th>\n",
              "      <th>F6_G</th>\n",
              "      <th>F6_H</th>\n",
              "      <th>F8_X</th>\n",
              "      <th>F8_Y</th>\n",
              "      <th>F8_Z</th>\n",
              "      <th>F9_N</th>\n",
              "      <th>F9_Y</th>\n",
              "    </tr>\n",
              "  </thead>\n",
              "  <tbody>\n",
              "    <tr>\n",
              "      <th>0</th>\n",
              "      <td>A</td>\n",
              "      <td>0</td>\n",
              "      <td>1</td>\n",
              "      <td>1</td>\n",
              "      <td>0</td>\n",
              "      <td>0</td>\n",
              "      <td>0</td>\n",
              "      <td>0</td>\n",
              "      <td>0</td>\n",
              "      <td>0</td>\n",
              "      <td>0</td>\n",
              "      <td>1</td>\n",
              "      <td>0</td>\n",
              "      <td>1</td>\n",
              "      <td>0</td>\n",
              "      <td>0</td>\n",
              "      <td>1</td>\n",
              "    </tr>\n",
              "    <tr>\n",
              "      <th>1</th>\n",
              "      <td>A</td>\n",
              "      <td>1</td>\n",
              "      <td>0</td>\n",
              "      <td>1</td>\n",
              "      <td>0</td>\n",
              "      <td>0</td>\n",
              "      <td>0</td>\n",
              "      <td>0</td>\n",
              "      <td>0</td>\n",
              "      <td>0</td>\n",
              "      <td>0</td>\n",
              "      <td>1</td>\n",
              "      <td>1</td>\n",
              "      <td>0</td>\n",
              "      <td>0</td>\n",
              "      <td>0</td>\n",
              "      <td>1</td>\n",
              "    </tr>\n",
              "    <tr>\n",
              "      <th>2</th>\n",
              "      <td>A</td>\n",
              "      <td>0</td>\n",
              "      <td>1</td>\n",
              "      <td>1</td>\n",
              "      <td>0</td>\n",
              "      <td>0</td>\n",
              "      <td>0</td>\n",
              "      <td>0</td>\n",
              "      <td>0</td>\n",
              "      <td>0</td>\n",
              "      <td>0</td>\n",
              "      <td>1</td>\n",
              "      <td>0</td>\n",
              "      <td>1</td>\n",
              "      <td>0</td>\n",
              "      <td>0</td>\n",
              "      <td>1</td>\n",
              "    </tr>\n",
              "    <tr>\n",
              "      <th>3</th>\n",
              "      <td>A</td>\n",
              "      <td>0</td>\n",
              "      <td>1</td>\n",
              "      <td>0</td>\n",
              "      <td>1</td>\n",
              "      <td>0</td>\n",
              "      <td>0</td>\n",
              "      <td>0</td>\n",
              "      <td>0</td>\n",
              "      <td>1</td>\n",
              "      <td>0</td>\n",
              "      <td>0</td>\n",
              "      <td>0</td>\n",
              "      <td>1</td>\n",
              "      <td>0</td>\n",
              "      <td>1</td>\n",
              "      <td>0</td>\n",
              "    </tr>\n",
              "    <tr>\n",
              "      <th>4</th>\n",
              "      <td>A</td>\n",
              "      <td>0</td>\n",
              "      <td>1</td>\n",
              "      <td>1</td>\n",
              "      <td>0</td>\n",
              "      <td>0</td>\n",
              "      <td>0</td>\n",
              "      <td>0</td>\n",
              "      <td>1</td>\n",
              "      <td>0</td>\n",
              "      <td>0</td>\n",
              "      <td>0</td>\n",
              "      <td>0</td>\n",
              "      <td>0</td>\n",
              "      <td>1</td>\n",
              "      <td>0</td>\n",
              "      <td>1</td>\n",
              "    </tr>\n",
              "  </tbody>\n",
              "</table>\n",
              "</div>"
            ],
            "text/plain": [
              "  F3  F1_D  F1_N  F2_N  F2_Y  F6_B  ...  F6_H  F8_X  F8_Y  F8_Z  F9_N  F9_Y\n",
              "0  A     0     1     1     0     0  ...     1     0     1     0     0     1\n",
              "1  A     1     0     1     0     0  ...     1     1     0     0     0     1\n",
              "2  A     0     1     1     0     0  ...     1     0     1     0     0     1\n",
              "3  A     0     1     0     1     0  ...     0     0     1     0     1     0\n",
              "4  A     0     1     1     0     0  ...     0     0     0     1     0     1\n",
              "\n",
              "[5 rows x 17 columns]"
            ]
          },
          "metadata": {
            "tags": []
          },
          "execution_count": 297
        }
      ]
    },
    {
      "cell_type": "code",
      "metadata": {
        "colab": {
          "base_uri": "https://localhost:8080/",
          "height": 206
        },
        "id": "le0lrRonXDQB",
        "outputId": "e6b1138b-2a05-445f-b443-b93d43ff580b"
      },
      "source": [
        "onedf.groupby('F3').mean() # 원핫인코딩 한 변수를 F3(기수)로 묶어서 평균을 내면, 결국 crosstab의 백분율이다. "
      ],
      "execution_count": 298,
      "outputs": [
        {
          "output_type": "execute_result",
          "data": {
            "text/html": [
              "<div>\n",
              "<style scoped>\n",
              "    .dataframe tbody tr th:only-of-type {\n",
              "        vertical-align: middle;\n",
              "    }\n",
              "\n",
              "    .dataframe tbody tr th {\n",
              "        vertical-align: top;\n",
              "    }\n",
              "\n",
              "    .dataframe thead th {\n",
              "        text-align: right;\n",
              "    }\n",
              "</style>\n",
              "<table border=\"1\" class=\"dataframe\">\n",
              "  <thead>\n",
              "    <tr style=\"text-align: right;\">\n",
              "      <th></th>\n",
              "      <th>F1_D</th>\n",
              "      <th>F1_N</th>\n",
              "      <th>F2_N</th>\n",
              "      <th>F2_Y</th>\n",
              "      <th>F6_B</th>\n",
              "      <th>F6_C</th>\n",
              "      <th>F6_D</th>\n",
              "      <th>F6_E</th>\n",
              "      <th>F6_F</th>\n",
              "      <th>F6_G</th>\n",
              "      <th>F6_H</th>\n",
              "      <th>F8_X</th>\n",
              "      <th>F8_Y</th>\n",
              "      <th>F8_Z</th>\n",
              "      <th>F9_N</th>\n",
              "      <th>F9_Y</th>\n",
              "    </tr>\n",
              "    <tr>\n",
              "      <th>F3</th>\n",
              "      <th></th>\n",
              "      <th></th>\n",
              "      <th></th>\n",
              "      <th></th>\n",
              "      <th></th>\n",
              "      <th></th>\n",
              "      <th></th>\n",
              "      <th></th>\n",
              "      <th></th>\n",
              "      <th></th>\n",
              "      <th></th>\n",
              "      <th></th>\n",
              "      <th></th>\n",
              "      <th></th>\n",
              "      <th></th>\n",
              "      <th></th>\n",
              "    </tr>\n",
              "  </thead>\n",
              "  <tbody>\n",
              "    <tr>\n",
              "      <th>A</th>\n",
              "      <td>0.12</td>\n",
              "      <td>0.88</td>\n",
              "      <td>0.92</td>\n",
              "      <td>0.08</td>\n",
              "      <td>0.00</td>\n",
              "      <td>0.02</td>\n",
              "      <td>0.04</td>\n",
              "      <td>0.10</td>\n",
              "      <td>0.18</td>\n",
              "      <td>0.20</td>\n",
              "      <td>0.46</td>\n",
              "      <td>0.18</td>\n",
              "      <td>0.54</td>\n",
              "      <td>0.28</td>\n",
              "      <td>0.52</td>\n",
              "      <td>0.48</td>\n",
              "    </tr>\n",
              "    <tr>\n",
              "      <th>B</th>\n",
              "      <td>0.18</td>\n",
              "      <td>0.82</td>\n",
              "      <td>0.94</td>\n",
              "      <td>0.06</td>\n",
              "      <td>0.02</td>\n",
              "      <td>0.02</td>\n",
              "      <td>0.04</td>\n",
              "      <td>0.08</td>\n",
              "      <td>0.30</td>\n",
              "      <td>0.24</td>\n",
              "      <td>0.30</td>\n",
              "      <td>0.14</td>\n",
              "      <td>0.56</td>\n",
              "      <td>0.30</td>\n",
              "      <td>0.56</td>\n",
              "      <td>0.44</td>\n",
              "    </tr>\n",
              "    <tr>\n",
              "      <th>C</th>\n",
              "      <td>0.20</td>\n",
              "      <td>0.80</td>\n",
              "      <td>0.90</td>\n",
              "      <td>0.10</td>\n",
              "      <td>0.00</td>\n",
              "      <td>0.02</td>\n",
              "      <td>0.02</td>\n",
              "      <td>0.10</td>\n",
              "      <td>0.18</td>\n",
              "      <td>0.28</td>\n",
              "      <td>0.40</td>\n",
              "      <td>0.30</td>\n",
              "      <td>0.42</td>\n",
              "      <td>0.28</td>\n",
              "      <td>0.56</td>\n",
              "      <td>0.44</td>\n",
              "    </tr>\n",
              "    <tr>\n",
              "      <th>D</th>\n",
              "      <td>0.22</td>\n",
              "      <td>0.78</td>\n",
              "      <td>0.98</td>\n",
              "      <td>0.02</td>\n",
              "      <td>0.00</td>\n",
              "      <td>0.04</td>\n",
              "      <td>0.02</td>\n",
              "      <td>0.08</td>\n",
              "      <td>0.10</td>\n",
              "      <td>0.26</td>\n",
              "      <td>0.50</td>\n",
              "      <td>0.24</td>\n",
              "      <td>0.46</td>\n",
              "      <td>0.30</td>\n",
              "      <td>0.58</td>\n",
              "      <td>0.42</td>\n",
              "    </tr>\n",
              "  </tbody>\n",
              "</table>\n",
              "</div>"
            ],
            "text/plain": [
              "    F1_D  F1_N  F2_N  F2_Y  F6_B  F6_C  ...  F6_H  F8_X  F8_Y  F8_Z  F9_N  F9_Y\n",
              "F3                                      ...                                    \n",
              "A   0.12  0.88  0.92  0.08  0.00  0.02  ...  0.46  0.18  0.54  0.28  0.52  0.48\n",
              "B   0.18  0.82  0.94  0.06  0.02  0.02  ...  0.30  0.14  0.56  0.30  0.56  0.44\n",
              "C   0.20  0.80  0.90  0.10  0.00  0.02  ...  0.40  0.30  0.42  0.28  0.56  0.44\n",
              "D   0.22  0.78  0.98  0.02  0.00  0.04  ...  0.50  0.24  0.46  0.30  0.58  0.42\n",
              "\n",
              "[4 rows x 16 columns]"
            ]
          },
          "metadata": {
            "tags": []
          },
          "execution_count": 298
        }
      ]
    },
    {
      "cell_type": "markdown",
      "metadata": {
        "id": "yrSd1JBlZAMe"
      },
      "source": [
        "원핫인코딩 된 2~6개의 범주 중에서 하나의 범주에 대해서 평균을 비교해보자. \n",
        "* 만약, 범주가 Y/N이었던 F1의 경우 Y의 비율의 평균이 같다면 결국 N의 비율의 평균도 같을 것이므로 하나만 하면 될 것이다.\n",
        "* 또한, 범주가 B~H로 7개인 F6의 경우 평균이 가장 차이나는 범주로 비교를 해서 차이가 크면 의미가 있는 것이고, 그마저도 차이가 없다면 의미가 없다고 생각한다."
      ]
    },
    {
      "cell_type": "markdown",
      "metadata": {
        "id": "pQb1J0fEaNoS"
      },
      "source": [
        "ANOVA"
      ]
    },
    {
      "cell_type": "code",
      "metadata": {
        "colab": {
          "base_uri": "https://localhost:8080/"
        },
        "id": "c4WLvC4kSWio",
        "outputId": "23f77e35-4cfd-40b4-e80d-ef2a97ba49a7"
      },
      "source": [
        "# F1\n",
        "F_statistic, pVal = stats.f_oneway(onedf_A['F1_N'], onedf_B['F1_N'], onedf_C['F1_N'], onedf_D['F1_N'])\n",
        "\n",
        "print('Altman 910 데이터의 일원분산분석 결과 : F={0:.1f}, p={1:.5f}'.format(F_statistic, pVal))\n",
        "if pVal < 0.05:\n",
        "    print('P-value 값이 충분히 작음으로 인해 그룹의 평균값이 통계적으로 유의미하게 차이납니다.')\n",
        "    print('즉, F1_N점수는 수강생 데이터에서 유의미한 지표입니다.')\n",
        "else:\n",
        "    print('P-value가 0.05보다 크므로 그룹의 평균값이 통계적으로 유의미하게 차이가 난다고 할 수 없습니다.')\n",
        "    print('즉, F1_N점수는 수강생 데이터에서 유의한 지표가 아닙니다.')"
      ],
      "execution_count": 299,
      "outputs": [
        {
          "output_type": "stream",
          "text": [
            "Altman 910 데이터의 일원분산분석 결과 : F=0.6, p=0.59924\n",
            "P-value가 0.05보다 크므로 그룹의 평균값이 통계적으로 유의미하게 차이가 난다고 할 수 없습니다.\n",
            "즉, F1_N점수는 수강생 데이터에서 유의한 지표가 아닙니다.\n"
          ],
          "name": "stdout"
        }
      ]
    },
    {
      "cell_type": "code",
      "metadata": {
        "colab": {
          "base_uri": "https://localhost:8080/"
        },
        "id": "TqLycrBCZ1Fd",
        "outputId": "4d18df44-eca8-474c-95ec-8ae0c5aaca79"
      },
      "source": [
        "# F2\n",
        "F_statistic, pVal = stats.f_oneway(onedf_A['F2_Y'], onedf_B['F2_Y'], onedf_C['F2_Y'], onedf_D['F2_Y'])\n",
        "\n",
        "print('Altman 910 데이터의 일원분산분석 결과 : F={0:.1f}, p={1:.5f}'.format(F_statistic, pVal))\n",
        "if pVal < 0.05:\n",
        "    print('P-value 값이 충분히 작음으로 인해 그룹의 평균값이 통계적으로 유의미하게 차이납니다.')\n",
        "    print('즉, F2_Y점수는 수강생 데이터에서 유의미한 지표입니다.')\n",
        "else:\n",
        "    print('P-value가 0.05보다 크므로 그룹의 평균값이 통계적으로 유의미하게 차이가 난다고 할 수 없습니다.')\n",
        "    print('즉, F2_Y점수는 수강생 데이터에서 유의한 지표가 아닙니다.')"
      ],
      "execution_count": 300,
      "outputs": [
        {
          "output_type": "stream",
          "text": [
            "Altman 910 데이터의 일원분산분석 결과 : F=1.0, p=0.41540\n",
            "P-value가 0.05보다 크므로 그룹의 평균값이 통계적으로 유의미하게 차이가 난다고 할 수 없습니다.\n",
            "즉, F2_Y점수는 수강생 데이터에서 유의한 지표가 아닙니다.\n"
          ],
          "name": "stdout"
        }
      ]
    },
    {
      "cell_type": "code",
      "metadata": {
        "colab": {
          "base_uri": "https://localhost:8080/"
        },
        "id": "DhIb4eF1am89",
        "outputId": "d815ffba-373f-4ccc-ddde-820770dab8fb"
      },
      "source": [
        "# F6\n",
        "\n",
        "F_statistic, pVal = stats.f_oneway(onedf_A['F6_F'], onedf_B['F6_F'], onedf_C['F6_F'], onedf_D['F6_F'])\n",
        "\n",
        "print('Altman 910 데이터의 일원분산분석 결과 : F={0:.1f}, p={1:.5f}'.format(F_statistic, pVal))\n",
        "if pVal < 0.05:\n",
        "    print('P-value 값이 충분히 작음으로 인해 그룹의 평균값이 통계적으로 유의미하게 차이납니다.')\n",
        "    print('즉, F6_F점수는 수강생 데이터에서 유의미한 지표입니다.')\n",
        "\n",
        "##-- 0.05보단 작지만 귀무가설(평균 같다)이 맞을 확률이 0.08(8%)이므로 다른 변수들에 비해서 그나마 의미가 있다고 볼 수 있다.!"
      ],
      "execution_count": 301,
      "outputs": [
        {
          "output_type": "stream",
          "text": [
            "Altman 910 데이터의 일원분산분석 결과 : F=2.2, p=0.08498\n"
          ],
          "name": "stdout"
        }
      ]
    },
    {
      "cell_type": "code",
      "metadata": {
        "colab": {
          "base_uri": "https://localhost:8080/"
        },
        "id": "lngB-WHuaxwq",
        "outputId": "546edc6a-eae2-4ade-8e25-26f4cdd9cb61"
      },
      "source": [
        "# F8\n",
        "\n",
        "F_statistic, pVal = stats.f_oneway(onedf_A['F8_X'], onedf_B['F8_X'], onedf_C['F8_X'], onedf_D['F8_X'])\n",
        "\n",
        "print('Altman 910 데이터의 일원분산분석 결과 : F={0:.1f}, p={1:.5f}'.format(F_statistic, pVal))\n",
        "if pVal < 0.05:\n",
        "    print('P-value 값이 충분히 작음으로 인해 그룹의 평균값이 통계적으로 유의미하게 차이납니다.')\n",
        "    print('즉, F8_X점수는 수강생 데이터에서 유의미한 지표입니다.')\n",
        "else:\n",
        "    print('P-value가 0.05보다 크므로 그룹의 평균값이 통계적으로 유의미하게 차이가 난다고 할 수 없습니다.')\n",
        "    print('즉, F8_X점수는 수강생 데이터에서 유의한 지표가 아닙니다.')"
      ],
      "execution_count": 302,
      "outputs": [
        {
          "output_type": "stream",
          "text": [
            "Altman 910 데이터의 일원분산분석 결과 : F=1.5, p=0.22835\n",
            "P-value가 0.05보다 크므로 그룹의 평균값이 통계적으로 유의미하게 차이가 난다고 할 수 없습니다.\n",
            "즉, F8_X점수는 수강생 데이터에서 유의한 지표가 아닙니다.\n"
          ],
          "name": "stdout"
        }
      ]
    },
    {
      "cell_type": "code",
      "metadata": {
        "colab": {
          "base_uri": "https://localhost:8080/"
        },
        "id": "iRst0uQra-rb",
        "outputId": "e808b202-d0ea-46b8-fdfa-883237711901"
      },
      "source": [
        "# F9\n",
        "\n",
        "F_statistic, pVal = stats.f_oneway(onedf_A['F9_N'], onedf_B['F9_N'], onedf_C['F9_N'], onedf_D['F9_N'])\n",
        "\n",
        "print('Altman 910 데이터의 일원분산분석 결과 : F={0:.1f}, p={1:.5f}'.format(F_statistic, pVal))\n",
        "if pVal < 0.05:\n",
        "    print('P-value 값이 충분히 작음으로 인해 그룹의 평균값이 통계적으로 유의미하게 차이납니다.')\n",
        "    print('즉, F9_N점수는 수강생 데이터에서 유의미한 지표입니다.')\n",
        "else:\n",
        "    print('P-value가 0.05보다 크므로 그룹의 평균값이 통계적으로 유의미하게 차이가 난다고 할 수 없습니다.')\n",
        "    print('즉, F9_N점수는 수강생 데이터에서 유의한 지표가 아닙니다.')"
      ],
      "execution_count": 303,
      "outputs": [
        {
          "output_type": "stream",
          "text": [
            "Altman 910 데이터의 일원분산분석 결과 : F=0.1, p=0.94469\n",
            "P-value가 0.05보다 크므로 그룹의 평균값이 통계적으로 유의미하게 차이가 난다고 할 수 없습니다.\n",
            "즉, F9_N점수는 수강생 데이터에서 유의한 지표가 아닙니다.\n"
          ],
          "name": "stdout"
        }
      ]
    },
    {
      "cell_type": "markdown",
      "metadata": {
        "id": "h__SMwAad34S"
      },
      "source": [
        "### 결론 \n",
        ": 의외로 원데이터에서는 가장 의미없다고 나온 F6점수가 원핫인코딩 시에는 그나마 의미가 있는 것으로 나왔다.  \n",
        "이는 가장 차이나는 범주(A~H 중 'F')만을 가지고 비교해서 의미가 있는 것인지 확실하진 않지만, 원핫인코딩에 따라 또 다른 인사이트를 발견할 수 있겠다는 것을 느꼈다.  \n",
        "**(그냥 카운트해서 만든 교차빈도표는 원데이터와 똑같아지기 때문에 검정 결과가 똑같고 따라서 검정에서 제외하였다. 이에 추가적으로 t-test를 실시하였다.)**\n",
        "\n",
        "**반대로 연속형을 표준화한 경우에는 값만 달라졌을 뿐이지 분포와 검정결과는 똑같았다. \n",
        "그래서인지 t-test나 아노바 검정 결과도 똑같이 나왔다. \n",
        "t-test는 두 변수의 평균의 차이를 표준화한 값을 지표로 삼는데 표준화를 한다고 해서 표준화된 두 변수의 t통계량의 값이 달라지지 않아서 이다.**\n",
        "\n"
      ]
    }
  ]
}