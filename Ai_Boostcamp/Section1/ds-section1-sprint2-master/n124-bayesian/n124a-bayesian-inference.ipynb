{
  "nbformat": 4,
  "nbformat_minor": 0,
  "metadata": {
    "colab": {
      "name": "n124a-bayesian-inference.ipynb",
      "provenance": [],
      "collapsed_sections": [],
      "include_colab_link": true
    },
    "kernelspec": {
      "display_name": "Python 3",
      "language": "python",
      "name": "python3"
    },
    "language_info": {
      "codemirror_mode": {
        "name": "ipython",
        "version": 3
      },
      "file_extension": ".py",
      "mimetype": "text/x-python",
      "name": "python",
      "nbconvert_exporter": "python",
      "pygments_lexer": "ipython3",
      "version": "3.8.2"
    }
  },
  "cells": [
    {
      "cell_type": "markdown",
      "metadata": {
        "id": "view-in-github",
        "colab_type": "text"
      },
      "source": [
        "<a href=\"https://colab.research.google.com/github/kiminlim/ds-section1-sprint2/blob/master/n124-bayesian/n124a-bayesian-inference.ipynb\" target=\"_parent\"><img src=\"https://colab.research.google.com/assets/colab-badge.svg\" alt=\"Open In Colab\"/></a>"
      ]
    },
    {
      "cell_type": "markdown",
      "metadata": {
        "id": "H7OLbevlbd_Z"
      },
      "source": [
        "<img src='https://i.imgur.com/RDAD11M.png' width = '200' align = 'right'>\n",
        "\n",
        "## *DATA SCIENCE / SECTION 1 / SPRINT 2 / NOTE 4*\n",
        "\n",
        "# 📝 Assignment\n",
        "\n",
        "# 베이지안 통계"
      ]
    },
    {
      "cell_type": "markdown",
      "metadata": {
        "id": "lPwZPpad3UOc"
      },
      "source": [
        "## 1. Multiple Choice Test\n",
        "\n",
        "객관식 문제를 푸는 과정에서, 학생은 답을 이미 알고 있거나 찍어야 합니다. \n",
        "\n",
        "학생이 답을 알 확률은 $p$이고, 답을 찍어서 맞출 확률이 $1\\over{m}$ 이라고 할 때 $m$과 $p$를 입력받아 학생이 문제의 답을 알고 맞췄을 확률을 계산하는 함수를 작성하세요."
      ]
    },
    {
      "cell_type": "markdown",
      "metadata": {
        "id": "kr-HUgvwvJOX"
      },
      "source": [
        "### 구하고자 하는 것\n",
        ": 답을 알고 맞췄을 확률 -> 이는 **답을 맞춘 모든 사람들 중에서 답을 '알고' 맞춘 사람의 비율**과 같다.  \n",
        "즉, P(답을 알고 맞출 확률) = 답을 알고 맞춘 사람/(답을 알고 맞춘 사람 + 답을 모르는데 찍어서 맞춘 사람)\n",
        "\n",
        "이 되고, 여기에 필요한 확률은 아래와 같이 정리할 수 있다.   \n",
        "### 답을 알 확률 = p\n",
        "### 답을 모를 확률 = 1- p\n",
        "### 답을 찍어서 맞출 확률 = 1/m\n",
        "### 답을 알고 맞출 확률 = 1\n",
        "### 답을 아는데 틀릴 확률 = 0 -> *(아는데 틀리지 않는 것을 전제로 함)*\n",
        "### 답을 모르고, 찍어서 맞출 확률 = 1/m*(1 - p) -> (확률의 곱)\n",
        "\n",
        "따라서, P(답을 알고 맞출 확률) = 답을 알고 맞출 확률 / (답을 알고 맞출 확률 + 답을 모르고 찍어서 맞출 확률)과 같고 이를 수식으로 정리하면 아래와 같다.\n",
        "\n",
        "> P(답을 알고 맞출 확률) = 1 x p / (1 x p + 1/m*(1- p) )"
      ]
    },
    {
      "cell_type": "code",
      "metadata": {
        "id": "2iSrSYzZImy6"
      },
      "source": [
        "# 위의 수식을 구현한 함수\n",
        "\n",
        "def correct(p, m):\n",
        "    p_right = 1*p + (1/m)*(1-p)\n",
        "    ans = (1*p)/p_right\n",
        "    return ans"
      ],
      "execution_count": 1,
      "outputs": []
    },
    {
      "cell_type": "code",
      "metadata": {
        "colab": {
          "base_uri": "https://localhost:8080/"
        },
        "id": "-IYHaKxeOMR3",
        "outputId": "ee50378d-873f-46a1-8237-52784adba33b"
      },
      "source": [
        "correct(0.25, 4)"
      ],
      "execution_count": 2,
      "outputs": [
        {
          "output_type": "execute_result",
          "data": {
            "text/plain": [
              "0.5714285714285714"
            ]
          },
          "metadata": {
            "tags": []
          },
          "execution_count": 2
        }
      ]
    },
    {
      "cell_type": "code",
      "metadata": {
        "id": "KfxO7zrBUAxa"
      },
      "source": [
        "# 학생이 문제의 답을 알고-> 맞췄을 확률을 구하는 함수\n",
        "\n",
        "# 버전1. 사전확률을 p, 맞았는데 알 확률을 1, 틀릴 확률을 1-p, 틀렸는데 알았을 확률을 1-1/m으로 두었을 경우\n",
        "# def correct(p, m):\n",
        "#     return p / ( p + (1-1/m)*(1-p))"
      ],
      "execution_count": 1,
      "outputs": []
    },
    {
      "cell_type": "code",
      "metadata": {
        "id": "Dl-POD6Ykrf8"
      },
      "source": [
        "# 버전2. 맞았는데 아는 확률이 1-1/m으로 , 사전확률을 1/5, 아는 확률을 분모 p로 했을 경우\n",
        "# def correct(p, m):\n",
        "#     return (1-(1/m))*(1/5)  /  p"
      ],
      "execution_count": 2,
      "outputs": []
    },
    {
      "cell_type": "code",
      "metadata": {
        "id": "trk9r0Tc97Mc"
      },
      "source": [
        "# 버전2. 심화\n",
        "# def correct(p, m):\n",
        "#     p_corr = 1 / 5 # 사전확률 :  맞출 확률\n",
        "#    # p_uncorr = 4 / 5# 1 - 사전확률\n",
        "#     denominator = p # 답을 알 확률\n",
        "#     tpr = 1 - (1/m) # 맞추고 보니 알 확률\n",
        "\n",
        "#     numerator = tpr * p_corr\n",
        "#     posterior_p = numerator / denominator\n",
        "\n",
        "#     return posterior_p"
      ],
      "execution_count": 3,
      "outputs": []
    },
    {
      "cell_type": "code",
      "metadata": {
        "id": "19Y6dzKyXgsK",
        "outputId": "aa2979d1-25da-4a67-cf19-01b73c616b81",
        "colab": {
          "base_uri": "https://localhost:8080/"
        }
      },
      "source": [
        "# correct(0.5, 5)"
      ],
      "execution_count": 3,
      "outputs": [
        {
          "output_type": "execute_result",
          "data": {
            "text/plain": [
              "0.8333333333333334"
            ]
          },
          "metadata": {
            "tags": []
          },
          "execution_count": 3
        }
      ]
    },
    {
      "cell_type": "markdown",
      "metadata": {
        "id": "6gxHSw7RFrlV"
      },
      "source": [
        "## 2. Blood Test\n",
        "\n",
        "특정 질병을 가지고 있는 경우 **99%** 의 확률로 탐지 할 수 있는 실험방법이 있습니다.\n",
        "\n",
        "그러나 동시에 이 방법은, **1%** 의 확률로 질병이 없지만 질병이 있다고 진단 하는 경우도 있는데요.\n",
        "\n",
        "실제로 모든 인구중 **0.5%** 만이 이 질병을 가지고 있다고 하겠습니다.\n",
        "\n",
        "특정 사람이 이 방법을 통해 질병이 있다고 진단 받았을때, 실제로 질병을 가지고 있을 확률을 구하는 함수를 작성하세요."
      ]
    },
    {
      "cell_type": "code",
      "metadata": {
        "id": "qKYGZ5fkFjQ-"
      },
      "source": [
        "def disease(prior, tpr, fpr):\n",
        "    num = tpr * prior\n",
        "    den = num + fpr*(1-prior)\n",
        "\n",
        "    return num / den"
      ],
      "execution_count": 4,
      "outputs": []
    },
    {
      "cell_type": "code",
      "metadata": {
        "id": "ZrXDAgPjLHQ3"
      },
      "source": [
        "def disease(prior, tpr, fpr):\n",
        "    pos = tpr*prior + fpr*(1-prior)\n",
        "    ans = (tpr*prior)/pos\n",
        "    return ans"
      ],
      "execution_count": 11,
      "outputs": []
    },
    {
      "cell_type": "code",
      "metadata": {
        "colab": {
          "base_uri": "https://localhost:8080/"
        },
        "id": "DtjYvCM5Oeoj",
        "outputId": "0abb3927-a8ef-4ff1-9011-bf67668799b7"
      },
      "source": [
        "disease(0.01, 0.995, 0.005)"
      ],
      "execution_count": 12,
      "outputs": [
        {
          "output_type": "execute_result",
          "data": {
            "text/plain": [
              "0.6677852348993288"
            ]
          },
          "metadata": {
            "tags": []
          },
          "execution_count": 12
        }
      ]
    },
    {
      "cell_type": "code",
      "metadata": {
        "colab": {
          "base_uri": "https://localhost:8080/"
        },
        "id": "LKHHzeRZRuHf",
        "outputId": "70992a11-4173-436f-f0df-c9f515f780a4"
      },
      "source": [
        "# disease(0.005, 0.99, 0.01) # 강의 노트 예시와 비교"
      ],
      "execution_count": 9,
      "outputs": [
        {
          "output_type": "execute_result",
          "data": {
            "text/plain": [
              "0.33221476510067116"
            ]
          },
          "metadata": {
            "tags": []
          },
          "execution_count": 9
        }
      ]
    },
    {
      "cell_type": "markdown",
      "metadata": {
        "id": "GP7Jv1XvwtkX"
      },
      "source": [
        "## 🔥 도전 과제:\n",
        "\n"
      ]
    },
    {
      "cell_type": "markdown",
      "metadata": {
        "id": "M3WuZEGM3UOd"
      },
      "source": [
        "### 다음 문제를 읽고 답을 구하세요\n",
        "\n",
        "At a Certain stage of a criminal investigation, the inspector in charge is **60%** convinced of the guild of a certain suspect. <br>\n",
        "Suppose now that a new piece of evidence that shows that the criminal has a left-handedness is uncovered. <br>\n",
        "If **20% of population possesses this characteristic**, how certain of the guilt of the suspect should the inspector now be if it turns out that the suspect is among this group? <br>\n",
        "\n",
        "After that, the new evidence is subject to different possible interpretations, and in fact only shows that it is **90% likely that the criminal possess this characteristic**.  \n",
        "In this case how likely would it be that the suspect is guilty?"
      ]
    },
    {
      "cell_type": "code",
      "metadata": {
        "id": "E5nQAcjHFrlX",
        "outputId": "63ff99a0-f0b6-48a4-fddc-c1eea06608d4",
        "colab": {
          "base_uri": "https://localhost:8080/"
        }
      },
      "source": [
        "# 이 곳에 답안을 작성하시기 바랍니다\n",
        "\n",
        "# 유죄일 확률 = 0.6\n",
        "# 무죄일 확률 = 0.4\n",
        "# 시민이 왼손잡이 일 확률 = 0.2\n",
        "# 시민이 오른손잡이 일 확률 = 0.8\n",
        "# 유죄인 사람이 왼손잡이 일 확률(교집합) = 0.6*0.2 = 0.18\n",
        "# 용의자가 범인일 확률 = 용의자가 범죄를 저질렀을 확률 * 용의자가 왼손일 확률 = 0.6 * 1 = 0.6\n",
        "# 용의자가 범인이 아니고 다른 왼손잡이가 범인일 확률 = 0.4 * 0.2\n",
        "# P(용의자) = 0.6 = 용의자일 확률\n",
        "# P(왼손|용의자(c)) = 0.2 -> 문제에서 주어짐 = 용의자 외의 사람이 왼손일 확률\n",
        "# P(왼손|용의자) = 1 -> 문제에서 주어짐 = 용의자가 왼손일 확률\n",
        "# P(용의자(c)) = 0.4 -> 1 - P(용의자) = 용의자가 아닐 확률\n",
        "# P(용의자|왼손) = P(왼손|용의자)*P(용의자) / P(왼손) \n",
        "#                       = P(왼손|용의자)*P(용의자) / P(왼손|용의자)*P(용의자) + P(왼손|용의자(c))*P(용의자(c))\n",
        "#                       =                 1*0.6             / 1*0.6                              + 0.2*0.4\n",
        "pre = 1*0.6 / ((1*0.6) + (0.2*0.4))\n",
        "print('초기 조사 : {}, 확률 : {}%'.format(pre, pre*100))\n",
        "\n",
        "# 이 후 조사\n",
        "# 왼손일 확률 90%\n",
        "# P(왼손|용의자) = 0.9 -> 로 바뀔경우! 나머지는 변함이 없음. 그대로 식에 넣어보면\n",
        "# 0.9*0.6 / (0.9*0.6 + 0.2*0.4)\n",
        "after = 0.9*0.6 / (0.9*0.6 + 0.2*0.4)\n",
        "print('이후 조사 : {}, 확률 : {}%'.format(after, after*100))"
      ],
      "execution_count": 13,
      "outputs": [
        {
          "output_type": "stream",
          "text": [
            "초기 조사 : 0.8823529411764707, 확률 : 88.23529411764707%\n",
            "이후 조사 : 0.8709677419354838, 확률 : 87.09677419354837%\n"
          ],
          "name": "stdout"
        }
      ]
    },
    {
      "cell_type": "code",
      "metadata": {
        "id": "5rSGRpWzRx26",
        "outputId": "1c04e085-7049-4235-aaa1-844305cc3af2",
        "colab": {
          "base_uri": "https://localhost:8080/"
        }
      },
      "source": [
        "round(abs(pre - after), 3)"
      ],
      "execution_count": 14,
      "outputs": [
        {
          "output_type": "execute_result",
          "data": {
            "text/plain": [
              "0.011"
            ]
          },
          "metadata": {
            "tags": []
          },
          "execution_count": 14
        }
      ]
    },
    {
      "cell_type": "code",
      "metadata": {
        "id": "9y9z4oNvRyhG"
      },
      "source": [
        ""
      ],
      "execution_count": null,
      "outputs": []
    }
  ]
}