{
  "nbformat": 4,
  "nbformat_minor": 0,
  "metadata": {
    "colab": {
      "name": "n121a-hypothesis-test.ipynb의 사본",
      "provenance": [],
      "collapsed_sections": [],
      "include_colab_link": true
    },
    "kernelspec": {
      "display_name": "Python 3",
      "language": "python",
      "name": "python3"
    },
    "language_info": {
      "codemirror_mode": {
        "name": "ipython",
        "version": 3
      },
      "file_extension": ".py",
      "mimetype": "text/x-python",
      "name": "python",
      "nbconvert_exporter": "python",
      "pygments_lexer": "ipython3",
      "version": "3.8.2"
    }
  },
  "cells": [
    {
      "cell_type": "markdown",
      "metadata": {
        "id": "view-in-github",
        "colab_type": "text"
      },
      "source": [
        "<a href=\"https://colab.research.google.com/github/kiminlim/ds-section1-sprint2/blob/master/n121-hypothesis-test/n121a_hypothesis_test.ipynb\" target=\"_parent\"><img src=\"https://colab.research.google.com/assets/colab-badge.svg\" alt=\"Open In Colab\"/></a>"
      ]
    },
    {
      "cell_type": "markdown",
      "metadata": {
        "id": "Sa5KWMO1ngPN"
      },
      "source": [
        "<img src='https://i.imgur.com/RDAD11M.png' width = '200' align = 'right'>\n",
        "\n",
        "## *DATA SCIENCE / SECTION 1 / SPRINT 2 / NOTE 1*\n",
        "\n",
        "# 📝 Assignment"
      ]
    },
    {
      "cell_type": "markdown",
      "metadata": {
        "id": "0nGnNtZxopQc"
      },
      "source": [
        "# 가설 검정"
      ]
    },
    {
      "cell_type": "markdown",
      "metadata": {
        "id": "gZDO3KBZOJNp"
      },
      "source": [
        "## 1. One-Sample T-test 연습 (일원카이제곱 검정)"
      ]
    },
    {
      "cell_type": "markdown",
      "metadata": {
        "id": "CdRkOn9X5BdF"
      },
      "source": [
        "### 데이터 불러오기\n",
        "- [서울시 가로수 데이터셋](https://data.seoul.go.kr/dataList/367/S/2/datasetView.do)을 사용합니다.\n",
        "\n",
        "다음 링크를 참조하세요. \n",
        "<https://ds-lecture-data.s3.ap-northeast-2.amazonaws.com/seoul_tree/seoul_tree.txt>\n"
      ]
    },
    {
      "cell_type": "code",
      "metadata": {
        "id": "bd5YFp7Xvu8P",
        "colab": {
          "base_uri": "https://localhost:8080/"
        },
        "outputId": "17c8f8fa-48ae-402c-ccd8-b9d8c0a0443f"
      },
      "source": [
        "# 이 곳에 답안을 작성하시기 바랍니다.\n",
        "\n",
        "import pandas as pd\n",
        "\n",
        "trees = pd.read_csv('https://ds-lecture-data.s3.ap-northeast-2.amazonaws.com/seoul_tree/seoul_tree.txt',  sep = '\\t', skiprows = 1)\n",
        "trees = trees.replace({'-':0})\n",
        "\n",
        "print(trees.head())\n",
        "print(trees.shape) # (28, 24)"
      ],
      "execution_count": 1,
      "outputs": [
        {
          "output_type": "stream",
          "text": [
            "     기간  자치구    노선수       수량     은행나무  ...    무궁화    소나무   목련    이팝나무      기타\n",
            "0  2019  서울시  1,412  307,351  108,050  ...  2,374  4,539  378  20,088  20,112\n",
            "1  2019  종로구     70    7,329    4,072  ...      0    239    0     711      29\n",
            "2  2019   중구     48    8,250    3,640  ...     46  2,162    0     470     817\n",
            "3  2019  용산구     39    7,835    4,444  ...      0     51  126     198     780\n",
            "4  2019  성동구     38    8,120    1,090  ...      0     53    0     709     646\n",
            "\n",
            "[5 rows x 24 columns]\n",
            "(28, 24)\n"
          ],
          "name": "stdout"
        }
      ]
    },
    {
      "cell_type": "markdown",
      "metadata": {
        "id": "oxsx9cN7dUPp"
      },
      "source": [
        "### \"서울시에는 구별로 평균 약 400 그루 정도의 `이팝나무`가 있다\"라는 가설에 대해 가설검정을 시행하세요. \n",
        "\n",
        "- 단, `서울시`, `공원녹지사업소`, `시설관리공단` 부분의 데이터는 제외합니다.\n",
        "- 가설검정 결과의 pvalue 값을 `pv1`에 저장하세요. (`.pvalue` 사용)"
      ]
    },
    {
      "cell_type": "code",
      "metadata": {
        "id": "nfucb5GYpn1D",
        "colab": {
          "base_uri": "https://localhost:8080/"
        },
        "outputId": "30a1e339-2a69-4bf5-f32a-4d49680345ec"
      },
      "source": [
        "# 이 곳에 답안을 작성하시기 바랍니다\n",
        "\n",
        "trees['이팝나무'] = pd.to_numeric(trees['이팝나무'].str.replace(',','')) \n",
        "trees['이팝나무'].head()"
      ],
      "execution_count": 2,
      "outputs": [
        {
          "output_type": "execute_result",
          "data": {
            "text/plain": [
              "0    20088\n",
              "1      711\n",
              "2      470\n",
              "3      198\n",
              "4      709\n",
              "Name: 이팝나무, dtype: int64"
            ]
          },
          "metadata": {
            "tags": []
          },
          "execution_count": 2
        }
      ]
    },
    {
      "cell_type": "code",
      "metadata": {
        "id": "GVrjyNFjcy4w",
        "colab": {
          "base_uri": "https://localhost:8080/"
        },
        "outputId": "14ed22dd-00a8-4db4-bfbd-ea38cf2caab9"
      },
      "source": [
        "trees[ (trees['자치구'] == '서울시') | (trees['자치구'] == '공원녹지사업소') | (trees['자치구'] == '시설관리공단') ].index "
      ],
      "execution_count": 3,
      "outputs": [
        {
          "output_type": "execute_result",
          "data": {
            "text/plain": [
              "Int64Index([0, 26, 27], dtype='int64')"
            ]
          },
          "metadata": {
            "tags": []
          },
          "execution_count": 3
        }
      ]
    },
    {
      "cell_type": "code",
      "metadata": {
        "id": "Bl_Ix6_wcytE",
        "colab": {
          "base_uri": "https://localhost:8080/"
        },
        "outputId": "115fcfcd-9eb8-44ba-c0e4-d3fd40cd1386"
      },
      "source": [
        "idx = trees[ (trees['자치구'] == '서울시') | (trees['자치구'] == '공원녹지사업소') | (trees['자치구'] == '시설관리공단') ].index \n",
        "trees = trees.drop(idx)\n",
        "trees.shape"
      ],
      "execution_count": 4,
      "outputs": [
        {
          "output_type": "execute_result",
          "data": {
            "text/plain": [
              "(25, 24)"
            ]
          },
          "metadata": {
            "tags": []
          },
          "execution_count": 4
        }
      ]
    },
    {
      "cell_type": "code",
      "metadata": {
        "id": "Yp4GaN18HZwu",
        "colab": {
          "base_uri": "https://localhost:8080/",
          "height": 1000
        },
        "outputId": "725271d2-5538-4562-b50d-c352c64011b1"
      },
      "source": [
        "trees"
      ],
      "execution_count": 5,
      "outputs": [
        {
          "output_type": "execute_result",
          "data": {
            "text/html": [
              "<div>\n",
              "<style scoped>\n",
              "    .dataframe tbody tr th:only-of-type {\n",
              "        vertical-align: middle;\n",
              "    }\n",
              "\n",
              "    .dataframe tbody tr th {\n",
              "        vertical-align: top;\n",
              "    }\n",
              "\n",
              "    .dataframe thead th {\n",
              "        text-align: right;\n",
              "    }\n",
              "</style>\n",
              "<table border=\"1\" class=\"dataframe\">\n",
              "  <thead>\n",
              "    <tr style=\"text-align: right;\">\n",
              "      <th></th>\n",
              "      <th>기간</th>\n",
              "      <th>자치구</th>\n",
              "      <th>노선수</th>\n",
              "      <th>수량</th>\n",
              "      <th>은행나무</th>\n",
              "      <th>양버즘나무</th>\n",
              "      <th>느티나무</th>\n",
              "      <th>왕벚나무</th>\n",
              "      <th>은단풍나무</th>\n",
              "      <th>메타세콰이어</th>\n",
              "      <th>회화나무</th>\n",
              "      <th>가죽나무</th>\n",
              "      <th>감나무</th>\n",
              "      <th>수양버들</th>\n",
              "      <th>튜울립나무</th>\n",
              "      <th>칠엽수</th>\n",
              "      <th>포플러</th>\n",
              "      <th>느릅나무</th>\n",
              "      <th>살구나무</th>\n",
              "      <th>무궁화</th>\n",
              "      <th>소나무</th>\n",
              "      <th>목련</th>\n",
              "      <th>이팝나무</th>\n",
              "      <th>기타</th>\n",
              "    </tr>\n",
              "  </thead>\n",
              "  <tbody>\n",
              "    <tr>\n",
              "      <th>1</th>\n",
              "      <td>2019</td>\n",
              "      <td>종로구</td>\n",
              "      <td>70</td>\n",
              "      <td>7,329</td>\n",
              "      <td>4,072</td>\n",
              "      <td>1,071</td>\n",
              "      <td>619</td>\n",
              "      <td>421</td>\n",
              "      <td>0</td>\n",
              "      <td>1</td>\n",
              "      <td>140</td>\n",
              "      <td>1</td>\n",
              "      <td>0</td>\n",
              "      <td>8</td>\n",
              "      <td>0</td>\n",
              "      <td>17</td>\n",
              "      <td>0</td>\n",
              "      <td>0</td>\n",
              "      <td>0</td>\n",
              "      <td>0</td>\n",
              "      <td>239</td>\n",
              "      <td>0</td>\n",
              "      <td>711</td>\n",
              "      <td>29</td>\n",
              "    </tr>\n",
              "    <tr>\n",
              "      <th>2</th>\n",
              "      <td>2019</td>\n",
              "      <td>중구</td>\n",
              "      <td>48</td>\n",
              "      <td>8,250</td>\n",
              "      <td>3,640</td>\n",
              "      <td>162</td>\n",
              "      <td>460</td>\n",
              "      <td>289</td>\n",
              "      <td>0</td>\n",
              "      <td>0</td>\n",
              "      <td>176</td>\n",
              "      <td>0</td>\n",
              "      <td>0</td>\n",
              "      <td>0</td>\n",
              "      <td>7</td>\n",
              "      <td>0</td>\n",
              "      <td>0</td>\n",
              "      <td>0</td>\n",
              "      <td>21</td>\n",
              "      <td>46</td>\n",
              "      <td>2,162</td>\n",
              "      <td>0</td>\n",
              "      <td>470</td>\n",
              "      <td>817</td>\n",
              "    </tr>\n",
              "    <tr>\n",
              "      <th>3</th>\n",
              "      <td>2019</td>\n",
              "      <td>용산구</td>\n",
              "      <td>39</td>\n",
              "      <td>7,835</td>\n",
              "      <td>4,444</td>\n",
              "      <td>1,422</td>\n",
              "      <td>373</td>\n",
              "      <td>262</td>\n",
              "      <td>0</td>\n",
              "      <td>0</td>\n",
              "      <td>37</td>\n",
              "      <td>0</td>\n",
              "      <td>74</td>\n",
              "      <td>0</td>\n",
              "      <td>13</td>\n",
              "      <td>16</td>\n",
              "      <td>0</td>\n",
              "      <td>0</td>\n",
              "      <td>39</td>\n",
              "      <td>0</td>\n",
              "      <td>51</td>\n",
              "      <td>126</td>\n",
              "      <td>198</td>\n",
              "      <td>780</td>\n",
              "    </tr>\n",
              "    <tr>\n",
              "      <th>4</th>\n",
              "      <td>2019</td>\n",
              "      <td>성동구</td>\n",
              "      <td>38</td>\n",
              "      <td>8,120</td>\n",
              "      <td>1,090</td>\n",
              "      <td>2,401</td>\n",
              "      <td>1,975</td>\n",
              "      <td>602</td>\n",
              "      <td>29</td>\n",
              "      <td>48</td>\n",
              "      <td>325</td>\n",
              "      <td>33</td>\n",
              "      <td>146</td>\n",
              "      <td>0</td>\n",
              "      <td>0</td>\n",
              "      <td>1</td>\n",
              "      <td>3</td>\n",
              "      <td>59</td>\n",
              "      <td>0</td>\n",
              "      <td>0</td>\n",
              "      <td>53</td>\n",
              "      <td>0</td>\n",
              "      <td>709</td>\n",
              "      <td>646</td>\n",
              "    </tr>\n",
              "    <tr>\n",
              "      <th>5</th>\n",
              "      <td>2019</td>\n",
              "      <td>광진구</td>\n",
              "      <td>28</td>\n",
              "      <td>7,223</td>\n",
              "      <td>1,247</td>\n",
              "      <td>2,306</td>\n",
              "      <td>1,057</td>\n",
              "      <td>940</td>\n",
              "      <td>0</td>\n",
              "      <td>0</td>\n",
              "      <td>153</td>\n",
              "      <td>0</td>\n",
              "      <td>25</td>\n",
              "      <td>0</td>\n",
              "      <td>58</td>\n",
              "      <td>101</td>\n",
              "      <td>0</td>\n",
              "      <td>0</td>\n",
              "      <td>0</td>\n",
              "      <td>0</td>\n",
              "      <td>20</td>\n",
              "      <td>113</td>\n",
              "      <td>760</td>\n",
              "      <td>443</td>\n",
              "    </tr>\n",
              "    <tr>\n",
              "      <th>6</th>\n",
              "      <td>2019</td>\n",
              "      <td>동대문구</td>\n",
              "      <td>43</td>\n",
              "      <td>10,664</td>\n",
              "      <td>3,749</td>\n",
              "      <td>3,342</td>\n",
              "      <td>855</td>\n",
              "      <td>747</td>\n",
              "      <td>0</td>\n",
              "      <td>60</td>\n",
              "      <td>143</td>\n",
              "      <td>7</td>\n",
              "      <td>38</td>\n",
              "      <td>7</td>\n",
              "      <td>37</td>\n",
              "      <td>19</td>\n",
              "      <td>0</td>\n",
              "      <td>1</td>\n",
              "      <td>26</td>\n",
              "      <td>1</td>\n",
              "      <td>0</td>\n",
              "      <td>0</td>\n",
              "      <td>1176</td>\n",
              "      <td>456</td>\n",
              "    </tr>\n",
              "    <tr>\n",
              "      <th>7</th>\n",
              "      <td>2019</td>\n",
              "      <td>중랑구</td>\n",
              "      <td>57</td>\n",
              "      <td>8,365</td>\n",
              "      <td>2,774</td>\n",
              "      <td>2,759</td>\n",
              "      <td>471</td>\n",
              "      <td>354</td>\n",
              "      <td>0</td>\n",
              "      <td>74</td>\n",
              "      <td>0</td>\n",
              "      <td>0</td>\n",
              "      <td>52</td>\n",
              "      <td>0</td>\n",
              "      <td>0</td>\n",
              "      <td>0</td>\n",
              "      <td>0</td>\n",
              "      <td>0</td>\n",
              "      <td>0</td>\n",
              "      <td>212</td>\n",
              "      <td>64</td>\n",
              "      <td>0</td>\n",
              "      <td>449</td>\n",
              "      <td>1,156</td>\n",
              "    </tr>\n",
              "    <tr>\n",
              "      <th>8</th>\n",
              "      <td>2019</td>\n",
              "      <td>성북구</td>\n",
              "      <td>78</td>\n",
              "      <td>8,449</td>\n",
              "      <td>2,722</td>\n",
              "      <td>1,282</td>\n",
              "      <td>1,014</td>\n",
              "      <td>1,656</td>\n",
              "      <td>66</td>\n",
              "      <td>65</td>\n",
              "      <td>38</td>\n",
              "      <td>0</td>\n",
              "      <td>91</td>\n",
              "      <td>0</td>\n",
              "      <td>4</td>\n",
              "      <td>0</td>\n",
              "      <td>0</td>\n",
              "      <td>0</td>\n",
              "      <td>9</td>\n",
              "      <td>5</td>\n",
              "      <td>97</td>\n",
              "      <td>0</td>\n",
              "      <td>853</td>\n",
              "      <td>547</td>\n",
              "    </tr>\n",
              "    <tr>\n",
              "      <th>9</th>\n",
              "      <td>2019</td>\n",
              "      <td>강북구</td>\n",
              "      <td>31</td>\n",
              "      <td>7,789</td>\n",
              "      <td>3,510</td>\n",
              "      <td>934</td>\n",
              "      <td>324</td>\n",
              "      <td>497</td>\n",
              "      <td>284</td>\n",
              "      <td>0</td>\n",
              "      <td>103</td>\n",
              "      <td>0</td>\n",
              "      <td>0</td>\n",
              "      <td>0</td>\n",
              "      <td>5</td>\n",
              "      <td>0</td>\n",
              "      <td>0</td>\n",
              "      <td>140</td>\n",
              "      <td>0</td>\n",
              "      <td>0</td>\n",
              "      <td>1,007</td>\n",
              "      <td>0</td>\n",
              "      <td>575</td>\n",
              "      <td>410</td>\n",
              "    </tr>\n",
              "    <tr>\n",
              "      <th>10</th>\n",
              "      <td>2019</td>\n",
              "      <td>도봉구</td>\n",
              "      <td>63</td>\n",
              "      <td>9,572</td>\n",
              "      <td>4,914</td>\n",
              "      <td>323</td>\n",
              "      <td>779</td>\n",
              "      <td>2,095</td>\n",
              "      <td>6</td>\n",
              "      <td>61</td>\n",
              "      <td>32</td>\n",
              "      <td>0</td>\n",
              "      <td>0</td>\n",
              "      <td>1</td>\n",
              "      <td>15</td>\n",
              "      <td>0</td>\n",
              "      <td>0</td>\n",
              "      <td>0</td>\n",
              "      <td>0</td>\n",
              "      <td>214</td>\n",
              "      <td>15</td>\n",
              "      <td>0</td>\n",
              "      <td>47</td>\n",
              "      <td>1,070</td>\n",
              "    </tr>\n",
              "    <tr>\n",
              "      <th>11</th>\n",
              "      <td>2019</td>\n",
              "      <td>노원구</td>\n",
              "      <td>50</td>\n",
              "      <td>14,489</td>\n",
              "      <td>6,505</td>\n",
              "      <td>3,336</td>\n",
              "      <td>1,165</td>\n",
              "      <td>1,612</td>\n",
              "      <td>0</td>\n",
              "      <td>285</td>\n",
              "      <td>41</td>\n",
              "      <td>0</td>\n",
              "      <td>1</td>\n",
              "      <td>0</td>\n",
              "      <td>0</td>\n",
              "      <td>0</td>\n",
              "      <td>0</td>\n",
              "      <td>26</td>\n",
              "      <td>58</td>\n",
              "      <td>150</td>\n",
              "      <td>32</td>\n",
              "      <td>1</td>\n",
              "      <td>142</td>\n",
              "      <td>1,135</td>\n",
              "    </tr>\n",
              "    <tr>\n",
              "      <th>12</th>\n",
              "      <td>2019</td>\n",
              "      <td>은평구</td>\n",
              "      <td>35</td>\n",
              "      <td>9,880</td>\n",
              "      <td>4,324</td>\n",
              "      <td>1,653</td>\n",
              "      <td>680</td>\n",
              "      <td>1,748</td>\n",
              "      <td>0</td>\n",
              "      <td>16</td>\n",
              "      <td>422</td>\n",
              "      <td>0</td>\n",
              "      <td>0</td>\n",
              "      <td>0</td>\n",
              "      <td>0</td>\n",
              "      <td>9</td>\n",
              "      <td>0</td>\n",
              "      <td>0</td>\n",
              "      <td>0</td>\n",
              "      <td>3</td>\n",
              "      <td>0</td>\n",
              "      <td>0</td>\n",
              "      <td>443</td>\n",
              "      <td>582</td>\n",
              "    </tr>\n",
              "    <tr>\n",
              "      <th>13</th>\n",
              "      <td>2019</td>\n",
              "      <td>서대문구</td>\n",
              "      <td>39</td>\n",
              "      <td>8,627</td>\n",
              "      <td>3,474</td>\n",
              "      <td>1,890</td>\n",
              "      <td>721</td>\n",
              "      <td>732</td>\n",
              "      <td>0</td>\n",
              "      <td>25</td>\n",
              "      <td>80</td>\n",
              "      <td>0</td>\n",
              "      <td>3</td>\n",
              "      <td>0</td>\n",
              "      <td>10</td>\n",
              "      <td>5</td>\n",
              "      <td>4</td>\n",
              "      <td>0</td>\n",
              "      <td>0</td>\n",
              "      <td>70</td>\n",
              "      <td>0</td>\n",
              "      <td>0</td>\n",
              "      <td>493</td>\n",
              "      <td>1,120</td>\n",
              "    </tr>\n",
              "    <tr>\n",
              "      <th>14</th>\n",
              "      <td>2019</td>\n",
              "      <td>마포구</td>\n",
              "      <td>92</td>\n",
              "      <td>14,538</td>\n",
              "      <td>3,353</td>\n",
              "      <td>3,581</td>\n",
              "      <td>3,056</td>\n",
              "      <td>1,096</td>\n",
              "      <td>0</td>\n",
              "      <td>474</td>\n",
              "      <td>967</td>\n",
              "      <td>0</td>\n",
              "      <td>102</td>\n",
              "      <td>0</td>\n",
              "      <td>0</td>\n",
              "      <td>0</td>\n",
              "      <td>0</td>\n",
              "      <td>0</td>\n",
              "      <td>64</td>\n",
              "      <td>0</td>\n",
              "      <td>124</td>\n",
              "      <td>93</td>\n",
              "      <td>1280</td>\n",
              "      <td>348</td>\n",
              "    </tr>\n",
              "    <tr>\n",
              "      <th>15</th>\n",
              "      <td>2019</td>\n",
              "      <td>양천구</td>\n",
              "      <td>69</td>\n",
              "      <td>13,501</td>\n",
              "      <td>5,622</td>\n",
              "      <td>3,992</td>\n",
              "      <td>1,065</td>\n",
              "      <td>956</td>\n",
              "      <td>0</td>\n",
              "      <td>74</td>\n",
              "      <td>176</td>\n",
              "      <td>0</td>\n",
              "      <td>36</td>\n",
              "      <td>0</td>\n",
              "      <td>0</td>\n",
              "      <td>4</td>\n",
              "      <td>0</td>\n",
              "      <td>0</td>\n",
              "      <td>0</td>\n",
              "      <td>197</td>\n",
              "      <td>0</td>\n",
              "      <td>0</td>\n",
              "      <td>784</td>\n",
              "      <td>595</td>\n",
              "    </tr>\n",
              "    <tr>\n",
              "      <th>16</th>\n",
              "      <td>2019</td>\n",
              "      <td>강서구</td>\n",
              "      <td>55</td>\n",
              "      <td>13,719</td>\n",
              "      <td>3,977</td>\n",
              "      <td>706</td>\n",
              "      <td>2,231</td>\n",
              "      <td>2,508</td>\n",
              "      <td>0</td>\n",
              "      <td>1,651</td>\n",
              "      <td>201</td>\n",
              "      <td>0</td>\n",
              "      <td>0</td>\n",
              "      <td>0</td>\n",
              "      <td>0</td>\n",
              "      <td>110</td>\n",
              "      <td>0</td>\n",
              "      <td>0</td>\n",
              "      <td>0</td>\n",
              "      <td>59</td>\n",
              "      <td>282</td>\n",
              "      <td>0</td>\n",
              "      <td>1426</td>\n",
              "      <td>568</td>\n",
              "    </tr>\n",
              "    <tr>\n",
              "      <th>17</th>\n",
              "      <td>2019</td>\n",
              "      <td>구로구</td>\n",
              "      <td>81</td>\n",
              "      <td>11,548</td>\n",
              "      <td>3,594</td>\n",
              "      <td>1,527</td>\n",
              "      <td>1,884</td>\n",
              "      <td>2,157</td>\n",
              "      <td>13</td>\n",
              "      <td>3</td>\n",
              "      <td>0</td>\n",
              "      <td>0</td>\n",
              "      <td>0</td>\n",
              "      <td>5</td>\n",
              "      <td>0</td>\n",
              "      <td>17</td>\n",
              "      <td>0</td>\n",
              "      <td>0</td>\n",
              "      <td>0</td>\n",
              "      <td>0</td>\n",
              "      <td>30</td>\n",
              "      <td>26</td>\n",
              "      <td>1082</td>\n",
              "      <td>1,210</td>\n",
              "    </tr>\n",
              "    <tr>\n",
              "      <th>18</th>\n",
              "      <td>2019</td>\n",
              "      <td>금천구</td>\n",
              "      <td>30</td>\n",
              "      <td>6,603</td>\n",
              "      <td>3,545</td>\n",
              "      <td>1,024</td>\n",
              "      <td>407</td>\n",
              "      <td>1,123</td>\n",
              "      <td>0</td>\n",
              "      <td>35</td>\n",
              "      <td>177</td>\n",
              "      <td>0</td>\n",
              "      <td>27</td>\n",
              "      <td>0</td>\n",
              "      <td>0</td>\n",
              "      <td>7</td>\n",
              "      <td>0</td>\n",
              "      <td>0</td>\n",
              "      <td>0</td>\n",
              "      <td>0</td>\n",
              "      <td>5</td>\n",
              "      <td>0</td>\n",
              "      <td>184</td>\n",
              "      <td>69</td>\n",
              "    </tr>\n",
              "    <tr>\n",
              "      <th>19</th>\n",
              "      <td>2019</td>\n",
              "      <td>영등포구</td>\n",
              "      <td>114</td>\n",
              "      <td>18,220</td>\n",
              "      <td>5,879</td>\n",
              "      <td>3,439</td>\n",
              "      <td>3,419</td>\n",
              "      <td>2,952</td>\n",
              "      <td>147</td>\n",
              "      <td>51</td>\n",
              "      <td>99</td>\n",
              "      <td>0</td>\n",
              "      <td>57</td>\n",
              "      <td>0</td>\n",
              "      <td>12</td>\n",
              "      <td>174</td>\n",
              "      <td>0</td>\n",
              "      <td>0</td>\n",
              "      <td>0</td>\n",
              "      <td>0</td>\n",
              "      <td>40</td>\n",
              "      <td>19</td>\n",
              "      <td>1281</td>\n",
              "      <td>651</td>\n",
              "    </tr>\n",
              "    <tr>\n",
              "      <th>20</th>\n",
              "      <td>2019</td>\n",
              "      <td>동작구</td>\n",
              "      <td>29</td>\n",
              "      <td>7,083</td>\n",
              "      <td>2,178</td>\n",
              "      <td>829</td>\n",
              "      <td>1,421</td>\n",
              "      <td>1,127</td>\n",
              "      <td>0</td>\n",
              "      <td>116</td>\n",
              "      <td>8</td>\n",
              "      <td>0</td>\n",
              "      <td>0</td>\n",
              "      <td>0</td>\n",
              "      <td>0</td>\n",
              "      <td>0</td>\n",
              "      <td>0</td>\n",
              "      <td>0</td>\n",
              "      <td>0</td>\n",
              "      <td>206</td>\n",
              "      <td>7</td>\n",
              "      <td>0</td>\n",
              "      <td>397</td>\n",
              "      <td>794</td>\n",
              "    </tr>\n",
              "    <tr>\n",
              "      <th>21</th>\n",
              "      <td>2019</td>\n",
              "      <td>관악구</td>\n",
              "      <td>32</td>\n",
              "      <td>10,154</td>\n",
              "      <td>2,280</td>\n",
              "      <td>2,188</td>\n",
              "      <td>185</td>\n",
              "      <td>2,416</td>\n",
              "      <td>0</td>\n",
              "      <td>95</td>\n",
              "      <td>149</td>\n",
              "      <td>0</td>\n",
              "      <td>219</td>\n",
              "      <td>0</td>\n",
              "      <td>0</td>\n",
              "      <td>0</td>\n",
              "      <td>0</td>\n",
              "      <td>0</td>\n",
              "      <td>0</td>\n",
              "      <td>1,120</td>\n",
              "      <td>59</td>\n",
              "      <td>0</td>\n",
              "      <td>249</td>\n",
              "      <td>1,194</td>\n",
              "    </tr>\n",
              "    <tr>\n",
              "      <th>22</th>\n",
              "      <td>2019</td>\n",
              "      <td>서초구</td>\n",
              "      <td>56</td>\n",
              "      <td>16,548</td>\n",
              "      <td>3,800</td>\n",
              "      <td>5,036</td>\n",
              "      <td>3,409</td>\n",
              "      <td>254</td>\n",
              "      <td>0</td>\n",
              "      <td>1,159</td>\n",
              "      <td>478</td>\n",
              "      <td>11</td>\n",
              "      <td>0</td>\n",
              "      <td>0</td>\n",
              "      <td>0</td>\n",
              "      <td>721</td>\n",
              "      <td>0</td>\n",
              "      <td>0</td>\n",
              "      <td>0</td>\n",
              "      <td>91</td>\n",
              "      <td>0</td>\n",
              "      <td>0</td>\n",
              "      <td>446</td>\n",
              "      <td>1,143</td>\n",
              "    </tr>\n",
              "    <tr>\n",
              "      <th>23</th>\n",
              "      <td>2019</td>\n",
              "      <td>강남구</td>\n",
              "      <td>60</td>\n",
              "      <td>23,349</td>\n",
              "      <td>7,210</td>\n",
              "      <td>7,559</td>\n",
              "      <td>2,991</td>\n",
              "      <td>2,455</td>\n",
              "      <td>0</td>\n",
              "      <td>864</td>\n",
              "      <td>524</td>\n",
              "      <td>0</td>\n",
              "      <td>0</td>\n",
              "      <td>0</td>\n",
              "      <td>65</td>\n",
              "      <td>0</td>\n",
              "      <td>0</td>\n",
              "      <td>0</td>\n",
              "      <td>0</td>\n",
              "      <td>0</td>\n",
              "      <td>0</td>\n",
              "      <td>0</td>\n",
              "      <td>768</td>\n",
              "      <td>913</td>\n",
              "    </tr>\n",
              "    <tr>\n",
              "      <th>24</th>\n",
              "      <td>2019</td>\n",
              "      <td>송파구</td>\n",
              "      <td>99</td>\n",
              "      <td>22,858</td>\n",
              "      <td>11,894</td>\n",
              "      <td>4,180</td>\n",
              "      <td>2,400</td>\n",
              "      <td>992</td>\n",
              "      <td>0</td>\n",
              "      <td>14</td>\n",
              "      <td>0</td>\n",
              "      <td>0</td>\n",
              "      <td>0</td>\n",
              "      <td>11</td>\n",
              "      <td>722</td>\n",
              "      <td>329</td>\n",
              "      <td>0</td>\n",
              "      <td>0</td>\n",
              "      <td>0</td>\n",
              "      <td>0</td>\n",
              "      <td>215</td>\n",
              "      <td>0</td>\n",
              "      <td>1651</td>\n",
              "      <td>450</td>\n",
              "    </tr>\n",
              "    <tr>\n",
              "      <th>25</th>\n",
              "      <td>2019</td>\n",
              "      <td>강동구</td>\n",
              "      <td>66</td>\n",
              "      <td>17,152</td>\n",
              "      <td>5,474</td>\n",
              "      <td>4,284</td>\n",
              "      <td>2,417</td>\n",
              "      <td>2,309</td>\n",
              "      <td>0</td>\n",
              "      <td>0</td>\n",
              "      <td>57</td>\n",
              "      <td>0</td>\n",
              "      <td>0</td>\n",
              "      <td>0</td>\n",
              "      <td>0</td>\n",
              "      <td>0</td>\n",
              "      <td>0</td>\n",
              "      <td>0</td>\n",
              "      <td>0</td>\n",
              "      <td>0</td>\n",
              "      <td>0</td>\n",
              "      <td>0</td>\n",
              "      <td>642</td>\n",
              "      <td>1,969</td>\n",
              "    </tr>\n",
              "  </tbody>\n",
              "</table>\n",
              "</div>"
            ],
            "text/plain": [
              "      기간   자치구  노선수      수량    은행나무  양버즘나무  ... 살구나무    무궁화    소나무   목련  이팝나무     기타\n",
              "1   2019   종로구   70   7,329   4,072  1,071  ...    0      0    239    0   711     29\n",
              "2   2019    중구   48   8,250   3,640    162  ...   21     46  2,162    0   470    817\n",
              "3   2019   용산구   39   7,835   4,444  1,422  ...   39      0     51  126   198    780\n",
              "4   2019   성동구   38   8,120   1,090  2,401  ...    0      0     53    0   709    646\n",
              "5   2019   광진구   28   7,223   1,247  2,306  ...    0      0     20  113   760    443\n",
              "6   2019  동대문구   43  10,664   3,749  3,342  ...   26      1      0    0  1176    456\n",
              "7   2019   중랑구   57   8,365   2,774  2,759  ...    0    212     64    0   449  1,156\n",
              "8   2019   성북구   78   8,449   2,722  1,282  ...    9      5     97    0   853    547\n",
              "9   2019   강북구   31   7,789   3,510    934  ...    0      0  1,007    0   575    410\n",
              "10  2019   도봉구   63   9,572   4,914    323  ...    0    214     15    0    47  1,070\n",
              "11  2019   노원구   50  14,489   6,505  3,336  ...   58    150     32    1   142  1,135\n",
              "12  2019   은평구   35   9,880   4,324  1,653  ...    0      3      0    0   443    582\n",
              "13  2019  서대문구   39   8,627   3,474  1,890  ...    0     70      0    0   493  1,120\n",
              "14  2019   마포구   92  14,538   3,353  3,581  ...   64      0    124   93  1280    348\n",
              "15  2019   양천구   69  13,501   5,622  3,992  ...    0    197      0    0   784    595\n",
              "16  2019   강서구   55  13,719   3,977    706  ...    0     59    282    0  1426    568\n",
              "17  2019   구로구   81  11,548   3,594  1,527  ...    0      0     30   26  1082  1,210\n",
              "18  2019   금천구   30   6,603   3,545  1,024  ...    0      0      5    0   184     69\n",
              "19  2019  영등포구  114  18,220   5,879  3,439  ...    0      0     40   19  1281    651\n",
              "20  2019   동작구   29   7,083   2,178    829  ...    0    206      7    0   397    794\n",
              "21  2019   관악구   32  10,154   2,280  2,188  ...    0  1,120     59    0   249  1,194\n",
              "22  2019   서초구   56  16,548   3,800  5,036  ...    0     91      0    0   446  1,143\n",
              "23  2019   강남구   60  23,349   7,210  7,559  ...    0      0      0    0   768    913\n",
              "24  2019   송파구   99  22,858  11,894  4,180  ...    0      0    215    0  1651    450\n",
              "25  2019   강동구   66  17,152   5,474  4,284  ...    0      0      0    0   642  1,969\n",
              "\n",
              "[25 rows x 24 columns]"
            ]
          },
          "metadata": {
            "tags": []
          },
          "execution_count": 5
        }
      ]
    },
    {
      "cell_type": "code",
      "metadata": {
        "id": "u1Bauohsf3fE",
        "colab": {
          "base_uri": "https://localhost:8080/"
        },
        "outputId": "b8305ae0-ef5a-4cdb-82cb-1c470c5bf4c7"
      },
      "source": [
        "trees['이팝나무'].describe()"
      ],
      "execution_count": 6,
      "outputs": [
        {
          "output_type": "execute_result",
          "data": {
            "text/plain": [
              "count      25.00000\n",
              "mean      688.64000\n",
              "std       426.86599\n",
              "min        47.00000\n",
              "25%       443.00000\n",
              "50%       642.00000\n",
              "75%       853.00000\n",
              "max      1651.00000\n",
              "Name: 이팝나무, dtype: float64"
            ]
          },
          "metadata": {
            "tags": []
          },
          "execution_count": 6
        }
      ]
    },
    {
      "cell_type": "code",
      "metadata": {
        "id": "yXk8GSPfeTRs",
        "colab": {
          "base_uri": "https://localhost:8080/"
        },
        "outputId": "dcb63d32-9d55-4655-e675-c414627a6cd6"
      },
      "source": [
        "# 가설 검정 #*\n",
        "from scipy import stats\n",
        "result = stats.ttest_1samp(trees['이팝나무'], 400)   # 데이터, 비교하려는 값\n",
        "\n",
        "print('t검정 통계량 = %.3f, pvalue = %.3f'%(result)) "
      ],
      "execution_count": 7,
      "outputs": [
        {
          "output_type": "stream",
          "text": [
            "t검정 통계량 = 3.381, pvalue = 0.002\n"
          ],
          "name": "stdout"
        }
      ]
    },
    {
      "cell_type": "markdown",
      "metadata": {
        "id": "i8aUQ94JgFLc"
      },
      "source": [
        "* 귀무가설 : m = 400 ( 이팝나무의 서울시 구별 평균 나무 수는 400그루이다. )\n",
        "* 대립가설 : m =! 400 ( 이팝나무의 서울시 구별 평균 나무 수가 400그루가 아니다. )\n",
        "\n",
        "pvalue = 0.002 < 0.05 이므로 유의수준 5%에서 귀무가설 기각, 이는 서울시 구별 이팝나무의 평균 나무 수는 400그루가 아니라는 강한 증거가 된다. )\n"
      ]
    },
    {
      "cell_type": "code",
      "metadata": {
        "colab": {
          "base_uri": "https://localhost:8080/"
        },
        "id": "N8eXWWrz5xsG",
        "outputId": "f91ea8d1-3fe8-42ff-ebdf-e93fa786aeff"
      },
      "source": [
        "# t값\n",
        "( 688.64 - 400 ) / ( 426.866 / 5 )\n",
        "# 자유도가 24인 t분포에서 검정통계량인 3.38은 0.002의 유의확률을 가진다."
      ],
      "execution_count": 8,
      "outputs": [
        {
          "output_type": "execute_result",
          "data": {
            "text/plain": [
              "3.3809204762150182"
            ]
          },
          "metadata": {
            "tags": []
          },
          "execution_count": 8
        }
      ]
    },
    {
      "cell_type": "code",
      "metadata": {
        "colab": {
          "base_uri": "https://localhost:8080/"
        },
        "id": "smxJN4bfi5QR",
        "outputId": "599da3ab-5ad8-4b16-dd5f-652a216e3a01"
      },
      "source": [
        "pv1 = result.pvalue\n",
        "pv1"
      ],
      "execution_count": 9,
      "outputs": [
        {
          "output_type": "execute_result",
          "data": {
            "text/plain": [
              "0.002470712850935819"
            ]
          },
          "metadata": {
            "tags": []
          },
          "execution_count": 9
        }
      ]
    },
    {
      "cell_type": "code",
      "metadata": {
        "id": "iJVlnDzccypq"
      },
      "source": [
        "# trees.iloc[24,:]"
      ],
      "execution_count": 10,
      "outputs": []
    },
    {
      "cell_type": "markdown",
      "metadata": {
        "id": "yAkyHaEnbNYa"
      },
      "source": [
        "---\n",
        "### 이번에는 10개의 구를 샘플링하여, 위에 대한 가설검정을 다시 한번 시행해보세요. x\n",
        "\n",
        "- 단, 아래의 코드를 참조하여 sample을 위한 seed 는 123로 설정하세요.\n",
        "- 가설검정 결과의 pvalue값을 `pv2`에 저장하세요\n"
      ]
    },
    {
      "cell_type": "markdown",
      "metadata": {
        "id": "bA7SIoSCHGWU"
      },
      "source": [
        "x -> 샘플링 방법의 문제였음. \n",
        "나는 25개의 데이터 중 10개를 뽑기 위해 0~24의 인덱싱 중 10개의 번호를 뽑아 해당 인덱스의 데이터를 가져왔는데 그렇게 안하고 그냥 바로 데이터를 집어넣어도 되었다. \n",
        "그런데 그런다고 데이터의 인덱스가 달라지나?"
      ]
    },
    {
      "cell_type": "markdown",
      "metadata": {
        "id": "uMAZ1l0BJC89"
      },
      "source": [
        "#### 1) 인덱스를 추출해서 샘플링 했을 때"
      ]
    },
    {
      "cell_type": "code",
      "metadata": {
        "id": "DbQPGNNLq_AN",
        "colab": {
          "base_uri": "https://localhost:8080/"
        },
        "outputId": "f12cd981-d7e4-40ff-8650-f36d6dd5f856"
      },
      "source": [
        "import numpy as np\n",
        "np.random.seed(123)\n",
        "\n",
        " \n",
        "idx = np.random.choice(24, size = 10, replace=False)  # \"~\"와 \" \"을 적절한 값으로 채우시면 됩니다\n",
        "idx"
      ],
      "execution_count": 11,
      "outputs": [
        {
          "output_type": "execute_result",
          "data": {
            "text/plain": [
              "array([ 5, 20, 21, 18, 15,  8,  7, 11,  4,  3])"
            ]
          },
          "metadata": {
            "tags": []
          },
          "execution_count": 11
        }
      ]
    },
    {
      "cell_type": "code",
      "metadata": {
        "colab": {
          "base_uri": "https://localhost:8080/"
        },
        "id": "NxmNDj1Ujc7Y",
        "outputId": "a3a9a6b0-5b1b-4be1-e498-ef558d33572b"
      },
      "source": [
        "trees_10 = trees.iloc[idx,:]\n",
        "\n",
        "result = stats.ttest_1samp(trees_10['이팝나무'], 400)   # 데이터, 비교하려는 값\n",
        "\n",
        "print('t검정 통계량 = %.3f, pvalue = %.3f'%(result)) # < 0.05 이므로 귀무가설 기각, 이팝나무의 서울시 자치구별 평균 나무 수가 400그루라는 가설은 유의수준 5%에서  유의하지 않다. "
      ],
      "execution_count": 12,
      "outputs": [
        {
          "output_type": "stream",
          "text": [
            "t검정 통계량 = 3.160, pvalue = 0.012\n"
          ],
          "name": "stdout"
        }
      ]
    },
    {
      "cell_type": "markdown",
      "metadata": {
        "id": "frSm8yvtJo5p"
      },
      "source": [
        "* 귀무가설 : m = 400 ( 이팝나무의 서울시 구별 평균 나무 수는 400그루이다. )\n",
        "* 대립가설 : m =! 400 ( 이팝나무의 서울시 구별 평균 나무 수가 400그루가 아니다. )\n",
        "\n",
        "pvalue < 0.05 이므로 유의수준 5%에서 귀무가설을 기각한다.\n",
        "( 이는 서울시 구별 이팝나무의 평균 나무 수는 400그루가 아니라는 강한 증거가 된다. )"
      ]
    },
    {
      "cell_type": "code",
      "metadata": {
        "id": "VdPd8DzxKzCK",
        "colab": {
          "base_uri": "https://localhost:8080/",
          "height": 300
        },
        "outputId": "1d63c664-5dc5-4d0c-c0d2-d10e78e6db3a"
      },
      "source": [
        "trees_10.describe()"
      ],
      "execution_count": 13,
      "outputs": [
        {
          "output_type": "execute_result",
          "data": {
            "text/html": [
              "<div>\n",
              "<style scoped>\n",
              "    .dataframe tbody tr th:only-of-type {\n",
              "        vertical-align: middle;\n",
              "    }\n",
              "\n",
              "    .dataframe tbody tr th {\n",
              "        vertical-align: top;\n",
              "    }\n",
              "\n",
              "    .dataframe thead th {\n",
              "        text-align: right;\n",
              "    }\n",
              "</style>\n",
              "<table border=\"1\" class=\"dataframe\">\n",
              "  <thead>\n",
              "    <tr style=\"text-align: right;\">\n",
              "      <th></th>\n",
              "      <th>기간</th>\n",
              "      <th>이팝나무</th>\n",
              "    </tr>\n",
              "  </thead>\n",
              "  <tbody>\n",
              "    <tr>\n",
              "      <th>count</th>\n",
              "      <td>10.0</td>\n",
              "      <td>10.000000</td>\n",
              "    </tr>\n",
              "    <tr>\n",
              "      <th>mean</th>\n",
              "      <td>2019.0</td>\n",
              "      <td>791.800000</td>\n",
              "    </tr>\n",
              "    <tr>\n",
              "      <th>std</th>\n",
              "      <td>0.0</td>\n",
              "      <td>392.091486</td>\n",
              "    </tr>\n",
              "    <tr>\n",
              "      <th>min</th>\n",
              "      <td>2019.0</td>\n",
              "      <td>249.000000</td>\n",
              "    </tr>\n",
              "    <tr>\n",
              "      <th>25%</th>\n",
              "      <td>2019.0</td>\n",
              "      <td>478.250000</td>\n",
              "    </tr>\n",
              "    <tr>\n",
              "      <th>50%</th>\n",
              "      <td>2019.0</td>\n",
              "      <td>734.500000</td>\n",
              "    </tr>\n",
              "    <tr>\n",
              "      <th>75%</th>\n",
              "      <td>2019.0</td>\n",
              "      <td>1095.250000</td>\n",
              "    </tr>\n",
              "    <tr>\n",
              "      <th>max</th>\n",
              "      <td>2019.0</td>\n",
              "      <td>1426.000000</td>\n",
              "    </tr>\n",
              "  </tbody>\n",
              "</table>\n",
              "</div>"
            ],
            "text/plain": [
              "           기간         이팝나무\n",
              "count    10.0    10.000000\n",
              "mean   2019.0   791.800000\n",
              "std       0.0   392.091486\n",
              "min    2019.0   249.000000\n",
              "25%    2019.0   478.250000\n",
              "50%    2019.0   734.500000\n",
              "75%    2019.0  1095.250000\n",
              "max    2019.0  1426.000000"
            ]
          },
          "metadata": {
            "tags": []
          },
          "execution_count": 13
        }
      ]
    },
    {
      "cell_type": "code",
      "metadata": {
        "colab": {
          "base_uri": "https://localhost:8080/"
        },
        "id": "eXjiJJEr6hSX",
        "outputId": "5313967c-3a22-4583-9f67-9bc4dd11be54"
      },
      "source": [
        "import numpy as np\n",
        "\n",
        "(791.8 - 400) / (392.0915 / np.sqrt(10)) # t값이 3.16과 비슷함을 확인. 자유도가 9인 t분포에서 3.16의 검정통계량은 0.012의 피벨류를 가진다. < 0.05 -> 귀무가설 기각. "
      ],
      "execution_count": 14,
      "outputs": [
        {
          "output_type": "execute_result",
          "data": {
            "text/plain": [
              "3.1599266682750606"
            ]
          },
          "metadata": {
            "tags": []
          },
          "execution_count": 14
        }
      ]
    },
    {
      "cell_type": "markdown",
      "metadata": {
        "id": "oboQ84P2JJHG"
      },
      "source": [
        "#### 2) 이팝나무 데이터를 바로 샘플링 했을 때"
      ]
    },
    {
      "cell_type": "code",
      "metadata": {
        "id": "-tDVEppIItMm"
      },
      "source": [
        "\n",
        "np.random.seed(123)\n",
        "\n",
        "trees_10 = np.random.choice(trees['이팝나무'], size=10)"
      ],
      "execution_count": 15,
      "outputs": []
    },
    {
      "cell_type": "code",
      "metadata": {
        "id": "2AZIrWAkIJ5s",
        "colab": {
          "base_uri": "https://localhost:8080/"
        },
        "outputId": "a351a96c-bf1b-41f4-e305-333140e6855d"
      },
      "source": [
        "trees_10"
      ],
      "execution_count": 16,
      "outputs": [
        {
          "output_type": "execute_result",
          "data": {
            "text/plain": [
              "array([1280,  198,  198,  449,  184,  397,  142,  768,  470,  711])"
            ]
          },
          "metadata": {
            "tags": []
          },
          "execution_count": 16
        }
      ]
    },
    {
      "cell_type": "code",
      "metadata": {
        "id": "4XVUf8tFGqPK",
        "colab": {
          "base_uri": "https://localhost:8080/"
        },
        "outputId": "b8598664-f03a-42bc-fd2a-23c524f559eb"
      },
      "source": [
        "np.mean(trees_10)"
      ],
      "execution_count": 17,
      "outputs": [
        {
          "output_type": "execute_result",
          "data": {
            "text/plain": [
              "479.7"
            ]
          },
          "metadata": {
            "tags": []
          },
          "execution_count": 17
        }
      ]
    },
    {
      "cell_type": "code",
      "metadata": {
        "id": "j2LQwp3PIgGE",
        "colab": {
          "base_uri": "https://localhost:8080/"
        },
        "outputId": "75a58ff3-a2b0-4c38-f41e-e3ffdc75dec8"
      },
      "source": [
        "result = stats.ttest_1samp(trees_10, 400)   # 데이터, 비교하려는 값\n",
        "\n",
        "print('t검정 통계량 = %.3f, pvalue = %.3f'%(result))"
      ],
      "execution_count": 18,
      "outputs": [
        {
          "output_type": "stream",
          "text": [
            "t검정 통계량 = 0.707, pvalue = 0.498\n"
          ],
          "name": "stdout"
        }
      ]
    },
    {
      "cell_type": "markdown",
      "metadata": {
        "id": "HjeOjv4ez6RP"
      },
      "source": [
        "* 귀무가설 : m = 400 ( 이팝나무의 서울시 구별 평균 나무 수는 400그루이다. )\n",
        "* 대립가설 : m =! 400 ( 이팝나무의 서울시 구별 평균 나무 수가 400그루가 아니다. )\n",
        "\n",
        "pvalue = 0.498 > 0.05 이므로 유의수준 5%에서 귀무가설을 기각할 수 없다. 즉, 샘플링한 10개의 이팝나무 데이터로는 서울시의 구별 평균 나무 수가 400그루가 아니라는 주장을 뒷받침할 수 없다.\n",
        "\n",
        "-> 겨우 두번의 다른 방식의 10개의 데이터 표본에서 완전히 반대되는 검정 결과가(p벨류)가 나왔다. 이를 통해 작은 수의 데이터로의 가설 검정은 신뢰할 수 없다는 결론을 도출할 수 있었다."
      ]
    },
    {
      "cell_type": "code",
      "metadata": {
        "colab": {
          "base_uri": "https://localhost:8080/"
        },
        "id": "HUHEpYePkVnF",
        "outputId": "cd3aa6c9-65dd-4bd2-b9df-58e6fa85b878"
      },
      "source": [
        "pv2 = result.pvalue\n",
        "pv2 #######"
      ],
      "execution_count": 19,
      "outputs": [
        {
          "output_type": "execute_result",
          "data": {
            "text/plain": [
              "0.49772576203804575"
            ]
          },
          "metadata": {
            "tags": []
          },
          "execution_count": 19
        }
      ]
    },
    {
      "cell_type": "code",
      "metadata": {
        "colab": {
          "base_uri": "https://localhost:8080/"
        },
        "id": "9uS7m1cu6ecP",
        "outputId": "5403a02c-7ef9-482c-8566-87b44c0a4815"
      },
      "source": [
        "print(trees_10.mean(), trees_10.std())"
      ],
      "execution_count": 20,
      "outputs": [
        {
          "output_type": "stream",
          "text": [
            "479.7 338.4024379344806\n"
          ],
          "name": "stdout"
        }
      ]
    },
    {
      "cell_type": "code",
      "metadata": {
        "id": "J6PMC9DbK1Kh",
        "colab": {
          "base_uri": "https://localhost:8080/"
        },
        "outputId": "41c15b6f-c5a8-4852-90d3-a5543ce09151"
      },
      "source": [
        "(479.7 - 400) / ( 338.4024379344806 / np.sqrt(10)) "
      ],
      "execution_count": 21,
      "outputs": [
        {
          "output_type": "execute_result",
          "data": {
            "text/plain": [
              "0.7447745679781923"
            ]
          },
          "metadata": {
            "tags": []
          },
          "execution_count": 21
        }
      ]
    },
    {
      "cell_type": "markdown",
      "metadata": {
        "id": "TPT-ZTt0PuIk"
      },
      "source": [
        "\n",
        "---\n",
        "## 2. Two-Sample T-test 연습 (이원카이제곱 검정)"
      ]
    },
    {
      "cell_type": "markdown",
      "metadata": {
        "id": "2WZnCBsR_2jT"
      },
      "source": [
        "### \"서울시의 구별 평균 느티나무수와 왕벚나무의 수는 차이가 없다\"라는 가설에 대해 가설검정을 시행하세요.\n",
        "\n",
        "- 단, `서울시`, `공원녹지사업소`, `시설관리공단` 부분의 데이터는 제외합니다.\n",
        "- 가설검정 결과의 pvalue를 `pv3`에 저장하세요"
      ]
    },
    {
      "cell_type": "code",
      "metadata": {
        "id": "bPoJ2YBdmXj2"
      },
      "source": [
        "trees['느티나무'] = pd.to_numeric(trees['느티나무'].str.replace(',','')) \n",
        "trees['왕벚나무'] = pd.to_numeric(trees['왕벚나무'].str.replace(',','')) \n"
      ],
      "execution_count": 22,
      "outputs": []
    },
    {
      "cell_type": "code",
      "metadata": {
        "colab": {
          "base_uri": "https://localhost:8080/",
          "height": 300
        },
        "id": "0QEgk066mkmQ",
        "outputId": "93a60206-6cda-44fb-ba35-03432a1c989c"
      },
      "source": [
        "# t = pd.Dataframe( trees['느티나무'], trees['왕벚나무'] )\n",
        "trees.loc[:, ( ['느티나무', '왕벚나무'] ) ].describe()\n",
        "\n"
      ],
      "execution_count": 23,
      "outputs": [
        {
          "output_type": "execute_result",
          "data": {
            "text/html": [
              "<div>\n",
              "<style scoped>\n",
              "    .dataframe tbody tr th:only-of-type {\n",
              "        vertical-align: middle;\n",
              "    }\n",
              "\n",
              "    .dataframe tbody tr th {\n",
              "        vertical-align: top;\n",
              "    }\n",
              "\n",
              "    .dataframe thead th {\n",
              "        text-align: right;\n",
              "    }\n",
              "</style>\n",
              "<table border=\"1\" class=\"dataframe\">\n",
              "  <thead>\n",
              "    <tr style=\"text-align: right;\">\n",
              "      <th></th>\n",
              "      <th>느티나무</th>\n",
              "      <th>왕벚나무</th>\n",
              "    </tr>\n",
              "  </thead>\n",
              "  <tbody>\n",
              "    <tr>\n",
              "      <th>count</th>\n",
              "      <td>25.000000</td>\n",
              "      <td>25.000000</td>\n",
              "    </tr>\n",
              "    <tr>\n",
              "      <th>mean</th>\n",
              "      <td>1415.120000</td>\n",
              "      <td>1292.000000</td>\n",
              "    </tr>\n",
              "    <tr>\n",
              "      <th>std</th>\n",
              "      <td>1036.783862</td>\n",
              "      <td>832.740106</td>\n",
              "    </tr>\n",
              "    <tr>\n",
              "      <th>min</th>\n",
              "      <td>185.000000</td>\n",
              "      <td>254.000000</td>\n",
              "    </tr>\n",
              "    <tr>\n",
              "      <th>25%</th>\n",
              "      <td>619.000000</td>\n",
              "      <td>602.000000</td>\n",
              "    </tr>\n",
              "    <tr>\n",
              "      <th>50%</th>\n",
              "      <td>1057.000000</td>\n",
              "      <td>1096.000000</td>\n",
              "    </tr>\n",
              "    <tr>\n",
              "      <th>75%</th>\n",
              "      <td>2231.000000</td>\n",
              "      <td>2095.000000</td>\n",
              "    </tr>\n",
              "    <tr>\n",
              "      <th>max</th>\n",
              "      <td>3419.000000</td>\n",
              "      <td>2952.000000</td>\n",
              "    </tr>\n",
              "  </tbody>\n",
              "</table>\n",
              "</div>"
            ],
            "text/plain": [
              "              느티나무         왕벚나무\n",
              "count    25.000000    25.000000\n",
              "mean   1415.120000  1292.000000\n",
              "std    1036.783862   832.740106\n",
              "min     185.000000   254.000000\n",
              "25%     619.000000   602.000000\n",
              "50%    1057.000000  1096.000000\n",
              "75%    2231.000000  2095.000000\n",
              "max    3419.000000  2952.000000"
            ]
          },
          "metadata": {
            "tags": []
          },
          "execution_count": 23
        }
      ]
    },
    {
      "cell_type": "code",
      "metadata": {
        "colab": {
          "base_uri": "https://localhost:8080/"
        },
        "id": "5VeYouzL7qhu",
        "outputId": "baa30935-95ec-462b-ae7d-cd7e70138597"
      },
      "source": [
        "# 복수표본 t분포 \n",
        "(1415.12-1292 ) / np.sqrt(    (1036.783862**2 / 25) + (832.740106**2 / 25) )\n",
        "# t값이 같음을 확인.    "
      ],
      "execution_count": 24,
      "outputs": [
        {
          "output_type": "execute_result",
          "data": {
            "text/plain": [
              "0.46292560136489425"
            ]
          },
          "metadata": {
            "tags": []
          },
          "execution_count": 24
        }
      ]
    },
    {
      "cell_type": "code",
      "metadata": {
        "id": "lAs832N1tc7k",
        "colab": {
          "base_uri": "https://localhost:8080/"
        },
        "outputId": "122eec2d-ea9b-4a8e-ff9a-8f6c28d8d6d8"
      },
      "source": [
        "# 이 곳에 답안을 작성하시기 바랍니다\n",
        "\n",
        "result = stats.ttest_ind(trees['느티나무'], trees['왕벚나무'])\n",
        "print('t검정 통계량 = %.3f, pvalue = %.3f'%(result))\n",
        "# 귀무가설 채택. 즉, 유의수준 5%에서 서울시 자치구별 느티나무와 왕벚나무의 평균 수는 차이가 유의하게 없다."
      ],
      "execution_count": 25,
      "outputs": [
        {
          "output_type": "stream",
          "text": [
            "t검정 통계량 = 0.463, pvalue = 0.646\n"
          ],
          "name": "stdout"
        }
      ]
    },
    {
      "cell_type": "markdown",
      "metadata": {
        "id": "CigYbc2m1__t"
      },
      "source": [
        "* 귀무가설 : m = 0 ( 차이가 없다. = 느티나무와 왕벚나무의 평균이 같다.)\n",
        "\n",
        "* 대립가설 : m =! 0  (차이가 있다. = 평균 느티나무 수가 왕벚나무 수의 평균은 같지 않다.)\n",
        "\n",
        "'같지 않다'라는 내용의 대립 가설 이므로 두 평균의 차이가 음수이든 양수이든 상관이 없다. 즉,  양측 가설 검정을 한다.  \n",
        "\n",
        " pvalue = 0.646 > 0.05 이므로 유의수준 5%에서 귀무가설을 기각할 수 없다. 즉, 귀무가설 채택한다. 대립가설을 강하게 뒷받침하는 데이터가 아니므로 반대의 경우에도 귀무가설을 기각하지 못한다. #( 즉, 두 나무의 평균 그루 수에 차이가 별로 없다. ) #"
      ]
    },
    {
      "cell_type": "code",
      "metadata": {
        "colab": {
          "base_uri": "https://localhost:8080/"
        },
        "id": "grXrEThIpdb6",
        "outputId": "b518e323-f1ba-438d-ffdc-38eddd02c3d4"
      },
      "source": [
        "pv3 = result.pvalue\n",
        "pv3 # 0"
      ],
      "execution_count": 26,
      "outputs": [
        {
          "output_type": "execute_result",
          "data": {
            "text/plain": [
              "0.6455096880085703"
            ]
          },
          "metadata": {
            "tags": []
          },
          "execution_count": 26
        }
      ]
    },
    {
      "cell_type": "markdown",
      "metadata": {
        "id": "vhhXvirEAeCH"
      },
      "source": [
        "\n",
        "### Two-Sample One-tailed test(단측검정)를 사용하여 **평균 느티나무수가 왕벚나무 수보다 크다**라는 가설에 대한 가설검정을 시행하세요.\n",
        "- 해당 가설검정의 결과를 `ans`에 저장하세요.\n",
        "\n",
        "이 때 `ans`가 가질 수 있는 값은 아래와 같습니다 :\n",
        "1. \"느티나무\" ( 느티나무의 수가 통계적으로 유의하게 많은 경우 )\n",
        "2. \"왕벚나무\" ( 왕벚나무의 수가 통계적으로 유의하게 많은 경우 )\n",
        "3. \"없음\" (통계적으로 유의하지 않은 경우)\n",
        "\n",
        "다음 링크를 참조하세요.\n",
        "<https://stackoverflow.com/questions/15984221/how-to-perform-two-sample-one-tailed-t-test-with-numpy-scipy>"
      ]
    },
    {
      "cell_type": "markdown",
      "metadata": {
        "id": "yJBBYwImvY0i"
      },
      "source": [
        "> 귀무가설 : m = 0 ( 차이가 없다. = 느티나무와 왕벚나무의 평균에 차이가 없다.)\n",
        "\n",
        "> 대립가설1 : m > 0  (양수이다  = 평균 느티나무 수가 왕벚나무 수보다 크다.)  \n",
        "대립가설2 : m < 0  (음수이다  = 평균 느티나무 수가 왕벚나무 수보다 작다.)\n",
        "\n",
        "(단, 여기서의 m = 느티나무 수 - 왕벚나무 수)\n",
        "\n",
        "* 함수에 stats.ttest_ind(trees['느티나무'], trees['왕벚나무']) 순서로 입력 시 \n",
        "- t값이 양수이면 -> (**느티나무 - 왕벚나무**)가 양수라는 의미이고, 이는 느티나무의 수가 더 많다는 뜻이 된다. \n",
        "- 반대로 t값이 음수이면 -> (**느티나무-왕벚나무**)가 음수라는 의미이고, 이는 느티나무보다 왕벚나무의 수가 더 많다는 뜻이 된다.   \n",
        "(단, 피벨류가 유의하게 작게 나와서 귀무가설이 기각되었을 때를 한정해서! 피벨류가 0.05보다 큰데 t값이 음수거나 양수라고 그 차이가 유의하게 더 많다/ 작다고 말할 수 없기 때문)\n"
      ]
    },
    {
      "cell_type": "code",
      "metadata": {
        "id": "0WQu4uHEM1Eh",
        "colab": {
          "base_uri": "https://localhost:8080/"
        },
        "outputId": "63a3c6c1-8307-42c7-ffcd-6e1a7e8a8831"
      },
      "source": [
        "pv = pv3/2 # 단측검정 pvalue\n",
        "pv"
      ],
      "execution_count": 27,
      "outputs": [
        {
          "output_type": "execute_result",
          "data": {
            "text/plain": [
              "0.32275484400428517"
            ]
          },
          "metadata": {
            "tags": []
          },
          "execution_count": 27
        }
      ]
    },
    {
      "cell_type": "code",
      "metadata": {
        "colab": {
          "base_uri": "https://localhost:8080/"
        },
        "id": "CCcsgHQa06Et",
        "outputId": "84c9752b-e41c-412b-fec7-0be1527e14f0"
      },
      "source": [
        "result[0]"
      ],
      "execution_count": 28,
      "outputs": [
        {
          "output_type": "execute_result",
          "data": {
            "text/plain": [
              "0.4629256014492562"
            ]
          },
          "metadata": {
            "tags": []
          },
          "execution_count": 28
        }
      ]
    },
    {
      "cell_type": "code",
      "metadata": {
        "colab": {
          "base_uri": "https://localhost:8080/",
          "height": 36
        },
        "id": "K2RrUNGT5s2S",
        "outputId": "631c92a8-e528-4a19-b456-b236590e0481"
      },
      "source": [
        "# 레퍼런스코드\n",
        "if pv < 0.05:\n",
        "    if np.mean(zelkova) > np.mean(cherry):  # 평균으로 비교\n",
        "        ans = '느티나무'\n",
        "    else:\n",
        "        ans = '왕벚나무'\n",
        "else:\n",
        "    ans = '없음'\n",
        "    \n",
        "ans"
      ],
      "execution_count": 29,
      "outputs": [
        {
          "output_type": "execute_result",
          "data": {
            "application/vnd.google.colaboratory.intrinsic+json": {
              "type": "string"
            },
            "text/plain": [
              "'없음'"
            ]
          },
          "metadata": {
            "tags": []
          },
          "execution_count": 29
        }
      ]
    },
    {
      "cell_type": "code",
      "metadata": {
        "id": "0RxIKOTlNo9R",
        "colab": {
          "base_uri": "https://localhost:8080/",
          "height": 36
        },
        "outputId": "c3731eb3-4282-408a-9e78-a2b320602015"
      },
      "source": [
        "# 단측검정일 시에 피벨류는 0.05보다 작지만, 비교하는 두 나무(왕벚>느티 or 왕벚<느티?) 중 어느 나무가 더 큰지를 결정하기 위해선 t통계량을 지표로 삼아야 한다. \n",
        "\n",
        "# t통계량으로 비교한 코드\n",
        "if pv < 0.05:     # p < 0.05 : 귀무가설 기각 됨 -> 대립가설 2개 중 선택해야 함. \n",
        "    if result[0] > 0 :           # t값이 양수이면 -> 느티 - 왕벚 > 0 (느티 > 왕벚)\n",
        "        ans = '느티나무'\n",
        "    elif result[0] < 0 :         # t값이 음수 이면 -> 느티 - 왕벚 < 0 (느티 < 왕벚)\n",
        "        ans = '왕벚나무'\n",
        "else:      # p > 0.05 -> 귀무가설 기각 reject(두 나무 수의 차이가 없다.) \n",
        "    ans = '없음'\n",
        "    \n",
        "ans"
      ],
      "execution_count": 30,
      "outputs": [
        {
          "output_type": "execute_result",
          "data": {
            "application/vnd.google.colaboratory.intrinsic+json": {
              "type": "string"
            },
            "text/plain": [
              "'없음'"
            ]
          },
          "metadata": {
            "tags": []
          },
          "execution_count": 30
        }
      ]
    },
    {
      "cell_type": "markdown",
      "metadata": {
        "id": "XIwIn212QN4h"
      },
      "source": [
        "## [추가 공부] ttest_ind 함수 이해하기"
      ]
    },
    {
      "cell_type": "code",
      "metadata": {
        "colab": {
          "base_uri": "https://localhost:8080/"
        },
        "id": "TZfetvYCpgsw",
        "outputId": "c9d10bd2-dc05-4ee1-d388-df577ca28884"
      },
      "source": [
        "!pip install --upgrade scipy"
      ],
      "execution_count": 31,
      "outputs": [
        {
          "output_type": "stream",
          "text": [
            "Requirement already up-to-date: scipy in /usr/local/lib/python3.7/dist-packages (1.6.3)\n",
            "Requirement already satisfied, skipping upgrade: numpy<1.23.0,>=1.16.5 in /usr/local/lib/python3.7/dist-packages (from scipy) (1.19.5)\n"
          ],
          "name": "stdout"
        }
      ]
    },
    {
      "cell_type": "code",
      "metadata": {
        "id": "Rhq7kK_Gx-hE",
        "colab": {
          "base_uri": "https://localhost:8080/"
        },
        "outputId": "81f3813e-8d73-4586-ba57-50299fee6a68"
      },
      "source": [
        "!pip install --upgrade scipy\n",
        "import scipy"
      ],
      "execution_count": 32,
      "outputs": [
        {
          "output_type": "stream",
          "text": [
            "Requirement already up-to-date: scipy in /usr/local/lib/python3.7/dist-packages (1.6.3)\n",
            "Requirement already satisfied, skipping upgrade: numpy<1.23.0,>=1.16.5 in /usr/local/lib/python3.7/dist-packages (from scipy) (1.19.5)\n"
          ],
          "name": "stdout"
        }
      ]
    },
    {
      "cell_type": "code",
      "metadata": {
        "colab": {
          "base_uri": "https://localhost:8080/"
        },
        "id": "8vBqH2eZ8o3D",
        "outputId": "9dfce0a4-3fc1-403b-d547-becc6844e1f4"
      },
      "source": [
        "!pip install azure-ai-textanalytics --pre"
      ],
      "execution_count": 33,
      "outputs": [
        {
          "output_type": "stream",
          "text": [
            "Requirement already satisfied: azure-ai-textanalytics in /usr/local/lib/python3.7/dist-packages (5.1.0b7)\n",
            "Requirement already satisfied: msrest>=0.6.0 in /usr/local/lib/python3.7/dist-packages (from azure-ai-textanalytics) (0.6.21)\n",
            "Requirement already satisfied: six>=1.11.0 in /usr/local/lib/python3.7/dist-packages (from azure-ai-textanalytics) (1.15.0)\n",
            "Requirement already satisfied: azure-common~=1.1 in /usr/local/lib/python3.7/dist-packages (from azure-ai-textanalytics) (1.1.27)\n",
            "Requirement already satisfied: azure-core<2.0.0,>=1.14.0 in /usr/local/lib/python3.7/dist-packages (from azure-ai-textanalytics) (1.15.0)\n",
            "Requirement already satisfied: requests-oauthlib>=0.5.0 in /usr/local/lib/python3.7/dist-packages (from msrest>=0.6.0->azure-ai-textanalytics) (1.3.0)\n",
            "Requirement already satisfied: isodate>=0.6.0 in /usr/local/lib/python3.7/dist-packages (from msrest>=0.6.0->azure-ai-textanalytics) (0.6.0)\n",
            "Requirement already satisfied: certifi>=2017.4.17 in /usr/local/lib/python3.7/dist-packages (from msrest>=0.6.0->azure-ai-textanalytics) (2020.12.5)\n",
            "Requirement already satisfied: requests~=2.16 in /usr/local/lib/python3.7/dist-packages (from msrest>=0.6.0->azure-ai-textanalytics) (2.23.0)\n",
            "Requirement already satisfied: oauthlib>=3.0.0 in /usr/local/lib/python3.7/dist-packages (from requests-oauthlib>=0.5.0->msrest>=0.6.0->azure-ai-textanalytics) (3.1.0)\n",
            "Requirement already satisfied: chardet<4,>=3.0.2 in /usr/local/lib/python3.7/dist-packages (from requests~=2.16->msrest>=0.6.0->azure-ai-textanalytics) (3.0.4)\n",
            "Requirement already satisfied: idna<3,>=2.5 in /usr/local/lib/python3.7/dist-packages (from requests~=2.16->msrest>=0.6.0->azure-ai-textanalytics) (2.10)\n",
            "Requirement already satisfied: urllib3!=1.25.0,!=1.25.1,<1.26,>=1.21.1 in /usr/local/lib/python3.7/dist-packages (from requests~=2.16->msrest>=0.6.0->azure-ai-textanalytics) (1.24.3)\n"
          ],
          "name": "stdout"
        }
      ]
    },
    {
      "cell_type": "code",
      "metadata": {
        "id": "DADXCJP6pgcX"
      },
      "source": [
        "import scipy\n",
        "\n",
        "from scipy.stats import ttest_ind  "
      ],
      "execution_count": 34,
      "outputs": []
    },
    {
      "cell_type": "code",
      "metadata": {
        "id": "bCE3UgpbP69p",
        "colab": {
          "base_uri": "https://localhost:8080/"
        },
        "outputId": "d7aed616-3629-4d9a-fbde-c85f7be4144b"
      },
      "source": [
        "# 이 곳에 답안을 작성하시기 바랍니다\n",
        "\n",
        "\n",
        "result = stats.ttest_ind(trees['느티나무'], trees['왕벚나무'])\n",
        "\n",
        "result = result.pvalue / 2\n",
        "print(' pvalue = %.3f'%(result))"
      ],
      "execution_count": 35,
      "outputs": [
        {
          "output_type": "stream",
          "text": [
            " pvalue = 0.323\n"
          ],
          "name": "stdout"
        }
      ]
    },
    {
      "cell_type": "markdown",
      "metadata": {
        "id": "0oB4GXpyqt61"
      },
      "source": [
        "* 귀무가설 : m = 0 ( 차이가 없다. = 느티나무와 왕벚나무의 평균에 차이가 없다.)\n",
        "\n",
        "* 대립가설 : m > 0  (차이가 있다. = 평균 느티나무 수가 왕벚나무 수보다 크다.)\n",
        "\n",
        "단측 가설 검정 결과 \n",
        "\n",
        " pvalue = 0.323 > 0.05 이므로 유의수준 5%에서 귀무가설을 기각할 수 없다. 즉, 귀무가설 채택한다. 대립가설을 강하게 뒷받침하는 데이터가 아니므로 반대의 경우에도 귀무가설을 기각하지 못한다. #( 즉, 두 나무의 평균 그루 수에 차이가 별로 없다. ) #"
      ]
    },
    {
      "cell_type": "code",
      "metadata": {
        "colab": {
          "base_uri": "https://localhost:8080/"
        },
        "id": "ClTG702hvXeV",
        "outputId": "947efb9c-2503-40f3-d5e5-e62758a16d1d"
      },
      "source": [
        "###-------------------------------위에서 사이파이 업데이트 한 후 '런타임 다시시작' 후 '런타임 모두 실행'해야함!----###\n",
        "\n",
        "# 함수 내 alternative인자가 greater일때와 less일 때의 p벨류의 합은 1이다. \n",
        "stats.ttest_ind(trees['느티나무'], trees['왕벚나무'],alternative ='less').pvalue + stats.ttest_ind(trees['느티나무'], trees['왕벚나무'],alternative = 'greater').pvalue"
      ],
      "execution_count": 36,
      "outputs": [
        {
          "output_type": "execute_result",
          "data": {
            "text/plain": [
              "1.0"
            ]
          },
          "metadata": {
            "tags": []
          },
          "execution_count": 36
        }
      ]
    },
    {
      "cell_type": "code",
      "metadata": {
        "colab": {
          "base_uri": "https://localhost:8080/"
        },
        "id": "82F72bXIpzpX",
        "outputId": "364b92bd-0ed2-4284-885c-06e3fc7d2ffc"
      },
      "source": [
        "# 귀무가설 : 느티나무 = 왕벚나무 (ttest_ind함수는 두 평균값을 비교하는 ttest이므로 귀무가설은 같다로 고정이 되어 있다. )\n",
        "# 대립가설이 '크다'이니 p값은 분포상 오른쪽을 가르키므로 0.323 / 느티나무의 평균수가 왕벚나무 수보다 크므로 t값은 양수.\n",
        "result = stats.ttest_ind(trees['느티나무'], trees['왕벚나무'], alternative = 'greater')\n",
        "print('t검정 통계량 = %.3f, pvalue = %.3f'%(result))"
      ],
      "execution_count": 37,
      "outputs": [
        {
          "output_type": "stream",
          "text": [
            "t검정 통계량 = 0.463, pvalue = 0.323\n"
          ],
          "name": "stdout"
        }
      ]
    },
    {
      "cell_type": "code",
      "metadata": {
        "colab": {
          "base_uri": "https://localhost:8080/"
        },
        "id": "6jBOGxfbDYJC",
        "outputId": "09e2b2c1-56b4-467b-9356-c68938efc9c5"
      },
      "source": [
        "# 대립가설 : 느티나무 < 왕벚나무\n",
        "result = stats.ttest_ind(trees['느티나무'], trees['왕벚나무'],alternative ='less')\n",
        "print('t검정 통계량 = %.3f, pvalue = %.3f'%(result))\n",
        "# 대립가설이 '작다' 이므로 p값은 분포상 왼쪽을 가르키므로 0.677 (= 1-0.323한 >에서의 반대 값) / 느티나무의 평균수가 왕벚나무 수보다 크므로 함수 내에서 평균값이 큰 변수가 먼저 올 경우엔 t값은 양수를 가진다. "
      ],
      "execution_count": 38,
      "outputs": [
        {
          "output_type": "stream",
          "text": [
            "t검정 통계량 = 0.463, pvalue = 0.677\n"
          ],
          "name": "stdout"
        }
      ]
    },
    {
      "cell_type": "code",
      "metadata": {
        "id": "O6ekn6VYC67Z",
        "colab": {
          "base_uri": "https://localhost:8080/"
        },
        "outputId": "718b78b9-7005-40e6-c412-6f7d9256c587"
      },
      "source": [
        "# 대립가설 : 왕벚 < 느티 \n",
        "result = ttest_ind(trees['왕벚나무'], trees['느티나무'],alternative ='less') # 왕벚 - 느티 < 0 -> 왕벚 < 느티 \n",
        "print('t검정 통계량 = %.3f, pvalue = %.3f'%(result)) # 분포상 t=-0.463은 0보다 왼쪽에 위치하므로 p값은 0.323 ( 이는 반대의 경우와 대칭인 자유도가 24인 t분포에서 t값이 부호만 다른 0.463일 때와 대칭이므로 같은 p값을 같게 된다. )"
      ],
      "execution_count": 39,
      "outputs": [
        {
          "output_type": "stream",
          "text": [
            "t검정 통계량 = -0.463, pvalue = 0.323\n"
          ],
          "name": "stdout"
        }
      ]
    },
    {
      "cell_type": "code",
      "metadata": {
        "id": "zbDB48FJpzxx",
        "colab": {
          "base_uri": "https://localhost:8080/"
        },
        "outputId": "35ccd8f1-1183-42f8-d1c8-a53c47459831"
      },
      "source": [
        "# 대립가설 : 왕벚 > 느티?\n",
        "result = stats.ttest_ind(trees['왕벚나무'], trees['느티나무'],alternative = 'greater')\n",
        "print('t검정 통계량 = %.3f, pvalue = %.3f'%(result)) # 피벨류만 반대이므로 0.677"
      ],
      "execution_count": 40,
      "outputs": [
        {
          "output_type": "stream",
          "text": [
            "t검정 통계량 = -0.463, pvalue = 0.677\n"
          ],
          "name": "stdout"
        }
      ]
    },
    {
      "cell_type": "markdown",
      "metadata": {
        "id": "C5pkmOuKgK9Y"
      },
      "source": [
        "## 🔥 **도전과제**\n",
        "> 3문제 모두 하면 됩니다.\n",
        "\n"
      ]
    },
    {
      "cell_type": "markdown",
      "metadata": {
        "id": "3114xDdlPjFx"
      },
      "source": [
        "### 1. Compare mean for multiple-sample \n",
        " \n",
        "다음 링크를 참조하세요. <https://reneshbedre.github.io/blog/anova.html>\n",
        "\n",
        "구별, 은행나무, 양버즘나무, 느티나무에 대해서 ANOVA Test를 실행하세요.\n",
        "\n",
        "단, `서울시`, `공원녹지사업소`, `시설관리공단` 부분의 데이터는 제외합니다."
      ]
    },
    {
      "cell_type": "markdown",
      "metadata": {
        "id": "2PB3_gTDqLWp"
      },
      "source": [
        "문자열 데이터 전처리"
      ]
    },
    {
      "cell_type": "code",
      "metadata": {
        "id": "wu6TKH5wpxBd"
      },
      "source": [
        "# to numeric\n",
        "trees['양버즘나무'] = pd.to_numeric(trees['양버즘나무'].str.replace(',','')) \n",
        "trees['은행나무'] = pd.to_numeric(trees['은행나무'].str.replace(',','')) "
      ],
      "execution_count": 42,
      "outputs": []
    },
    {
      "cell_type": "code",
      "metadata": {
        "id": "Y1XCMq0BvRG4",
        "outputId": "bd7d34e9-b2e0-4940-915c-3394c6ff07cf",
        "colab": {
          "base_uri": "https://localhost:8080/",
          "height": 300
        }
      },
      "source": [
        "trees[['은행나무','양버즘나무','느티나무']].describe()\n",
        "# 일단 그냥 평균만 봐도 \n",
        "# 은행    4210 \n",
        "# 양버즘 2449\n",
        "# 느티    1415\n",
        "# 로 매우 다르다. \n",
        "# 그러나 좀 더 객관적인 판단을 위해 아노바테스트를 진행해보자"
      ],
      "execution_count": 53,
      "outputs": [
        {
          "output_type": "execute_result",
          "data": {
            "text/html": [
              "<div>\n",
              "<style scoped>\n",
              "    .dataframe tbody tr th:only-of-type {\n",
              "        vertical-align: middle;\n",
              "    }\n",
              "\n",
              "    .dataframe tbody tr th {\n",
              "        vertical-align: top;\n",
              "    }\n",
              "\n",
              "    .dataframe thead th {\n",
              "        text-align: right;\n",
              "    }\n",
              "</style>\n",
              "<table border=\"1\" class=\"dataframe\">\n",
              "  <thead>\n",
              "    <tr style=\"text-align: right;\">\n",
              "      <th></th>\n",
              "      <th>은행나무</th>\n",
              "      <th>양버즘나무</th>\n",
              "      <th>느티나무</th>\n",
              "    </tr>\n",
              "  </thead>\n",
              "  <tbody>\n",
              "    <tr>\n",
              "      <th>count</th>\n",
              "      <td>25.000000</td>\n",
              "      <td>25.000000</td>\n",
              "      <td>25.000000</td>\n",
              "    </tr>\n",
              "    <tr>\n",
              "      <th>mean</th>\n",
              "      <td>4210.840000</td>\n",
              "      <td>2449.040000</td>\n",
              "      <td>1415.120000</td>\n",
              "    </tr>\n",
              "    <tr>\n",
              "      <th>std</th>\n",
              "      <td>2181.951013</td>\n",
              "      <td>1725.205869</td>\n",
              "      <td>1036.783862</td>\n",
              "    </tr>\n",
              "    <tr>\n",
              "      <th>min</th>\n",
              "      <td>1090.000000</td>\n",
              "      <td>162.000000</td>\n",
              "      <td>185.000000</td>\n",
              "    </tr>\n",
              "    <tr>\n",
              "      <th>25%</th>\n",
              "      <td>3353.000000</td>\n",
              "      <td>1071.000000</td>\n",
              "      <td>619.000000</td>\n",
              "    </tr>\n",
              "    <tr>\n",
              "      <th>50%</th>\n",
              "      <td>3749.000000</td>\n",
              "      <td>2188.000000</td>\n",
              "      <td>1057.000000</td>\n",
              "    </tr>\n",
              "    <tr>\n",
              "      <th>75%</th>\n",
              "      <td>4914.000000</td>\n",
              "      <td>3439.000000</td>\n",
              "      <td>2231.000000</td>\n",
              "    </tr>\n",
              "    <tr>\n",
              "      <th>max</th>\n",
              "      <td>11894.000000</td>\n",
              "      <td>7559.000000</td>\n",
              "      <td>3419.000000</td>\n",
              "    </tr>\n",
              "  </tbody>\n",
              "</table>\n",
              "</div>"
            ],
            "text/plain": [
              "               은행나무        양버즘나무         느티나무\n",
              "count     25.000000    25.000000    25.000000\n",
              "mean    4210.840000  2449.040000  1415.120000\n",
              "std     2181.951013  1725.205869  1036.783862\n",
              "min     1090.000000   162.000000   185.000000\n",
              "25%     3353.000000  1071.000000   619.000000\n",
              "50%     3749.000000  2188.000000  1057.000000\n",
              "75%     4914.000000  3439.000000  2231.000000\n",
              "max    11894.000000  7559.000000  3419.000000"
            ]
          },
          "metadata": {
            "tags": []
          },
          "execution_count": 53
        }
      ]
    },
    {
      "cell_type": "markdown",
      "metadata": {
        "id": "HlUwvNhPqPrM"
      },
      "source": [
        "ANOVA test  \n",
        "\n",
        "\n",
        "*가설 설정*\n",
        "* 귀무가설 : 은행나무, 양버즘나무, 느티나무의 평균 수는 같다.  \n",
        "> = **서울시에 있는 은행나무와 양버즘나무, 느티나무의 수가 평균적으로 비슷하다.**    \n",
        "* 대립가설 : 은행나무, 양버즘나무, 느티나무의 평균 수는 다르다.\n",
        "> = **서울시에 있는 은행나무와 양버즘나무, 느티나무의 수가 평균적으로 다르다.**"
      ]
    },
    {
      "cell_type": "code",
      "metadata": {
        "id": "dPmXOHh1Cfea",
        "outputId": "7fa31a0f-6581-4ab6-daa3-77ddbab72e62",
        "colab": {
          "base_uri": "https://localhost:8080/"
        }
      },
      "source": [
        "#-- 은행나무, 양버즘나무, 느티나무 ANOVA test --#\n",
        "\n",
        "fvalue, pvalue = stats.f_oneway(trees['은행나무'], trees['양버즘나무'], trees['느티나무'])\n",
        "print(fvalue, pvalue) # pvalue가 0에 가까운 값이므로 세 나무의 구별 평균 나무수는 같지 않다. \n",
        "print('fvalue = %.3f, pvalue = %.3f'%(fvalue, pvalue))"
      ],
      "execution_count": 47,
      "outputs": [
        {
          "output_type": "stream",
          "text": [
            "fvalue = 17.006, pvalue = 0.000\n"
          ],
          "name": "stdout"
        }
      ]
    },
    {
      "cell_type": "markdown",
      "metadata": {
        "id": "R7WqpFygtLC7"
      },
      "source": [
        "*검정 결과*  \n",
        "> pvalue = 0.000 < 0.05 이므로 유의수준 5%에서 귀무가설 기각하고, 대안적으로 대립가설 채택한다.  \n",
        "결과적으로, **서울시에 있는 은행나무와 양버즘나무, 느티나무의 수는 평균적으로 다르다**고 해석할 수 있다.  \n",
        "애초에 자치구별로 다양한 종류의 나무들의 수를 비슷하게 맞춰서 심는 것이 쉽지 않을 것이라는 생각이 든다."
      ]
    },
    {
      "cell_type": "markdown",
      "metadata": {
        "id": "nLl4aWDPCVaO"
      },
      "source": [
        "### 2. Sampling\n",
        "\n",
        "- 세션 시간에 배웠던 4가지 sample 방식을 구현해보세요.\n",
        "\n",
        "- 이를 위한 데이터는 1 부터 100 이며, sampling해야 하는 수는 20개 입니다.\n",
        "\n",
        "- Stratified random sampling을 위한 그룹을 나누는 기준은 1-10, 11-20, ... 과 같은 방식입니다.\n",
        "\n",
        "- Cluster sampling 을 위한 그룹을 나누는 기준은 5로 나눴을때의 나머지 값입니다. (0,1,2,3,4)"
      ]
    },
    {
      "cell_type": "code",
      "metadata": {
        "id": "QUPwaynLAQjS"
      },
      "source": [
        "# 이 곳에 답안을 작성하시기 바랍니다"
      ],
      "execution_count": 44,
      "outputs": []
    },
    {
      "cell_type": "markdown",
      "metadata": {
        "id": "3PdoNE4VvVnR"
      },
      "source": [
        "### 3. Data transform\n",
        "다음 링크를 참조하여  `Inverse transform sampling` 을 구현합니다.\n",
        "\n",
        "<https://youtu.be/9ixzzPQWuAY>\n",
        "\n",
        "0 ~ 1 의 값을 동일한 확률로 갖는 `uniform distribution`으로 부터 `binomial distribution`으로 transform 하는 코드를 작성한 뒤, 두가지 결과를 시각화를 통해 비교하세요.\n"
      ]
    },
    {
      "cell_type": "code",
      "metadata": {
        "id": "nE9tvkLbwOGd"
      },
      "source": [
        "# 이 곳에 답안을 작성하시기 바랍니다"
      ],
      "execution_count": 45,
      "outputs": []
    }
  ]
}