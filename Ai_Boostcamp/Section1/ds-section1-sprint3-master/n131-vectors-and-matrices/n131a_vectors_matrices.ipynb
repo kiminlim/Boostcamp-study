{
  "nbformat": 4,
  "nbformat_minor": 0,
  "metadata": {
    "colab": {
      "name": "n131a-vectors-matrices.ipynb의 사본",
      "provenance": [],
      "collapsed_sections": [],
      "include_colab_link": true
    },
    "kernelspec": {
      "display_name": "Python 3",
      "language": "python",
      "name": "python3"
    },
    "language_info": {
      "codemirror_mode": {
        "name": "ipython",
        "version": 3
      },
      "file_extension": ".py",
      "mimetype": "text/x-python",
      "name": "python",
      "nbconvert_exporter": "python",
      "pygments_lexer": "ipython3",
      "version": "3.8.2"
    }
  },
  "cells": [
    {
      "cell_type": "markdown",
      "metadata": {
        "id": "view-in-github",
        "colab_type": "text"
      },
      "source": [
        "<a href=\"https://colab.research.google.com/github/kiminlim/ds-section1-sprint3/blob/master/n131-vectors-and-matrices/n131a_vectors_matrices.ipynb\" target=\"_parent\"><img src=\"https://colab.research.google.com/assets/colab-badge.svg\" alt=\"Open In Colab\"/></a>"
      ]
    },
    {
      "cell_type": "markdown",
      "metadata": {
        "id": "Y7hxe5O-9ukJ"
      },
      "source": [
        "<img src='https://i.imgur.com/RDAD11M.png' width = '200' align = 'right'>\n",
        "\n",
        "## *DATA SCIENCE / SECTION 1 / SPRINT 3 / NOTE 1*\n",
        "\n",
        "# 📝 Assignment"
      ]
    },
    {
      "cell_type": "markdown",
      "metadata": {
        "id": "yXA3GwWhY9KL"
      },
      "source": [
        "## 1. Portfolio\n",
        "\n",
        "`Dot product` & `Matrix Multiplication` 을 이용하여 다음 포트폴리오의 사람별 총합을 계산하세요.\n",
        "- 결과는 `res`에 list형태로 저장합니다.\n",
        "\n",
        "|People|Name|Price|Amount|\n",
        "|:-:|:-:|:-:|:-:|\n",
        "|X|A|100|35|\n",
        "|X|B|500|10|\n",
        "|X|C|250|25|\n",
        "|X|D|50|40|\n",
        "|Y|A|100|-|\n",
        "|Y|B|500|50|\n",
        "|Y|C|250|50|\n",
        "|Y|D|50|-|\n",
        "|Z|A|100|-|\n",
        "|Z|B|500|-|\n",
        "|Z|C|250|100|\n",
        "|Z|D|50|-|\n",
        "\n"
      ]
    },
    {
      "cell_type": "markdown",
      "metadata": {
        "id": "JO_XyfWGQXBy"
      },
      "source": [
        "|People : 사람 \\\n",
        "|Name : 구입 물품의 이름 \\\n",
        "|Price : 구입 물품의 가격 \\\n",
        "|Amount : 수량 \\\n",
        "으로 정의하였다.\n",
        "\n",
        "- 사람당 물건을 구입한 총 금액을 구하기 :\n",
        "1. 구입 가격 벡터 생성(3명 모두 같으니 하나만 생성)\n",
        "2. 사람 별 구입 수량 벡터 생성\n",
        "3. 두 벡터를 내적하기.\n",
        "4. 3명 모두 내적한 값을 리스트에 저장\n",
        "\n"
      ]
    },
    {
      "cell_type": "code",
      "metadata": {
        "id": "ErSR5soVblfv",
        "colab": {
          "base_uri": "https://localhost:8080/"
        },
        "outputId": "c0901bf9-535c-4d28-c2d8-2c022ceaf1f9"
      },
      "source": [
        "# 이곳에 답안을 작성하시기 바랍니다\n",
        "import numpy as np\n",
        "\n",
        "# 벡터 정의\n",
        "price = np.array([100,500, 250, 50])\n",
        "X_amount = np.array([35, 10, 25, 40])\n",
        "\n",
        "np.dot(price, X_amount)"
      ],
      "execution_count": 2,
      "outputs": [
        {
          "output_type": "execute_result",
          "data": {
            "text/plain": [
              "16750"
            ]
          },
          "metadata": {
            "tags": []
          },
          "execution_count": 2
        }
      ]
    },
    {
      "cell_type": "code",
      "metadata": {
        "colab": {
          "base_uri": "https://localhost:8080/"
        },
        "id": "5vZ8srl9S--n",
        "outputId": "6a80d2bf-3b19-4417-c0b8-12566bd03e8d"
      },
      "source": [
        "price * X_amount"
      ],
      "execution_count": 3,
      "outputs": [
        {
          "output_type": "execute_result",
          "data": {
            "text/plain": [
              "array([3500, 5000, 6250, 2000])"
            ]
          },
          "metadata": {
            "tags": []
          },
          "execution_count": 3
        }
      ]
    },
    {
      "cell_type": "code",
      "metadata": {
        "colab": {
          "base_uri": "https://localhost:8080/"
        },
        "id": "LzezbnI6S9d_",
        "outputId": "de974a78-175d-43f2-f0f1-4070f0c2e8d1"
      },
      "source": [
        "(price * X_amount).sum()"
      ],
      "execution_count": 4,
      "outputs": [
        {
          "output_type": "execute_result",
          "data": {
            "text/plain": [
              "16750"
            ]
          },
          "metadata": {
            "tags": []
          },
          "execution_count": 4
        }
      ]
    },
    {
      "cell_type": "code",
      "metadata": {
        "colab": {
          "base_uri": "https://localhost:8080/"
        },
        "id": "yHV71gE0TGg2",
        "outputId": "bffb24d0-9132-402d-bc7d-17c40d6cdf7d"
      },
      "source": [
        "# 나머지 사람들의 구입 비용 계산\n",
        "Y_amount = np.array([0,50,50,0])\n",
        "Z_amount = np.array([0,0,100,0])\n",
        "\n",
        "res = [np.dot(price, X_amount), np.dot(price, Y_amount), np.dot(price, Z_amount)]\n",
        "res"
      ],
      "execution_count": 5,
      "outputs": [
        {
          "output_type": "execute_result",
          "data": {
            "text/plain": [
              "[16750, 37500, 25000]"
            ]
          },
          "metadata": {
            "tags": []
          },
          "execution_count": 5
        }
      ]
    },
    {
      "cell_type": "code",
      "metadata": {
        "colab": {
          "base_uri": "https://localhost:8080/"
        },
        "id": "HiQaPg7BmR4c",
        "outputId": "585aa15b-1a89-4965-aff1-33abd40e1d3d"
      },
      "source": [
        "100*35+500*10+250*25+50*40\n",
        "100*0+500*50+250*50+50*0"
      ],
      "execution_count": 84,
      "outputs": [
        {
          "output_type": "execute_result",
          "data": {
            "text/plain": [
              "37500"
            ]
          },
          "metadata": {
            "tags": []
          },
          "execution_count": 84
        }
      ]
    },
    {
      "cell_type": "code",
      "metadata": {
        "colab": {
          "base_uri": "https://localhost:8080/"
        },
        "id": "D2Rf39AvUEvC",
        "outputId": "43174f6c-64e4-4a24-dacb-9464bb0e459a"
      },
      "source": [
        "min(res)"
      ],
      "execution_count": 6,
      "outputs": [
        {
          "output_type": "execute_result",
          "data": {
            "text/plain": [
              "16750"
            ]
          },
          "metadata": {
            "tags": []
          },
          "execution_count": 6
        }
      ]
    },
    {
      "cell_type": "markdown",
      "metadata": {
        "id": "dMgAVgIuGe_B"
      },
      "source": [
        "## 2. Norms\n",
        "\n",
        "주어진 값 $x_0, x_1, ... x_n$ 를 element로 갖는 벡터 $v$에 대하여 \n",
        "\n",
        "$L_1$ Norm 의 정의는 다음과 같습니다. \n",
        "\n",
        "$|v| = |x_0| + |x_1| + ... + |x_n|$\n",
        "\n",
        "$L_2$ Norm 의 정의는 다음과 같습니다.\n",
        "\n",
        "$||v|| = \\sqrt {{x_0}^2 + {x_1}^2 + ... + {x_n}^2}$\n",
        "\n",
        "이를 참조하여 주어진 벡터에 대해서 $L_2$ Norm 의 값과 $L_1$ Norm 의 값의 차이(**절대값**)를 계산하는 함수를 만드세요.\n",
        "\n"
      ]
    },
    {
      "cell_type": "markdown",
      "metadata": {
        "id": "2DPTpaqUVrI2"
      },
      "source": [
        "함수 안에 \n",
        "- L1 값 저장\n",
        "1. 반복문으로 요소들의 절대값 더하기\n",
        "- L2 값 저장\n",
        "2. 반복문으로 요소들의 제곱합을 더하기\n",
        "3. 루트\n",
        "\n",
        "4. 값의 차이에 절대값 씌워 반환\n"
      ]
    },
    {
      "cell_type": "code",
      "metadata": {
        "id": "XrYfAExIGemC"
      },
      "source": [
        "def NormDif(v): # v = np.array()\n",
        "    # L1\n",
        "    L1 = 0\n",
        "    L2 = 0\n",
        "    for i in range(len(v)):\n",
        "        L1 += abs(v[i])\n",
        "        L2 += np.power(v[i],2)\n",
        "        #L2 += v[i]**2 # 결과값 같음.\n",
        "    \n",
        "    L2 = np.sqrt(L2)\n",
        "    result = abs(L1 - L2)\n",
        "\n",
        "    return result"
      ],
      "execution_count": 7,
      "outputs": []
    },
    {
      "cell_type": "code",
      "metadata": {
        "id": "40G3WIwYX2r4"
      },
      "source": [
        "# len(np.array([1, 2, 3, 4]))\n",
        "# np.array([1, 2, 3, 4])[1]"
      ],
      "execution_count": 8,
      "outputs": []
    },
    {
      "cell_type": "code",
      "metadata": {
        "id": "rRECIc2UXzT3",
        "colab": {
          "base_uri": "https://localhost:8080/"
        },
        "outputId": "4a33e35f-5e04-4aa7-f233-0a860b2e0d70"
      },
      "source": [
        "NormDif(np.array([1, 2, 3, 4]))"
      ],
      "execution_count": 9,
      "outputs": [
        {
          "output_type": "execute_result",
          "data": {
            "text/plain": [
              "4.522774424948339"
            ]
          },
          "metadata": {
            "tags": []
          },
          "execution_count": 9
        }
      ]
    },
    {
      "cell_type": "code",
      "metadata": {
        "colab": {
          "base_uri": "https://localhost:8080/"
        },
        "id": "OjnwSKe_m1hY",
        "outputId": "f56523e9-ac42-4929-e776-635b2e3d4075"
      },
      "source": [
        "abs(10-np.sqrt(30))"
      ],
      "execution_count": 86,
      "outputs": [
        {
          "output_type": "execute_result",
          "data": {
            "text/plain": [
              "4.522774424948339"
            ]
          },
          "metadata": {
            "tags": []
          },
          "execution_count": 86
        }
      ]
    },
    {
      "cell_type": "markdown",
      "metadata": {
        "id": "VBJHWdyalU4G"
      },
      "source": [
        "## 3. Errors\n",
        "\n",
        "\n",
        "\n",
        "- 2개의 벡터와, error의 타입을 입력받아 그 결과값을 계산하는 함수를 작성하세요.\n",
        "\n",
        "- 여기서 error의 타입은 `MSE`, `MAE` 2가지 입니다.\n",
        "\n"
      ]
    },
    {
      "cell_type": "markdown",
      "metadata": {
        "id": "qpt77gbGiAPG"
      },
      "source": [
        "* MAE : 오차의 절대값(Absolute)의 평균\n",
        "\n",
        "* MSE : 오차 제곱(squared)의 평균\n",
        "\n",
        "-> 벡터를 2개를 주어준다고 했으니 예측값이 주어진다고 생각, 두 벡터의 차의 제곱합과 절대값의 평균을 각각 구해주면됨."
      ]
    },
    {
      "cell_type": "code",
      "metadata": {
        "id": "w_LKABxtksD-"
      },
      "source": [
        "import sklearn\n",
        "from sklearn.metrics import mean_absolute_error"
      ],
      "execution_count": 70,
      "outputs": []
    },
    {
      "cell_type": "code",
      "metadata": {
        "id": "LQy8_pEUHHDC"
      },
      "source": [
        "from sklearn.metrics import mean_absolute_error\n",
        "def error(x, y, type) :\n",
        "    error = x-y\n",
        "    # MSE\n",
        "    if type == 'MSE' or type =='mse':\n",
        "        result = np.sum(np.power(error,2)) / len(x)\n",
        "        # result = np.mean(np.square(error)) #=\n",
        "        # result = mean_squared_error(error) # 왜 에러나지?\n",
        "    elif type == 'MAE' or type =='mae':\n",
        "        result = np.mean(np.abs(error))\n",
        "    else: \n",
        "        print('type을 정확히 입력하세요.')\n",
        "\n",
        "    return result"
      ],
      "execution_count": 80,
      "outputs": []
    },
    {
      "cell_type": "code",
      "metadata": {
        "id": "Hbo4ckl1YVyQ",
        "colab": {
          "base_uri": "https://localhost:8080/"
        },
        "outputId": "c6bc50cd-bf93-4e65-82d1-0255a4aecd3c"
      },
      "source": [
        "error(np.array([5, 10, 30]), np.array([21, 2, 8]), 'MSE')"
      ],
      "execution_count": 81,
      "outputs": [
        {
          "output_type": "execute_result",
          "data": {
            "text/plain": [
              "268.0"
            ]
          },
          "metadata": {
            "tags": []
          },
          "execution_count": 81
        }
      ]
    },
    {
      "cell_type": "code",
      "metadata": {
        "colab": {
          "base_uri": "https://localhost:8080/"
        },
        "id": "29fp9No2nKgt",
        "outputId": "fcef1be9-826b-40c6-928b-621e4bf8b42d"
      },
      "source": [
        "(16**2+8**2+22**2) / 3"
      ],
      "execution_count": 87,
      "outputs": [
        {
          "output_type": "execute_result",
          "data": {
            "text/plain": [
              "268.0"
            ]
          },
          "metadata": {
            "tags": []
          },
          "execution_count": 87
        }
      ]
    },
    {
      "cell_type": "code",
      "metadata": {
        "colab": {
          "base_uri": "https://localhost:8080/"
        },
        "id": "fESA7GJRlZrv",
        "outputId": "d765f3bf-c580-43bc-b964-5219458c14b5"
      },
      "source": [
        "error(np.array([5, 10, 30]), np.array([21, 2, 8]), 'mae')\n"
      ],
      "execution_count": 82,
      "outputs": [
        {
          "output_type": "execute_result",
          "data": {
            "text/plain": [
              "15.333333333333334"
            ]
          },
          "metadata": {
            "tags": []
          },
          "execution_count": 82
        }
      ]
    },
    {
      "cell_type": "code",
      "metadata": {
        "colab": {
          "base_uri": "https://localhost:8080/"
        },
        "id": "LMMt5ZpfnJ5Q",
        "outputId": "9b68856f-5f2f-45f7-b8b2-c0884c092c8c"
      },
      "source": [
        "(16+22+8)/3"
      ],
      "execution_count": 88,
      "outputs": [
        {
          "output_type": "execute_result",
          "data": {
            "text/plain": [
              "15.333333333333334"
            ]
          },
          "metadata": {
            "tags": []
          },
          "execution_count": 88
        }
      ]
    },
    {
      "cell_type": "markdown",
      "metadata": {
        "id": "l2Teph_aS16e"
      },
      "source": [
        "# 4. Inverse\n",
        "\n",
        "- 주어진 matrix에 대해서 inverse matrix를 계산하여 반환하는 함수를 작성하세요. \n",
        "- 이 때 inverse 계산이 불가능 한 경우 `-1` 을 반환합니다."
      ]
    },
    {
      "cell_type": "markdown",
      "metadata": {
        "id": "gEXzoLnedOUa"
      },
      "source": [
        "$$\\begin{align}\n",
        "A = \\begin{bmatrix}\n",
        "a &b \\\\\n",
        "c &d\n",
        "\\end{bmatrix}\n",
        "\\qquad\n",
        "A^{-1} = \\frac{1}{ad-bc}\\begin{bmatrix}\n",
        "d & -b\\\\\n",
        "-c & a\n",
        "\\end{bmatrix}\n",
        "\\end{align}$$ "
      ]
    },
    {
      "cell_type": "code",
      "metadata": {
        "id": "1hseshZkS1eX"
      },
      "source": [
        "# 행렬이 (2,2)행렬이라 가정.\n",
        "\n",
        "def myInverse(m) : # m = np.array()\n",
        "    # 요소 정의\n",
        "    a = m[0,0]\n",
        "    b = m[0,1]\n",
        "    c = m[1,0]\n",
        "    d = m[1,1]\n",
        "    m0 = a*d - b*c # 이 값이 0이면 연산 시 inf가 나온다.\n",
        "\n",
        "    if m0 != 0:\n",
        "        m1 = 1 / m0\n",
        "        m2 = np.array([[d, -b],[-c, a]])\n",
        "        result = m1*m2\n",
        "    else:\n",
        "        result = -1\n",
        "\n",
        "    return result"
      ],
      "execution_count": 47,
      "outputs": []
    },
    {
      "cell_type": "code",
      "metadata": {
        "colab": {
          "base_uri": "https://localhost:8080/"
        },
        "id": "ufx-V8aicZai",
        "outputId": "3b6681d7-79be-408d-94a7-a4999a1bf234"
      },
      "source": [
        "myInverse(np.array([[2,4],\n",
        "                              [4,8]])) # 16-16=0"
      ],
      "execution_count": 48,
      "outputs": [
        {
          "output_type": "execute_result",
          "data": {
            "text/plain": [
              "-1"
            ]
          },
          "metadata": {
            "tags": []
          },
          "execution_count": 48
        }
      ]
    },
    {
      "cell_type": "code",
      "metadata": {
        "colab": {
          "base_uri": "https://localhost:8080/"
        },
        "id": "7QR4f721hNvE",
        "outputId": "cc89fefe-774d-421e-aafb-c73450d19ef0"
      },
      "source": [
        "myInverse(np.array([[2,5],[4,8]]))\n"
      ],
      "execution_count": 49,
      "outputs": [
        {
          "output_type": "execute_result",
          "data": {
            "text/plain": [
              "array([[-2.  ,  1.25],\n",
              "       [ 1.  , -0.5 ]])"
            ]
          },
          "metadata": {
            "tags": []
          },
          "execution_count": 49
        }
      ]
    },
    {
      "cell_type": "code",
      "metadata": {
        "id": "4pSLVqaAozHm"
      },
      "source": [
        ""
      ],
      "execution_count": null,
      "outputs": []
    },
    {
      "cell_type": "markdown",
      "metadata": {
        "id": "V0iTO4McYjtk"
      },
      "source": [
        "# 🔥 도전과제 \n",
        "\n"
      ]
    },
    {
      "cell_type": "markdown",
      "metadata": {
        "id": "3p45qAIGFTBZ"
      },
      "source": [
        "다음 링크의 내용을 참조하여 **Cramer's rule**을 사용해 $x_1$, $x_2$, $x_3$의 값을 구하세요.\n",
        "\n",
        "<https://youtu.be/6StS7VjtuGI>\n",
        "\n",
        "\n",
        "$x_1$ + $2x_3$ = 6\n",
        "\n",
        "$-3x_1$ + $4x_2$ + $6x3$ = 30\n",
        "\n",
        "$-x_1$ $-2x_2$ + $3x_3$ = 8\n",
        "\n"
      ]
    },
    {
      "cell_type": "code",
      "metadata": {
        "colab": {
          "base_uri": "https://localhost:8080/"
        },
        "id": "WEaUAmPTocik",
        "outputId": "58b570f4-72aa-4327-ca80-4ec9c903c75f"
      },
      "source": [
        "import numpy as np\n",
        "\n",
        "n = np.array([[1,2,0],\n",
        "              [-3,4,6],\n",
        "              [-1,-2,3]])\n",
        "\n",
        "np.linalg.det(n)"
      ],
      "execution_count": 91,
      "outputs": [
        {
          "output_type": "execute_result",
          "data": {
            "text/plain": [
              "30.000000000000014"
            ]
          },
          "metadata": {
            "tags": []
          },
          "execution_count": 91
        }
      ]
    },
    {
      "cell_type": "code",
      "metadata": {
        "id": "BrdjI2yWo3Cw"
      },
      "source": [
        "# 정의\n",
        "a = 1\n",
        "b=2\n",
        "c=0\n",
        "j=6\n",
        "d=-3\n",
        "e=4\n",
        "f=6\n",
        "k=30\n",
        "g=-1\n",
        "h=-2\n",
        "i=3\n",
        "l=8"
      ],
      "execution_count": 92,
      "outputs": []
    },
    {
      "cell_type": "code",
      "metadata": {
        "colab": {
          "base_uri": "https://localhost:8080/"
        },
        "id": "AtYPQGwdppKB",
        "outputId": "0fdac500-db8a-4292-cb0f-038d803fd6e9"
      },
      "source": [
        "n = np.array([[j,b,c],\n",
        "              [k,e,f],\n",
        "              [l,h,i]])\n",
        "\n",
        "x1 = np.linalg.det(n)\n",
        "x1"
      ],
      "execution_count": 93,
      "outputs": [
        {
          "output_type": "execute_result",
          "data": {
            "text/plain": [
              "60.000000000000036"
            ]
          },
          "metadata": {
            "tags": []
          },
          "execution_count": 93
        }
      ]
    },
    {
      "cell_type": "code",
      "metadata": {
        "colab": {
          "base_uri": "https://localhost:8080/"
        },
        "id": "xAiH3DmlqBr4",
        "outputId": "f002df72-8f43-4c0e-84b3-d068c24492a7"
      },
      "source": [
        "n = np.array([[a,b,c],\n",
        "                    [d,e,f],\n",
        "                    [g,h,i]])\n",
        "\n",
        "x2 = np.linalg.det(n)\n",
        "x2"
      ],
      "execution_count": 94,
      "outputs": [
        {
          "output_type": "execute_result",
          "data": {
            "text/plain": [
              "30.000000000000014"
            ]
          },
          "metadata": {
            "tags": []
          },
          "execution_count": 94
        }
      ]
    },
    {
      "cell_type": "code",
      "metadata": {
        "colab": {
          "base_uri": "https://localhost:8080/"
        },
        "id": "a-5AJCOwqOKx",
        "outputId": "0fe5b095-9826-4410-a006-1d38d3448f37"
      },
      "source": [
        "n = np.array([[a,j,c],\n",
        "                    [d,k,f],\n",
        "                    [g,l,i]])\n",
        "\n",
        "x2_1 = np.linalg.det(n)\n",
        "x2_1"
      ],
      "execution_count": 95,
      "outputs": [
        {
          "output_type": "execute_result",
          "data": {
            "text/plain": [
              "59.999999999999986"
            ]
          },
          "metadata": {
            "tags": []
          },
          "execution_count": 95
        }
      ]
    },
    {
      "cell_type": "code",
      "metadata": {
        "colab": {
          "base_uri": "https://localhost:8080/"
        },
        "id": "DdH6oT0NqcN_",
        "outputId": "ce698c47-02be-4156-db17-da9718cd83c5"
      },
      "source": [
        "n = np.array([[a,b,c],\n",
        "                    [d,e,f],\n",
        "                    [g,h,i]])\n",
        "\n",
        "x2_2 = np.linalg.det(n)\n",
        "x2_2"
      ],
      "execution_count": 96,
      "outputs": [
        {
          "output_type": "execute_result",
          "data": {
            "text/plain": [
              "30.000000000000014"
            ]
          },
          "metadata": {
            "tags": []
          },
          "execution_count": 96
        }
      ]
    },
    {
      "cell_type": "code",
      "metadata": {
        "colab": {
          "base_uri": "https://localhost:8080/"
        },
        "id": "I_xEtZVxqjgE",
        "outputId": "1e865053-6f9a-40c1-fd2a-872fc8bf51a3"
      },
      "source": [
        "n = np.array([[a,b,j],\n",
        "                    [d,e,k],\n",
        "                    [g,h,l]])\n",
        "\n",
        "x3_1 = np.linalg.det(n)\n",
        "x3_1"
      ],
      "execution_count": 97,
      "outputs": [
        {
          "output_type": "execute_result",
          "data": {
            "text/plain": [
              "139.99999999999994"
            ]
          },
          "metadata": {
            "tags": []
          },
          "execution_count": 97
        }
      ]
    },
    {
      "cell_type": "code",
      "metadata": {
        "colab": {
          "base_uri": "https://localhost:8080/"
        },
        "id": "p42QHixQqrqK",
        "outputId": "cec565e8-f3ac-4ee7-865a-d01a895607f9"
      },
      "source": [
        "n = np.array([[a,b,c],\n",
        "                    [d,e,f],\n",
        "                    [g,h,i]])\n",
        "\n",
        "x3_2 = np.linalg.det(n)\n",
        "x3_2"
      ],
      "execution_count": 98,
      "outputs": [
        {
          "output_type": "execute_result",
          "data": {
            "text/plain": [
              "30.000000000000014"
            ]
          },
          "metadata": {
            "tags": []
          },
          "execution_count": 98
        }
      ]
    },
    {
      "cell_type": "code",
      "metadata": {
        "colab": {
          "base_uri": "https://localhost:8080/"
        },
        "id": "QdweBxl5qxwr",
        "outputId": "fd7cac43-3b56-4b24-e1ef-769c5dbe1484"
      },
      "source": [
        "print('x1, x2, x3의 값은 각각 ',x1/x2, x2_1/x2_2, x3_1/x3_2,'입니다')"
      ],
      "execution_count": 99,
      "outputs": [
        {
          "output_type": "stream",
          "text": [
            "x1, x2, x3의 값은 각각  2.0000000000000004 1.9999999999999987 4.6666666666666625 입니다\n"
          ],
          "name": "stdout"
        }
      ]
    },
    {
      "cell_type": "code",
      "metadata": {
        "colab": {
          "base_uri": "https://localhost:8080/"
        },
        "id": "JPoH6c-9rD46",
        "outputId": "838e7a40-dae1-47b3-e966-dbcf10215118"
      },
      "source": [
        "print('x1, x2, x3의 값은 각각 %.3f, %.3f, %.3f입니다'%(x1/x2, x2_1/x2_2, x3_1/x3_2))"
      ],
      "execution_count": 103,
      "outputs": [
        {
          "output_type": "stream",
          "text": [
            "x1, x2, x3의 값은 각각 2.000, 2.000, 4.667입니다\n"
          ],
          "name": "stdout"
        }
      ]
    },
    {
      "cell_type": "code",
      "metadata": {
        "id": "MCaOrEjbrnmj"
      },
      "source": [
        ""
      ],
      "execution_count": null,
      "outputs": []
    }
  ]
}