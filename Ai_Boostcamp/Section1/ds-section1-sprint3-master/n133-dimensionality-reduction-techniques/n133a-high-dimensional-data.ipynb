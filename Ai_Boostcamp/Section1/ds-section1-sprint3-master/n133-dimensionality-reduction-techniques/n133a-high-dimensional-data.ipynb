{
  "nbformat": 4,
  "nbformat_minor": 0,
  "metadata": {
    "colab": {
      "name": "n133a-high-dimensional-data.ipynb",
      "provenance": [],
      "include_colab_link": true
    },
    "kernelspec": {
      "display_name": "Python 3",
      "language": "python",
      "name": "python3"
    },
    "language_info": {
      "codemirror_mode": {
        "name": "ipython",
        "version": 3
      },
      "file_extension": ".py",
      "mimetype": "text/x-python",
      "name": "python",
      "nbconvert_exporter": "python",
      "pygments_lexer": "ipython3",
      "version": "3.8.2"
    }
  },
  "cells": [
    {
      "cell_type": "markdown",
      "metadata": {
        "id": "view-in-github",
        "colab_type": "text"
      },
      "source": [
        "<a href=\"https://colab.research.google.com/github/kiminlim/ds-section1-sprint3/blob/master/n133-dimensionality-reduction-techniques/n133a-high-dimensional-data.ipynb\" target=\"_parent\"><img src=\"https://colab.research.google.com/assets/colab-badge.svg\" alt=\"Open In Colab\"/></a>"
      ]
    },
    {
      "cell_type": "markdown",
      "metadata": {
        "id": "2nEWvwVyVWdW"
      },
      "source": [
        "<img src='https://i.imgur.com/RDAD11M.png' width = '200' align = 'right'>\n",
        "\n",
        "## *DATA SCIENCE / SECTION 1 / SPRINT 3 / NOTE 3*\n",
        "\n",
        "# 📝 Assignment\n",
        "\n"
      ]
    },
    {
      "cell_type": "markdown",
      "metadata": {
        "id": "5HY0R4u7anIr"
      },
      "source": [
        "## 1. 주어진 matrix에 대해서, numpy를 사용하여, `eigenvalue`와 `eigenvector`를 구하고, 각각 `value`, `vector`에 저장하세요.\n",
        "\n",
        "\\begin{bmatrix} 4 & 2 \\\\ 2 & 4 \\end{bmatrix}"
      ]
    },
    {
      "cell_type": "code",
      "metadata": {
        "colab": {
          "base_uri": "https://localhost:8080/"
        },
        "id": "icJO-mvyC8WZ",
        "outputId": "f1f7f4d4-49a8-4df0-fd71-ed9fac12e596"
      },
      "source": [
        "import numpy as np\n",
        "\n",
        "matrix = np.array([[4,2],\n",
        "                          [2,4]])\n",
        "matrix"
      ],
      "execution_count": 10,
      "outputs": [
        {
          "output_type": "execute_result",
          "data": {
            "text/plain": [
              "array([[4, 2],\n",
              "       [2, 4]])"
            ]
          },
          "metadata": {
            "tags": []
          },
          "execution_count": 10
        }
      ]
    },
    {
      "cell_type": "code",
      "metadata": {
        "colab": {
          "base_uri": "https://localhost:8080/"
        },
        "id": "1km4Cjj_Xb6P",
        "outputId": "82a3d9b0-7d41-4a33-a1d1-e0e1fe2048c5"
      },
      "source": [
        "value, vector = np.linalg.eig(matrix)\n",
        "print(\"\\n Eigenvalues: \\n\", value)\n",
        "print(\"\\n Eigenvectors: \\n\", vector)"
      ],
      "execution_count": 11,
      "outputs": [
        {
          "output_type": "stream",
          "text": [
            "\n",
            " Eigenvalues: \n",
            " [6. 2.]\n",
            "\n",
            " Eigenvectors: \n",
            " [[ 0.70710678 -0.70710678]\n",
            " [ 0.70710678  0.70710678]]\n"
          ],
          "name": "stdout"
        }
      ]
    },
    {
      "cell_type": "markdown",
      "metadata": {
        "id": "5C_30USGMrIL"
      },
      "source": [
        "### 과제"
      ]
    },
    {
      "cell_type": "code",
      "metadata": {
        "colab": {
          "base_uri": "https://localhost:8080/"
        },
        "id": "jQfaoxyYONCj",
        "outputId": "dc2a3d3e-d7a9-4d77-e491-e5f2c855fbdd"
      },
      "source": [
        "# 과제 문항 1번 #\n",
        "matrix = np.array([ [11, 10], [2, 8] ])\n",
        "matrix"
      ],
      "execution_count": 69,
      "outputs": [
        {
          "output_type": "execute_result",
          "data": {
            "text/plain": [
              "array([[11, 10],\n",
              "       [ 2,  8]])"
            ]
          },
          "metadata": {
            "tags": []
          },
          "execution_count": 69
        }
      ]
    },
    {
      "cell_type": "code",
      "metadata": {
        "colab": {
          "base_uri": "https://localhost:8080/"
        },
        "id": "6vOOv1uDUBy0",
        "outputId": "e367eed3-3633-4f2a-c9d1-432e3f5c2cdd"
      },
      "source": [
        "values, vectors = np.linalg.eig(matrix)\n",
        "print(\"\\n Eigenvalues: \\n\", values)\n",
        "print(\"\\n Eigenvectors: \\n\", vectors)"
      ],
      "execution_count": 13,
      "outputs": [
        {
          "output_type": "stream",
          "text": [
            "\n",
            " Eigenvalues: \n",
            " [14.21699057  4.78300943]\n",
            "\n",
            " Eigenvectors: \n",
            " [[ 0.95195352 -0.84925584]\n",
            " [ 0.30624255  0.52798155]]\n"
          ],
          "name": "stdout"
        }
      ]
    },
    {
      "cell_type": "code",
      "metadata": {
        "colab": {
          "base_uri": "https://localhost:8080/"
        },
        "id": "nvj0b-rmUTjP",
        "outputId": "dade6f68-d6cc-4da1-8bcb-c8749dda88a3"
      },
      "source": [
        "values.max()"
      ],
      "execution_count": 14,
      "outputs": [
        {
          "output_type": "execute_result",
          "data": {
            "text/plain": [
              "14.2169905660283"
            ]
          },
          "metadata": {
            "tags": []
          },
          "execution_count": 14
        }
      ]
    },
    {
      "cell_type": "code",
      "metadata": {
        "colab": {
          "base_uri": "https://localhost:8080/"
        },
        "id": "2ht3PYF6OfRq",
        "outputId": "d1717dc7-e3cd-4e9a-f859-6c35099ae872"
      },
      "source": [
        "# 과제 2번 #\n",
        "matrix = np.array([ [1, 7], [2, 2] ])\n",
        "matrix"
      ],
      "execution_count": 15,
      "outputs": [
        {
          "output_type": "execute_result",
          "data": {
            "text/plain": [
              "array([[1, 7],\n",
              "       [2, 2]])"
            ]
          },
          "metadata": {
            "tags": []
          },
          "execution_count": 15
        }
      ]
    },
    {
      "cell_type": "code",
      "metadata": {
        "id": "FdLS0X9lvh3e",
        "colab": {
          "base_uri": "https://localhost:8080/"
        },
        "outputId": "0c74a1c9-5503-4169-a7b1-05df07dbe539"
      },
      "source": [
        "values, vectors = np.linalg.eig(matrix)\n",
        "print(\"\\n Eigenvalues: \\n\", values)\n",
        "print(\"\\n Eigenvectors: \\n\", vectors)"
      ],
      "execution_count": 16,
      "outputs": [
        {
          "output_type": "stream",
          "text": [
            "\n",
            " Eigenvalues: \n",
            " [-2.27491722  5.27491722]\n",
            "\n",
            " Eigenvectors: \n",
            " [[-0.9057736  -0.85343697]\n",
            " [ 0.42376194 -0.52119606]]\n"
          ],
          "name": "stdout"
        }
      ]
    },
    {
      "cell_type": "code",
      "metadata": {
        "id": "5Quigtwl6EOI",
        "colab": {
          "base_uri": "https://localhost:8080/",
          "height": 281
        },
        "outputId": "e62c57ba-4660-4325-c9d5-bd1443a07bd9"
      },
      "source": [
        "import matplotlib.pyplot as plt\n",
        "\n",
        "plt.xlim(-2, 2)\n",
        "plt.ylim(-1, 1)\n",
        "\n",
        "a = [-0.9057736 , 0.42376194]\n",
        "b = [-0.85343697 ,-0.52119606]\n",
        "plt.arrow(0, 0, a[0], a[1], linewidth = 3, head_width = .05, head_length = .05, color = '#74b9ff')\n",
        "plt.arrow(0, 0, b[0], b[1], linewidth = 3, head_width = .05, head_length = .05, color = '#e84393')\n",
        "plt.grid(True)\n",
        "# plt.axhline(0, 0, 1, color='gray', linestyle=':', linewidth='2')\n",
        "# plt.axvline(0, 0, 1, color='gray', linestyle=':', linewidth='2')\n",
        "plt.plot(0,0, 'bo')\n",
        "plt.title(\"Linearly Independent Vectors\")\n",
        "plt.show()  # 그래프 상으로는 어떤 벡터의 좌표가 더 원점에서 먼지 잘 파악이 되질 않는다. "
      ],
      "execution_count": 17,
      "outputs": [
        {
          "output_type": "display_data",
          "data": {
            "image/png": "[encoded data removed]",
            "text/plain": [
              "<Figure size 432x288 with 1 Axes>"
            ]
          },
          "metadata": {
            "tags": [],
            "needs_background": "light"
          }
        }
      ]
    },
    {
      "cell_type": "code",
      "metadata": {
        "colab": {
          "base_uri": "https://localhost:8080/"
        },
        "id": "h-C5eGGWRW3g",
        "outputId": "361fa925-24ce-449c-e21f-59b9d249d559"
      },
      "source": [
        "# 고유 벡터의 거리 계산(피타고라스의 정리)\n",
        "print(vectors[:,0]) # 고유 벡터 1\n",
        "np.sqrt(0.95195352**2 + 0.30624255**2)"
      ],
      "execution_count": 18,
      "outputs": [
        {
          "output_type": "stream",
          "text": [
            "[-0.9057736   0.42376194]\n"
          ],
          "name": "stdout"
        },
        {
          "output_type": "execute_result",
          "data": {
            "text/plain": [
              "1.0000000018354465"
            ]
          },
          "metadata": {
            "tags": []
          },
          "execution_count": 18
        }
      ]
    },
    {
      "cell_type": "code",
      "metadata": {
        "colab": {
          "base_uri": "https://localhost:8080/"
        },
        "id": "o9Yp0GldS2ZV",
        "outputId": "c7933539-dfb0-460c-897b-927314d58bcf"
      },
      "source": [
        "print(vectors[:,1]) # 고유 벡터 2\n",
        "np.sqrt((-0.84925584)**2 + 0.52798155**2) #--> 2번째 고유벡터의 거리가 더 짧다. "
      ],
      "execution_count": 19,
      "outputs": [
        {
          "output_type": "stream",
          "text": [
            "[-0.85343697 -0.52119606]\n"
          ],
          "name": "stdout"
        },
        {
          "output_type": "execute_result",
          "data": {
            "text/plain": [
              "0.999999999457254"
            ]
          },
          "metadata": {
            "tags": []
          },
          "execution_count": 19
        }
      ]
    },
    {
      "cell_type": "code",
      "metadata": {
        "id": "FT4nAsBtix7V",
        "colab": {
          "base_uri": "https://localhost:8080/"
        },
        "outputId": "162d13a9-2777-4b50-a9a9-4b557dae780a"
      },
      "source": [
        "# L2_norm\n",
        "mat = ([-0.9057736 ,  0.42376194])\n",
        "mat2 = ([-0.85343697 ,-0.52119606])\n",
        "\n",
        "def get_L2_norm(mat):\n",
        "  return np.linalg.norm(mat, 2)\n",
        "  \n",
        "print(get_L2_norm(mat), get_L2_norm(mat2) )"
      ],
      "execution_count": 20,
      "outputs": [
        {
          "output_type": "stream",
          "text": [
            "0.9999999981247617 0.9999999973611522\n"
          ],
          "name": "stdout"
        }
      ]
    },
    {
      "cell_type": "code",
      "metadata": {
        "id": "O6isMZ1G7xww",
        "colab": {
          "base_uri": "https://localhost:8080/"
        },
        "outputId": "ca8de6ab-08a8-4051-b76e-c78e21cbe5df"
      },
      "source": [
        "get_L2_norm(mat)    >   get_L2_norm(mat2) #  2번째 벡터가 더 작음."
      ],
      "execution_count": 21,
      "outputs": [
        {
          "output_type": "execute_result",
          "data": {
            "text/plain": [
              "True"
            ]
          },
          "metadata": {
            "tags": []
          },
          "execution_count": 21
        }
      ]
    },
    {
      "cell_type": "code",
      "metadata": {
        "id": "ef3LMckRk0Tm",
        "outputId": "bd830942-e35d-4ecd-e3c8-e9b1b34760ac",
        "colab": {
          "base_uri": "https://localhost:8080/"
        }
      },
      "source": [
        "# L1 norm\n",
        "abs(a[0]) +abs(a[1]) > abs(b[0]) +abs(b[1])\n",
        "\n",
        "np.linalg.norm(mat, 1) > np.linalg.norm(mat2, 1) \n",
        "\n",
        "# L1 거리로 했을 땐 L2거리와 다르게 2번째 벡터가 더 거리가 멀다. "
      ],
      "execution_count": 88,
      "outputs": [
        {
          "output_type": "execute_result",
          "data": {
            "text/plain": [
              "False"
            ]
          },
          "metadata": {
            "tags": []
          },
          "execution_count": 88
        }
      ]
    },
    {
      "cell_type": "code",
      "metadata": {
        "colab": {
          "base_uri": "https://localhost:8080/"
        },
        "id": "y-JRXn4CTBQY",
        "outputId": "58a10c6c-75d1-4252-cbdf-d43ac93871d5"
      },
      "source": [
        "-0.84925584 + 0.52798155 # L2거리에서 더 작음"
      ],
      "execution_count": 22,
      "outputs": [
        {
          "output_type": "execute_result",
          "data": {
            "text/plain": [
              "-0.32127428999999996"
            ]
          },
          "metadata": {
            "tags": []
          },
          "execution_count": 22
        }
      ]
    },
    {
      "cell_type": "code",
      "metadata": {
        "id": "qIofrqjqlarA",
        "outputId": "e33c6004-b376-4a11-b1c6-104665fb4e9d",
        "colab": {
          "base_uri": "https://localhost:8080/"
        }
      },
      "source": [
        "-0.9057736 + 0.42376194 # L1거리에서 더 작음"
      ],
      "execution_count": 77,
      "outputs": [
        {
          "output_type": "execute_result",
          "data": {
            "text/plain": [
              "-0.48201165999999995"
            ]
          },
          "metadata": {
            "tags": []
          },
          "execution_count": 77
        }
      ]
    },
    {
      "cell_type": "markdown",
      "metadata": {
        "id": "7iEheetpbJdN"
      },
      "source": [
        "## 2. Penguins dataset을 사용하여 numerical feature 4개에 대해서 2차원으로 PCA를 시행 후 PC1 & PC2를 사용하여 scatter plot을 그리세요.\n",
        "\n",
        "- 데이터셋 사용을 위해, 다음 링크를 참조하세요.\n",
        "\n",
        "<http://seaborn.pydata.org/generated/seaborn.load_dataset.html#seaborn.load_dataset>\n",
        "\n",
        "- 4개의 feature는 `culmen_length_mm`, `culmen_depth_mm`, `flipper_length_mm`, `body_mass_g` 입니다.\n",
        "\n",
        "- 이후 2개의 PC를 이용하여 설명되는 variance의 ratio를 `ratio`에 저장하세요.\n",
        "\n",
        "- 다음과 같은 결과가 나와야 합니다.\n",
        "\n",
        "<img src='https://i.imgur.com/5BCEHeL.png'>"
      ]
    },
    {
      "cell_type": "code",
      "metadata": {
        "id": "AAH42jp-vgYY"
      },
      "source": [
        "#  ratio : 원래의 분산을 몇%를 설명하는지에 대한 비율!"
      ],
      "execution_count": 23,
      "outputs": []
    },
    {
      "cell_type": "markdown",
      "metadata": {
        "id": "_KQWDdE9MmoT"
      },
      "source": [
        "## sklearn 라이브러리를 사용한 주성분 분석"
      ]
    },
    {
      "cell_type": "code",
      "metadata": {
        "id": "ACx1AWuxknAk"
      },
      "source": [
        "import seaborn\n",
        "data = seaborn.load_dataset('penguins')\n",
        "# data"
      ],
      "execution_count": 24,
      "outputs": []
    },
    {
      "cell_type": "code",
      "metadata": {
        "id": "OHnOYW6wlIZW"
      },
      "source": [
        "X = data[['bill_length_mm', 'bill_depth_mm', 'flipper_length_mm', 'body_mass_g']]\n",
        "# X"
      ],
      "execution_count": 25,
      "outputs": []
    },
    {
      "cell_type": "code",
      "metadata": {
        "colab": {
          "base_uri": "https://localhost:8080/",
          "height": 111
        },
        "id": "alzKmy6Knb5x",
        "outputId": "2bd9cd0d-cbe2-4c89-b349-99025c1b0062"
      },
      "source": [
        "X[X['body_mass_g'].isna()]"
      ],
      "execution_count": 26,
      "outputs": [
        {
          "output_type": "execute_result",
          "data": {
            "text/html": [
              "<div>\n",
              "<style scoped>\n",
              "    .dataframe tbody tr th:only-of-type {\n",
              "        vertical-align: middle;\n",
              "    }\n",
              "\n",
              "    .dataframe tbody tr th {\n",
              "        vertical-align: top;\n",
              "    }\n",
              "\n",
              "    .dataframe thead th {\n",
              "        text-align: right;\n",
              "    }\n",
              "</style>\n",
              "<table border=\"1\" class=\"dataframe\">\n",
              "  <thead>\n",
              "    <tr style=\"text-align: right;\">\n",
              "      <th></th>\n",
              "      <th>bill_length_mm</th>\n",
              "      <th>bill_depth_mm</th>\n",
              "      <th>flipper_length_mm</th>\n",
              "      <th>body_mass_g</th>\n",
              "    </tr>\n",
              "  </thead>\n",
              "  <tbody>\n",
              "    <tr>\n",
              "      <th>3</th>\n",
              "      <td>NaN</td>\n",
              "      <td>NaN</td>\n",
              "      <td>NaN</td>\n",
              "      <td>NaN</td>\n",
              "    </tr>\n",
              "    <tr>\n",
              "      <th>339</th>\n",
              "      <td>NaN</td>\n",
              "      <td>NaN</td>\n",
              "      <td>NaN</td>\n",
              "      <td>NaN</td>\n",
              "    </tr>\n",
              "  </tbody>\n",
              "</table>\n",
              "</div>"
            ],
            "text/plain": [
              "     bill_length_mm  bill_depth_mm  flipper_length_mm  body_mass_g\n",
              "3               NaN            NaN                NaN          NaN\n",
              "339             NaN            NaN                NaN          NaN"
            ]
          },
          "metadata": {
            "tags": []
          },
          "execution_count": 26
        }
      ]
    },
    {
      "cell_type": "code",
      "metadata": {
        "colab": {
          "base_uri": "https://localhost:8080/"
        },
        "id": "6LSU2OSDoenD",
        "outputId": "57e3f928-e05d-4908-a462-23c977982c36"
      },
      "source": [
        "X.shape"
      ],
      "execution_count": 27,
      "outputs": [
        {
          "output_type": "execute_result",
          "data": {
            "text/plain": [
              "(344, 4)"
            ]
          },
          "metadata": {
            "tags": []
          },
          "execution_count": 27
        }
      ]
    },
    {
      "cell_type": "code",
      "metadata": {
        "colab": {
          "base_uri": "https://localhost:8080/"
        },
        "id": "cBc4dxHtoL6Q",
        "outputId": "8047c5da-a8ad-4363-8567-f9e34da9e109"
      },
      "source": [
        "# 결측치\n",
        "# 결측치가 3, 339 index의 두 행이 모두 결측치 이므로 제거하였다.\n",
        "\n",
        "X = X.dropna()\n",
        "X.shape"
      ],
      "execution_count": 28,
      "outputs": [
        {
          "output_type": "execute_result",
          "data": {
            "text/plain": [
              "(342, 4)"
            ]
          },
          "metadata": {
            "tags": []
          },
          "execution_count": 28
        }
      ]
    },
    {
      "cell_type": "code",
      "metadata": {
        "colab": {
          "base_uri": "https://localhost:8080/"
        },
        "id": "rJzbYFKHmAZP",
        "outputId": "28e06429-2a60-45f0-a771-1952718537aa"
      },
      "source": [
        "# sklearn 라이브러리를 사용한 주성분 분석 #\n",
        "from sklearn.preprocessing import StandardScaler, Normalizer\n",
        "from sklearn.decomposition import PCA\n",
        "\n",
        "print(\"Data: \\n\", X)\n",
        "\n",
        "scaler = StandardScaler()\n",
        "Z = scaler.fit_transform(X) # 데이터 표준화 \n",
        "print(\"\\n Standardized Data: \\n\", Z)\n",
        "\n",
        "pca = PCA(2) # 2개의 주성분분석 모델 생성\n",
        "\n",
        "pca.fit(Z) # 모델 적합 X 말고 표준화된 Z데이터를 써야함!!!\n",
        "#------ 왜 직접 구한 값과 차이가 있나 했더니 강의 노트 코드에서 표준화 하기 전 데이터를 피팅한걸 그대로 긁어와서 차이가 크게 났었다....\n",
        "print(\"\\n Eigenvectors: \\n\", pca.components_) # 고유 벡터\n",
        "print(\"\\n Eigenvalues: \\n\",pca.explained_variance_) # 고유값\n",
        "\n",
        "B = pca.transform(Z) # 분석 결과 \n",
        "print(\"\\n Projected Data: \\n\", B[:10]) # 2개로 차원 축소된 것을 확인할 수 있다. "
      ],
      "execution_count": 29,
      "outputs": [
        {
          "output_type": "stream",
          "text": [
            "Data: \n",
            "      bill_length_mm  bill_depth_mm  flipper_length_mm  body_mass_g\n",
            "0              39.1           18.7              181.0       3750.0\n",
            "1              39.5           17.4              186.0       3800.0\n",
            "2              40.3           18.0              195.0       3250.0\n",
            "4              36.7           19.3              193.0       3450.0\n",
            "5              39.3           20.6              190.0       3650.0\n",
            "..              ...            ...                ...          ...\n",
            "338            47.2           13.7              214.0       4925.0\n",
            "340            46.8           14.3              215.0       4850.0\n",
            "341            50.4           15.7              222.0       5750.0\n",
            "342            45.2           14.8              212.0       5200.0\n",
            "343            49.9           16.1              213.0       5400.0\n",
            "\n",
            "[342 rows x 4 columns]\n",
            "\n",
            " Standardized Data: \n",
            " [[-0.88449874  0.78544923 -1.41834665 -0.56414208]\n",
            " [-0.81112573  0.1261879  -1.06225022 -0.50170305]\n",
            " [-0.66437972  0.43046236 -0.42127665 -1.18853234]\n",
            " ...\n",
            " [ 1.18828874 -0.73592307  1.50164406  1.93341896]\n",
            " [ 0.23443963 -1.19233476  0.7894512   1.24658968]\n",
            " [ 1.09657248 -0.53307343  0.86067049  1.49634578]]\n",
            "\n",
            " Eigenvectors: \n",
            " [[ 0.45525033 -0.40033468  0.57601332  0.54835019]\n",
            " [ 0.59703114  0.79776657  0.0022822   0.08436292]]\n",
            "\n",
            " Eigenvalues: \n",
            " [2.76183065 0.7747822 ]\n",
            "\n",
            " Projected Data: \n",
            " [[-1.84344489  0.04770222]\n",
            " [-1.30676189 -0.42834824]\n",
            " [-1.36918099 -0.1544764 ]\n",
            " [-1.87882665 -0.00204841]\n",
            " [-1.91174773  0.8292096 ]\n",
            " [-1.76302514 -0.3514796 ]\n",
            " [-0.81007459  0.52248868]\n",
            " [-1.83520425 -0.76963343]\n",
            " [-1.19420773  1.02628371]\n",
            " [-1.73020372 -0.788569  ]]\n"
          ],
          "name": "stdout"
        }
      ]
    },
    {
      "cell_type": "code",
      "metadata": {
        "id": "llJDCJGRB5nl",
        "colab": {
          "base_uri": "https://localhost:8080/",
          "height": 422
        },
        "outputId": "082d5497-009e-45f7-87a1-de5b0ac31dd9"
      },
      "source": [
        "import pandas as pd\n",
        "\n",
        "principalDf = pd.DataFrame(data =B , columns = ['pc1', 'pc2'])\n",
        "principalDf"
      ],
      "execution_count": 31,
      "outputs": [
        {
          "output_type": "execute_result",
          "data": {
            "text/html": [
              "<div>\n",
              "<style scoped>\n",
              "    .dataframe tbody tr th:only-of-type {\n",
              "        vertical-align: middle;\n",
              "    }\n",
              "\n",
              "    .dataframe tbody tr th {\n",
              "        vertical-align: top;\n",
              "    }\n",
              "\n",
              "    .dataframe thead th {\n",
              "        text-align: right;\n",
              "    }\n",
              "</style>\n",
              "<table border=\"1\" class=\"dataframe\">\n",
              "  <thead>\n",
              "    <tr style=\"text-align: right;\">\n",
              "      <th></th>\n",
              "      <th>pc1</th>\n",
              "      <th>pc2</th>\n",
              "    </tr>\n",
              "  </thead>\n",
              "  <tbody>\n",
              "    <tr>\n",
              "      <th>0</th>\n",
              "      <td>-1.843445</td>\n",
              "      <td>0.047702</td>\n",
              "    </tr>\n",
              "    <tr>\n",
              "      <th>1</th>\n",
              "      <td>-1.306762</td>\n",
              "      <td>-0.428348</td>\n",
              "    </tr>\n",
              "    <tr>\n",
              "      <th>2</th>\n",
              "      <td>-1.369181</td>\n",
              "      <td>-0.154476</td>\n",
              "    </tr>\n",
              "    <tr>\n",
              "      <th>3</th>\n",
              "      <td>-1.878827</td>\n",
              "      <td>-0.002048</td>\n",
              "    </tr>\n",
              "    <tr>\n",
              "      <th>4</th>\n",
              "      <td>-1.911748</td>\n",
              "      <td>0.829210</td>\n",
              "    </tr>\n",
              "    <tr>\n",
              "      <th>...</th>\n",
              "      <td>...</td>\n",
              "      <td>...</td>\n",
              "    </tr>\n",
              "    <tr>\n",
              "      <th>337</th>\n",
              "      <td>2.006436</td>\n",
              "      <td>-0.958909</td>\n",
              "    </tr>\n",
              "    <tr>\n",
              "      <th>338</th>\n",
              "      <td>1.840886</td>\n",
              "      <td>-0.767714</td>\n",
              "    </tr>\n",
              "    <tr>\n",
              "      <th>339</th>\n",
              "      <td>2.760742</td>\n",
              "      <td>0.288886</td>\n",
              "    </tr>\n",
              "    <tr>\n",
              "      <th>340</th>\n",
              "      <td>1.722364</td>\n",
              "      <td>-0.704269</td>\n",
              "    </tr>\n",
              "    <tr>\n",
              "      <th>341</th>\n",
              "      <td>2.028902</td>\n",
              "      <td>0.357620</td>\n",
              "    </tr>\n",
              "  </tbody>\n",
              "</table>\n",
              "<p>342 rows × 2 columns</p>\n",
              "</div>"
            ],
            "text/plain": [
              "          pc1       pc2\n",
              "0   -1.843445  0.047702\n",
              "1   -1.306762 -0.428348\n",
              "2   -1.369181 -0.154476\n",
              "3   -1.878827 -0.002048\n",
              "4   -1.911748  0.829210\n",
              "..        ...       ...\n",
              "337  2.006436 -0.958909\n",
              "338  1.840886 -0.767714\n",
              "339  2.760742  0.288886\n",
              "340  1.722364 -0.704269\n",
              "341  2.028902  0.357620\n",
              "\n",
              "[342 rows x 2 columns]"
            ]
          },
          "metadata": {
            "tags": []
          },
          "execution_count": 31
        }
      ]
    },
    {
      "cell_type": "code",
      "metadata": {
        "id": "uqgRXES7B1wx",
        "colab": {
          "base_uri": "https://localhost:8080/"
        },
        "outputId": "3112d601-4bcb-4c15-b4e6-c29c9269fd78"
      },
      "source": [
        "ratio = pca.explained_variance_ratio_\n",
        "ratio"
      ],
      "execution_count": 32,
      "outputs": [
        {
          "output_type": "execute_result",
          "data": {
            "text/plain": [
              "array([0.68843878, 0.19312919])"
            ]
          },
          "metadata": {
            "tags": []
          },
          "execution_count": 32
        }
      ]
    },
    {
      "cell_type": "code",
      "metadata": {
        "colab": {
          "base_uri": "https://localhost:8080/"
        },
        "id": "0WatMH8eTPe7",
        "outputId": "29559066-9fc9-45f8-ceb2-6de4e99e6970"
      },
      "source": [
        "ratio[0] "
      ],
      "execution_count": 33,
      "outputs": [
        {
          "output_type": "execute_result",
          "data": {
            "text/plain": [
              "0.6884387809732921"
            ]
          },
          "metadata": {
            "tags": []
          },
          "execution_count": 33
        }
      ]
    },
    {
      "cell_type": "code",
      "metadata": {
        "id": "0rwNiB42C-QE",
        "colab": {
          "base_uri": "https://localhost:8080/"
        },
        "outputId": "6fdea69a-b95d-42ba-e549-14943b293b0a"
      },
      "source": [
        "# 원래 변수 분산합 = 주성분 점수의 분산합\n",
        "data.iloc[:,2:6].var()  #원 변수의 분산합\n",
        "# X.var() # 3339390.444063729"
      ],
      "execution_count": 34,
      "outputs": [
        {
          "output_type": "execute_result",
          "data": {
            "text/plain": [
              "bill_length_mm           29.807054\n",
              "bill_depth_mm             3.899808\n",
              "flipper_length_mm       197.731792\n",
              "body_mass_g          643131.077327\n",
              "dtype: float64"
            ]
          },
          "metadata": {
            "tags": []
          },
          "execution_count": 34
        }
      ]
    },
    {
      "cell_type": "code",
      "metadata": {
        "id": "kuGmz4HADlzr",
        "colab": {
          "base_uri": "https://localhost:8080/"
        },
        "outputId": "15c8a7f2-0519-49d3-b290-f69bb6ef7586"
      },
      "source": [
        "principalDf.var() #주성분 점수의 분산---전혀 다르다. 표준화를 안하고 해도 완전히 같지는 않아서 다음에 알아봐야겠다"
      ],
      "execution_count": 35,
      "outputs": [
        {
          "output_type": "execute_result",
          "data": {
            "text/plain": [
              "pc1    2.761831\n",
              "pc2    0.774782\n",
              "dtype: float64"
            ]
          },
          "metadata": {
            "tags": []
          },
          "execution_count": 35
        }
      ]
    },
    {
      "cell_type": "markdown",
      "metadata": {
        "id": "Ew-04R58XOM7"
      },
      "source": [
        "## 라이브러리 사용x 직접 계산 과정"
      ]
    },
    {
      "cell_type": "code",
      "metadata": {
        "colab": {
          "base_uri": "https://localhost:8080/"
        },
        "id": "d2NYCNqMmAWO",
        "outputId": "e448aa9c-9efe-4188-fecb-105987992240"
      },
      "source": [
        "import numpy as np\n",
        "\n",
        "X = np.array(X)\n",
        "print(\"Data: \", X)"
      ],
      "execution_count": 105,
      "outputs": [
        {
          "output_type": "stream",
          "text": [
            "Data:  [[  39.1   18.7  181.  3750. ]\n",
            " [  39.5   17.4  186.  3800. ]\n",
            " [  40.3   18.   195.  3250. ]\n",
            " ...\n",
            " [  50.4   15.7  222.  5750. ]\n",
            " [  45.2   14.8  212.  5200. ]\n",
            " [  49.9   16.1  213.  5400. ]]\n"
          ],
          "name": "stdout"
        }
      ]
    },
    {
      "cell_type": "code",
      "metadata": {
        "colab": {
          "base_uri": "https://localhost:8080/"
        },
        "id": "vJ0_gOrVmASN",
        "outputId": "d1b84590-1205-4e9f-f6fc-04ca91f21623"
      },
      "source": [
        "# Normalize\n",
        "standardized_data = ( X - np.mean(X, axis = 0) ) / np.std(X, ddof = 0, axis = 0)\n",
        "print(\"\\n Standardized Data: \\n\", standardized_data)"
      ],
      "execution_count": 106,
      "outputs": [
        {
          "output_type": "stream",
          "text": [
            "\n",
            " Standardized Data: \n",
            " [[-0.88449874  0.78544923 -1.41834665 -0.56414208]\n",
            " [-0.81112573  0.1261879  -1.06225022 -0.50170305]\n",
            " [-0.66437972  0.43046236 -0.42127665 -1.18853234]\n",
            " ...\n",
            " [ 1.18828874 -0.73592307  1.50164406  1.93341896]\n",
            " [ 0.23443963 -1.19233476  0.7894512   1.24658968]\n",
            " [ 1.09657248 -0.53307343  0.86067049  1.49634578]]\n"
          ],
          "name": "stdout"
        }
      ]
    },
    {
      "cell_type": "code",
      "metadata": {
        "colab": {
          "base_uri": "https://localhost:8080/"
        },
        "id": "vkbY-y5DpAK5",
        "outputId": "b2aa5405-3a6c-4ba0-e9db-67c2719ee8af"
      },
      "source": [
        "#Z의 분산-공분산 매트릭스\n",
        "covariance_matrix = np.cov(standardized_data.T)\n",
        "print(\"\\n Covariance Matrix: \\n\", covariance_matrix)"
      ],
      "execution_count": 107,
      "outputs": [
        {
          "output_type": "stream",
          "text": [
            "\n",
            " Covariance Matrix: \n",
            " [[ 1.00293255 -0.23574217  0.65810563  0.59685501]\n",
            " [-0.23574217  1.00293255 -0.58556339 -0.47329954]\n",
            " [ 0.65810563 -0.58556339  1.00293255  0.87375661]\n",
            " [ 0.59685501 -0.47329954  0.87375661  1.00293255]]\n"
          ],
          "name": "stdout"
        }
      ]
    },
    {
      "cell_type": "code",
      "metadata": {
        "colab": {
          "base_uri": "https://localhost:8080/"
        },
        "id": "HTdEpBY7pAIP",
        "outputId": "ac94f2d5-51e5-4c7f-8047-103ef337e3f5"
      },
      "source": [
        "# 분산-공분산 매트릭스의 고유벡터와 고유값\n",
        "values, vectors = np.linalg.eig(covariance_matrix)\n",
        "print(\"\\n Eigenvalues: \\n\", values)\n",
        "print(\"\\n Eigenvectors: \\n\", vectors)"
      ],
      "execution_count": 108,
      "outputs": [
        {
          "output_type": "stream",
          "text": [
            "\n",
            " Eigenvalues: \n",
            " [2.76183065 0.7747822  0.36630698 0.10881037]\n",
            "\n",
            " Eigenvectors: \n",
            " [[-0.45525033  0.59703114  0.64430115  0.14552311]\n",
            " [ 0.40033468  0.79776657 -0.41842724 -0.16798597]\n",
            " [-0.57601332  0.0022822  -0.23208397 -0.78379875]\n",
            " [-0.54835019  0.08436292 -0.59660012  0.57988211]]\n"
          ],
          "name": "stdout"
        }
      ]
    },
    {
      "cell_type": "code",
      "metadata": {
        "colab": {
          "base_uri": "https://localhost:8080/"
        },
        "id": "drT5qYvtpAF9",
        "outputId": "3b92c026-840f-409a-f845-d124a964e831"
      },
      "source": [
        "# 데이터를 고유 벡터에 projection\n",
        "Z = np.matmul(standardized_data, vectors)\n",
        "\n",
        "print(\"\\n Projected Data: \\n\", Z)"
      ],
      "execution_count": 109,
      "outputs": [
        {
          "output_type": "stream",
          "text": [
            "\n",
            " Projected Data: \n",
            " [[ 1.84344489  0.04770222 -0.23279416  0.52390297]\n",
            " [ 1.30676189 -0.42834824 -0.02956235  0.40242643]\n",
            " [ 1.36918099 -0.1544764   0.1986723  -0.52800677]\n",
            " ...\n",
            " [-2.76074201  0.28888648 -0.42843943  0.24071657]\n",
            " [-1.72236378 -0.70426942 -0.27697945  0.33851609]\n",
            " [-2.02890193  0.35762008 -0.16289253  0.4422372 ]]\n"
          ],
          "name": "stdout"
        }
      ]
    },
    {
      "cell_type": "code",
      "metadata": {
        "id": "aAVKgzxkCMhj",
        "colab": {
          "base_uri": "https://localhost:8080/"
        },
        "outputId": "9b6b60c5-ad60-4aba-b6b3-deb1b78d8f3d"
      },
      "source": [
        "print(np.var(Z[:,0]),np.var(Z[:,1])) # 사이킷런으로 구한 주성분의 분산과 거의 비슷하다. "
      ],
      "execution_count": 110,
      "outputs": [
        {
          "output_type": "stream",
          "text": [
            "2.75375512389317 0.7725167538558826\n"
          ],
          "name": "stdout"
        }
      ]
    },
    {
      "cell_type": "code",
      "metadata": {
        "id": "uU44cZaTH_wc",
        "colab": {
          "base_uri": "https://localhost:8080/"
        },
        "outputId": "58b56349-b4ed-4927-9714-0ce36488f990"
      },
      "source": [
        "principalDf.var()"
      ],
      "execution_count": 111,
      "outputs": [
        {
          "output_type": "execute_result",
          "data": {
            "text/plain": [
              "pc1    2.761831\n",
              "pc2    0.774782\n",
              "dtype: float64"
            ]
          },
          "metadata": {
            "tags": []
          },
          "execution_count": 111
        }
      ]
    },
    {
      "cell_type": "markdown",
      "metadata": {
        "id": "8J_DbW6-tTKF"
      },
      "source": [
        "## PCA 시각화"
      ]
    },
    {
      "cell_type": "code",
      "metadata": {
        "id": "LmjRl8A-tdAW"
      },
      "source": [
        "import pandas as pd\n",
        "import matplotlib.pyplot as plt\n",
        "import seaborn as sns"
      ],
      "execution_count": 67,
      "outputs": []
    },
    {
      "cell_type": "code",
      "metadata": {
        "id": "MtdeYmLiNNlD"
      },
      "source": [
        "# data =data.drop(index=[3,339])"
      ],
      "execution_count": 89,
      "outputs": []
    },
    {
      "cell_type": "code",
      "metadata": {
        "colab": {
          "base_uri": "https://localhost:8080/"
        },
        "id": "7KW0CcNSMmD1",
        "outputId": "27cc807f-e68c-414d-8802-16358ecad650"
      },
      "source": [
        "data.dropna().isnull().sum().sum()"
      ],
      "execution_count": 90,
      "outputs": [
        {
          "output_type": "execute_result",
          "data": {
            "text/plain": [
              "0"
            ]
          },
          "metadata": {
            "tags": []
          },
          "execution_count": 90
        }
      ]
    },
    {
      "cell_type": "code",
      "metadata": {
        "colab": {
          "base_uri": "https://localhost:8080/"
        },
        "id": "6iwxrsIeWBCW",
        "outputId": "27bd219d-475d-4bbd-d568-45a58ebc629c"
      },
      "source": [
        "data.shape"
      ],
      "execution_count": 91,
      "outputs": [
        {
          "output_type": "execute_result",
          "data": {
            "text/plain": [
              "(342, 7)"
            ]
          },
          "metadata": {
            "tags": []
          },
          "execution_count": 91
        }
      ]
    },
    {
      "cell_type": "code",
      "metadata": {
        "id": "t2jYhYxqM0it"
      },
      "source": [
        "df = pd.DataFrame({\"pc1\": B[:,0], \"pc2\": B[:,1], \"species\":data['species']})"
      ],
      "execution_count": 92,
      "outputs": []
    },
    {
      "cell_type": "code",
      "metadata": {
        "colab": {
          "base_uri": "https://localhost:8080/"
        },
        "id": "OfXFkZ-GMFW1",
        "outputId": "c61ab974-464b-4ed9-bc68-49677387996f"
      },
      "source": [
        "df.shape"
      ],
      "execution_count": 93,
      "outputs": [
        {
          "output_type": "execute_result",
          "data": {
            "text/plain": [
              "(342, 3)"
            ]
          },
          "metadata": {
            "tags": []
          },
          "execution_count": 93
        }
      ]
    },
    {
      "cell_type": "code",
      "metadata": {
        "colab": {
          "base_uri": "https://localhost:8080/",
          "height": 295
        },
        "id": "MH0BKTNapADf",
        "outputId": "8a51c7ff-e213-4320-c082-875172006a2a"
      },
      "source": [
        "# 사이킷런 주성분분석 \n",
        "sns.scatterplot(x='pc1', y='pc2',hue='species', data = df)\n",
        "plt.title(\"Data After PCA\")\n",
        "plt.xlabel('pc1')\n",
        "plt.ylabel('pc2')\n",
        "plt.show()  # 4개의 변수를 2개의 pca1, pca2 변수로 축소하여 타켓변수인 species를 잘 나타내는지 그래프로 시각화한 모습"
      ],
      "execution_count": 94,
      "outputs": [
        {
          "output_type": "display_data",
          "data": {
            "image/png": "[encoded data removed]",
            "text/plain": [
              "<Figure size 432x288 with 1 Axes>"
            ]
          },
          "metadata": {
            "tags": [],
            "needs_background": "light"
          }
        }
      ]
    },
    {
      "cell_type": "code",
      "metadata": {
        "id": "uXj2ur6uOJI4"
      },
      "source": [
        "# 직접 구한 pca\n",
        "\n",
        "df1 = pd.DataFrame({\"pc1\": Z[:,0], \"pc2\":Z[:,1], \"species\":data['species']})\n",
        "df2 = pd.DataFrame({\"pc1\": Z[:,0], \"pc3\":Z[:,2], \"species\":data['species']})\n",
        "df3 = pd.DataFrame({\"pc1\": Z[:,0], \"pc4\":Z[:,3], \"species\":data['species']})\n",
        "df4 = pd.DataFrame({\"pc3\": Z[:,2], \"pc4\":Z[:,3], \"species\":data['species']})"
      ],
      "execution_count": 95,
      "outputs": []
    },
    {
      "cell_type": "code",
      "metadata": {
        "colab": {
          "base_uri": "https://localhost:8080/",
          "height": 295
        },
        "id": "Sh5fNvk-OJG2",
        "outputId": "84717226-6239-4ea9-b8a2-a0f7f189cdae"
      },
      "source": [
        "sns.scatterplot(x='pc1', y='pc2',hue='species', data = df1)\n",
        "plt.title(\"Data After PCA\")\n",
        "plt.xlabel('pc1')\n",
        "plt.ylabel('pc2')\n",
        "plt.show()  # 4개의 주성분 중 앞의 1,2번을 선택하여 시각화함. -- 사이킷런과 왜 분산은 비슷한데 부호만 반대이다. (계산과정에서 마이너스가 한번 곱해지는 것 같다.)"
      ],
      "execution_count": 96,
      "outputs": [
        {
          "output_type": "display_data",
          "data": {
            "image/png": "[encoded data removed]",
            "text/plain": [
              "<Figure size 432x288 with 1 Axes>"
            ]
          },
          "metadata": {
            "tags": [],
            "needs_background": "light"
          }
        }
      ]
    },
    {
      "cell_type": "code",
      "metadata": {
        "id": "PreX9J_yzQ0E",
        "colab": {
          "base_uri": "https://localhost:8080/",
          "height": 295
        },
        "outputId": "da7e4adf-65d3-4794-b5a1-6c245e603691"
      },
      "source": [
        "sns.scatterplot(x='pc1', y='pc3',hue='species', data = df2)\n",
        "plt.title(\"Data After PCA\")\n",
        "plt.xlabel('pc1')\n",
        "plt.ylabel('pc3')\n",
        "plt.show()  # 4개의 주성분 중 1&3번째를 선택하여 시각화. 이게 군집분류가 더 잘되는 것 같아보이는데 맞나?"
      ],
      "execution_count": 97,
      "outputs": [
        {
          "output_type": "display_data",
          "data": {
            "image/png": "[encoded data removed]",
            "text/plain": [
              "<Figure size 432x288 with 1 Axes>"
            ]
          },
          "metadata": {
            "tags": [],
            "needs_background": "light"
          }
        }
      ]
    },
    {
      "cell_type": "code",
      "metadata": {
        "id": "a72fBDSRzQuX",
        "colab": {
          "base_uri": "https://localhost:8080/",
          "height": 295
        },
        "outputId": "39f8bf10-8690-49fb-de0e-f1513d01e51d"
      },
      "source": [
        "sns.scatterplot(x='pc1', y='pc4',hue='species', data = df3)\n",
        "plt.title(\"Data After PCA\")\n",
        "plt.xlabel('pc1')\n",
        "plt.ylabel('pc4')\n",
        "plt.show()  # 4개의 주성분 중 1&4번"
      ],
      "execution_count": 98,
      "outputs": [
        {
          "output_type": "display_data",
          "data": {
            "image/png": "[encoded data removed]",
            "text/plain": [
              "<Figure size 432x288 with 1 Axes>"
            ]
          },
          "metadata": {
            "tags": [],
            "needs_background": "light"
          }
        }
      ]
    },
    {
      "cell_type": "code",
      "metadata": {
        "id": "61SQ1pJa0VSl"
      },
      "source": [
        "# sns.scatterplot(x='pc3', y='pc4',hue='species', data = df4)\n",
        "# plt.title(\"Data After PCA\")\n",
        "# plt.xlabel('pc3')\n",
        "# plt.ylabel('pc4')\n",
        "# plt.show() # 3&4번은 시각화 결과 의미x"
      ],
      "execution_count": 99,
      "outputs": []
    },
    {
      "cell_type": "markdown",
      "metadata": {
        "id": "RQx7UvsucIrL"
      },
      "source": [
        "## 🔥 도전 과제\n",
        "\n",
        "### \"Scree Plot\" 에 대해서 알아보고, 위에서 PCA로 만든 데이터셋을 사용하여 만들어보세요. 90%의 내용을 설명하기 위해서, 몇개의 PC를 사용해야 하나요?\n"
      ]
    },
    {
      "cell_type": "code",
      "metadata": {
        "id": "LDWgV_vG0UWb"
      },
      "source": [
        "# # 이곳에 답안을 작성하시기 바랍니다\n",
        "# plt.title('scree plot')\n",
        "# plt.xlabel('Number')\n",
        "# plt.ylabel('Variance')\n",
        "# plt.plot(pca.explained_variance_,'o-')"
      ],
      "execution_count": 100,
      "outputs": []
    },
    {
      "cell_type": "code",
      "metadata": {
        "id": "wqTMzWO_-i9C",
        "colab": {
          "base_uri": "https://localhost:8080/",
          "height": 314
        },
        "outputId": "53bb72ca-ff07-44a4-a951-58efe4756271"
      },
      "source": [
        "# 직접 구한 값의 시각화 \n",
        "plt.title('scree plot')\n",
        "plt.xlabel('Number')\n",
        "plt.ylabel('Variance')\n",
        "plt.plot([np.var(Z[:,0]),np.var(Z[:,1]),np.var(Z[:,2]),np.var(Z[:,3])],'o-') # scree plot은 각 주성분의 설명력을 보기 위한 그래프. 꺾이는 지점까지 사용한다."
      ],
      "execution_count": 101,
      "outputs": [
        {
          "output_type": "execute_result",
          "data": {
            "text/plain": [
              "[<matplotlib.lines.Line2D at 0x7f38554f0650>]"
            ]
          },
          "metadata": {
            "tags": []
          },
          "execution_count": 101
        },
        {
          "output_type": "display_data",
          "data": {
            "image/png": "[encoded data removed]",
            "text/plain": [
              "<Figure size 432x288 with 1 Axes>"
            ]
          },
          "metadata": {
            "tags": [],
            "needs_background": "light"
          }
        }
      ]
    },
    {
      "cell_type": "code",
      "metadata": {
        "id": "7nKEiqtp_Uil"
      },
      "source": [
        "# 설명력 계산\n",
        "eigen_vals, eigen_vecs = np.linalg.eig(covariance_matrix)\n",
        "\n",
        "# 에이겐벨류의 설명 분산 비율\n",
        "tot = sum(eigen_vals)\n",
        "var_exp = [(i / tot) for i in sorted(eigen_vals, reverse=True)]\n",
        "# 에이겐벨류 / 에이겐벨류의 합 을 각각 구한다. 나온 각각의 값은 아이겐벨류의 설명 분산 비율\n",
        "# 즉, 어떤 에이겐벨류가 가장 설명력이 높은지를 비율로 나타내기 위한 것\n",
        "\n",
        "cum_var_exp = np.cumsum(var_exp) # 누적 합을 계산해주는 함수. -> 누적 백분위로 표현"
      ],
      "execution_count": 102,
      "outputs": []
    },
    {
      "cell_type": "code",
      "metadata": {
        "id": "MAcM-7PtK2Iq",
        "colab": {
          "base_uri": "https://localhost:8080/"
        },
        "outputId": "55b3c0cf-a5f7-454a-9dd5-a9746b38d93e"
      },
      "source": [
        "var_exp # 고유값의 설명 분산 비율"
      ],
      "execution_count": 103,
      "outputs": [
        {
          "output_type": "execute_result",
          "data": {
            "text/plain": [
              "[0.6884387809732924,\n",
              " 0.1931291884639706,\n",
              " 0.09130897660295595,\n",
              " 0.027123053959781023]"
            ]
          },
          "metadata": {
            "tags": []
          },
          "execution_count": 103
        }
      ]
    },
    {
      "cell_type": "code",
      "metadata": {
        "id": "XCzechC-K3Kc",
        "colab": {
          "base_uri": "https://localhost:8080/"
        },
        "outputId": "0294a36d-2c83-4739-9ccf-5d1792635c61"
      },
      "source": [
        "cum_var_exp # 설명력의 누적합을 보았을 때 3번째 주성분까지 사용했을 때 0.97로  90%가 넘어가는 것을 확인할 수 있다."
      ],
      "execution_count": 104,
      "outputs": [
        {
          "output_type": "execute_result",
          "data": {
            "text/plain": [
              "array([0.68843878, 0.88156797, 0.97287695, 1.        ])"
            ]
          },
          "metadata": {
            "tags": []
          },
          "execution_count": 104
        }
      ]
    },
    {
      "cell_type": "markdown",
      "metadata": {
        "id": "xGP8bDI7LfAw"
      },
      "source": [
        "## 도전과제 결론 : 3개의 pc를 사용해야 90% 이상의 설명력을 가진다."
      ]
    }
  ]
}