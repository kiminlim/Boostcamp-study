{
  "nbformat": 4,
  "nbformat_minor": 0,
  "metadata": {
    "colab": {
      "name": "n132a-intermediate-linear-algebra.ipynb",
      "provenance": [],
      "include_colab_link": true
    },
    "kernelspec": {
      "display_name": "Python 3",
      "language": "python",
      "name": "python3"
    },
    "language_info": {
      "codemirror_mode": {
        "name": "ipython",
        "version": 3
      },
      "file_extension": ".py",
      "mimetype": "text/x-python",
      "name": "python",
      "nbconvert_exporter": "python",
      "pygments_lexer": "ipython3",
      "version": "3.8.2"
    }
  },
  "cells": [
    {
      "cell_type": "markdown",
      "metadata": {
        "id": "view-in-github",
        "colab_type": "text"
      },
      "source": [
        "<a href=\"https://colab.research.google.com/github/kiminlim/ds-section1-sprint3/blob/master/n132-intermediate-linear-algebra/n132a-intermediate-linear-algebra.ipynb\" target=\"_parent\"><img src=\"https://colab.research.google.com/assets/colab-badge.svg\" alt=\"Open In Colab\"/></a>"
      ]
    },
    {
      "cell_type": "markdown",
      "metadata": {
        "id": "GSNiYn8lr6nN"
      },
      "source": [
        "<img src='https://i.imgur.com/RDAD11M.png' width = '200' align = 'right'>\n",
        "\n",
        "## *DATA SCIENCE / SECTION 1 / SPRINT 3 / NOTE 2*\n",
        "\n",
        "# 📝 Assignment\n"
      ]
    },
    {
      "cell_type": "markdown",
      "metadata": {
        "id": "3d4izUhQvh2_"
      },
      "source": [
        "## 1. 주어진 리스트에 대해서 평균, 분산, 표준편차를 구하는 함수를 작성해보세요. (`mean`같은 builtin function 제외)\n",
        "> 이후 다음 데이터 [243, 278, 184, 249, 207] 에 대해서 해당 함수를 사용한 결과를 보이세요."
      ]
    },
    {
      "cell_type": "code",
      "metadata": {
        "id": "Zl5TVtnWc-Vd"
      },
      "source": [
        "import numpy as np\n",
        "import pandas as pd\n",
        "\n",
        "v = [243, 278, 184, 249, 207]"
      ],
      "execution_count": 317,
      "outputs": []
    },
    {
      "cell_type": "code",
      "metadata": {
        "id": "w1iZfYvBtEA1"
      },
      "source": [
        "# 평균\n",
        "def mymean(v):\n",
        "    a = 0\n",
        "    for i in range(len(v)):\n",
        "        a+= v[i]\n",
        "    result = a / len(v)\n",
        "    return result\n",
        "\n",
        "# 모분산 \n",
        "def myvar(v):\n",
        "    sum = 0\n",
        "    for i in range(len(v)):\n",
        "        sum += (v[i]-mymean(v))**2\n",
        "    return sum / len(v)\n",
        "\n",
        "# 표본분산 \n",
        "def myvar2(v):\n",
        "    sum = 0\n",
        "    for i in range(len(v)):\n",
        "        sum += (v[i]-mymean(v))**2\n",
        "    return sum / (len(v)-1)\n",
        "\n",
        "#표준편차\n",
        "def mystd(v):\n",
        "    return np.sqrt(myvar(v))\n",
        "    \n",
        "res1 = mymean(v)\n",
        "res2 = myvar(v)\n",
        "res3 = mystd(v)"
      ],
      "execution_count": 318,
      "outputs": []
    },
    {
      "cell_type": "code",
      "metadata": {
        "id": "Q66IRyVffDaQ"
      },
      "source": [
        "#re\n",
        "def mymean(v):\n",
        "    return sum(v)/len(v)\n",
        "\n",
        "def myvar(v):\n",
        "    return sum(np.array([i-mymean(v) for i in v])**2)/len(v)\n",
        "\n",
        "def mystd(v):\n",
        "    return np.sqrt(myvar(v))\n",
        "    \n",
        "res1 = mymean(v)\n",
        "res2 = myvar(v)\n",
        "res3 = mystd(v)\n",
        "# 맞음"
      ],
      "execution_count": 319,
      "outputs": []
    },
    {
      "cell_type": "code",
      "metadata": {
        "colab": {
          "base_uri": "https://localhost:8080/"
        },
        "id": "rpNlnGtMKZpL",
        "outputId": "f6299ffd-38c0-4742-c6de-b5d47bd03a25"
      },
      "source": [
        "print(res1, np.mean(v))\n",
        "print(res2, np.var(v))\n",
        "print(res3, np.std(v))"
      ],
      "execution_count": 320,
      "outputs": [
        {
          "output_type": "stream",
          "text": [
            "232.2 232.2\n",
            "1090.96 1090.96\n",
            "33.02968361943541 33.02968361943541\n"
          ],
          "name": "stdout"
        }
      ]
    },
    {
      "cell_type": "markdown",
      "metadata": {
        "id": "oh63KaOctEp_"
      },
      "source": [
        "## 2. 위에서 사용된 데이터와 다음 데이터의 공분산과, 상관계수를 구해보세요 [88, 89, 83, 112, 104] "
      ]
    },
    {
      "cell_type": "code",
      "metadata": {
        "id": "kI3NcdaMLYj_"
      },
      "source": [
        "x = [243, 278, 184, 249, 207] \n",
        "y = [88, 89, 83, 112, 104]"
      ],
      "execution_count": 321,
      "outputs": []
    },
    {
      "cell_type": "code",
      "metadata": {
        "colab": {
          "base_uri": "https://localhost:8080/"
        },
        "id": "JirdQo7ZLijZ",
        "outputId": "832a56b7-1999-496b-f10a-93fd20f5636d"
      },
      "source": [
        "# 모 공분산 (: ddof=0)\n",
        "def mycov(x, y):\n",
        "    sum=0\n",
        "    for i in range(len(x)):\n",
        "        sum += (x[i]-mymean(x))*(y[i]-mymean(y))\n",
        "    return sum/len(x)\n",
        "\n",
        "# 표본 공분산 (: ddof=1)\n",
        "def mycov2(x, y):\n",
        "    sum=0\n",
        "    for i in range(len(x)):\n",
        "        sum += (x[i]-mymean(x))*(y[i]-mymean(y))\n",
        "    return sum/ (len(x)-1)\n",
        "\n",
        "mycov(x,y)"
      ],
      "execution_count": 322,
      "outputs": [
        {
          "output_type": "execute_result",
          "data": {
            "text/plain": [
              "57.35999999999999"
            ]
          },
          "metadata": {
            "tags": []
          },
          "execution_count": 322
        }
      ]
    },
    {
      "cell_type": "code",
      "metadata": {
        "colab": {
          "base_uri": "https://localhost:8080/"
        },
        "id": "mKGiXt1FOWZD",
        "outputId": "416f82e2-5c15-4fe3-cd2d-949ea1151f2e"
      },
      "source": [
        "# 맞는지 확인\n",
        "sum( (np.array(x)-mymean(x)) * (np.array(y)-mymean(y)) )/5"
      ],
      "execution_count": 323,
      "outputs": [
        {
          "output_type": "execute_result",
          "data": {
            "text/plain": [
              "57.35999999999999"
            ]
          },
          "metadata": {
            "tags": []
          },
          "execution_count": 323
        }
      ]
    },
    {
      "cell_type": "code",
      "metadata": {
        "colab": {
          "base_uri": "https://localhost:8080/"
        },
        "id": "_WUc194fMU7M",
        "outputId": "53746b0f-9169-407c-f193-bbe0ac334c45"
      },
      "source": [
        "np.cov(x,y, ddof=0) #------------ ddof=0 -> 자유도 0으로 해야 모 공분산 값 나옴!"
      ],
      "execution_count": 324,
      "outputs": [
        {
          "output_type": "execute_result",
          "data": {
            "text/plain": [
              "array([[1090.96,   57.36],\n",
              "       [  57.36,  119.76]])"
            ]
          },
          "metadata": {
            "tags": []
          },
          "execution_count": 324
        }
      ]
    },
    {
      "cell_type": "code",
      "metadata": {
        "colab": {
          "base_uri": "https://localhost:8080/"
        },
        "id": "VXUrRBgeRxpV",
        "outputId": "d265176a-6e02-4963-c2ad-a58da29100c1"
      },
      "source": [
        "# 상관계수\n",
        "def mycorr(x,y):\n",
        "    return mycov(x,y) / (mystd(x)*mystd(y))\n",
        "\n",
        "mycorr(x,y)"
      ],
      "execution_count": 325,
      "outputs": [
        {
          "output_type": "execute_result",
          "data": {
            "text/plain": [
              "0.1586897351257077"
            ]
          },
          "metadata": {
            "tags": []
          },
          "execution_count": 325
        }
      ]
    },
    {
      "cell_type": "code",
      "metadata": {
        "colab": {
          "base_uri": "https://localhost:8080/"
        },
        "id": "b6tJYQDINw9G",
        "outputId": "ce89b4da-36ca-4606-d90f-ce9545d857fb"
      },
      "source": [
        "# 확인\n",
        "57.35999999999999 / (10.943491216243562*33.02968361943541)"
      ],
      "execution_count": 326,
      "outputs": [
        {
          "output_type": "execute_result",
          "data": {
            "text/plain": [
              "0.1586897351257077"
            ]
          },
          "metadata": {
            "tags": []
          },
          "execution_count": 326
        }
      ]
    },
    {
      "cell_type": "code",
      "metadata": {
        "colab": {
          "base_uri": "https://localhost:8080/"
        },
        "id": "96vaoEx5R6cM",
        "outputId": "07c406a0-04e1-4718-b8fd-b60f1b310360"
      },
      "source": [
        "( mymean(np.array(x)*np.array(y)) - (mymean(x)*mymean(y)) )  / (mystd(x)*mystd(y))"
      ],
      "execution_count": 327,
      "outputs": [
        {
          "output_type": "execute_result",
          "data": {
            "text/plain": [
              "0.1586897351257093"
            ]
          },
          "metadata": {
            "tags": []
          },
          "execution_count": 327
        }
      ]
    },
    {
      "cell_type": "code",
      "metadata": {
        "colab": {
          "base_uri": "https://localhost:8080/"
        },
        "id": "mJSBua2XSP89",
        "outputId": "e0f58e85-87c4-4daa-9fe6-7b7124456ce1"
      },
      "source": [
        "np.corrcoef(x,y,ddof=0)"
      ],
      "execution_count": 328,
      "outputs": [
        {
          "output_type": "stream",
          "text": [
            "/usr/local/lib/python3.7/dist-packages/ipykernel_launcher.py:1: DeprecationWarning: bias and ddof have no effect and are deprecated\n",
            "  \"\"\"Entry point for launching an IPython kernel.\n"
          ],
          "name": "stderr"
        },
        {
          "output_type": "execute_result",
          "data": {
            "text/plain": [
              "array([[1.        , 0.15868974],\n",
              "       [0.15868974, 1.        ]])"
            ]
          },
          "metadata": {
            "tags": []
          },
          "execution_count": 328
        }
      ]
    },
    {
      "cell_type": "code",
      "metadata": {
        "id": "G7ZB0krot564"
      },
      "source": [
        "res4 = mycov2(x,y) # 공분산\n",
        "res5 = 0.15868974 # 상관계수\n",
        "\n"
      ],
      "execution_count": 329,
      "outputs": []
    },
    {
      "cell_type": "code",
      "metadata": {
        "colab": {
          "base_uri": "https://localhost:8080/"
        },
        "id": "_uwXf8QYgBV0",
        "outputId": "8e3f719e-166b-42bd-e57a-f759eb42d449"
      },
      "source": [
        "print(res4, res5)"
      ],
      "execution_count": 330,
      "outputs": [
        {
          "output_type": "stream",
          "text": [
            "71.69999999999999 0.15868974\n"
          ],
          "name": "stdout"
        }
      ]
    },
    {
      "cell_type": "code",
      "metadata": {
        "colab": {
          "base_uri": "https://localhost:8080/"
        },
        "id": "Vm0wBMhqgLFR",
        "outputId": "9365827f-2370-411a-ea4a-2a4bfa2bfa90"
      },
      "source": [
        "# 레퍼런스\n",
        "# 공분산\n",
        "np.cov(x,y)[0,1] # 틀림.---> 넘파이에 디폴트 ddof는 1임. 즉, 디폴트로는 표본공분산을 구해줌. 나는 모공분산을 구했으므로 답이 다를 수 밖에 없음. --> 표본 공분산 함수로 대체\n",
        "# 상관계수\n",
        "# np.corrcoef(x,y)[0,1] # 맞음"
      ],
      "execution_count": 331,
      "outputs": [
        {
          "output_type": "execute_result",
          "data": {
            "text/plain": [
              "71.7"
            ]
          },
          "metadata": {
            "tags": []
          },
          "execution_count": 331
        }
      ]
    },
    {
      "cell_type": "markdown",
      "metadata": {
        "id": "86iXLzwM2z8l"
      },
      "source": [
        "## 3. 다음 벡터들의 span과, 이가 의미하는 바를 설명하세요. \n",
        "\n",
        "\\begin{align}\n",
        "g = \\begin{bmatrix} 1 & 3 \\end{bmatrix}\n",
        "\\qquad\n",
        "h = \\begin{bmatrix} 2 & 6 \\end{bmatrix}\n",
        "\\end{align}"
      ]
    },
    {
      "cell_type": "code",
      "metadata": {
        "id": "fNpSjPcOScgH"
      },
      "source": [
        "res6 = 1 # rank=1"
      ],
      "execution_count": 332,
      "outputs": []
    },
    {
      "cell_type": "code",
      "metadata": {
        "colab": {
          "base_uri": "https://localhost:8080/"
        },
        "id": "7GqAUFRl4PRh",
        "outputId": "337801a2-514e-4259-e6c2-4bdcd9c57b1b"
      },
      "source": [
        " np.multiply(2, 6)"
      ],
      "execution_count": 333,
      "outputs": [
        {
          "output_type": "execute_result",
          "data": {
            "text/plain": [
              "12"
            ]
          },
          "metadata": {
            "tags": []
          },
          "execution_count": 333
        }
      ]
    },
    {
      "cell_type": "code",
      "metadata": {
        "id": "-9Y_N2_Z5OEQ",
        "colab": {
          "base_uri": "https://localhost:8080/",
          "height": 281
        },
        "outputId": "f4d9adb3-9e97-4b94-e417-a0342cc7e101"
      },
      "source": [
        "# 그래프\n",
        "import matplotlib.pyplot as plt\n",
        "\n",
        "plt.xlim(-1, 10)          \n",
        "plt.ylim(-1, 10)\n",
        "\n",
        "# 원 벡터 (초록)\n",
        "v = [1,3] \n",
        "\n",
        "# 선형관계의 벡터\n",
        "v2 =[2,6] # (노랑)\n",
        "\n",
        "axes = plt.gca()\n",
        "x_vals = np.array(axes.get_xlim())\n",
        "y_vals = 0 * x_vals\n",
        "\n",
        "plt.plot(x_vals, y_vals, '--', color = '#0984e3', linewidth = 1) # span 선 (파랑)\n",
        "plt.arrow(0, 0, v2[0], v2[1], linewidth = 3, head_width = .05, head_length = .05, color = '#fdcb6e')\n",
        "plt.arrow(0, 0, v[0], v[1], linewidth = 3, head_width = .05, head_length = .05, color = '#00b894')\n",
        "\n",
        "plt.title(\"Linearly Dependent Vectors\")\n",
        "plt.show()"
      ],
      "execution_count": 334,
      "outputs": [
        {
          "output_type": "display_data",
          "data": {
            "image/png": "[encoded data removed]",
            "text/plain": [
              "<Figure size 432x288 with 1 Axes>"
            ]
          },
          "metadata": {
            "tags": [],
            "needs_background": "light"
          }
        }
      ]
    },
    {
      "cell_type": "markdown",
      "metadata": {
        "id": "9bXrdgVS5Al4"
      },
      "source": [
        "* [1,3], [2,6] 두 벡터는 그래프에서 보여지는 것 과 같이 선형관계에 있다. \n",
        "이 두 벡터를 붙여서 만든 행렬 \\\\\n",
        "[1,3] \\\\\n",
        "[2,6] 에서 2행 - 1행*2이 0벡터가 되므로 rank는 1이다. "
      ]
    },
    {
      "cell_type": "code",
      "metadata": {
        "colab": {
          "base_uri": "https://localhost:8080/"
        },
        "id": "MW_VxJiwg6j-",
        "outputId": "a37540cd-62fc-41d0-ca2a-22497109aacd"
      },
      "source": [
        "# 레퍼런스코드\n",
        "g, h = np.array([1, 3]), np.array([2, 6])\n",
        "gh_matrix = np.stack((g, h))\n",
        "np.linalg.matrix_rank(gh_matrix) #--> rank 구해주는 넘파이 함수"
      ],
      "execution_count": 335,
      "outputs": [
        {
          "output_type": "execute_result",
          "data": {
            "text/plain": [
              "1"
            ]
          },
          "metadata": {
            "tags": []
          },
          "execution_count": 335
        }
      ]
    },
    {
      "cell_type": "markdown",
      "metadata": {
        "id": "l1deylUj4IHH"
      },
      "source": [
        "## 4. 다음 벡터들의 span과, 이가 의미하는 바를 설명하세요.\n",
        "\n",
        "\\begin{align}\n",
        "l = \\begin{bmatrix} 1 & 2 & 3 \\end{bmatrix}\n",
        "\\qquad\n",
        "m = \\begin{bmatrix} -1 & 0 & 7 \\end{bmatrix}\n",
        "\\qquad\n",
        "n = \\begin{bmatrix} 4 & 8  & 2\\end{bmatrix}\n",
        "\\end{align}"
      ]
    },
    {
      "cell_type": "code",
      "metadata": {
        "id": "NWZ36G8QTMob"
      },
      "source": [
        "res7 = 3 # rank=3"
      ],
      "execution_count": 336,
      "outputs": []
    },
    {
      "cell_type": "markdown",
      "metadata": {
        "id": "B5zHIBqw5m46"
      },
      "source": [
        "* 가우스 소거법으로 어떠한 행도 0벡터가 되지 않으므로 rank는 3이다.\n",
        "즉, l, m, n 세개의 벡터는 모두 서로 일차 독립이다. "
      ]
    },
    {
      "cell_type": "code",
      "metadata": {
        "colab": {
          "base_uri": "https://localhost:8080/"
        },
        "id": "SlQtNKWUhQXL",
        "outputId": "0909515a-abe6-4b5d-d08b-e9a20ee510de"
      },
      "source": [
        "# 레퍼런스\n",
        "l, m, n = np.array([1, 2, 3]), np.array([-1, 0, 7]), np.array([4, 8, 2])\n",
        "lmn_matrix = np.stack((l, m, n))\n",
        "np.linalg.matrix_rank(lmn_matrix)"
      ],
      "execution_count": 337,
      "outputs": [
        {
          "output_type": "execute_result",
          "data": {
            "text/plain": [
              "3"
            ]
          },
          "metadata": {
            "tags": []
          },
          "execution_count": 337
        }
      ]
    },
    {
      "cell_type": "markdown",
      "metadata": {
        "id": "IpJwt9kw6v8U"
      },
      "source": [
        "## 5. 다음 매트릭스의 rank를 구하세요\n",
        "\n",
        "\\begin{align}\n",
        "P = \\begin{bmatrix} \n",
        "0 & 2 & 5 \\\\\n",
        " 3 & 6 & 12 \\\\\n",
        "3 & 2 & 2\n",
        "\\end{bmatrix}\n",
        "\\end{align}"
      ]
    },
    {
      "cell_type": "code",
      "metadata": {
        "id": "CAzw0q3KTu5d"
      },
      "source": [
        "res8 = 2 # rank "
      ],
      "execution_count": 338,
      "outputs": []
    },
    {
      "cell_type": "code",
      "metadata": {
        "colab": {
          "base_uri": "https://localhost:8080/"
        },
        "id": "CzIzzgv0hVU2",
        "outputId": "82f4aae0-e233-40b0-aff4-92fc42188255"
      },
      "source": [
        "# 레퍼런스\n",
        "mat_p = np.array([[0, 2, 5], [3, 6, 12], [3, 2, 2]])\n",
        "np.linalg.matrix_rank(mat_p)"
      ],
      "execution_count": 339,
      "outputs": [
        {
          "output_type": "execute_result",
          "data": {
            "text/plain": [
              "2"
            ]
          },
          "metadata": {
            "tags": []
          },
          "execution_count": 339
        }
      ]
    },
    {
      "cell_type": "markdown",
      "metadata": {
        "id": "XYZzLmpo6a6q"
      },
      "source": [
        "## Form"
      ]
    },
    {
      "cell_type": "code",
      "metadata": {
        "colab": {
          "base_uri": "https://localhost:8080/"
        },
        "id": "kym6MamEdNHF",
        "outputId": "d9fd78fa-29d3-4db9-8f02-ec06e08173e4"
      },
      "source": [
        "#1\n",
        "mymean([1, 2, 3, 4, 5, 6])"
      ],
      "execution_count": 340,
      "outputs": [
        {
          "output_type": "execute_result",
          "data": {
            "text/plain": [
              "3.5"
            ]
          },
          "metadata": {
            "tags": []
          },
          "execution_count": 340
        }
      ]
    },
    {
      "cell_type": "code",
      "metadata": {
        "id": "N1j4J_O561hO",
        "colab": {
          "base_uri": "https://localhost:8080/"
        },
        "outputId": "90f6f666-a85e-4cf4-d4a8-7fc847127a32"
      },
      "source": [
        "np.mean([1, 2, 3, 4, 5, 6])"
      ],
      "execution_count": 341,
      "outputs": [
        {
          "output_type": "execute_result",
          "data": {
            "text/plain": [
              "3.5"
            ]
          },
          "metadata": {
            "tags": []
          },
          "execution_count": 341
        }
      ]
    },
    {
      "cell_type": "code",
      "metadata": {
        "colab": {
          "base_uri": "https://localhost:8080/"
        },
        "id": "YHgBLTm8dPSb",
        "outputId": "81d9bafd-0808-4664-a17e-4f4fa18b4042"
      },
      "source": [
        "#2\n",
        "myvar([1, 2, 3, 4, 5, 6])"
      ],
      "execution_count": 342,
      "outputs": [
        {
          "output_type": "execute_result",
          "data": {
            "text/plain": [
              "2.9166666666666665"
            ]
          },
          "metadata": {
            "tags": []
          },
          "execution_count": 342
        }
      ]
    },
    {
      "cell_type": "code",
      "metadata": {
        "id": "ZoDdT2uR68aT",
        "colab": {
          "base_uri": "https://localhost:8080/"
        },
        "outputId": "dfbe4584-cef3-486a-c4e5-a41891cadef9"
      },
      "source": [
        "np.var([1, 2, 3, 4, 5, 6])"
      ],
      "execution_count": 343,
      "outputs": [
        {
          "output_type": "execute_result",
          "data": {
            "text/plain": [
              "2.9166666666666665"
            ]
          },
          "metadata": {
            "tags": []
          },
          "execution_count": 343
        }
      ]
    },
    {
      "cell_type": "code",
      "metadata": {
        "colab": {
          "base_uri": "https://localhost:8080/"
        },
        "id": "rZMzKMphfQ5H",
        "outputId": "3678ce4f-1ac6-4aea-a041-7ff13cddfbc8"
      },
      "source": [
        "#3\n",
        "np.cov([1, 2, 3, 4, 5, 6],[6, 5, 4, 3, 2, 1]) # 넘파이는 디폴트로 표본공분산을 반환함. (모공분산을 구하려면 ddof=0으로 해야함.) --기창님 : 샘플링한게 아니기 때문에 모분산, 공분산 구하기.\n",
        "# np.cov([1, 2, 3, 4, 5, 6],[6, 5, 4, 3, 2, 1],ddof=1) # 넘파이는 디폴트로 표본공분산을 반환함. (모공분산을 구하려면 ddof=0으로 해야함.) 폼-- 정민님: 대부분 샘플데이터를 쓰기 때문에 ddof=1로 해야 합니다."
      ],
      "execution_count": 358,
      "outputs": [
        {
          "output_type": "execute_result",
          "data": {
            "text/plain": [
              "array([[ 3.5, -3.5],\n",
              "       [-3.5,  3.5]])"
            ]
          },
          "metadata": {
            "tags": []
          },
          "execution_count": 358
        }
      ]
    },
    {
      "cell_type": "code",
      "metadata": {
        "colab": {
          "base_uri": "https://localhost:8080/"
        },
        "id": "ugx22c9dktt8",
        "outputId": "47ac9e8e-1444-46f8-f028-d73d6b7b694e"
      },
      "source": [
        "mycov([1, 2, 3, 4, 5, 6],[6, 5, 4, 3, 2, 1]) # 모 공분산(분모 N) --> 모 공분산이 아니라 표본 공분산으로 채점 한 것 같다."
      ],
      "execution_count": 359,
      "outputs": [
        {
          "output_type": "execute_result",
          "data": {
            "text/plain": [
              "-2.9166666666666665"
            ]
          },
          "metadata": {
            "tags": []
          },
          "execution_count": 359
        }
      ]
    },
    {
      "cell_type": "code",
      "metadata": {
        "colab": {
          "base_uri": "https://localhost:8080/"
        },
        "id": "83BIbBYRlD8r",
        "outputId": "f3eec1f1-0447-493c-fa65-fe5ddc73610c"
      },
      "source": [
        "mycov2([1, 2, 3, 4, 5, 6],[6, 5, 4, 3, 2, 1]) # 표본 공분산(분모 N-1) # 3번 답 -3.5로 변경."
      ],
      "execution_count": 360,
      "outputs": [
        {
          "output_type": "execute_result",
          "data": {
            "text/plain": [
              "-3.5"
            ]
          },
          "metadata": {
            "tags": []
          },
          "execution_count": 360
        }
      ]
    },
    {
      "cell_type": "code",
      "metadata": {
        "colab": {
          "base_uri": "https://localhost:8080/"
        },
        "id": "ECPqDT9FdTv8",
        "outputId": "d832cd4e-2a86-440a-fad9-01441ed8ded4"
      },
      "source": [
        "np.corrcoef([1, 2, 3, 4, 5, 6],[6, 5, 4, 3, 2, 1],ddof=1)"
      ],
      "execution_count": 347,
      "outputs": [
        {
          "output_type": "stream",
          "text": [
            "/usr/local/lib/python3.7/dist-packages/ipykernel_launcher.py:1: DeprecationWarning: bias and ddof have no effect and are deprecated\n",
            "  \"\"\"Entry point for launching an IPython kernel.\n"
          ],
          "name": "stderr"
        },
        {
          "output_type": "execute_result",
          "data": {
            "text/plain": [
              "array([[ 1., -1.],\n",
              "       [-1.,  1.]])"
            ]
          },
          "metadata": {
            "tags": []
          },
          "execution_count": 347
        }
      ]
    },
    {
      "cell_type": "code",
      "metadata": {
        "colab": {
          "base_uri": "https://localhost:8080/"
        },
        "id": "UN_tR-h3iP2w",
        "outputId": "841ba0fe-c5e7-424e-8a70-4baded8273c6"
      },
      "source": [
        "np.corrcoef([1, 2, 3, 4, 5, 6],[6, 5, 4, 3, 2, 1])"
      ],
      "execution_count": 348,
      "outputs": [
        {
          "output_type": "execute_result",
          "data": {
            "text/plain": [
              "array([[ 1., -1.],\n",
              "       [-1.,  1.]])"
            ]
          },
          "metadata": {
            "tags": []
          },
          "execution_count": 348
        }
      ]
    },
    {
      "cell_type": "code",
      "metadata": {
        "colab": {
          "base_uri": "https://localhost:8080/"
        },
        "id": "JHbnI1etllra",
        "outputId": "2911c9b2-3e01-423c-b2e4-cd374e687a8d"
      },
      "source": [
        "mycorr([1, 2, 3, 4, 5, 6],[6, 5, 4, 3, 2, 1])"
      ],
      "execution_count": 349,
      "outputs": [
        {
          "output_type": "execute_result",
          "data": {
            "text/plain": [
              "-1.0"
            ]
          },
          "metadata": {
            "tags": []
          },
          "execution_count": 349
        }
      ]
    },
    {
      "cell_type": "markdown",
      "metadata": {
        "id": "TKkrPwRM-Oar"
      },
      "source": [
        "# 🔥 도전과제 \n",
        "\n",
        "주어진 데이터 (x, y)에 대해서 `y = x` 라는 벡터에 대해 projection을 계산하는 함수를 작성하세요. \n",
        "- (x, y) 는 (0, 0) 에서 (x, y)로 가는 벡터라 가정합니다.\n",
        "\n",
        "이후\n",
        "\n",
        "- 입력된 데이터를 파란색 선으로, \n",
        "- `y = x` 라는 벡터를 빨간색 선으로, 마지막으로 \n",
        "- projection 된 선을 녹색 점선(dashed)으로 그래프에 그리세요."
      ]
    },
    {
      "cell_type": "code",
      "metadata": {
        "colab": {
          "base_uri": "https://localhost:8080/"
        },
        "id": "ENQJ37EO035o",
        "outputId": "1f872d2c-c068-411e-c1f8-74455a09765a"
      },
      "source": [
        "v = [7, 4]\n",
        "x=7\n",
        "y = x\n",
        "\n",
        "def myProjection(v):\n",
        "  k = v[0]\n",
        "  k_j = np.array([k, k])\n",
        "  k_j_norm = np.sqrt(sum(k_j**2))\n",
        "  vprime = (np.dot(v, k_j)/k_j_norm**2)*k_j  \n",
        "  return vprime\n",
        "\n",
        "vprime = myProjection(v)\n",
        "vprime\n"
      ],
      "execution_count": 351,
      "outputs": [
        {
          "output_type": "execute_result",
          "data": {
            "text/plain": [
              "array([5.5, 5.5])"
            ]
          },
          "metadata": {
            "tags": []
          },
          "execution_count": 351
        }
      ]
    },
    {
      "cell_type": "code",
      "metadata": {
        "id": "8LaDp-CudIdJ"
      },
      "source": [
        "import matplotlib.pyplot as plt"
      ],
      "execution_count": 352,
      "outputs": []
    },
    {
      "cell_type": "code",
      "metadata": {
        "colab": {
          "base_uri": "https://localhost:8080/",
          "height": 281
        },
        "id": "lyfOcKKHuyhs",
        "outputId": "12147d1f-9198-452c-8d2d-0c7b81a15f10"
      },
      "source": [
        "plt.xlim(0, 10)          \n",
        "plt.ylim(0, 10)\n",
        "\n",
        "v = [7, 4] # x=7,y=4\n",
        "proj =  vprime\n",
        "# x_minus_proj = w - proj\n",
        "\n",
        "plt.gca().set_aspect('equal')\n",
        "\n",
        "x_vals = np.array(axes.get_xlim())\n",
        "y_vals =  x_vals\n",
        "\n",
        "plt.plot(x_vals, y_vals, color = 'r') # x=y\n",
        "plt.arrow(v[0], v[1], vprime[0]-v[0], vprime[1]-v[1], linestyle = '--', color = '#00b894')\n",
        "plt.arrow(0, 0, v[0], v[1], linewidth = 3, head_width = .05, head_length = .05, color = '#0984e3') # [7,4]벡터\n",
        "\n",
        "plt.title(\"non x-axis projection\")\n",
        "plt.show()"
      ],
      "execution_count": 353,
      "outputs": [
        {
          "output_type": "display_data",
          "data": {
            "image/png": "[encoded data removed]",
            "text/plain": [
              "<Figure size 432x288 with 1 Axes>"
            ]
          },
          "metadata": {
            "tags": [],
            "needs_background": "light"
          }
        }
      ]
    },
    {
      "cell_type": "code",
      "metadata": {
        "id": "ksn959k_4S6C"
      },
      "source": [
        ""
      ],
      "execution_count": 353,
      "outputs": []
    }
  ]
}